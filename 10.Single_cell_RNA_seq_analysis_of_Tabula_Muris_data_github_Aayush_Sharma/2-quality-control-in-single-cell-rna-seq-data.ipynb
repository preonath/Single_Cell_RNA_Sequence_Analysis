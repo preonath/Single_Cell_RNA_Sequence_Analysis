{
 "cells": [
  {
   "cell_type": "markdown",
   "metadata": {
    "_cell_guid": "b1076dfc-b9ad-4769-8c92-a6c4dae69d19",
    "_uuid": "8f2839f25d086af736a60e9eeb907d3b93b6e0e5"
   },
   "source": [
    "<br>\n",
    "<h1 style = \"font-size:60px; font-family:Garamond ; font-weight : normal; background-color: #f6f5f5 ; color : #fe346e; text-align: center; border-radius: 100px 100px;\">Quality Control</h1>\n",
    "<br>\n",
    "\n",
    "<h1 style = \"font-family: garamond; font-size: 40px; font-style: normal; letter-spcaing: 3px; background-color: #f6f5f5; color :#fe346e; border-radius: 100px 100px; text-align:center\">Introduction</h1>\n",
    "\n",
    "- Once we have our expression matrix, it should be examined to remove poor quality cells which were not detected in the initial processing of the raw reads. Failure to remove low quality cells at this stage may add technical noise which has the potential to obscure the biological signals of interest in the downstream analysis.\n",
    "\n",
    "- To perform QC we will be looking for cells which are outliers with respect to the rest of the dataset rather than comparing to independent quality standards. Consequently, care should be taken when comparing quality metrics across datasets collected using different protocols."
   ]
  },
  {
   "cell_type": "markdown",
   "metadata": {},
   "source": [
    "### Installations"
   ]
  },
  {
   "cell_type": "code",
   "execution_count": 1,
   "metadata": {
    "tags": []
   },
   "outputs": [],
   "source": [
    "import scanpy as sc # import scanpy to handle our AnnData \n"
   ]
  },
  {
   "cell_type": "code",
   "execution_count": 2,
   "metadata": {},
   "outputs": [],
   "source": [
    "import pandas as pd # import pandas to handle dataframes\n",
    "import matplotlib.pyplot as plt # import matplotlib to visualize our qc metrics\n",
    "\n",
    "# magic incantation to help matplotlib work with our jupyter notebook\n",
    "%matplotlib inline "
   ]
  },
  {
   "cell_type": "markdown",
   "metadata": {},
   "source": [
    "### Loading the data"
   ]
  },
  {
   "cell_type": "code",
   "execution_count": 3,
   "metadata": {
    "tags": []
   },
   "outputs": [],
   "source": [
    "adata = sc.read('/home/preonath/Desktop/Data/Single_Cell/kaggle/output/brain_raw.h5ad')"
   ]
  },
  {
   "cell_type": "code",
   "execution_count": 4,
   "metadata": {
    "tags": []
   },
   "outputs": [
    {
     "data": {
      "text/html": [
       "<div>\n",
       "<style scoped>\n",
       "    .dataframe tbody tr th:only-of-type {\n",
       "        vertical-align: middle;\n",
       "    }\n",
       "\n",
       "    .dataframe tbody tr th {\n",
       "        vertical-align: top;\n",
       "    }\n",
       "\n",
       "    .dataframe thead th {\n",
       "        text-align: right;\n",
       "    }\n",
       "</style>\n",
       "<table border=\"1\" class=\"dataframe\">\n",
       "  <thead>\n",
       "    <tr style=\"text-align: right;\">\n",
       "      <th></th>\n",
       "      <th>cell_ontology_class</th>\n",
       "      <th>subtissue</th>\n",
       "      <th>mouse.sex</th>\n",
       "      <th>mouse.id</th>\n",
       "      <th>plate.barcode</th>\n",
       "    </tr>\n",
       "    <tr>\n",
       "      <th>cell</th>\n",
       "      <th></th>\n",
       "      <th></th>\n",
       "      <th></th>\n",
       "      <th></th>\n",
       "      <th></th>\n",
       "    </tr>\n",
       "  </thead>\n",
       "  <tbody>\n",
       "    <tr>\n",
       "      <th>A1.B003290.3_38_F.1.1</th>\n",
       "      <td>astrocyte</td>\n",
       "      <td>Striatum</td>\n",
       "      <td>F</td>\n",
       "      <td>3_38_F</td>\n",
       "      <td>B003290</td>\n",
       "    </tr>\n",
       "    <tr>\n",
       "      <th>A1.B003728.3_56_F.1.1</th>\n",
       "      <td>astrocyte</td>\n",
       "      <td>Striatum</td>\n",
       "      <td>F</td>\n",
       "      <td>3_56_F</td>\n",
       "      <td>B003728</td>\n",
       "    </tr>\n",
       "    <tr>\n",
       "      <th>A1.MAA000560.3_10_M.1.1</th>\n",
       "      <td>oligodendrocyte</td>\n",
       "      <td>Cortex</td>\n",
       "      <td>M</td>\n",
       "      <td>3_10_M</td>\n",
       "      <td>MAA000560</td>\n",
       "    </tr>\n",
       "    <tr>\n",
       "      <th>A1.MAA000564.3_10_M.1.1</th>\n",
       "      <td>endothelial cell</td>\n",
       "      <td>Striatum</td>\n",
       "      <td>M</td>\n",
       "      <td>3_10_M</td>\n",
       "      <td>MAA000564</td>\n",
       "    </tr>\n",
       "    <tr>\n",
       "      <th>A1.MAA000923.3_9_M.1.1</th>\n",
       "      <td>astrocyte</td>\n",
       "      <td>Hippocampus</td>\n",
       "      <td>M</td>\n",
       "      <td>3_9_M</td>\n",
       "      <td>MAA000923</td>\n",
       "    </tr>\n",
       "  </tbody>\n",
       "</table>\n",
       "</div>"
      ],
      "text/plain": [
       "                        cell_ontology_class    subtissue mouse.sex mouse.id  \\\n",
       "cell                                                                          \n",
       "A1.B003290.3_38_F.1.1             astrocyte     Striatum         F   3_38_F   \n",
       "A1.B003728.3_56_F.1.1             astrocyte     Striatum         F   3_56_F   \n",
       "A1.MAA000560.3_10_M.1.1     oligodendrocyte       Cortex         M   3_10_M   \n",
       "A1.MAA000564.3_10_M.1.1    endothelial cell     Striatum         M   3_10_M   \n",
       "A1.MAA000923.3_9_M.1.1            astrocyte  Hippocampus         M    3_9_M   \n",
       "\n",
       "                        plate.barcode  \n",
       "cell                                   \n",
       "A1.B003290.3_38_F.1.1         B003290  \n",
       "A1.B003728.3_56_F.1.1         B003728  \n",
       "A1.MAA000560.3_10_M.1.1     MAA000560  \n",
       "A1.MAA000564.3_10_M.1.1     MAA000564  \n",
       "A1.MAA000923.3_9_M.1.1      MAA000923  "
      ]
     },
     "execution_count": 4,
     "metadata": {},
     "output_type": "execute_result"
    }
   ],
   "source": [
    "adata.obs.head()"
   ]
  },
  {
   "cell_type": "code",
   "execution_count": 5,
   "metadata": {
    "tags": []
   },
   "outputs": [
    {
     "data": {
      "text/html": [
       "<div>\n",
       "<style scoped>\n",
       "    .dataframe tbody tr th:only-of-type {\n",
       "        vertical-align: middle;\n",
       "    }\n",
       "\n",
       "    .dataframe tbody tr th {\n",
       "        vertical-align: top;\n",
       "    }\n",
       "\n",
       "    .dataframe thead th {\n",
       "        text-align: right;\n",
       "    }\n",
       "</style>\n",
       "<table border=\"1\" class=\"dataframe\">\n",
       "  <thead>\n",
       "    <tr style=\"text-align: right;\">\n",
       "      <th></th>\n",
       "      <th>ERCC</th>\n",
       "    </tr>\n",
       "  </thead>\n",
       "  <tbody>\n",
       "    <tr>\n",
       "      <th>0610005C13Rik</th>\n",
       "      <td>False</td>\n",
       "    </tr>\n",
       "    <tr>\n",
       "      <th>0610007C21Rik</th>\n",
       "      <td>False</td>\n",
       "    </tr>\n",
       "    <tr>\n",
       "      <th>0610007L01Rik</th>\n",
       "      <td>False</td>\n",
       "    </tr>\n",
       "    <tr>\n",
       "      <th>0610007N19Rik</th>\n",
       "      <td>False</td>\n",
       "    </tr>\n",
       "    <tr>\n",
       "      <th>0610007P08Rik</th>\n",
       "      <td>False</td>\n",
       "    </tr>\n",
       "  </tbody>\n",
       "</table>\n",
       "</div>"
      ],
      "text/plain": [
       "                ERCC\n",
       "0610005C13Rik  False\n",
       "0610007C21Rik  False\n",
       "0610007L01Rik  False\n",
       "0610007N19Rik  False\n",
       "0610007P08Rik  False"
      ]
     },
     "execution_count": 5,
     "metadata": {},
     "output_type": "execute_result"
    }
   ],
   "source": [
    "adata.var.head()"
   ]
  },
  {
   "cell_type": "markdown",
   "metadata": {},
   "source": [
    "<h2 style = \"font-family: garamond; font-size: 40px; font-style: normal; letter-spcaing: 3px; background-color: #f6f5f5; color :#fe346e; border-radius: 100px 100px; text-align:center\">Computing quality control metrics</h2>\n",
    "We'll compute quality metrics and then filter cells and genes accordingly.\n",
    "\n",
    "The calculate_qc_metrics function returns two dataframes: one containing quality control metrics about cells, and one containing metrics about genes. This function is housed in the 'preprocessing' portion of the SCANPY library."
   ]
  },
  {
   "cell_type": "markdown",
   "metadata": {},
   "source": [
    "calculate_qc_metrics when ['ERCC'] is inserted, it returns the information of both cells and genes with respect to Spike-ins."
   ]
  },
  {
   "cell_type": "code",
   "execution_count": 17,
   "metadata": {},
   "outputs": [],
   "source": [
    "qc = sc.pp.calculate_qc_metrics(adata, qc_vars = ['ERCC'])# this returns a tuple of (cell_qc_dataframe, gene_qc_dataframe)\n",
    "                                 # ask for the percentage of reads from spike ins"
   ]
  },
  {
   "cell_type": "code",
   "execution_count": 18,
   "metadata": {
    "collapsed": true,
    "jupyter": {
     "outputs_hidden": true
    },
    "tags": []
   },
   "outputs": [
    {
     "data": {
      "text/plain": [
       "(                         n_genes_by_counts  log1p_n_genes_by_counts  \\\n",
       " cell                                                                  \n",
       " A1.B003290.3_38_F.1.1                 3359                 8.119696   \n",
       " A1.B003728.3_56_F.1.1                 1718                 7.449498   \n",
       " A1.MAA000560.3_10_M.1.1               3910                 8.271548   \n",
       " A1.MAA000564.3_10_M.1.1               4352                 8.378621   \n",
       " A1.MAA000923.3_9_M.1.1                2248                 7.718241   \n",
       " ...                                    ...                      ...   \n",
       " P9.MAA000926.3_9_M.1.1                3982                 8.289791   \n",
       " P9.MAA000930.3_8_M.1.1                5047                 8.526747   \n",
       " P9.MAA000932.3_11_M.1.1               3557                 8.176954   \n",
       " P9.MAA000935.3_8_M.1.1                2920                 7.979681   \n",
       " P9.MAA001894.3_39_F.1.1               1483                 7.302496   \n",
       " \n",
       "                          total_counts  log1p_total_counts  \\\n",
       " cell                                                        \n",
       " A1.B003290.3_38_F.1.1        390075.0           12.874097   \n",
       " A1.B003728.3_56_F.1.1        776439.0           13.562474   \n",
       " A1.MAA000560.3_10_M.1.1     1616087.0           14.295519   \n",
       " A1.MAA000564.3_10_M.1.1      360004.0           12.793873   \n",
       " A1.MAA000923.3_9_M.1.1       290282.0           12.578611   \n",
       " ...                               ...                 ...   \n",
       " P9.MAA000926.3_9_M.1.1       252305.0           12.438398   \n",
       " P9.MAA000930.3_8_M.1.1       424554.0           12.958797   \n",
       " P9.MAA000932.3_11_M.1.1      454857.0           13.027740   \n",
       " P9.MAA000935.3_8_M.1.1       711797.0           13.475550   \n",
       " P9.MAA001894.3_39_F.1.1      130251.0           11.777226   \n",
       " \n",
       "                          pct_counts_in_top_50_genes  \\\n",
       " cell                                                  \n",
       " A1.B003290.3_38_F.1.1                     25.884766   \n",
       " A1.B003728.3_56_F.1.1                     43.051933   \n",
       " A1.MAA000560.3_10_M.1.1                   44.066006   \n",
       " A1.MAA000564.3_10_M.1.1                   41.650926   \n",
       " A1.MAA000923.3_9_M.1.1                    63.392494   \n",
       " ...                                             ...   \n",
       " P9.MAA000926.3_9_M.1.1                    49.653792   \n",
       " P9.MAA000930.3_8_M.1.1                    41.304993   \n",
       " P9.MAA000932.3_11_M.1.1                   30.581260   \n",
       " P9.MAA000935.3_8_M.1.1                    48.543335   \n",
       " P9.MAA001894.3_39_F.1.1                   42.740555   \n",
       " \n",
       "                          pct_counts_in_top_100_genes  \\\n",
       " cell                                                   \n",
       " A1.B003290.3_38_F.1.1                      32.847017   \n",
       " A1.B003728.3_56_F.1.1                      52.912721   \n",
       " A1.MAA000560.3_10_M.1.1                    51.514553   \n",
       " A1.MAA000564.3_10_M.1.1                    48.958623   \n",
       " A1.MAA000923.3_9_M.1.1                     69.136908   \n",
       " ...                                              ...   \n",
       " P9.MAA000926.3_9_M.1.1                     53.704841   \n",
       " P9.MAA000930.3_8_M.1.1                     47.242518   \n",
       " P9.MAA000932.3_11_M.1.1                    38.235094   \n",
       " P9.MAA000935.3_8_M.1.1                     55.058535   \n",
       " P9.MAA001894.3_39_F.1.1                    51.782328   \n",
       " \n",
       "                          pct_counts_in_top_200_genes  \\\n",
       " cell                                                   \n",
       " A1.B003290.3_38_F.1.1                      42.219573   \n",
       " A1.B003728.3_56_F.1.1                      65.313309   \n",
       " A1.MAA000560.3_10_M.1.1                    60.164211   \n",
       " A1.MAA000564.3_10_M.1.1                    56.997422   \n",
       " A1.MAA000923.3_9_M.1.1                     77.168753   \n",
       " ...                                              ...   \n",
       " P9.MAA000926.3_9_M.1.1                     59.573136   \n",
       " P9.MAA000930.3_8_M.1.1                     54.354923   \n",
       " P9.MAA000932.3_11_M.1.1                    47.988049   \n",
       " P9.MAA000935.3_8_M.1.1                     62.951235   \n",
       " P9.MAA001894.3_39_F.1.1                    64.259008   \n",
       " \n",
       "                          pct_counts_in_top_500_genes  total_counts_ERCC  \\\n",
       " cell                                                                      \n",
       " A1.B003290.3_38_F.1.1                      59.472666            10201.0   \n",
       " A1.B003728.3_56_F.1.1                      87.315423            67351.0   \n",
       " A1.MAA000560.3_10_M.1.1                    74.451190            29870.0   \n",
       " A1.MAA000564.3_10_M.1.1                    69.736170             2592.0   \n",
       " A1.MAA000923.3_9_M.1.1                     90.522320            11002.0   \n",
       " ...                                              ...                ...   \n",
       " P9.MAA000926.3_9_M.1.1                     70.920909             2453.0   \n",
       " P9.MAA000930.3_8_M.1.1                     66.141881             2674.0   \n",
       " P9.MAA000932.3_11_M.1.1                    65.310416            10252.0   \n",
       " P9.MAA000935.3_8_M.1.1                     76.556940            11760.0   \n",
       " P9.MAA001894.3_39_F.1.1                    85.669208             7854.0   \n",
       " \n",
       "                          log1p_total_counts_ERCC  pct_counts_ERCC  \n",
       " cell                                                               \n",
       " A1.B003290.3_38_F.1.1                   9.230339         2.615138  \n",
       " A1.B003728.3_56_F.1.1                  11.117688         8.674345  \n",
       " A1.MAA000560.3_10_M.1.1                10.304644         1.848292  \n",
       " A1.MAA000564.3_10_M.1.1                 7.860571         0.719992  \n",
       " A1.MAA000923.3_9_M.1.1                  9.305923         3.790107  \n",
       " ...                                          ...              ...  \n",
       " P9.MAA000926.3_9_M.1.1                  7.805475         0.972236  \n",
       " P9.MAA000930.3_8_M.1.1                  7.891705         0.629837  \n",
       " P9.MAA000932.3_11_M.1.1                 9.235326         2.253895  \n",
       " P9.MAA000935.3_8_M.1.1                  9.372544         1.652156  \n",
       " P9.MAA001894.3_39_F.1.1                 8.968905         6.029896  \n",
       " \n",
       " [3401 rows x 11 columns],\n",
       "                    n_cells_by_counts  mean_counts  log1p_mean_counts  \\\n",
       " 0610005C13Rik                     28     0.118201           0.111721   \n",
       " 0610007C21Rik                   2399   206.211990           5.333742   \n",
       " 0610007L01Rik                    961    35.938549           3.609256   \n",
       " 0610007N19Rik                    272     6.498383           2.014687   \n",
       " 0610007P08Rik                    582    16.328728           2.852366   \n",
       " ...                              ...          ...                ...   \n",
       " Zzef1                            937    29.685974           3.423806   \n",
       " Zzz3                             992    27.208467           3.339622   \n",
       " a                                 10     0.022052           0.021813   \n",
       " l7Rn6                           1145    48.354897           3.899037   \n",
       " zsGreen_transgene                  0     0.000000           0.000000   \n",
       " \n",
       "                    pct_dropout_by_counts  total_counts  log1p_total_counts  \n",
       " 0610005C13Rik                  99.176713         402.0            5.998937  \n",
       " 0610007C21Rik                  29.461923      701327.0           13.460731  \n",
       " 0610007L01Rik                  71.743605      122227.0           11.713643  \n",
       " 0610007N19Rik                  92.002352       22101.0           10.003424  \n",
       " 0610007P08Rik                  82.887386       55534.0           10.924768  \n",
       " ...                                  ...           ...                 ...  \n",
       " Zzef1                          72.449280      100962.0           11.522510  \n",
       " Zzz3                           70.832108       92536.0           11.435364  \n",
       " a                              99.705969          75.0            4.330733  \n",
       " l7Rn6                          66.333431      164455.0           12.010398  \n",
       " zsGreen_transgene             100.000000           0.0            0.000000  \n",
       " \n",
       " [23433 rows x 6 columns])"
      ]
     },
     "execution_count": 18,
     "metadata": {},
     "output_type": "execute_result"
    }
   ],
   "source": [
    "qc"
   ]
  },
  {
   "cell_type": "code",
   "execution_count": 15,
   "metadata": {},
   "outputs": [
    {
     "data": {
      "text/html": [
       "<div>\n",
       "<style scoped>\n",
       "    .dataframe tbody tr th:only-of-type {\n",
       "        vertical-align: middle;\n",
       "    }\n",
       "\n",
       "    .dataframe tbody tr th {\n",
       "        vertical-align: top;\n",
       "    }\n",
       "\n",
       "    .dataframe thead th {\n",
       "        text-align: right;\n",
       "    }\n",
       "</style>\n",
       "<table border=\"1\" class=\"dataframe\">\n",
       "  <thead>\n",
       "    <tr style=\"text-align: right;\">\n",
       "      <th></th>\n",
       "      <th>n_genes_by_counts</th>\n",
       "      <th>log1p_n_genes_by_counts</th>\n",
       "      <th>total_counts</th>\n",
       "      <th>log1p_total_counts</th>\n",
       "      <th>pct_counts_in_top_50_genes</th>\n",
       "      <th>pct_counts_in_top_100_genes</th>\n",
       "      <th>pct_counts_in_top_200_genes</th>\n",
       "      <th>pct_counts_in_top_500_genes</th>\n",
       "      <th>total_counts_ERCC</th>\n",
       "      <th>log1p_total_counts_ERCC</th>\n",
       "      <th>pct_counts_ERCC</th>\n",
       "    </tr>\n",
       "    <tr>\n",
       "      <th>cell</th>\n",
       "      <th></th>\n",
       "      <th></th>\n",
       "      <th></th>\n",
       "      <th></th>\n",
       "      <th></th>\n",
       "      <th></th>\n",
       "      <th></th>\n",
       "      <th></th>\n",
       "      <th></th>\n",
       "      <th></th>\n",
       "      <th></th>\n",
       "    </tr>\n",
       "  </thead>\n",
       "  <tbody>\n",
       "    <tr>\n",
       "      <th>A1.B003290.3_38_F.1.1</th>\n",
       "      <td>3359</td>\n",
       "      <td>8.119696</td>\n",
       "      <td>390075.0</td>\n",
       "      <td>12.874097</td>\n",
       "      <td>25.884766</td>\n",
       "      <td>32.847017</td>\n",
       "      <td>42.219573</td>\n",
       "      <td>59.472666</td>\n",
       "      <td>10201.0</td>\n",
       "      <td>9.230339</td>\n",
       "      <td>2.615138</td>\n",
       "    </tr>\n",
       "    <tr>\n",
       "      <th>A1.B003728.3_56_F.1.1</th>\n",
       "      <td>1718</td>\n",
       "      <td>7.449498</td>\n",
       "      <td>776439.0</td>\n",
       "      <td>13.562474</td>\n",
       "      <td>43.051933</td>\n",
       "      <td>52.912721</td>\n",
       "      <td>65.313309</td>\n",
       "      <td>87.315423</td>\n",
       "      <td>67351.0</td>\n",
       "      <td>11.117688</td>\n",
       "      <td>8.674345</td>\n",
       "    </tr>\n",
       "    <tr>\n",
       "      <th>A1.MAA000560.3_10_M.1.1</th>\n",
       "      <td>3910</td>\n",
       "      <td>8.271548</td>\n",
       "      <td>1616087.0</td>\n",
       "      <td>14.295519</td>\n",
       "      <td>44.066006</td>\n",
       "      <td>51.514553</td>\n",
       "      <td>60.164211</td>\n",
       "      <td>74.451190</td>\n",
       "      <td>29870.0</td>\n",
       "      <td>10.304644</td>\n",
       "      <td>1.848292</td>\n",
       "    </tr>\n",
       "    <tr>\n",
       "      <th>A1.MAA000564.3_10_M.1.1</th>\n",
       "      <td>4352</td>\n",
       "      <td>8.378621</td>\n",
       "      <td>360004.0</td>\n",
       "      <td>12.793873</td>\n",
       "      <td>41.650926</td>\n",
       "      <td>48.958623</td>\n",
       "      <td>56.997422</td>\n",
       "      <td>69.736170</td>\n",
       "      <td>2592.0</td>\n",
       "      <td>7.860571</td>\n",
       "      <td>0.719992</td>\n",
       "    </tr>\n",
       "    <tr>\n",
       "      <th>A1.MAA000923.3_9_M.1.1</th>\n",
       "      <td>2248</td>\n",
       "      <td>7.718241</td>\n",
       "      <td>290282.0</td>\n",
       "      <td>12.578611</td>\n",
       "      <td>63.392494</td>\n",
       "      <td>69.136908</td>\n",
       "      <td>77.168753</td>\n",
       "      <td>90.522320</td>\n",
       "      <td>11002.0</td>\n",
       "      <td>9.305923</td>\n",
       "      <td>3.790107</td>\n",
       "    </tr>\n",
       "    <tr>\n",
       "      <th>...</th>\n",
       "      <td>...</td>\n",
       "      <td>...</td>\n",
       "      <td>...</td>\n",
       "      <td>...</td>\n",
       "      <td>...</td>\n",
       "      <td>...</td>\n",
       "      <td>...</td>\n",
       "      <td>...</td>\n",
       "      <td>...</td>\n",
       "      <td>...</td>\n",
       "      <td>...</td>\n",
       "    </tr>\n",
       "    <tr>\n",
       "      <th>P9.MAA000926.3_9_M.1.1</th>\n",
       "      <td>3982</td>\n",
       "      <td>8.289791</td>\n",
       "      <td>252305.0</td>\n",
       "      <td>12.438398</td>\n",
       "      <td>49.653792</td>\n",
       "      <td>53.704841</td>\n",
       "      <td>59.573136</td>\n",
       "      <td>70.920909</td>\n",
       "      <td>2453.0</td>\n",
       "      <td>7.805475</td>\n",
       "      <td>0.972236</td>\n",
       "    </tr>\n",
       "    <tr>\n",
       "      <th>P9.MAA000930.3_8_M.1.1</th>\n",
       "      <td>5047</td>\n",
       "      <td>8.526747</td>\n",
       "      <td>424554.0</td>\n",
       "      <td>12.958797</td>\n",
       "      <td>41.304993</td>\n",
       "      <td>47.242518</td>\n",
       "      <td>54.354923</td>\n",
       "      <td>66.141881</td>\n",
       "      <td>2674.0</td>\n",
       "      <td>7.891705</td>\n",
       "      <td>0.629837</td>\n",
       "    </tr>\n",
       "    <tr>\n",
       "      <th>P9.MAA000932.3_11_M.1.1</th>\n",
       "      <td>3557</td>\n",
       "      <td>8.176954</td>\n",
       "      <td>454857.0</td>\n",
       "      <td>13.027740</td>\n",
       "      <td>30.581260</td>\n",
       "      <td>38.235094</td>\n",
       "      <td>47.988049</td>\n",
       "      <td>65.310416</td>\n",
       "      <td>10252.0</td>\n",
       "      <td>9.235326</td>\n",
       "      <td>2.253895</td>\n",
       "    </tr>\n",
       "    <tr>\n",
       "      <th>P9.MAA000935.3_8_M.1.1</th>\n",
       "      <td>2920</td>\n",
       "      <td>7.979681</td>\n",
       "      <td>711797.0</td>\n",
       "      <td>13.475550</td>\n",
       "      <td>48.543335</td>\n",
       "      <td>55.058535</td>\n",
       "      <td>62.951235</td>\n",
       "      <td>76.556940</td>\n",
       "      <td>11760.0</td>\n",
       "      <td>9.372544</td>\n",
       "      <td>1.652156</td>\n",
       "    </tr>\n",
       "    <tr>\n",
       "      <th>P9.MAA001894.3_39_F.1.1</th>\n",
       "      <td>1483</td>\n",
       "      <td>7.302496</td>\n",
       "      <td>130251.0</td>\n",
       "      <td>11.777226</td>\n",
       "      <td>42.740555</td>\n",
       "      <td>51.782328</td>\n",
       "      <td>64.259008</td>\n",
       "      <td>85.669208</td>\n",
       "      <td>7854.0</td>\n",
       "      <td>8.968905</td>\n",
       "      <td>6.029896</td>\n",
       "    </tr>\n",
       "  </tbody>\n",
       "</table>\n",
       "<p>3401 rows × 11 columns</p>\n",
       "</div>"
      ],
      "text/plain": [
       "                         n_genes_by_counts  log1p_n_genes_by_counts  \\\n",
       "cell                                                                  \n",
       "A1.B003290.3_38_F.1.1                 3359                 8.119696   \n",
       "A1.B003728.3_56_F.1.1                 1718                 7.449498   \n",
       "A1.MAA000560.3_10_M.1.1               3910                 8.271548   \n",
       "A1.MAA000564.3_10_M.1.1               4352                 8.378621   \n",
       "A1.MAA000923.3_9_M.1.1                2248                 7.718241   \n",
       "...                                    ...                      ...   \n",
       "P9.MAA000926.3_9_M.1.1                3982                 8.289791   \n",
       "P9.MAA000930.3_8_M.1.1                5047                 8.526747   \n",
       "P9.MAA000932.3_11_M.1.1               3557                 8.176954   \n",
       "P9.MAA000935.3_8_M.1.1                2920                 7.979681   \n",
       "P9.MAA001894.3_39_F.1.1               1483                 7.302496   \n",
       "\n",
       "                         total_counts  log1p_total_counts  \\\n",
       "cell                                                        \n",
       "A1.B003290.3_38_F.1.1        390075.0           12.874097   \n",
       "A1.B003728.3_56_F.1.1        776439.0           13.562474   \n",
       "A1.MAA000560.3_10_M.1.1     1616087.0           14.295519   \n",
       "A1.MAA000564.3_10_M.1.1      360004.0           12.793873   \n",
       "A1.MAA000923.3_9_M.1.1       290282.0           12.578611   \n",
       "...                               ...                 ...   \n",
       "P9.MAA000926.3_9_M.1.1       252305.0           12.438398   \n",
       "P9.MAA000930.3_8_M.1.1       424554.0           12.958797   \n",
       "P9.MAA000932.3_11_M.1.1      454857.0           13.027740   \n",
       "P9.MAA000935.3_8_M.1.1       711797.0           13.475550   \n",
       "P9.MAA001894.3_39_F.1.1      130251.0           11.777226   \n",
       "\n",
       "                         pct_counts_in_top_50_genes  \\\n",
       "cell                                                  \n",
       "A1.B003290.3_38_F.1.1                     25.884766   \n",
       "A1.B003728.3_56_F.1.1                     43.051933   \n",
       "A1.MAA000560.3_10_M.1.1                   44.066006   \n",
       "A1.MAA000564.3_10_M.1.1                   41.650926   \n",
       "A1.MAA000923.3_9_M.1.1                    63.392494   \n",
       "...                                             ...   \n",
       "P9.MAA000926.3_9_M.1.1                    49.653792   \n",
       "P9.MAA000930.3_8_M.1.1                    41.304993   \n",
       "P9.MAA000932.3_11_M.1.1                   30.581260   \n",
       "P9.MAA000935.3_8_M.1.1                    48.543335   \n",
       "P9.MAA001894.3_39_F.1.1                   42.740555   \n",
       "\n",
       "                         pct_counts_in_top_100_genes  \\\n",
       "cell                                                   \n",
       "A1.B003290.3_38_F.1.1                      32.847017   \n",
       "A1.B003728.3_56_F.1.1                      52.912721   \n",
       "A1.MAA000560.3_10_M.1.1                    51.514553   \n",
       "A1.MAA000564.3_10_M.1.1                    48.958623   \n",
       "A1.MAA000923.3_9_M.1.1                     69.136908   \n",
       "...                                              ...   \n",
       "P9.MAA000926.3_9_M.1.1                     53.704841   \n",
       "P9.MAA000930.3_8_M.1.1                     47.242518   \n",
       "P9.MAA000932.3_11_M.1.1                    38.235094   \n",
       "P9.MAA000935.3_8_M.1.1                     55.058535   \n",
       "P9.MAA001894.3_39_F.1.1                    51.782328   \n",
       "\n",
       "                         pct_counts_in_top_200_genes  \\\n",
       "cell                                                   \n",
       "A1.B003290.3_38_F.1.1                      42.219573   \n",
       "A1.B003728.3_56_F.1.1                      65.313309   \n",
       "A1.MAA000560.3_10_M.1.1                    60.164211   \n",
       "A1.MAA000564.3_10_M.1.1                    56.997422   \n",
       "A1.MAA000923.3_9_M.1.1                     77.168753   \n",
       "...                                              ...   \n",
       "P9.MAA000926.3_9_M.1.1                     59.573136   \n",
       "P9.MAA000930.3_8_M.1.1                     54.354923   \n",
       "P9.MAA000932.3_11_M.1.1                    47.988049   \n",
       "P9.MAA000935.3_8_M.1.1                     62.951235   \n",
       "P9.MAA001894.3_39_F.1.1                    64.259008   \n",
       "\n",
       "                         pct_counts_in_top_500_genes  total_counts_ERCC  \\\n",
       "cell                                                                      \n",
       "A1.B003290.3_38_F.1.1                      59.472666            10201.0   \n",
       "A1.B003728.3_56_F.1.1                      87.315423            67351.0   \n",
       "A1.MAA000560.3_10_M.1.1                    74.451190            29870.0   \n",
       "A1.MAA000564.3_10_M.1.1                    69.736170             2592.0   \n",
       "A1.MAA000923.3_9_M.1.1                     90.522320            11002.0   \n",
       "...                                              ...                ...   \n",
       "P9.MAA000926.3_9_M.1.1                     70.920909             2453.0   \n",
       "P9.MAA000930.3_8_M.1.1                     66.141881             2674.0   \n",
       "P9.MAA000932.3_11_M.1.1                    65.310416            10252.0   \n",
       "P9.MAA000935.3_8_M.1.1                     76.556940            11760.0   \n",
       "P9.MAA001894.3_39_F.1.1                    85.669208             7854.0   \n",
       "\n",
       "                         log1p_total_counts_ERCC  pct_counts_ERCC  \n",
       "cell                                                               \n",
       "A1.B003290.3_38_F.1.1                   9.230339         2.615138  \n",
       "A1.B003728.3_56_F.1.1                  11.117688         8.674345  \n",
       "A1.MAA000560.3_10_M.1.1                10.304644         1.848292  \n",
       "A1.MAA000564.3_10_M.1.1                 7.860571         0.719992  \n",
       "A1.MAA000923.3_9_M.1.1                  9.305923         3.790107  \n",
       "...                                          ...              ...  \n",
       "P9.MAA000926.3_9_M.1.1                  7.805475         0.972236  \n",
       "P9.MAA000930.3_8_M.1.1                  7.891705         0.629837  \n",
       "P9.MAA000932.3_11_M.1.1                 9.235326         2.253895  \n",
       "P9.MAA000935.3_8_M.1.1                  9.372544         1.652156  \n",
       "P9.MAA001894.3_39_F.1.1                 8.968905         6.029896  \n",
       "\n",
       "[3401 rows x 11 columns]"
      ]
     },
     "execution_count": 15,
     "metadata": {},
     "output_type": "execute_result"
    }
   ],
   "source": [
    "cell_qc_dataframe = qc[0]\n",
    "cell_qc_dataframe "
   ]
  },
  {
   "cell_type": "code",
   "execution_count": 19,
   "metadata": {},
   "outputs": [
    {
     "data": {
      "text/html": [
       "<div>\n",
       "<style scoped>\n",
       "    .dataframe tbody tr th:only-of-type {\n",
       "        vertical-align: middle;\n",
       "    }\n",
       "\n",
       "    .dataframe tbody tr th {\n",
       "        vertical-align: top;\n",
       "    }\n",
       "\n",
       "    .dataframe thead th {\n",
       "        text-align: right;\n",
       "    }\n",
       "</style>\n",
       "<table border=\"1\" class=\"dataframe\">\n",
       "  <thead>\n",
       "    <tr style=\"text-align: right;\">\n",
       "      <th></th>\n",
       "      <th>n_cells_by_counts</th>\n",
       "      <th>mean_counts</th>\n",
       "      <th>log1p_mean_counts</th>\n",
       "      <th>pct_dropout_by_counts</th>\n",
       "      <th>total_counts</th>\n",
       "      <th>log1p_total_counts</th>\n",
       "    </tr>\n",
       "  </thead>\n",
       "  <tbody>\n",
       "    <tr>\n",
       "      <th>0610005C13Rik</th>\n",
       "      <td>28</td>\n",
       "      <td>0.118201</td>\n",
       "      <td>0.111721</td>\n",
       "      <td>99.176713</td>\n",
       "      <td>402.0</td>\n",
       "      <td>5.998937</td>\n",
       "    </tr>\n",
       "    <tr>\n",
       "      <th>0610007C21Rik</th>\n",
       "      <td>2399</td>\n",
       "      <td>206.211990</td>\n",
       "      <td>5.333742</td>\n",
       "      <td>29.461923</td>\n",
       "      <td>701327.0</td>\n",
       "      <td>13.460731</td>\n",
       "    </tr>\n",
       "    <tr>\n",
       "      <th>0610007L01Rik</th>\n",
       "      <td>961</td>\n",
       "      <td>35.938549</td>\n",
       "      <td>3.609256</td>\n",
       "      <td>71.743605</td>\n",
       "      <td>122227.0</td>\n",
       "      <td>11.713643</td>\n",
       "    </tr>\n",
       "    <tr>\n",
       "      <th>0610007N19Rik</th>\n",
       "      <td>272</td>\n",
       "      <td>6.498383</td>\n",
       "      <td>2.014687</td>\n",
       "      <td>92.002352</td>\n",
       "      <td>22101.0</td>\n",
       "      <td>10.003424</td>\n",
       "    </tr>\n",
       "    <tr>\n",
       "      <th>0610007P08Rik</th>\n",
       "      <td>582</td>\n",
       "      <td>16.328728</td>\n",
       "      <td>2.852366</td>\n",
       "      <td>82.887386</td>\n",
       "      <td>55534.0</td>\n",
       "      <td>10.924768</td>\n",
       "    </tr>\n",
       "    <tr>\n",
       "      <th>...</th>\n",
       "      <td>...</td>\n",
       "      <td>...</td>\n",
       "      <td>...</td>\n",
       "      <td>...</td>\n",
       "      <td>...</td>\n",
       "      <td>...</td>\n",
       "    </tr>\n",
       "    <tr>\n",
       "      <th>Zzef1</th>\n",
       "      <td>937</td>\n",
       "      <td>29.685974</td>\n",
       "      <td>3.423806</td>\n",
       "      <td>72.449280</td>\n",
       "      <td>100962.0</td>\n",
       "      <td>11.522510</td>\n",
       "    </tr>\n",
       "    <tr>\n",
       "      <th>Zzz3</th>\n",
       "      <td>992</td>\n",
       "      <td>27.208467</td>\n",
       "      <td>3.339622</td>\n",
       "      <td>70.832108</td>\n",
       "      <td>92536.0</td>\n",
       "      <td>11.435364</td>\n",
       "    </tr>\n",
       "    <tr>\n",
       "      <th>a</th>\n",
       "      <td>10</td>\n",
       "      <td>0.022052</td>\n",
       "      <td>0.021813</td>\n",
       "      <td>99.705969</td>\n",
       "      <td>75.0</td>\n",
       "      <td>4.330733</td>\n",
       "    </tr>\n",
       "    <tr>\n",
       "      <th>l7Rn6</th>\n",
       "      <td>1145</td>\n",
       "      <td>48.354897</td>\n",
       "      <td>3.899037</td>\n",
       "      <td>66.333431</td>\n",
       "      <td>164455.0</td>\n",
       "      <td>12.010398</td>\n",
       "    </tr>\n",
       "    <tr>\n",
       "      <th>zsGreen_transgene</th>\n",
       "      <td>0</td>\n",
       "      <td>0.000000</td>\n",
       "      <td>0.000000</td>\n",
       "      <td>100.000000</td>\n",
       "      <td>0.0</td>\n",
       "      <td>0.000000</td>\n",
       "    </tr>\n",
       "  </tbody>\n",
       "</table>\n",
       "<p>23433 rows × 6 columns</p>\n",
       "</div>"
      ],
      "text/plain": [
       "                   n_cells_by_counts  mean_counts  log1p_mean_counts  \\\n",
       "0610005C13Rik                     28     0.118201           0.111721   \n",
       "0610007C21Rik                   2399   206.211990           5.333742   \n",
       "0610007L01Rik                    961    35.938549           3.609256   \n",
       "0610007N19Rik                    272     6.498383           2.014687   \n",
       "0610007P08Rik                    582    16.328728           2.852366   \n",
       "...                              ...          ...                ...   \n",
       "Zzef1                            937    29.685974           3.423806   \n",
       "Zzz3                             992    27.208467           3.339622   \n",
       "a                                 10     0.022052           0.021813   \n",
       "l7Rn6                           1145    48.354897           3.899037   \n",
       "zsGreen_transgene                  0     0.000000           0.000000   \n",
       "\n",
       "                   pct_dropout_by_counts  total_counts  log1p_total_counts  \n",
       "0610005C13Rik                  99.176713         402.0            5.998937  \n",
       "0610007C21Rik                  29.461923      701327.0           13.460731  \n",
       "0610007L01Rik                  71.743605      122227.0           11.713643  \n",
       "0610007N19Rik                  92.002352       22101.0           10.003424  \n",
       "0610007P08Rik                  82.887386       55534.0           10.924768  \n",
       "...                                  ...           ...                 ...  \n",
       "Zzef1                          72.449280      100962.0           11.522510  \n",
       "Zzz3                           70.832108       92536.0           11.435364  \n",
       "a                              99.705969          75.0            4.330733  \n",
       "l7Rn6                          66.333431      164455.0           12.010398  \n",
       "zsGreen_transgene             100.000000           0.0            0.000000  \n",
       "\n",
       "[23433 rows x 6 columns]"
      ]
     },
     "execution_count": 19,
     "metadata": {},
     "output_type": "execute_result"
    }
   ],
   "source": [
    "gene_qc_dataframe = qc[1]\n",
    "gene_qc_dataframe "
   ]
  },
  {
   "cell_type": "code",
   "execution_count": 20,
   "metadata": {
    "tags": []
   },
   "outputs": [
    {
     "name": "stdout",
     "output_type": "stream",
     "text": [
      "This is the cell quality control dataframe:\n"
     ]
    },
    {
     "data": {
      "text/html": [
       "<div>\n",
       "<style scoped>\n",
       "    .dataframe tbody tr th:only-of-type {\n",
       "        vertical-align: middle;\n",
       "    }\n",
       "\n",
       "    .dataframe tbody tr th {\n",
       "        vertical-align: top;\n",
       "    }\n",
       "\n",
       "    .dataframe thead th {\n",
       "        text-align: right;\n",
       "    }\n",
       "</style>\n",
       "<table border=\"1\" class=\"dataframe\">\n",
       "  <thead>\n",
       "    <tr style=\"text-align: right;\">\n",
       "      <th></th>\n",
       "      <th>n_genes_by_counts</th>\n",
       "      <th>log1p_n_genes_by_counts</th>\n",
       "      <th>total_counts</th>\n",
       "      <th>log1p_total_counts</th>\n",
       "      <th>pct_counts_in_top_50_genes</th>\n",
       "      <th>pct_counts_in_top_100_genes</th>\n",
       "      <th>pct_counts_in_top_200_genes</th>\n",
       "      <th>pct_counts_in_top_500_genes</th>\n",
       "      <th>total_counts_ERCC</th>\n",
       "      <th>log1p_total_counts_ERCC</th>\n",
       "      <th>pct_counts_ERCC</th>\n",
       "    </tr>\n",
       "    <tr>\n",
       "      <th>cell</th>\n",
       "      <th></th>\n",
       "      <th></th>\n",
       "      <th></th>\n",
       "      <th></th>\n",
       "      <th></th>\n",
       "      <th></th>\n",
       "      <th></th>\n",
       "      <th></th>\n",
       "      <th></th>\n",
       "      <th></th>\n",
       "      <th></th>\n",
       "    </tr>\n",
       "  </thead>\n",
       "  <tbody>\n",
       "    <tr>\n",
       "      <th>A1.B003290.3_38_F.1.1</th>\n",
       "      <td>3359</td>\n",
       "      <td>8.119696</td>\n",
       "      <td>390075.0</td>\n",
       "      <td>12.874097</td>\n",
       "      <td>25.884766</td>\n",
       "      <td>32.847017</td>\n",
       "      <td>42.219573</td>\n",
       "      <td>59.472666</td>\n",
       "      <td>10201.0</td>\n",
       "      <td>9.230339</td>\n",
       "      <td>2.615138</td>\n",
       "    </tr>\n",
       "    <tr>\n",
       "      <th>A1.B003728.3_56_F.1.1</th>\n",
       "      <td>1718</td>\n",
       "      <td>7.449498</td>\n",
       "      <td>776439.0</td>\n",
       "      <td>13.562474</td>\n",
       "      <td>43.051933</td>\n",
       "      <td>52.912721</td>\n",
       "      <td>65.313309</td>\n",
       "      <td>87.315423</td>\n",
       "      <td>67351.0</td>\n",
       "      <td>11.117688</td>\n",
       "      <td>8.674345</td>\n",
       "    </tr>\n",
       "    <tr>\n",
       "      <th>A1.MAA000560.3_10_M.1.1</th>\n",
       "      <td>3910</td>\n",
       "      <td>8.271548</td>\n",
       "      <td>1616087.0</td>\n",
       "      <td>14.295519</td>\n",
       "      <td>44.066006</td>\n",
       "      <td>51.514553</td>\n",
       "      <td>60.164211</td>\n",
       "      <td>74.451190</td>\n",
       "      <td>29870.0</td>\n",
       "      <td>10.304644</td>\n",
       "      <td>1.848292</td>\n",
       "    </tr>\n",
       "    <tr>\n",
       "      <th>A1.MAA000564.3_10_M.1.1</th>\n",
       "      <td>4352</td>\n",
       "      <td>8.378621</td>\n",
       "      <td>360004.0</td>\n",
       "      <td>12.793873</td>\n",
       "      <td>41.650926</td>\n",
       "      <td>48.958623</td>\n",
       "      <td>56.997422</td>\n",
       "      <td>69.736170</td>\n",
       "      <td>2592.0</td>\n",
       "      <td>7.860571</td>\n",
       "      <td>0.719992</td>\n",
       "    </tr>\n",
       "    <tr>\n",
       "      <th>A1.MAA000923.3_9_M.1.1</th>\n",
       "      <td>2248</td>\n",
       "      <td>7.718241</td>\n",
       "      <td>290282.0</td>\n",
       "      <td>12.578611</td>\n",
       "      <td>63.392494</td>\n",
       "      <td>69.136908</td>\n",
       "      <td>77.168753</td>\n",
       "      <td>90.522320</td>\n",
       "      <td>11002.0</td>\n",
       "      <td>9.305923</td>\n",
       "      <td>3.790107</td>\n",
       "    </tr>\n",
       "  </tbody>\n",
       "</table>\n",
       "</div>"
      ],
      "text/plain": [
       "                         n_genes_by_counts  log1p_n_genes_by_counts  \\\n",
       "cell                                                                  \n",
       "A1.B003290.3_38_F.1.1                 3359                 8.119696   \n",
       "A1.B003728.3_56_F.1.1                 1718                 7.449498   \n",
       "A1.MAA000560.3_10_M.1.1               3910                 8.271548   \n",
       "A1.MAA000564.3_10_M.1.1               4352                 8.378621   \n",
       "A1.MAA000923.3_9_M.1.1                2248                 7.718241   \n",
       "\n",
       "                         total_counts  log1p_total_counts  \\\n",
       "cell                                                        \n",
       "A1.B003290.3_38_F.1.1        390075.0           12.874097   \n",
       "A1.B003728.3_56_F.1.1        776439.0           13.562474   \n",
       "A1.MAA000560.3_10_M.1.1     1616087.0           14.295519   \n",
       "A1.MAA000564.3_10_M.1.1      360004.0           12.793873   \n",
       "A1.MAA000923.3_9_M.1.1       290282.0           12.578611   \n",
       "\n",
       "                         pct_counts_in_top_50_genes  \\\n",
       "cell                                                  \n",
       "A1.B003290.3_38_F.1.1                     25.884766   \n",
       "A1.B003728.3_56_F.1.1                     43.051933   \n",
       "A1.MAA000560.3_10_M.1.1                   44.066006   \n",
       "A1.MAA000564.3_10_M.1.1                   41.650926   \n",
       "A1.MAA000923.3_9_M.1.1                    63.392494   \n",
       "\n",
       "                         pct_counts_in_top_100_genes  \\\n",
       "cell                                                   \n",
       "A1.B003290.3_38_F.1.1                      32.847017   \n",
       "A1.B003728.3_56_F.1.1                      52.912721   \n",
       "A1.MAA000560.3_10_M.1.1                    51.514553   \n",
       "A1.MAA000564.3_10_M.1.1                    48.958623   \n",
       "A1.MAA000923.3_9_M.1.1                     69.136908   \n",
       "\n",
       "                         pct_counts_in_top_200_genes  \\\n",
       "cell                                                   \n",
       "A1.B003290.3_38_F.1.1                      42.219573   \n",
       "A1.B003728.3_56_F.1.1                      65.313309   \n",
       "A1.MAA000560.3_10_M.1.1                    60.164211   \n",
       "A1.MAA000564.3_10_M.1.1                    56.997422   \n",
       "A1.MAA000923.3_9_M.1.1                     77.168753   \n",
       "\n",
       "                         pct_counts_in_top_500_genes  total_counts_ERCC  \\\n",
       "cell                                                                      \n",
       "A1.B003290.3_38_F.1.1                      59.472666            10201.0   \n",
       "A1.B003728.3_56_F.1.1                      87.315423            67351.0   \n",
       "A1.MAA000560.3_10_M.1.1                    74.451190            29870.0   \n",
       "A1.MAA000564.3_10_M.1.1                    69.736170             2592.0   \n",
       "A1.MAA000923.3_9_M.1.1                     90.522320            11002.0   \n",
       "\n",
       "                         log1p_total_counts_ERCC  pct_counts_ERCC  \n",
       "cell                                                               \n",
       "A1.B003290.3_38_F.1.1                   9.230339         2.615138  \n",
       "A1.B003728.3_56_F.1.1                  11.117688         8.674345  \n",
       "A1.MAA000560.3_10_M.1.1                10.304644         1.848292  \n",
       "A1.MAA000564.3_10_M.1.1                 7.860571         0.719992  \n",
       "A1.MAA000923.3_9_M.1.1                  9.305923         3.790107  "
      ]
     },
     "execution_count": 20,
     "metadata": {},
     "output_type": "execute_result"
    }
   ],
   "source": [
    "print('This is the cell quality control dataframe:')\n",
    "cell_qc_dataframe.head()"
   ]
  },
  {
   "cell_type": "markdown",
   "metadata": {},
   "source": [
    "- “total_genes_by_counts”. Number of genes with positive counts in a cell. (total gene count having True ERCC)\n",
    "- “total_counts”. Total number of counts for a cell.\n",
    "- “pct_counts_in_top_50_genes”. Cumulative percentage of counts for 50 most expressed genes in a cell.\n",
    "- “total_counts_mito”. Total number of counts for variabes in qc_vars.\n",
    "- “pct_counts_mito”. Proportion of total counts for a cell which are mitochondrial.\n",
    "- “total_counts”. Sum of counts for a gene.\n",
    "- “n_genes_by_counts”. The number of genes with at least 1 count in a cell. Calculated for all cells.\n",
    "- “mean_counts”. Mean expression over all cells.\n",
    "- “n_cells_by_counts”. Number of cells this expression is measured in.\n",
    "- “pct_dropout_by_counts”. Percentage of cells this feature does not appear in."
   ]
  },
  {
   "cell_type": "code",
   "execution_count": 22,
   "metadata": {},
   "outputs": [
    {
     "data": {
      "text/plain": [
       "<seaborn.axisgrid.JointGrid at 0x7fb7e19c7910>"
      ]
     },
     "execution_count": 22,
     "metadata": {},
     "output_type": "execute_result"
    },
    {
     "data": {
      "image/png": "[encoded data removed]",
      "text/plain": [
       "<Figure size 600x600 with 3 Axes>"
      ]
     },
     "metadata": {},
     "output_type": "display_data"
    }
   ],
   "source": [
    "import seaborn as sns\n",
    "sns.jointplot(\n",
    "    data=cell_qc_dataframe,\n",
    "    y=\"log1p_total_counts\",\n",
    "    x=\"log1p_n_genes_by_counts\",\n",
    "    kind=\"hex\",\n",
    ")"
   ]
  },
  {
   "cell_type": "code",
   "execution_count": 21,
   "metadata": {
    "tags": []
   },
   "outputs": [
    {
     "data": {
      "text/plain": [
       "<seaborn.axisgrid.JointGrid at 0x7fb7ea4076d0>"
      ]
     },
     "execution_count": 21,
     "metadata": {},
     "output_type": "execute_result"
    },
    {
     "data": {
      "image/png": "[encoded data removed]",
      "text/plain": [
       "<Figure size 600x600 with 3 Axes>"
      ]
     },
     "metadata": {},
     "output_type": "display_data"
    }
   ],
   "source": [
    "import seaborn as sns\n",
    "sns.jointplot(\n",
    "    data=cell_qc_dataframe,\n",
    "    x=\"log1p_total_counts\",\n",
    "    y=\"log1p_n_genes_by_counts\",\n",
    "    kind=\"hex\",\n",
    ")"
   ]
  },
  {
   "cell_type": "markdown",
   "metadata": {},
   "source": [
    "Plot between **log1p_n_genes_by_counts** (log(1+x) where x is count of genes in a cell which are ERCC) and **log1p_total_counts** (log(1+x) where x is total count of genes in a cell)\n",
    "\n",
    "Plots a bivariate histogram using hexagonal bins with marginal histograms."
   ]
  },
  {
   "cell_type": "code",
   "execution_count": 23,
   "metadata": {
    "tags": []
   },
   "outputs": [
    {
     "data": {
      "text/plain": [
       "<AxesSubplot: xlabel='pct_counts_ERCC', ylabel='Count'>"
      ]
     },
     "execution_count": 23,
     "metadata": {},
     "output_type": "execute_result"
    },
    {
     "data": {
      "image/png": "[encoded data removed]",
      "text/plain": [
       "<Figure size 640x480 with 1 Axes>"
      ]
     },
     "metadata": {},
     "output_type": "display_data"
    }
   ],
   "source": [
    "sns.histplot(cell_qc_dataframe[\"pct_counts_ERCC\"])"
   ]
  },
  {
   "cell_type": "markdown",
   "metadata": {},
   "source": [
    "Gives the histogram for **pct_counts_ERCC** - %genes in the cell which are ERCC"
   ]
  },
  {
   "cell_type": "code",
   "execution_count": null,
   "metadata": {
    "tags": []
   },
   "outputs": [],
   "source": [
    "print('This is the gene quality control dataframe:')\n",
    "gene_qc_dataframe.head()"
   ]
  },
  {
   "cell_type": "markdown",
   "metadata": {},
   "source": [
    "<h2 style = \"font-family: garamond; font-size: 40px; font-style: normal; letter-spcaing: 3px; background-color: #f6f5f5; color :#fe346e; border-radius: 100px 100px; text-align:center\">Quality Control for Cells</h2>\n",
    "\n",
    "## Library size \n",
    "First, we consider the total number of reads detected per cell. Cells with few reads are likely to have been broken or failed to capture a cell, and should thus be removed."
   ]
  },
  {
   "cell_type": "code",
   "execution_count": null,
   "metadata": {
    "tags": []
   },
   "outputs": [],
   "source": [
    "plt.hist(cell_qc_dataframe['total_counts'], bins=1000)\n",
    "plt.xlabel('Total counts')\n",
    "plt.ylabel('N cells')\n",
    "plt.axvline(50000, color='red')"
   ]
  },
  {
   "cell_type": "markdown",
   "metadata": {},
   "source": [
    "Looks like the authors have already removed cells with fewer than 50,000 reads."
   ]
  },
  {
   "cell_type": "markdown",
   "metadata": {},
   "source": [
    "## Detected genes \n",
    "In addition to ensuring sufficient sequencing depth for each sample, we also want to make sure that the reads are distributed across the transcriptome. Thus, we count the total number of unique genes detected in each sample."
   ]
  },
  {
   "cell_type": "code",
   "execution_count": null,
   "metadata": {
    "tags": []
   },
   "outputs": [],
   "source": [
    "plt.hist(cell_qc_dataframe['n_genes_by_counts'], bins=100)\n",
    "plt.xlabel('N genes')\n",
    "plt.ylabel('N cells')\n",
    "plt.axvline(1000, color='red')"
   ]
  },
  {
   "cell_type": "markdown",
   "metadata": {},
   "source": [
    "From the plot we conclude that most cells have between ~1,000-5,000 detected genes, which is typical for smartseq2 data. However, this varies by experimental protocol and sequencing depth.\n",
    "\n",
    "The most notable feature in the above plot is the <b>little peak on the left hand side </b>of the distribution. If detection rates were equal across the cells then the distribution should be approximately normal. Thus, we will remove those cells in the tail of the distribution (fewer than ~1000 detected genes)."
   ]
  },
  {
   "cell_type": "markdown",
   "metadata": {},
   "source": [
    "## Spike-ins \n",
    "- Another measure of cell quality is the ratio between ERCC spike-in RNAs and endogenous RNAs. This ratio can be used to estimate the total amount of RNA in the captured cells. \n",
    "- **Cells with a high level of spike-in RNAs had low starting amounts of RNA, likely due to the cell being dead or stressed which may result in the RNA being degraded.**"
   ]
  },
  {
   "cell_type": "code",
   "execution_count": null,
   "metadata": {
    "tags": []
   },
   "outputs": [],
   "source": [
    "plt.hist(cell_qc_dataframe['pct_counts_ERCC'], bins=1000)\n",
    "plt.xlabel('Percent counts ERCC')\n",
    "plt.ylabel('N cells')\n",
    "plt.axvline(10, color='red')"
   ]
  },
  {
   "cell_type": "markdown",
   "metadata": {},
   "source": [
    "Placing a threshold is always a judgement call. Here, the majority of cells have less than 10% ERCC counts, but there's a <b>long tail of cells that have very high spike-in counts; these are likely dead cells and should be removed.</b>"
   ]
  },
  {
   "cell_type": "markdown",
   "metadata": {},
   "source": [
    "## Cell Filtering based on above analysis\n",
    "There isn't an automatic function for removing cells with a high percentage of ERCC reads, but we can use a mask to remove them like so:\n",
    "- Removing cells having ERCC percentage count >= 10\n",
    "- Removing cell having gene count < 750"
   ]
  },
  {
   "cell_type": "code",
   "execution_count": null,
   "metadata": {
    "tags": []
   },
   "outputs": [],
   "source": [
    "low_ERCC_mask = (cell_qc_dataframe['pct_counts_ERCC'] < 10)\n",
    "adata = adata[low_ERCC_mask]"
   ]
  },
  {
   "attachments": {
    "9f5d68fc-8c8d-42f3-8816-dc0a3a7dd763.png": {
     "image/png": "[encoded data removed]"
    }
   },
   "cell_type": "markdown",
   "metadata": {},
   "source": [
    "![image.png](attachment:9f5d68fc-8c8d-42f3-8816-dc0a3a7dd763.png)"
   ]
  },
  {
   "cell_type": "code",
   "execution_count": null,
   "metadata": {
    "tags": []
   },
   "outputs": [],
   "source": [
    "# Filter cells with fewer 750 genes detected.\n",
    "print('Started with: \\n', adata)\n",
    "sc.pp.filter_cells(adata, min_genes = 750)\n",
    "print('Finished with: \\n', adata)"
   ]
  },
  {
   "cell_type": "markdown",
   "metadata": {
    "execution": {
     "iopub.execute_input": "2021-09-12T16:19:30.512387Z",
     "iopub.status.busy": "2021-09-12T16:19:30.511453Z",
     "iopub.status.idle": "2021-09-12T16:19:30.51869Z",
     "shell.execute_reply": "2021-09-12T16:19:30.517616Z",
     "shell.execute_reply.started": "2021-09-12T16:19:30.512345Z"
    }
   },
   "source": [
    "<h2 style = \"font-family: garamond; font-size: 40px; font-style: normal; letter-spcaing: 3px; background-color: #f6f5f5; color :#fe346e; border-radius: 100px 100px; text-align:center\">Quality Control for Genes</h2>\n",
    "\n",
    "It is typically a good idea to remove genes whose expression level is considered \"undetectable\". \n",
    "- We define a <b>gene as detectable if at least two cells contain more than 5 reads from the gene. </b> However, the threshold strongly depends on the sequencing depth. \n",
    "- It is important to keep in mind that <b> genes must be filtered after cell filtering </b> since some genes may only be detected in poor quality cells."
   ]
  },
  {
   "cell_type": "markdown",
   "metadata": {},
   "source": [
    "First, we consider the total number of cell in which a gene is deteted. Genes with few cell count are outliers and should thus be removed."
   ]
  },
  {
   "cell_type": "code",
   "execution_count": null,
   "metadata": {
    "tags": []
   },
   "outputs": [],
   "source": [
    "gene_qc_dataframe.head()"
   ]
  },
  {
   "cell_type": "code",
   "execution_count": null,
   "metadata": {
    "tags": []
   },
   "outputs": [],
   "source": [
    "plt.hist(gene_qc_dataframe['n_cells_by_counts'], bins=1000)\n",
    "plt.xlabel('N cells expressing > 0')\n",
    "plt.ylabel('log(N genes)') # for visual clarity\n",
    "plt.axvline(2, color='red')\n",
    "plt.yscale('log') "
   ]
  },
  {
   "cell_type": "markdown",
   "metadata": {},
   "source": [
    "There is no gene which is having n_cells_by_counts < 2"
   ]
  },
  {
   "cell_type": "code",
   "execution_count": null,
   "metadata": {
    "tags": []
   },
   "outputs": [],
   "source": [
    "plt.hist(gene_qc_dataframe['total_counts'], bins=1000)\n",
    "plt.xlabel('Total counts')\n",
    "plt.ylabel('log(N genes)') # for visual clarity\n",
    "plt.yscale('log') \n",
    "plt.axvline(10, color='red')"
   ]
  },
  {
   "cell_type": "markdown",
   "metadata": {},
   "source": [
    "There is no gene which is having sum_counts < 10"
   ]
  },
  {
   "cell_type": "code",
   "execution_count": null,
   "metadata": {
    "tags": []
   },
   "outputs": [],
   "source": [
    "print('Started with: \\n', adata)\n",
    "sc.pp.filter_genes(adata, min_cells = 2)\n",
    "sc.pp.filter_genes(adata, min_counts = 10)\n",
    "print('Finished with: \\n', adata)"
   ]
  },
  {
   "cell_type": "markdown",
   "metadata": {},
   "source": [
    "No genes are removed."
   ]
  },
  {
   "cell_type": "markdown",
   "metadata": {},
   "source": [
    "# Saving the Quality Controlled adata"
   ]
  },
  {
   "cell_type": "code",
   "execution_count": null,
   "metadata": {
    "tags": []
   },
   "outputs": [],
   "source": [
    "print(adata) ## Final dimensions of the QC'd dataset\n",
    "adata.write('/home/preonath/Desktop/Data/Single_Cell/kaggle/output/brain_qc.h5ad')"
   ]
  },
  {
   "cell_type": "code",
   "execution_count": null,
   "metadata": {
    "tags": []
   },
   "outputs": [],
   "source": [
    "# !zip \"/home/chrf/Desktop/CHRF_Project/Single_cell/Single_cell_RNA_seq_analysis_of_Tabula_Muris_data_github_Aayush_Sharma/output/brain_qc.zip\" \"/home/chrf/Desktop/CHRF_Project/Single_cell/Single_cell_RNA_seq_analysis_of_Tabula_Muris_data_github_Aayush_Sharma/output/brain_qc.h5ad\""
   ]
  },
  {
   "cell_type": "markdown",
   "metadata": {},
   "source": [
    "<h2 style = \"font-family: garamond; font-size: 40px; font-style: normal; letter-spcaing: 3px; background-color: #f6f5f5; color :#fe346e; border-radius: 100px 100px; text-align:center\">Summary</h2>\n",
    "\n",
    "- We calculated the quality control metrices across cells and genes.\n",
    "- We did quality control in cells by removing cells with less total gene count, less unique genes and gaving more spike-ins.\n",
    "- We did quality control in genes by removing genes which occur in less unique cells as well as those genes having less total cells.\n",
    "- Saving the quality controlled data for further pipeline."
   ]
  },
  {
   "cell_type": "markdown",
   "metadata": {},
   "source": [
    "https://chanzuckerberg.github.io/scRNA-python-workshop/preprocessing/01-basic-qc.html"
   ]
  }
 ],
 "metadata": {
  "kernelspec": {
   "display_name": "Python 3 (ipykernel)",
   "language": "python",
   "name": "python3"
  },
  "language_info": {
   "codemirror_mode": {
    "name": "ipython",
    "version": 3
   },
   "file_extension": ".py",
   "mimetype": "text/x-python",
   "name": "python",
   "nbconvert_exporter": "python",
   "pygments_lexer": "ipython3",
   "version": "3.8.15"
  }
 },
 "nbformat": 4,
 "nbformat_minor": 4
}
