{
 "cells": [
  {
   "cell_type": "code",
   "execution_count": 3,
   "id": "92c75d77-304d-4445-9163-45b22631240c",
   "metadata": {
    "tags": []
   },
   "outputs": [
    {
     "name": "stderr",
     "output_type": "stream",
     "text": [
      "Warning message:\n",
      "“package ‘scater’ is not available for this version of R\n",
      "\n",
      "A version of this package for your version of R might be available elsewhere,\n",
      "see the ideas at\n",
      "https://cran.r-project.org/doc/manuals/r-patched/R-admin.html#Installing-packages”\n"
     ]
    }
   ],
   "source": [
    "install.packages(\"scater\")"
   ]
  },
  {
   "cell_type": "code",
   "execution_count": 1,
   "id": "26a10a32-8417-46e3-a733-804db3bd9631",
   "metadata": {
    "tags": []
   },
   "outputs": [
    {
     "ename": "ERROR",
     "evalue": "Error in library(scater): there is no package called ‘scater’\n",
     "output_type": "error",
     "traceback": [
      "Error in library(scater): there is no package called ‘scater’\nTraceback:\n",
      "1. library(scater)"
     ]
    }
   ],
   "source": [
    "library(scater)"
   ]
  },
  {
   "cell_type": "code",
   "execution_count": 5,
   "id": "468ff875-e030-4f09-86ef-4f9af523b2ab",
   "metadata": {
    "tags": []
   },
   "outputs": [
    {
     "ename": "ERROR",
     "evalue": "Error in library(scater): there is no package called ‘scater’\n",
     "output_type": "error",
     "traceback": [
      "Error in library(scater): there is no package called ‘scater’\nTraceback:\n",
      "1. library(scater)"
     ]
    }
   ],
   "source": [
    "library(scater)\n",
    "library(scran)\n",
    "ct <- as.matrix(read.table(\"counttable_es.txt\",\n",
    "sep = \" \",\n",
    "header = T,\n",
    "row.names = 1,\n",
    "check.names = FALSE))"
   ]
  }
 ],
 "metadata": {
  "kernelspec": {
   "display_name": "IR-4.2",
   "language": "R",
   "name": "ir"
  },
  "language_info": {
   "codemirror_mode": "r",
   "file_extension": ".r",
   "mimetype": "text/x-r-source",
   "name": "R",
   "pygments_lexer": "r",
   "version": "4.2.3"
  }
 },
 "nbformat": 4,
 "nbformat_minor": 5
}
