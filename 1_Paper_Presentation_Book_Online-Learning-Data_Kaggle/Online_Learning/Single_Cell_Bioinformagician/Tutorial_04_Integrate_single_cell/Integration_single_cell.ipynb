{
 "cells": [
  {
   "cell_type": "code",
   "execution_count": 1,
   "id": "0a0e7e53-0f97-42b2-adce-a1b7c646512d",
   "metadata": {
    "tags": []
   },
   "outputs": [
    {
     "name": "stderr",
     "output_type": "stream",
     "text": [
      "The legacy packages maptools, rgdal, and rgeos, underpinning the sp package,\n",
      "which was just loaded, will retire in October 2023.\n",
      "Please refer to R-spatial evolution reports for details, especially\n",
      "https://r-spatial.org/r/2023/05/15/evolution4.html.\n",
      "It may be desirable to make the sf package available;\n",
      "package maintainers should consider adding sf to Suggests:.\n",
      "The sp package is now running under evolution status 2\n",
      "     (status 2 uses the sf package in place of rgdal)\n",
      "\n",
      "Attaching SeuratObject\n",
      "\n",
      "Warning message:\n",
      "“package ‘ggplot2’ was built under R version 4.3.1”\n",
      "Warning message:\n",
      "“package ‘purrr’ was built under R version 4.3.1”\n",
      "── \u001b[1mAttaching core tidyverse packages\u001b[22m ──────────────────────── tidyverse 2.0.0 ──\n",
      "\u001b[32m✔\u001b[39m \u001b[34mdplyr    \u001b[39m 1.1.2     \u001b[32m✔\u001b[39m \u001b[34mreadr    \u001b[39m 2.1.4\n",
      "\u001b[32m✔\u001b[39m \u001b[34mforcats  \u001b[39m 1.0.0     \u001b[32m✔\u001b[39m \u001b[34mstringr  \u001b[39m 1.5.0\n",
      "\u001b[32m✔\u001b[39m \u001b[34mlubridate\u001b[39m 1.9.2     \u001b[32m✔\u001b[39m \u001b[34mtibble   \u001b[39m 3.2.1\n",
      "\u001b[32m✔\u001b[39m \u001b[34mpurrr    \u001b[39m 1.0.2     \u001b[32m✔\u001b[39m \u001b[34mtidyr    \u001b[39m 1.3.0\n",
      "── \u001b[1mConflicts\u001b[22m ────────────────────────────────────────── tidyverse_conflicts() ──\n",
      "\u001b[31m✖\u001b[39m \u001b[34mdplyr\u001b[39m::\u001b[32mfilter()\u001b[39m masks \u001b[34mstats\u001b[39m::filter()\n",
      "\u001b[31m✖\u001b[39m \u001b[34mdplyr\u001b[39m::\u001b[32mlag()\u001b[39m    masks \u001b[34mstats\u001b[39m::lag()\n",
      "\u001b[36mℹ\u001b[39m Use the conflicted package (\u001b[3m\u001b[34m<http://conflicted.r-lib.org/>\u001b[39m\u001b[23m) to force all conflicts to become errors\n",
      "\n",
      "Attaching package: ‘gridExtra’\n",
      "\n",
      "\n",
      "The following object is masked from ‘package:dplyr’:\n",
      "\n",
      "    combine\n",
      "\n",
      "\n"
     ]
    }
   ],
   "source": [
    "# load libraries\n",
    "library(Seurat)\n",
    "library(ggplot2)\n",
    "library(tidyverse)\n",
    "library(gridExtra)"
   ]
  },
  {
   "cell_type": "code",
   "execution_count": 2,
   "id": "a919483a-8490-43b7-8c49-6a115d5e5a10",
   "metadata": {},
   "outputs": [],
   "source": [
    "# get data location\n",
    "dirs <- list.dirs(path = 'data/', recursive = F, full.names = F)\n",
    "\n",
    "for(x in dirs){\n",
    "  name <- gsub('_filtered_feature_bc_matrix','', x)\n",
    "  \n",
    "  cts <- ReadMtx(mtx = paste0('data/',x,'/matrix.mtx.gz'),\n",
    "          features = paste0('data/',x,'/features.tsv.gz'),\n",
    "          cells = paste0('data/',x,'/barcodes.tsv.gz'))\n",
    "  \n",
    "  # create seurat objects\n",
    "  assign(name, CreateSeuratObject(counts = cts))\n",
    "}"
   ]
  },
  {
   "cell_type": "code",
   "execution_count": 3,
   "id": "3d49bfe8-c76c-4af4-b698-5246d9cd7f53",
   "metadata": {
    "tags": []
   },
   "outputs": [
    {
     "data": {
      "text/plain": [
       "An object of class Seurat \n",
       "33538 features across 77936 samples within 1 assay \n",
       "Active assay: RNA (33538 features, 0 variable features)"
      ]
     },
     "metadata": {},
     "output_type": "display_data"
    }
   ],
   "source": [
    "# merge datasets\n",
    "\n",
    "merged_seurat <- merge(HB17_background, y = c(HB17_PDX, HB17_tumor, HB30_PDX, HB30_tumor, HB53_background,\n",
    "                             HB53_tumor),\n",
    "      add.cell.ids = ls()[3:9],\n",
    "      project = 'HB')\n",
    "\n",
    "\n",
    "merged_seurat"
   ]
  },
  {
   "cell_type": "code",
   "execution_count": 4,
   "id": "bd2dd9c1-b7c4-4b63-a024-7300428df28c",
   "metadata": {
    "tags": []
   },
   "outputs": [
    {
     "data": {
      "text/html": [
       "<table class=\"dataframe\">\n",
       "<caption>A data.frame: 77936 × 3</caption>\n",
       "<thead>\n",
       "\t<tr><th></th><th scope=col>orig.ident</th><th scope=col>nCount_RNA</th><th scope=col>nFeature_RNA</th></tr>\n",
       "\t<tr><th></th><th scope=col>&lt;chr&gt;</th><th scope=col>&lt;dbl&gt;</th><th scope=col>&lt;int&gt;</th></tr>\n",
       "</thead>\n",
       "<tbody>\n",
       "\t<tr><th scope=row>HB17_background_AAACCCAAGCACGGAT-1</th><td>SeuratProject</td><td> 1863</td><td> 818</td></tr>\n",
       "\t<tr><th scope=row>HB17_background_AAACCCACAACTGAAA-1</th><td>SeuratProject</td><td> 8974</td><td>2058</td></tr>\n",
       "\t<tr><th scope=row>HB17_background_AAACCCACATTCACCC-1</th><td>SeuratProject</td><td>  790</td><td> 533</td></tr>\n",
       "\t<tr><th scope=row>HB17_background_AAACCCAGTACGGTTT-1</th><td>SeuratProject</td><td> 6579</td><td>2180</td></tr>\n",
       "\t<tr><th scope=row>HB17_background_AAACCCAGTATCGAGG-1</th><td>SeuratProject</td><td> 2507</td><td> 846</td></tr>\n",
       "\t<tr><th scope=row>HB17_background_AAACCCAGTATGAGCG-1</th><td>SeuratProject</td><td> 1803</td><td>1026</td></tr>\n",
       "\t<tr><th scope=row>HB17_background_AAACCCAGTTAGAAGT-1</th><td>SeuratProject</td><td> 2075</td><td>1183</td></tr>\n",
       "\t<tr><th scope=row>HB17_background_AAACCCAGTTCCGCTT-1</th><td>SeuratProject</td><td> 4685</td><td>1812</td></tr>\n",
       "\t<tr><th scope=row>HB17_background_AAACCCAGTTCGGCTG-1</th><td>SeuratProject</td><td>  947</td><td> 627</td></tr>\n",
       "\t<tr><th scope=row>HB17_background_AAACCCATCAAAGAAC-1</th><td>SeuratProject</td><td>  541</td><td> 358</td></tr>\n",
       "\t<tr><th scope=row>HB17_background_AAACCCATCAAGGCTT-1</th><td>SeuratProject</td><td> 4916</td><td>1449</td></tr>\n",
       "\t<tr><th scope=row>HB17_background_AAACCCATCACATACG-1</th><td>SeuratProject</td><td> 3078</td><td> 909</td></tr>\n",
       "\t<tr><th scope=row>HB17_background_AAACCCATCCGCTTAC-1</th><td>SeuratProject</td><td> 6943</td><td>1683</td></tr>\n",
       "\t<tr><th scope=row>HB17_background_AAACCCATCCTTGAAG-1</th><td>SeuratProject</td><td>  593</td><td> 410</td></tr>\n",
       "\t<tr><th scope=row>HB17_background_AAACCCATCGAGTCCG-1</th><td>SeuratProject</td><td> 5347</td><td>1968</td></tr>\n",
       "\t<tr><th scope=row>HB17_background_AAACCCATCGGAAGGT-1</th><td>SeuratProject</td><td> 8233</td><td>2105</td></tr>\n",
       "\t<tr><th scope=row>HB17_background_AAACCCATCGTTGCCT-1</th><td>SeuratProject</td><td>11950</td><td>3560</td></tr>\n",
       "\t<tr><th scope=row>HB17_background_AAACCCATCTACTATC-1</th><td>SeuratProject</td><td> 1403</td><td> 534</td></tr>\n",
       "\t<tr><th scope=row>HB17_background_AAACCCATCTTAGTTC-1</th><td>SeuratProject</td><td> 1773</td><td> 765</td></tr>\n",
       "\t<tr><th scope=row>HB17_background_AAACGAAAGCGTCTGC-1</th><td>SeuratProject</td><td> 2412</td><td>1154</td></tr>\n",
       "\t<tr><th scope=row>HB17_background_AAACGAAAGTCGCTAT-1</th><td>SeuratProject</td><td> 3571</td><td>1077</td></tr>\n",
       "\t<tr><th scope=row>HB17_background_AAACGAACAAACTAAG-1</th><td>SeuratProject</td><td> 7691</td><td>1872</td></tr>\n",
       "\t<tr><th scope=row>HB17_background_AAACGAACAACAGCCC-1</th><td>SeuratProject</td><td> 1393</td><td> 650</td></tr>\n",
       "\t<tr><th scope=row>HB17_background_AAACGAACAAGCCCAC-1</th><td>SeuratProject</td><td> 1559</td><td> 917</td></tr>\n",
       "\t<tr><th scope=row>HB17_background_AAACGAACACAGGATG-1</th><td>SeuratProject</td><td>  736</td><td> 455</td></tr>\n",
       "\t<tr><th scope=row>HB17_background_AAACGAACACATTGTG-1</th><td>SeuratProject</td><td> 1837</td><td> 981</td></tr>\n",
       "\t<tr><th scope=row>HB17_background_AAACGAACACGGCTAC-1</th><td>SeuratProject</td><td> 3234</td><td>1113</td></tr>\n",
       "\t<tr><th scope=row>HB17_background_AAACGAACACTCAAGT-1</th><td>SeuratProject</td><td>  645</td><td> 440</td></tr>\n",
       "\t<tr><th scope=row>HB17_background_AAACGAAGTTAAACCC-1</th><td>SeuratProject</td><td> 1571</td><td> 813</td></tr>\n",
       "\t<tr><th scope=row>HB17_background_AAACGAATCAAGTGTC-1</th><td>SeuratProject</td><td> 1423</td><td> 593</td></tr>\n",
       "\t<tr><th scope=row>⋮</th><td>⋮</td><td>⋮</td><td>⋮</td></tr>\n",
       "\t<tr><th scope=row>HB53_tumor_TTTGGAGGTCATCGCG-1</th><td>SeuratProject</td><td> 1640</td><td>1192</td></tr>\n",
       "\t<tr><th scope=row>HB53_tumor_TTTGGAGGTCTAGATC-1</th><td>SeuratProject</td><td> 7036</td><td>3352</td></tr>\n",
       "\t<tr><th scope=row>HB53_tumor_TTTGGAGTCCCATACC-1</th><td>SeuratProject</td><td>10962</td><td>3716</td></tr>\n",
       "\t<tr><th scope=row>HB53_tumor_TTTGGAGTCCTTCTGG-1</th><td>SeuratProject</td><td>12640</td><td>4696</td></tr>\n",
       "\t<tr><th scope=row>HB53_tumor_TTTGGAGTCTACTCAT-1</th><td>SeuratProject</td><td> 9708</td><td>4023</td></tr>\n",
       "\t<tr><th scope=row>HB53_tumor_TTTGGTTAGACCGCCT-1</th><td>SeuratProject</td><td>13753</td><td>5401</td></tr>\n",
       "\t<tr><th scope=row>HB53_tumor_TTTGGTTAGATAGTGT-1</th><td>SeuratProject</td><td> 7897</td><td>3784</td></tr>\n",
       "\t<tr><th scope=row>HB53_tumor_TTTGGTTAGGAACATT-1</th><td>SeuratProject</td><td> 4705</td><td>2452</td></tr>\n",
       "\t<tr><th scope=row>HB53_tumor_TTTGGTTAGGGTGGGA-1</th><td>SeuratProject</td><td> 2581</td><td>1704</td></tr>\n",
       "\t<tr><th scope=row>HB53_tumor_TTTGGTTAGTCATACC-1</th><td>SeuratProject</td><td> 4859</td><td>2525</td></tr>\n",
       "\t<tr><th scope=row>HB53_tumor_TTTGGTTAGTGTACAA-1</th><td>SeuratProject</td><td> 4293</td><td>2395</td></tr>\n",
       "\t<tr><th scope=row>HB53_tumor_TTTGGTTCACGAAAGC-1</th><td>SeuratProject</td><td> 9768</td><td>4354</td></tr>\n",
       "\t<tr><th scope=row>HB53_tumor_TTTGGTTCACTACAGT-1</th><td>SeuratProject</td><td> 5573</td><td>2810</td></tr>\n",
       "\t<tr><th scope=row>HB53_tumor_TTTGGTTCATCGATAC-1</th><td>SeuratProject</td><td> 4395</td><td>2460</td></tr>\n",
       "\t<tr><th scope=row>HB53_tumor_TTTGGTTCATGCCGAC-1</th><td>SeuratProject</td><td> 1619</td><td>1122</td></tr>\n",
       "\t<tr><th scope=row>HB53_tumor_TTTGGTTGTCGAGTGA-1</th><td>SeuratProject</td><td> 7313</td><td>3635</td></tr>\n",
       "\t<tr><th scope=row>HB53_tumor_TTTGGTTGTCGGAACA-1</th><td>SeuratProject</td><td> 1976</td><td>1334</td></tr>\n",
       "\t<tr><th scope=row>HB53_tumor_TTTGGTTGTTATGTGC-1</th><td>SeuratProject</td><td>13519</td><td>4430</td></tr>\n",
       "\t<tr><th scope=row>HB53_tumor_TTTGGTTTCCCATACC-1</th><td>SeuratProject</td><td>  895</td><td> 704</td></tr>\n",
       "\t<tr><th scope=row>HB53_tumor_TTTGTTGAGATACTGA-1</th><td>SeuratProject</td><td> 2847</td><td>1708</td></tr>\n",
       "\t<tr><th scope=row>HB53_tumor_TTTGTTGAGCGTGCTC-1</th><td>SeuratProject</td><td>17404</td><td>5690</td></tr>\n",
       "\t<tr><th scope=row>HB53_tumor_TTTGTTGCACTCCACT-1</th><td>SeuratProject</td><td>13913</td><td>4768</td></tr>\n",
       "\t<tr><th scope=row>HB53_tumor_TTTGTTGGTAACCAGG-1</th><td>SeuratProject</td><td>14996</td><td>5547</td></tr>\n",
       "\t<tr><th scope=row>HB53_tumor_TTTGTTGGTAAGTCAA-1</th><td>SeuratProject</td><td>19690</td><td>6239</td></tr>\n",
       "\t<tr><th scope=row>HB53_tumor_TTTGTTGGTACGCTAT-1</th><td>SeuratProject</td><td> 1134</td><td> 816</td></tr>\n",
       "\t<tr><th scope=row>HB53_tumor_TTTGTTGGTGCTTATG-1</th><td>SeuratProject</td><td> 5172</td><td>2952</td></tr>\n",
       "\t<tr><th scope=row>HB53_tumor_TTTGTTGGTGGACTGA-1</th><td>SeuratProject</td><td> 8629</td><td>3425</td></tr>\n",
       "\t<tr><th scope=row>HB53_tumor_TTTGTTGGTTCATCTT-1</th><td>SeuratProject</td><td> 2409</td><td>1602</td></tr>\n",
       "\t<tr><th scope=row>HB53_tumor_TTTGTTGGTTTCAGAC-1</th><td>SeuratProject</td><td> 5713</td><td>2766</td></tr>\n",
       "\t<tr><th scope=row>HB53_tumor_TTTGTTGTCTCTAGGA-1</th><td>SeuratProject</td><td>11705</td><td>4241</td></tr>\n",
       "</tbody>\n",
       "</table>\n"
      ],
      "text/latex": [
       "A data.frame: 77936 × 3\n",
       "\\begin{tabular}{r|lll}\n",
       "  & orig.ident & nCount\\_RNA & nFeature\\_RNA\\\\\n",
       "  & <chr> & <dbl> & <int>\\\\\n",
       "\\hline\n",
       "\tHB17\\_background\\_AAACCCAAGCACGGAT-1 & SeuratProject &  1863 &  818\\\\\n",
       "\tHB17\\_background\\_AAACCCACAACTGAAA-1 & SeuratProject &  8974 & 2058\\\\\n",
       "\tHB17\\_background\\_AAACCCACATTCACCC-1 & SeuratProject &   790 &  533\\\\\n",
       "\tHB17\\_background\\_AAACCCAGTACGGTTT-1 & SeuratProject &  6579 & 2180\\\\\n",
       "\tHB17\\_background\\_AAACCCAGTATCGAGG-1 & SeuratProject &  2507 &  846\\\\\n",
       "\tHB17\\_background\\_AAACCCAGTATGAGCG-1 & SeuratProject &  1803 & 1026\\\\\n",
       "\tHB17\\_background\\_AAACCCAGTTAGAAGT-1 & SeuratProject &  2075 & 1183\\\\\n",
       "\tHB17\\_background\\_AAACCCAGTTCCGCTT-1 & SeuratProject &  4685 & 1812\\\\\n",
       "\tHB17\\_background\\_AAACCCAGTTCGGCTG-1 & SeuratProject &   947 &  627\\\\\n",
       "\tHB17\\_background\\_AAACCCATCAAAGAAC-1 & SeuratProject &   541 &  358\\\\\n",
       "\tHB17\\_background\\_AAACCCATCAAGGCTT-1 & SeuratProject &  4916 & 1449\\\\\n",
       "\tHB17\\_background\\_AAACCCATCACATACG-1 & SeuratProject &  3078 &  909\\\\\n",
       "\tHB17\\_background\\_AAACCCATCCGCTTAC-1 & SeuratProject &  6943 & 1683\\\\\n",
       "\tHB17\\_background\\_AAACCCATCCTTGAAG-1 & SeuratProject &   593 &  410\\\\\n",
       "\tHB17\\_background\\_AAACCCATCGAGTCCG-1 & SeuratProject &  5347 & 1968\\\\\n",
       "\tHB17\\_background\\_AAACCCATCGGAAGGT-1 & SeuratProject &  8233 & 2105\\\\\n",
       "\tHB17\\_background\\_AAACCCATCGTTGCCT-1 & SeuratProject & 11950 & 3560\\\\\n",
       "\tHB17\\_background\\_AAACCCATCTACTATC-1 & SeuratProject &  1403 &  534\\\\\n",
       "\tHB17\\_background\\_AAACCCATCTTAGTTC-1 & SeuratProject &  1773 &  765\\\\\n",
       "\tHB17\\_background\\_AAACGAAAGCGTCTGC-1 & SeuratProject &  2412 & 1154\\\\\n",
       "\tHB17\\_background\\_AAACGAAAGTCGCTAT-1 & SeuratProject &  3571 & 1077\\\\\n",
       "\tHB17\\_background\\_AAACGAACAAACTAAG-1 & SeuratProject &  7691 & 1872\\\\\n",
       "\tHB17\\_background\\_AAACGAACAACAGCCC-1 & SeuratProject &  1393 &  650\\\\\n",
       "\tHB17\\_background\\_AAACGAACAAGCCCAC-1 & SeuratProject &  1559 &  917\\\\\n",
       "\tHB17\\_background\\_AAACGAACACAGGATG-1 & SeuratProject &   736 &  455\\\\\n",
       "\tHB17\\_background\\_AAACGAACACATTGTG-1 & SeuratProject &  1837 &  981\\\\\n",
       "\tHB17\\_background\\_AAACGAACACGGCTAC-1 & SeuratProject &  3234 & 1113\\\\\n",
       "\tHB17\\_background\\_AAACGAACACTCAAGT-1 & SeuratProject &   645 &  440\\\\\n",
       "\tHB17\\_background\\_AAACGAAGTTAAACCC-1 & SeuratProject &  1571 &  813\\\\\n",
       "\tHB17\\_background\\_AAACGAATCAAGTGTC-1 & SeuratProject &  1423 &  593\\\\\n",
       "\t⋮ & ⋮ & ⋮ & ⋮\\\\\n",
       "\tHB53\\_tumor\\_TTTGGAGGTCATCGCG-1 & SeuratProject &  1640 & 1192\\\\\n",
       "\tHB53\\_tumor\\_TTTGGAGGTCTAGATC-1 & SeuratProject &  7036 & 3352\\\\\n",
       "\tHB53\\_tumor\\_TTTGGAGTCCCATACC-1 & SeuratProject & 10962 & 3716\\\\\n",
       "\tHB53\\_tumor\\_TTTGGAGTCCTTCTGG-1 & SeuratProject & 12640 & 4696\\\\\n",
       "\tHB53\\_tumor\\_TTTGGAGTCTACTCAT-1 & SeuratProject &  9708 & 4023\\\\\n",
       "\tHB53\\_tumor\\_TTTGGTTAGACCGCCT-1 & SeuratProject & 13753 & 5401\\\\\n",
       "\tHB53\\_tumor\\_TTTGGTTAGATAGTGT-1 & SeuratProject &  7897 & 3784\\\\\n",
       "\tHB53\\_tumor\\_TTTGGTTAGGAACATT-1 & SeuratProject &  4705 & 2452\\\\\n",
       "\tHB53\\_tumor\\_TTTGGTTAGGGTGGGA-1 & SeuratProject &  2581 & 1704\\\\\n",
       "\tHB53\\_tumor\\_TTTGGTTAGTCATACC-1 & SeuratProject &  4859 & 2525\\\\\n",
       "\tHB53\\_tumor\\_TTTGGTTAGTGTACAA-1 & SeuratProject &  4293 & 2395\\\\\n",
       "\tHB53\\_tumor\\_TTTGGTTCACGAAAGC-1 & SeuratProject &  9768 & 4354\\\\\n",
       "\tHB53\\_tumor\\_TTTGGTTCACTACAGT-1 & SeuratProject &  5573 & 2810\\\\\n",
       "\tHB53\\_tumor\\_TTTGGTTCATCGATAC-1 & SeuratProject &  4395 & 2460\\\\\n",
       "\tHB53\\_tumor\\_TTTGGTTCATGCCGAC-1 & SeuratProject &  1619 & 1122\\\\\n",
       "\tHB53\\_tumor\\_TTTGGTTGTCGAGTGA-1 & SeuratProject &  7313 & 3635\\\\\n",
       "\tHB53\\_tumor\\_TTTGGTTGTCGGAACA-1 & SeuratProject &  1976 & 1334\\\\\n",
       "\tHB53\\_tumor\\_TTTGGTTGTTATGTGC-1 & SeuratProject & 13519 & 4430\\\\\n",
       "\tHB53\\_tumor\\_TTTGGTTTCCCATACC-1 & SeuratProject &   895 &  704\\\\\n",
       "\tHB53\\_tumor\\_TTTGTTGAGATACTGA-1 & SeuratProject &  2847 & 1708\\\\\n",
       "\tHB53\\_tumor\\_TTTGTTGAGCGTGCTC-1 & SeuratProject & 17404 & 5690\\\\\n",
       "\tHB53\\_tumor\\_TTTGTTGCACTCCACT-1 & SeuratProject & 13913 & 4768\\\\\n",
       "\tHB53\\_tumor\\_TTTGTTGGTAACCAGG-1 & SeuratProject & 14996 & 5547\\\\\n",
       "\tHB53\\_tumor\\_TTTGTTGGTAAGTCAA-1 & SeuratProject & 19690 & 6239\\\\\n",
       "\tHB53\\_tumor\\_TTTGTTGGTACGCTAT-1 & SeuratProject &  1134 &  816\\\\\n",
       "\tHB53\\_tumor\\_TTTGTTGGTGCTTATG-1 & SeuratProject &  5172 & 2952\\\\\n",
       "\tHB53\\_tumor\\_TTTGTTGGTGGACTGA-1 & SeuratProject &  8629 & 3425\\\\\n",
       "\tHB53\\_tumor\\_TTTGTTGGTTCATCTT-1 & SeuratProject &  2409 & 1602\\\\\n",
       "\tHB53\\_tumor\\_TTTGTTGGTTTCAGAC-1 & SeuratProject &  5713 & 2766\\\\\n",
       "\tHB53\\_tumor\\_TTTGTTGTCTCTAGGA-1 & SeuratProject & 11705 & 4241\\\\\n",
       "\\end{tabular}\n"
      ],
      "text/markdown": [
       "\n",
       "A data.frame: 77936 × 3\n",
       "\n",
       "| <!--/--> | orig.ident &lt;chr&gt; | nCount_RNA &lt;dbl&gt; | nFeature_RNA &lt;int&gt; |\n",
       "|---|---|---|---|\n",
       "| HB17_background_AAACCCAAGCACGGAT-1 | SeuratProject |  1863 |  818 |\n",
       "| HB17_background_AAACCCACAACTGAAA-1 | SeuratProject |  8974 | 2058 |\n",
       "| HB17_background_AAACCCACATTCACCC-1 | SeuratProject |   790 |  533 |\n",
       "| HB17_background_AAACCCAGTACGGTTT-1 | SeuratProject |  6579 | 2180 |\n",
       "| HB17_background_AAACCCAGTATCGAGG-1 | SeuratProject |  2507 |  846 |\n",
       "| HB17_background_AAACCCAGTATGAGCG-1 | SeuratProject |  1803 | 1026 |\n",
       "| HB17_background_AAACCCAGTTAGAAGT-1 | SeuratProject |  2075 | 1183 |\n",
       "| HB17_background_AAACCCAGTTCCGCTT-1 | SeuratProject |  4685 | 1812 |\n",
       "| HB17_background_AAACCCAGTTCGGCTG-1 | SeuratProject |   947 |  627 |\n",
       "| HB17_background_AAACCCATCAAAGAAC-1 | SeuratProject |   541 |  358 |\n",
       "| HB17_background_AAACCCATCAAGGCTT-1 | SeuratProject |  4916 | 1449 |\n",
       "| HB17_background_AAACCCATCACATACG-1 | SeuratProject |  3078 |  909 |\n",
       "| HB17_background_AAACCCATCCGCTTAC-1 | SeuratProject |  6943 | 1683 |\n",
       "| HB17_background_AAACCCATCCTTGAAG-1 | SeuratProject |   593 |  410 |\n",
       "| HB17_background_AAACCCATCGAGTCCG-1 | SeuratProject |  5347 | 1968 |\n",
       "| HB17_background_AAACCCATCGGAAGGT-1 | SeuratProject |  8233 | 2105 |\n",
       "| HB17_background_AAACCCATCGTTGCCT-1 | SeuratProject | 11950 | 3560 |\n",
       "| HB17_background_AAACCCATCTACTATC-1 | SeuratProject |  1403 |  534 |\n",
       "| HB17_background_AAACCCATCTTAGTTC-1 | SeuratProject |  1773 |  765 |\n",
       "| HB17_background_AAACGAAAGCGTCTGC-1 | SeuratProject |  2412 | 1154 |\n",
       "| HB17_background_AAACGAAAGTCGCTAT-1 | SeuratProject |  3571 | 1077 |\n",
       "| HB17_background_AAACGAACAAACTAAG-1 | SeuratProject |  7691 | 1872 |\n",
       "| HB17_background_AAACGAACAACAGCCC-1 | SeuratProject |  1393 |  650 |\n",
       "| HB17_background_AAACGAACAAGCCCAC-1 | SeuratProject |  1559 |  917 |\n",
       "| HB17_background_AAACGAACACAGGATG-1 | SeuratProject |   736 |  455 |\n",
       "| HB17_background_AAACGAACACATTGTG-1 | SeuratProject |  1837 |  981 |\n",
       "| HB17_background_AAACGAACACGGCTAC-1 | SeuratProject |  3234 | 1113 |\n",
       "| HB17_background_AAACGAACACTCAAGT-1 | SeuratProject |   645 |  440 |\n",
       "| HB17_background_AAACGAAGTTAAACCC-1 | SeuratProject |  1571 |  813 |\n",
       "| HB17_background_AAACGAATCAAGTGTC-1 | SeuratProject |  1423 |  593 |\n",
       "| ⋮ | ⋮ | ⋮ | ⋮ |\n",
       "| HB53_tumor_TTTGGAGGTCATCGCG-1 | SeuratProject |  1640 | 1192 |\n",
       "| HB53_tumor_TTTGGAGGTCTAGATC-1 | SeuratProject |  7036 | 3352 |\n",
       "| HB53_tumor_TTTGGAGTCCCATACC-1 | SeuratProject | 10962 | 3716 |\n",
       "| HB53_tumor_TTTGGAGTCCTTCTGG-1 | SeuratProject | 12640 | 4696 |\n",
       "| HB53_tumor_TTTGGAGTCTACTCAT-1 | SeuratProject |  9708 | 4023 |\n",
       "| HB53_tumor_TTTGGTTAGACCGCCT-1 | SeuratProject | 13753 | 5401 |\n",
       "| HB53_tumor_TTTGGTTAGATAGTGT-1 | SeuratProject |  7897 | 3784 |\n",
       "| HB53_tumor_TTTGGTTAGGAACATT-1 | SeuratProject |  4705 | 2452 |\n",
       "| HB53_tumor_TTTGGTTAGGGTGGGA-1 | SeuratProject |  2581 | 1704 |\n",
       "| HB53_tumor_TTTGGTTAGTCATACC-1 | SeuratProject |  4859 | 2525 |\n",
       "| HB53_tumor_TTTGGTTAGTGTACAA-1 | SeuratProject |  4293 | 2395 |\n",
       "| HB53_tumor_TTTGGTTCACGAAAGC-1 | SeuratProject |  9768 | 4354 |\n",
       "| HB53_tumor_TTTGGTTCACTACAGT-1 | SeuratProject |  5573 | 2810 |\n",
       "| HB53_tumor_TTTGGTTCATCGATAC-1 | SeuratProject |  4395 | 2460 |\n",
       "| HB53_tumor_TTTGGTTCATGCCGAC-1 | SeuratProject |  1619 | 1122 |\n",
       "| HB53_tumor_TTTGGTTGTCGAGTGA-1 | SeuratProject |  7313 | 3635 |\n",
       "| HB53_tumor_TTTGGTTGTCGGAACA-1 | SeuratProject |  1976 | 1334 |\n",
       "| HB53_tumor_TTTGGTTGTTATGTGC-1 | SeuratProject | 13519 | 4430 |\n",
       "| HB53_tumor_TTTGGTTTCCCATACC-1 | SeuratProject |   895 |  704 |\n",
       "| HB53_tumor_TTTGTTGAGATACTGA-1 | SeuratProject |  2847 | 1708 |\n",
       "| HB53_tumor_TTTGTTGAGCGTGCTC-1 | SeuratProject | 17404 | 5690 |\n",
       "| HB53_tumor_TTTGTTGCACTCCACT-1 | SeuratProject | 13913 | 4768 |\n",
       "| HB53_tumor_TTTGTTGGTAACCAGG-1 | SeuratProject | 14996 | 5547 |\n",
       "| HB53_tumor_TTTGTTGGTAAGTCAA-1 | SeuratProject | 19690 | 6239 |\n",
       "| HB53_tumor_TTTGTTGGTACGCTAT-1 | SeuratProject |  1134 |  816 |\n",
       "| HB53_tumor_TTTGTTGGTGCTTATG-1 | SeuratProject |  5172 | 2952 |\n",
       "| HB53_tumor_TTTGTTGGTGGACTGA-1 | SeuratProject |  8629 | 3425 |\n",
       "| HB53_tumor_TTTGTTGGTTCATCTT-1 | SeuratProject |  2409 | 1602 |\n",
       "| HB53_tumor_TTTGTTGGTTTCAGAC-1 | SeuratProject |  5713 | 2766 |\n",
       "| HB53_tumor_TTTGTTGTCTCTAGGA-1 | SeuratProject | 11705 | 4241 |\n",
       "\n"
      ],
      "text/plain": [
       "                                   orig.ident    nCount_RNA nFeature_RNA\n",
       "HB17_background_AAACCCAAGCACGGAT-1 SeuratProject  1863       818        \n",
       "HB17_background_AAACCCACAACTGAAA-1 SeuratProject  8974      2058        \n",
       "HB17_background_AAACCCACATTCACCC-1 SeuratProject   790       533        \n",
       "HB17_background_AAACCCAGTACGGTTT-1 SeuratProject  6579      2180        \n",
       "HB17_background_AAACCCAGTATCGAGG-1 SeuratProject  2507       846        \n",
       "HB17_background_AAACCCAGTATGAGCG-1 SeuratProject  1803      1026        \n",
       "HB17_background_AAACCCAGTTAGAAGT-1 SeuratProject  2075      1183        \n",
       "HB17_background_AAACCCAGTTCCGCTT-1 SeuratProject  4685      1812        \n",
       "HB17_background_AAACCCAGTTCGGCTG-1 SeuratProject   947       627        \n",
       "HB17_background_AAACCCATCAAAGAAC-1 SeuratProject   541       358        \n",
       "HB17_background_AAACCCATCAAGGCTT-1 SeuratProject  4916      1449        \n",
       "HB17_background_AAACCCATCACATACG-1 SeuratProject  3078       909        \n",
       "HB17_background_AAACCCATCCGCTTAC-1 SeuratProject  6943      1683        \n",
       "HB17_background_AAACCCATCCTTGAAG-1 SeuratProject   593       410        \n",
       "HB17_background_AAACCCATCGAGTCCG-1 SeuratProject  5347      1968        \n",
       "HB17_background_AAACCCATCGGAAGGT-1 SeuratProject  8233      2105        \n",
       "HB17_background_AAACCCATCGTTGCCT-1 SeuratProject 11950      3560        \n",
       "HB17_background_AAACCCATCTACTATC-1 SeuratProject  1403       534        \n",
       "HB17_background_AAACCCATCTTAGTTC-1 SeuratProject  1773       765        \n",
       "HB17_background_AAACGAAAGCGTCTGC-1 SeuratProject  2412      1154        \n",
       "HB17_background_AAACGAAAGTCGCTAT-1 SeuratProject  3571      1077        \n",
       "HB17_background_AAACGAACAAACTAAG-1 SeuratProject  7691      1872        \n",
       "HB17_background_AAACGAACAACAGCCC-1 SeuratProject  1393       650        \n",
       "HB17_background_AAACGAACAAGCCCAC-1 SeuratProject  1559       917        \n",
       "HB17_background_AAACGAACACAGGATG-1 SeuratProject   736       455        \n",
       "HB17_background_AAACGAACACATTGTG-1 SeuratProject  1837       981        \n",
       "HB17_background_AAACGAACACGGCTAC-1 SeuratProject  3234      1113        \n",
       "HB17_background_AAACGAACACTCAAGT-1 SeuratProject   645       440        \n",
       "HB17_background_AAACGAAGTTAAACCC-1 SeuratProject  1571       813        \n",
       "HB17_background_AAACGAATCAAGTGTC-1 SeuratProject  1423       593        \n",
       "⋮                                  ⋮             ⋮          ⋮           \n",
       "HB53_tumor_TTTGGAGGTCATCGCG-1      SeuratProject  1640      1192        \n",
       "HB53_tumor_TTTGGAGGTCTAGATC-1      SeuratProject  7036      3352        \n",
       "HB53_tumor_TTTGGAGTCCCATACC-1      SeuratProject 10962      3716        \n",
       "HB53_tumor_TTTGGAGTCCTTCTGG-1      SeuratProject 12640      4696        \n",
       "HB53_tumor_TTTGGAGTCTACTCAT-1      SeuratProject  9708      4023        \n",
       "HB53_tumor_TTTGGTTAGACCGCCT-1      SeuratProject 13753      5401        \n",
       "HB53_tumor_TTTGGTTAGATAGTGT-1      SeuratProject  7897      3784        \n",
       "HB53_tumor_TTTGGTTAGGAACATT-1      SeuratProject  4705      2452        \n",
       "HB53_tumor_TTTGGTTAGGGTGGGA-1      SeuratProject  2581      1704        \n",
       "HB53_tumor_TTTGGTTAGTCATACC-1      SeuratProject  4859      2525        \n",
       "HB53_tumor_TTTGGTTAGTGTACAA-1      SeuratProject  4293      2395        \n",
       "HB53_tumor_TTTGGTTCACGAAAGC-1      SeuratProject  9768      4354        \n",
       "HB53_tumor_TTTGGTTCACTACAGT-1      SeuratProject  5573      2810        \n",
       "HB53_tumor_TTTGGTTCATCGATAC-1      SeuratProject  4395      2460        \n",
       "HB53_tumor_TTTGGTTCATGCCGAC-1      SeuratProject  1619      1122        \n",
       "HB53_tumor_TTTGGTTGTCGAGTGA-1      SeuratProject  7313      3635        \n",
       "HB53_tumor_TTTGGTTGTCGGAACA-1      SeuratProject  1976      1334        \n",
       "HB53_tumor_TTTGGTTGTTATGTGC-1      SeuratProject 13519      4430        \n",
       "HB53_tumor_TTTGGTTTCCCATACC-1      SeuratProject   895       704        \n",
       "HB53_tumor_TTTGTTGAGATACTGA-1      SeuratProject  2847      1708        \n",
       "HB53_tumor_TTTGTTGAGCGTGCTC-1      SeuratProject 17404      5690        \n",
       "HB53_tumor_TTTGTTGCACTCCACT-1      SeuratProject 13913      4768        \n",
       "HB53_tumor_TTTGTTGGTAACCAGG-1      SeuratProject 14996      5547        \n",
       "HB53_tumor_TTTGTTGGTAAGTCAA-1      SeuratProject 19690      6239        \n",
       "HB53_tumor_TTTGTTGGTACGCTAT-1      SeuratProject  1134       816        \n",
       "HB53_tumor_TTTGTTGGTGCTTATG-1      SeuratProject  5172      2952        \n",
       "HB53_tumor_TTTGTTGGTGGACTGA-1      SeuratProject  8629      3425        \n",
       "HB53_tumor_TTTGTTGGTTCATCTT-1      SeuratProject  2409      1602        \n",
       "HB53_tumor_TTTGTTGGTTTCAGAC-1      SeuratProject  5713      2766        \n",
       "HB53_tumor_TTTGTTGTCTCTAGGA-1      SeuratProject 11705      4241        "
      ]
     },
     "metadata": {},
     "output_type": "display_data"
    }
   ],
   "source": [
    "# QC & filtering -----------------------\n",
    "\n",
    "View(merged_seurat@meta.data)"
   ]
  },
  {
   "cell_type": "code",
   "execution_count": 5,
   "id": "800bf949-294d-4a6c-ae76-11b90abecb79",
   "metadata": {
    "tags": []
   },
   "outputs": [],
   "source": [
    "# create a sample column\n",
    "merged_seurat$sample <- rownames(merged_seurat@meta.data)"
   ]
  },
  {
   "cell_type": "code",
   "execution_count": 6,
   "id": "ce699bdb-8de5-4db9-ad9c-ce1e54e7060d",
   "metadata": {
    "tags": []
   },
   "outputs": [],
   "source": [
    "# split sample column\n",
    "merged_seurat@meta.data <- separate(merged_seurat@meta.data, col = 'sample', into = c('Patient', 'Type', 'Barcode'), \n",
    "         sep = '_')"
   ]
  },
  {
   "cell_type": "code",
   "execution_count": 7,
   "id": "c42bc7c7-c42b-491e-a03f-709a800a7d06",
   "metadata": {
    "tags": []
   },
   "outputs": [],
   "source": [
    "# calculate mitochondrial percentage\n",
    "merged_seurat$mitoPercent <- PercentageFeatureSet(merged_seurat, pattern='^MT-')"
   ]
  },
  {
   "cell_type": "code",
   "execution_count": 8,
   "id": "e7529da2-413f-4e38-8ac5-763acaef6f51",
   "metadata": {
    "tags": []
   },
   "outputs": [
    {
     "data": {
      "text/plain": [
       "An object of class Seurat \n",
       "33538 features across 67851 samples within 1 assay \n",
       "Active assay: RNA (33538 features, 0 variable features)"
      ]
     },
     "metadata": {},
     "output_type": "display_data"
    },
    {
     "data": {
      "text/plain": [
       "An object of class Seurat \n",
       "33538 features across 77936 samples within 1 assay \n",
       "Active assay: RNA (33538 features, 0 variable features)"
      ]
     },
     "metadata": {},
     "output_type": "display_data"
    }
   ],
   "source": [
    "# filtering\n",
    "merged_seurat_filtered <- subset(merged_seurat, subset = nCount_RNA > 800 &\n",
    "         nFeature_RNA > 500 &\n",
    "         mitoPercent < 10)\n",
    "\n",
    "merged_seurat_filtered\n",
    "\n",
    "merged_seurat"
   ]
  },
  {
   "cell_type": "code",
   "execution_count": 9,
   "id": "091996ff-ea0b-4f5b-800b-d85df51e54d8",
   "metadata": {
    "tags": []
   },
   "outputs": [
    {
     "name": "stderr",
     "output_type": "stream",
     "text": [
      "Centering and scaling data matrix\n",
      "\n",
      "PC_ 1 \n",
      "Positive:  NKD1, HMGA2, AC016205.1, FRAS1, HS3ST4, KIZ, MBNL3, DCDC2, PEG10, AFP \n",
      "\t   HUNK, HS3ST5, TSPAN5, AC073050.1, FTL, LGR5, SERPINE2, NRXN3, HDAC2-AS2, DOK6 \n",
      "\t   SNAP25-AS1, TOP2A, MT-CO3, PIP5K1B, KCNQ1, DLGAP1, MME, KITLG, PLCB4, ADAM23 \n",
      "Negative:  CRP, ABLIM3, CYP2B6, NNMT, ABCB11, C9, CYP3A4, NAMPT, CP, NRG1 \n",
      "\t   AP002518.2, ADRA1A, SLC1A1, GHR, SDS, TCAF2, LINC01348, LINC02197, BCO2, LURAP1L \n",
      "\t   PALM2-AKAP2, FGF14, GYS2, TGM2, ABCC3, CYP2C9, SERPINE1, AC016831.7, ACSL1, ALDH1A2 \n",
      "PC_ 2 \n",
      "Positive:  TCF4, FLI1, MEF2C, ZEB2, SFMBT2, SLC9A9, ST6GALNAC3, COL4A2, PTPRB, PLXDC2 \n",
      "\t   SLC8A1, MRC1, COL4A1, LDB2, PTPRE, FAM49A, ITPKB, ARHGAP31, FLT1, IRAK3 \n",
      "\t   LIMCH1, LRRK1, CELF2, PRKCH, AKT3, SRGAP1, ERG, EGFL7, ETS1, MS4A6A \n",
      "Negative:  NKD1, ARHGEF10L, PCSK6, AL139383.1, SNAP25-AS1, DCDC2, HMGA2, MBNL3, SMOC1, FRAS1 \n",
      "\t   NEDD4L, LGR5, HS3ST5, LIN7A, SLC2A14, TPST1, LINC02532, AC092142.1, CUX2, CASC9 \n",
      "\t   KIZ, GPT2, HDAC2-AS2, SNAP25, ADGRG6, ACACB, SPTLC3, PKHD1, BHMT, ZBTB7C \n",
      "PC_ 3 \n",
      "Positive:  CPS1, FTL, FGL1, FGA, PEG10, FGG, SPP2, KCNT2, GC, DPYS \n",
      "\t   CYP2E1, F13B, RELN, SLC22A9, AFP, ADH1A, AKR1C1, GPX2, PLCG2, C3 \n",
      "\t   CFH, AFM, IL1RAPL1, AC098617.1, AKR1C3, MYOM1, LINC02499, NR1H4, AOX1, CYP3A7 \n",
      "Negative:  HS3ST4, RASGRF2, PDE4D, AC073050.1, TSPAN5, DOK6, NKD1, NXN, STPG2, KIZ \n",
      "\t   PLCB4, ARL17B, SOX6, PIP5K1B, RGPD1, HUNK, MYH7B, AC116049.2, TBX5, DLGAP1 \n",
      "\t   AGBL4, AC009271.1, OSBPL10, FBXL7, DCDC2, CST4, FGFR1, TACC1, HMGA2, CTBP2 \n",
      "PC_ 4 \n",
      "Positive:  IGFBP1, AFP, IGFBP2, HSPA1A, AKR1C4, LINC02055, CP, HAL, PREX2, MT-CO3 \n",
      "\t   NNMT, SERPINE1, FST, CRP, TAT, AC010127.1, AZGP1, PPARGC1A, CYP2B6, SDS \n",
      "\t   GDA, SAA1, GOT1, TRH, ADGRL2, MTRNR2L12, NLGN4Y, CYP2C8, SLC1A1, TXNIP \n",
      "Negative:  DPP10, CPA6, SNAP25-AS1, AC114812.2, LINC02499, LINC01446, ROBO2, AFF3, MIR646HG, RHOBTB1 \n",
      "\t   U91319.1, AFM, PVT1, KCNU1, SNAP25, SULT1E1, HTR4, AC097478.1, RELN, JAZF1 \n",
      "\t   LINC00907, GPX2, AC233296.1, NRXN3, AKR1C2, LINC00616, DTNA, PALLD, SLC44A5, NR1H4 \n",
      "PC_ 5 \n",
      "Positive:  MT-ATP6, MT-ND1, MT-ND4, MT-CO1, MT-ND3, MT-CO3, CST4, APOC3, PLA2G2A, AC116049.2 \n",
      "\t   MT-CO2, DOCK2, PTPRC, PIK3R5, ENPP2, STPG2, AOAH, ARL17B, AGBL4, MSR1 \n",
      "\t   FYB1, MT-ND2, TBX5, PGC, FGD2, PRKCB, AC006206.2, MT-ND4L, CES1, AC009271.1 \n",
      "Negative:  LINC02055, PBX1, FSIP2, AC104041.1, NTM, TMEFF2, CACHD1, AC098617.1, EPHA6, SHISA6 \n",
      "\t   ADAM23, AC012368.1, KIF26B, FHOD3, PLD5, NLGN4Y, PREX2, GRIK2, CCDC148, LDB2 \n",
      "\t   VCAN-AS1, KCNT2, KIAA1211, AC010127.1, SNTG2, KCNIP4, SH3RF3, ATRNL1, GAD1, AC019068.1 \n",
      "\n",
      "Computing nearest neighbor graph\n",
      "\n",
      "Computing SNN\n",
      "\n"
     ]
    },
    {
     "name": "stdout",
     "output_type": "stream",
     "text": [
      "Modularity Optimizer version 1.3.0 by Ludo Waltman and Nees Jan van Eck\n",
      "\n",
      "Number of nodes: 67851\n",
      "Number of edges: 2359599\n",
      "\n",
      "Running Louvain algorithm...\n",
      "Maximum modularity in 10 random starts: 0.9401\n",
      "Number of communities: 38\n",
      "Elapsed time: 18 seconds\n"
     ]
    },
    {
     "name": "stderr",
     "output_type": "stream",
     "text": [
      "Warning message:\n",
      "“The default method for RunUMAP has changed from calling Python UMAP via reticulate to the R-native UWOT using the cosine metric\n",
      "To use Python UMAP via reticulate, set umap.method to 'umap-learn' and metric to 'correlation'\n",
      "This message will be shown once per session”\n",
      "11:58:52 UMAP embedding parameters a = 0.9922 b = 1.112\n",
      "\n",
      "11:58:52 Read 67851 rows and found 20 numeric columns\n",
      "\n",
      "11:58:52 Using Annoy for neighbor search, n_neighbors = 30\n",
      "\n",
      "11:58:52 Building Annoy index with metric = cosine, n_trees = 50\n",
      "\n",
      "0%   10   20   30   40   50   60   70   80   90   100%\n",
      "\n",
      "[----|----|----|----|----|----|----|----|----|----|\n",
      "\n",
      "*\n",
      "*\n",
      "*\n",
      "*\n",
      "*\n",
      "*\n",
      "*\n",
      "*\n",
      "*\n",
      "*\n",
      "*\n",
      "*\n",
      "*\n",
      "*\n",
      "*\n",
      "*\n",
      "*\n",
      "*\n",
      "*\n",
      "*\n",
      "*\n",
      "*\n",
      "*\n",
      "*\n",
      "*\n",
      "*\n",
      "*\n",
      "*\n",
      "*\n",
      "*\n",
      "*\n",
      "*\n",
      "*\n",
      "*\n",
      "*\n",
      "*\n",
      "*\n",
      "*\n",
      "*\n",
      "*\n",
      "*\n",
      "*\n",
      "*\n",
      "*\n",
      "*\n",
      "*\n",
      "*\n",
      "*\n",
      "*\n",
      "*\n",
      "|\n",
      "\n",
      "11:58:57 Writing NN index file to temp file /tmp/RtmpQnBABc/file645e63c479e36\n",
      "\n",
      "11:58:57 Searching Annoy index using 1 thread, search_k = 3000\n",
      "\n",
      "11:59:16 Annoy recall = 100%\n",
      "\n",
      "11:59:16 Commencing smooth kNN distance calibration using 1 thread\n",
      " with target n_neighbors = 30\n",
      "\n",
      "11:59:18 Initializing from normalized Laplacian + noise (using irlba)\n",
      "\n",
      "11:59:33 Commencing optimization for 200 epochs, with 2974796 positive edges\n",
      "\n",
      "11:59:55 Optimization finished\n",
      "\n"
     ]
    },
    {
     "data": {
      "image/png": "[encoded data removed]",
      "text/plain": [
       "plot without title"
      ]
     },
     "metadata": {
      "image/png": {
       "height": 420,
       "width": 420
      }
     },
     "output_type": "display_data"
    }
   ],
   "source": [
    "# perform standard workflow steps to figure out if we see any batch effects --------\n",
    "merged_seurat_filtered <- NormalizeData(object = merged_seurat_filtered)\n",
    "merged_seurat_filtered <- FindVariableFeatures(object = merged_seurat_filtered)\n",
    "merged_seurat_filtered <- ScaleData(object = merged_seurat_filtered)\n",
    "merged_seurat_filtered <- RunPCA(object = merged_seurat_filtered)\n",
    "ElbowPlot(merged_seurat_filtered)\n",
    "merged_seurat_filtered <- FindNeighbors(object = merged_seurat_filtered, dims = 1:20)\n",
    "merged_seurat_filtered <- FindClusters(object = merged_seurat_filtered)\n",
    "merged_seurat_filtered <- RunUMAP(object = merged_seurat_filtered, dims = 1:20)\n"
   ]
  },
  {
   "cell_type": "code",
   "execution_count": 10,
   "id": "84180691-01bc-4a82-a740-2bc9c80b3cd0",
   "metadata": {},
   "outputs": [
    {
     "data": {
      "image/png": "[encoded data removed]",
      "text/plain": [
       "plot without title"
      ]
     },
     "metadata": {
      "image/png": {
       "height": 420,
       "width": 420
      }
     },
     "output_type": "display_data"
    }
   ],
   "source": [
    "# plot\n",
    "p1 <- DimPlot(merged_seurat_filtered, reduction = 'umap', group.by = 'Patient')\n",
    "p2 <- DimPlot(merged_seurat_filtered, reduction = 'umap', group.by = 'Type',\n",
    "        cols = c('red','green','blue'))\n",
    "\n",
    "grid.arrange(p1, p2, ncol = 2, nrow = 2)"
   ]
  },
  {
   "cell_type": "code",
   "execution_count": null,
   "id": "30ccf0a1-229a-44db-9146-c07d54a16e62",
   "metadata": {},
   "outputs": [],
   "source": [
    "# perform integration to correct for batch effects ------\n",
    "obj.list <- SplitObject(merged_seurat_filtered, split.by = 'Patient')\n",
    "for(i in 1:length(obj.list)){\n",
    "  obj.list[[i]] <- NormalizeData(object = obj.list[[i]])\n",
    "  obj.list[[i]] <- FindVariableFeatures(object = obj.list[[i]])\n",
    "}\n"
   ]
  },
  {
   "cell_type": "code",
   "execution_count": null,
   "id": "bb284ebf-6d16-454f-af37-442953a2fdbe",
   "metadata": {},
   "outputs": [],
   "source": [
    "# select integration features\n",
    "features <- SelectIntegrationFeatures(object.list = obj.list)"
   ]
  },
  {
   "cell_type": "code",
   "execution_count": null,
   "id": "5928f64c-df91-4f6c-986d-89cb8fe93815",
   "metadata": {},
   "outputs": [],
   "source": [
    "# find integration anchors (CCA)\n",
    "anchors <- FindIntegrationAnchors(object.list = obj.list,\n",
    "                       anchor.features = features)"
   ]
  },
  {
   "cell_type": "code",
   "execution_count": null,
   "id": "45c6cc37-98ec-438e-b665-d2c14b97e5ab",
   "metadata": {},
   "outputs": [],
   "source": [
    "# Scale data, run PCA and UMAP and visualize integrated data\n",
    "seurat.integrated <- ScaleData(object = seurat.integrated)\n",
    "seurat.integrated <- RunPCA(object = seurat.integrated)\n",
    "seurat.integrated <- RunUMAP(object = seurat.integrated, dims = 1:50)"
   ]
  },
  {
   "cell_type": "code",
   "execution_count": null,
   "id": "8658987d-8d19-46bb-985f-9dc4f072a574",
   "metadata": {},
   "outputs": [],
   "source": [
    "p3 <- DimPlot(seurat.integrated, reduction = 'umap', group.by = 'Patient')\n",
    "p4 <- DimPlot(seurat.integrated, reduction = 'umap', group.by = 'Type',\n",
    "              cols = c('red','green','blue'))\n",
    "\n",
    "\n",
    "grid.arrange(p1, p2, p3, p4, ncol = 2, nrow = 2)"
   ]
  }
 ],
 "metadata": {
  "kernelspec": {
   "display_name": "IR-4.3",
   "language": "R",
   "name": "ir-4.3"
  },
  "language_info": {
   "codemirror_mode": "r",
   "file_extension": ".r",
   "mimetype": "text/x-r-source",
   "name": "R",
   "pygments_lexer": "r",
   "version": "4.3.0"
  }
 },
 "nbformat": 4,
 "nbformat_minor": 5
}
