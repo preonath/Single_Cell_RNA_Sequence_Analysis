{
 "cells": [
  {
   "cell_type": "code",
   "execution_count": 7,
   "id": "5fb85214-d586-4559-9c53-2b61923da5fc",
   "metadata": {
    "tags": []
   },
   "outputs": [],
   "source": [
    "# load libraries\n",
    "library(Seurat)\n",
    "library(ggplot2)\n",
    "library(tidyverse)\n",
    "# library(DoubletFinder)"
   ]
  },
  {
   "cell_type": "code",
   "execution_count": 10,
   "id": "3842c062-1e94-4284-a743-4a166737a6e4",
   "metadata": {
    "tags": []
   },
   "outputs": [],
   "source": [
    "# create counts matrix\n",
    "cts <- ReadMtx(mtx = './data/raw_feature_bc_matrix/matrix.mtx.gz',\n",
    "        features = './data/raw_feature_bc_matrix/features.tsv.gz',\n",
    "        cells = './data/raw_feature_bc_matrix/barcodes.tsv.gz')"
   ]
  },
  {
   "cell_type": "code",
   "execution_count": 30,
   "id": "3290504f-9be1-49fe-a02b-cc572f6c76ff",
   "metadata": {
    "tags": []
   },
   "outputs": [
    {
     "name": "stdout",
     "output_type": "stream",
     "text": [
      "Number of rows: 36601 \n",
      "Number of columns: 2099284 \n"
     ]
    }
   ],
   "source": [
    "cts_dim <- dim(cts)\n",
    "num_rows <- cts_dim[1]\n",
    "num_cols <- cts_dim[2]\n",
    "\n",
    "cat(\"Number of rows:\", num_rows, \"\\n\")\n",
    "cat(\"Number of columns:\", num_cols, \"\\n\")"
   ]
  },
  {
   "cell_type": "code",
   "execution_count": 31,
   "id": "37e526e1-96f5-436a-930c-8a16749723a0",
   "metadata": {
    "tags": []
   },
   "outputs": [
    {
     "name": "stderr",
     "output_type": "stream",
     "text": [
      "  [[ suppressing 34 column names ‘AAACCCAAGAAACCAT-1’, ‘AAACCCAAGAAACCCA-1’, ‘AAACCCAAGAAACCCG-1’ ... ]]\n",
      "\n"
     ]
    },
    {
     "data": {
      "text/plain": [
       "6 x 2099284 sparse Matrix of class \"dgCMatrix\"\n",
       "                                                                               \n",
       "MIR1302-2HG . . . . . . . . . . . . . . . . . . . . . . . . . . . . . . . . . .\n",
       "FAM138A     . . . . . . . . . . . . . . . . . . . . . . . . . . . . . . . . . .\n",
       "OR4F5       . . . . . . . . . . . . . . . . . . . . . . . . . . . . . . . . . .\n",
       "AL627309.1  . . . . . . . . . . . . . . . . . . . . . . . . . . . . . . . . . .\n",
       "AL627309.3  . . . . . . . . . . . . . . . . . . . . . . . . . . . . . . . . . .\n",
       "AL627309.2  . . . . . . . . . . . . . . . . . . . . . . . . . . . . . . . . . .\n",
       "                  \n",
       "MIR1302-2HG ......\n",
       "FAM138A     ......\n",
       "OR4F5       ......\n",
       "AL627309.1  ......\n",
       "AL627309.3  ......\n",
       "AL627309.2  ......\n",
       "\n",
       " .....suppressing 2099250 columns in show(); maybe adjust 'options(max.print= *, width = *)'\n",
       " .............................."
      ]
     },
     "metadata": {},
     "output_type": "display_data"
    }
   ],
   "source": [
    "head(cts)"
   ]
  },
  {
   "cell_type": "code",
   "execution_count": 32,
   "id": "f4525401-cf7d-4700-996a-d2533b84f248",
   "metadata": {
    "tags": []
   },
   "outputs": [
    {
     "name": "stderr",
     "output_type": "stream",
     "text": [
      "  [[ suppressing 10 column names ‘AAACCCAAGAAACCAT-1’, ‘AAACCCAAGAAACCCA-1’, ‘AAACCCAAGAAACCCG-1’ ... ]]\n",
      "\n"
     ]
    },
    {
     "data": {
      "text/plain": [
       "10 x 10 sparse Matrix of class \"dgCMatrix\"\n",
       "                               \n",
       "MIR1302-2HG . . . . . . . . . .\n",
       "FAM138A     . . . . . . . . . .\n",
       "OR4F5       . . . . . . . . . .\n",
       "AL627309.1  . . . . . . . . . .\n",
       "AL627309.3  . . . . . . . . . .\n",
       "AL627309.2  . . . . . . . . . .\n",
       "AL627309.5  . . . . . . . . . .\n",
       "AL627309.4  . . . . . . . . . .\n",
       "AP006222.2  . . . . . . . . . .\n",
       "AL732372.1  . . . . . . . . . ."
      ]
     },
     "metadata": {},
     "output_type": "display_data"
    }
   ],
   "source": [
    "cts[1:10,1:10]"
   ]
  },
  {
   "cell_type": "code",
   "execution_count": 33,
   "id": "0f8f2677-0d4b-4419-9624-fd54369862c6",
   "metadata": {
    "tags": []
   },
   "outputs": [
    {
     "name": "stdout",
     "output_type": "stream",
     "text": [
      "Formal class 'Seurat' [package \"SeuratObject\"] with 13 slots\n",
      "  ..@ assays      :List of 1\n",
      "  .. ..$ RNA:Formal class 'Assay' [package \"SeuratObject\"] with 8 slots\n",
      "  .. .. .. ..@ counts       :Formal class 'dgCMatrix' [package \"Matrix\"] with 6 slots\n",
      "  .. .. .. .. .. ..@ i       : int [1:27687445] 5765 20003 8524 33183 5207 6163 13111 19959 593 25522 ...\n",
      "  .. .. .. .. .. ..@ p       : int [1:2099285] 0 0 1 1 2 4 4 4 8 9 ...\n",
      "  .. .. .. .. .. ..@ Dim     : int [1:2] 36601 2099284\n",
      "  .. .. .. .. .. ..@ Dimnames:List of 2\n",
      "  .. .. .. .. .. .. ..$ : chr [1:36601] \"MIR1302-2HG\" \"FAM138A\" \"OR4F5\" \"AL627309.1\" ...\n",
      "  .. .. .. .. .. .. ..$ : chr [1:2099284] \"AAACCCAAGAAACCAT-1\" \"AAACCCAAGAAACCCA-1\" \"AAACCCAAGAAACCCG-1\" \"AAACCCAAGAAACTAC-1\" ...\n",
      "  .. .. .. .. .. ..@ x       : num [1:27687445] 1 1 1 1 1 1 1 1 1 1 ...\n",
      "  .. .. .. .. .. ..@ factors : list()\n",
      "  .. .. .. ..@ data         :Formal class 'dgCMatrix' [package \"Matrix\"] with 6 slots\n",
      "  .. .. .. .. .. ..@ i       : int [1:27687445] 5765 20003 8524 33183 5207 6163 13111 19959 593 25522 ...\n",
      "  .. .. .. .. .. ..@ p       : int [1:2099285] 0 0 1 1 2 4 4 4 8 9 ...\n",
      "  .. .. .. .. .. ..@ Dim     : int [1:2] 36601 2099284\n",
      "  .. .. .. .. .. ..@ Dimnames:List of 2\n",
      "  .. .. .. .. .. .. ..$ : chr [1:36601] \"MIR1302-2HG\" \"FAM138A\" \"OR4F5\" \"AL627309.1\" ...\n",
      "  .. .. .. .. .. .. ..$ : chr [1:2099284] \"AAACCCAAGAAACCAT-1\" \"AAACCCAAGAAACCCA-1\" \"AAACCCAAGAAACCCG-1\" \"AAACCCAAGAAACTAC-1\" ...\n",
      "  .. .. .. .. .. ..@ x       : num [1:27687445] 1 1 1 1 1 1 1 1 1 1 ...\n",
      "  .. .. .. .. .. ..@ factors : list()\n",
      "  .. .. .. ..@ scale.data   : num[0 , 0 ] \n",
      "  .. .. .. ..@ key          : chr \"rna_\"\n",
      "  .. .. .. ..@ assay.orig   : NULL\n",
      "  .. .. .. ..@ var.features : logi(0) \n",
      "  .. .. .. ..@ meta.features:'data.frame':\t36601 obs. of  0 variables\n",
      "  .. .. .. ..@ misc         : list()\n",
      "  ..@ meta.data   :'data.frame':\t2099284 obs. of  3 variables:\n",
      "  .. ..$ orig.ident  : Factor w/ 1 level \"SeuratProject\": 1 1 1 1 1 1 1 1 1 1 ...\n",
      "  .. ..$ nCount_RNA  : num [1:2099284] 0 1 0 1 2 0 0 4 1 1 ...\n",
      "  .. ..$ nFeature_RNA: int [1:2099284] 0 1 0 1 2 0 0 4 1 1 ...\n",
      "  ..@ active.assay: chr \"RNA\"\n",
      "  ..@ active.ident: Factor w/ 1 level \"SeuratProject\": 1 1 1 1 1 1 1 1 1 1 ...\n",
      "  .. ..- attr(*, \"names\")= chr [1:2099284] \"AAACCCAAGAAACCAT-1\" \"AAACCCAAGAAACCCA-1\" \"AAACCCAAGAAACCCG-1\" \"AAACCCAAGAAACTAC-1\" ...\n",
      "  ..@ graphs      : list()\n",
      "  ..@ neighbors   : list()\n",
      "  ..@ reductions  : list()\n",
      "  ..@ images      : list()\n",
      "  ..@ project.name: chr \"SeuratProject\"\n",
      "  ..@ misc        : list()\n",
      "  ..@ version     :Classes 'package_version', 'numeric_version'  hidden list of 1\n",
      "  .. ..$ : int [1:3] 4 1 3\n",
      "  ..@ commands    : list()\n",
      "  ..@ tools       : list()\n"
     ]
    }
   ],
   "source": [
    "# create Seurat object\n",
    "pbmc.seurat <- CreateSeuratObject(counts = cts)\n",
    "str(pbmc.seurat)"
   ]
  },
  {
   "cell_type": "code",
   "execution_count": 20,
   "id": "5e162c48-bfbd-47ab-aafb-b972fb827324",
   "metadata": {
    "tags": []
   },
   "outputs": [
    {
     "data": {
      "text/plain": [
       "An object of class Seurat \n",
       "36601 features across 2099284 samples within 1 assay \n",
       "Active assay: RNA (36601 features, 0 variable features)"
      ]
     },
     "metadata": {},
     "output_type": "display_data"
    },
    {
     "data": {
      "text/plain": [
       "An object of class Seurat \n",
       "36601 features across 10017 samples within 1 assay \n",
       "Active assay: RNA (36601 features, 0 variable features)"
      ]
     },
     "metadata": {},
     "output_type": "display_data"
    }
   ],
   "source": [
    "# QC and Filtering\n",
    "# explore QC\n",
    "\n",
    "pbmc.seurat$mitoPercent <- PercentageFeatureSet(pbmc.seurat, pattern = '^MT-')\n",
    "\n",
    "pbmc.seurat.filtered <- subset(pbmc.seurat, subset = nCount_RNA > 800 &\n",
    "         nFeature_RNA > 500 &\n",
    "         mitoPercent < 10)\n",
    "\n",
    "pbmc.seurat\n",
    "pbmc.seurat.filtered"
   ]
  },
  {
   "cell_type": "code",
   "execution_count": 25,
   "id": "1adf9543-db6e-4e15-85f1-a90bf0113400",
   "metadata": {
    "tags": []
   },
   "outputs": [
    {
     "name": "stderr",
     "output_type": "stream",
     "text": [
      "Centering and scaling data matrix\n",
      "\n",
      "PC_ 1 \n",
      "Positive:  CD3E, LTB, IL32, CD3D, TRAC, CD3G, TRBC2, BCL11B, MALAT1, IL7R \n",
      "\t   ETS1, ARL4C, CD2, LIME1, CD7, TCF7, LINC00861, PRKCQ-AS1, CD27, CCR7 \n",
      "\t   TRBC1, CD247, FCMR, GZMM, LEF1, ISG20, MAL, BCL2, SYNE2, OXNAD1 \n",
      "Negative:  FGL2, FCN1, CST3, LYZ, TYMP, CTSS, MNDA, CYBB, IFI30, PSAP \n",
      "\t   SERPINA1, NCF2, TYROBP, LST1, AIF1, S100A9, FTL, MPEG1, CSTA, DUSP6 \n",
      "\t   TNFSF13B, TMEM176B, CD68, SPI1, GRN, DUSP1, IGSF6, FOS, S100A8, BRI3 \n",
      "PC_ 2 \n",
      "Positive:  IL32, CD3E, CD3D, CD3G, ANXA1, CD2, GZMM, S100A4, CD7, TRAC \n",
      "\t   CD247, BCL11B, CTSW, TMSB4X, GZMA, IL7R, CST7, LINC00861, NKG7, S100A10 \n",
      "\t   PRF1, KLRK1, CCL5, GNLY, TRBC1, S100A6, KLRD1, PRKCQ-AS1, SAMD3, ARL4C \n",
      "Negative:  IGHM, MS4A1, CD79A, BANK1, BCL11A, NIBAN3, SPIB, LINC00926, CD79B, RALGPS2 \n",
      "\t   IGHD, HLA-DQA1, AFF3, TNFRSF13C, CD22, IGKC, TCF4, LINC02397, BLNK, PAX5 \n",
      "\t   VPREB3, TSPAN13, BLK, CD74, COBLL1, TCL1A, FCER2, FCRL1, HLA-DRA, GNG7 \n",
      "PC_ 3 \n",
      "Positive:  CCR7, LTB, LEF1, IL7R, TCF7, TRABD2A, MAL, CD27, S100A12, OXNAD1 \n",
      "\t   CD79A, VCAN, MS4A1, S100A8, NCF1, FHIT, LINC00926, CAMK4, CD14, TNFRSF13C \n",
      "\t   CYP1B1, ID3, PRKCQ-AS1, LRRN3, RALGPS2, BANK1, IGHD, S100A9, RBP7, CKAP4 \n",
      "Negative:  GZMB, NKG7, CLIC3, GNLY, CST7, PRF1, KLRD1, GZMA, C12orf75, FGFBP2 \n",
      "\t   CCL4, CCL5, GZMH, HOPX, SPON2, KLRF1, CTSC, ADGRG1, PTGDR, CTSW \n",
      "\t   LILRA4, MATK, FCGR3A, CD160, PLEK, LAIR2, CLEC4C, XCL2, IL2RB, TRDC \n",
      "PC_ 4 \n",
      "Positive:  FCGR3A, MTSS1, CD79B, IFITM2, ABI3, MS4A1, GNLY, NKG7, CDKN1C, RHOC \n",
      "\t   CD79A, HES4, KLRD1, PRF1, CST7, FGFBP2, HLA-DQA1, LINC00926, CX3CR1, CCL4 \n",
      "\t   HOPX, GZMA, HLA-DPB1, FCER2, KLRF1, BANK1, TNFRSF13C, IGHD, SPON2, CD22 \n",
      "Negative:  LILRA4, CLEC4C, SERPINF1, LRRC26, TPM2, SCT, EPHB1, MAP1A, DNASE1L3, PTCRA \n",
      "\t   LINC00996, SMPD3, TNFRSF21, PACSIN1, CIB2, ITM2C, ZFAT, LAMP5, DERL3, SMIM5 \n",
      "\t   SCN9A, SCAMP5, CUX2, PPM1J, PLEKHD1, PHEX, AL096865.1, APP, UGCG, TLR9 \n",
      "PC_ 5 \n",
      "Positive:  S100A12, ITGAM, GNLY, VCAN, KLRD1, CST7, PRF1, SLC2A3, NKG7, GZMA \n",
      "\t   FGFBP2, CCL4, S100A8, CYP1B1, HOPX, KLRF1, GZMH, CES1, SPON2, CCL5 \n",
      "\t   PADI4, MEGF9, ADGRG1, ANXA1, CTSD, CD14, PTGDR, QPCT, MGST1, MCEMP1 \n",
      "Negative:  CDKN1C, HES4, CTSL, TCF7L2, CSF1R, BATF3, MS4A7, CASP5, CKB, NAP1L1 \n",
      "\t   RRAS, AC104809.2, SIGLEC10, IFITM3, FCGR3A, MS4A4A, NEURL1, AC064805.1, CALML4, SMIM25 \n",
      "\t   HCAR3, FAM110A, GUCY1A1, IL3RA, HMOX1, NAAA, CAMK1, RNASET2, PTP4A3, MTSS1 \n",
      "\n",
      "Computing nearest neighbor graph\n",
      "\n",
      "Computing SNN\n",
      "\n"
     ]
    },
    {
     "name": "stdout",
     "output_type": "stream",
     "text": [
      "Modularity Optimizer version 1.3.0 by Ludo Waltman and Nees Jan van Eck\n",
      "\n",
      "Number of nodes: 10017\n",
      "Number of edges: 371142\n",
      "\n",
      "Running Louvain algorithm...\n",
      "Maximum modularity in 10 random starts: 0.8880\n",
      "Number of communities: 18\n",
      "Elapsed time: 0 seconds\n"
     ]
    },
    {
     "name": "stderr",
     "output_type": "stream",
     "text": [
      "15:52:59 UMAP embedding parameters a = 0.9922 b = 1.112\n",
      "\n",
      "15:52:59 Read 10017 rows and found 20 numeric columns\n",
      "\n",
      "15:52:59 Using Annoy for neighbor search, n_neighbors = 30\n",
      "\n",
      "15:52:59 Building Annoy index with metric = cosine, n_trees = 50\n",
      "\n",
      "0%   10   20   30   40   50   60   70   80   90   100%\n",
      "\n",
      "[----|----|----|----|----|----|----|----|----|----|\n",
      "\n",
      "*\n",
      "*\n",
      "*\n",
      "*\n",
      "*\n",
      "*\n",
      "*\n",
      "*\n",
      "*\n",
      "*\n",
      "*\n",
      "*\n",
      "*\n",
      "*\n",
      "*\n",
      "*\n",
      "*\n",
      "*\n",
      "*\n",
      "*\n",
      "*\n",
      "*\n",
      "*\n",
      "*\n",
      "*\n",
      "*\n",
      "*\n",
      "*\n",
      "*\n",
      "*\n",
      "*\n",
      "*\n",
      "*\n",
      "*\n",
      "*\n",
      "*\n",
      "*\n",
      "*\n",
      "*\n",
      "*\n",
      "*\n",
      "*\n",
      "*\n",
      "*\n",
      "*\n",
      "*\n",
      "*\n",
      "*\n",
      "*\n",
      "*\n",
      "|\n",
      "\n",
      "15:52:59 Writing NN index file to temp file /tmp/RtmppDCtoe/file6c051856638b\n",
      "\n",
      "15:52:59 Searching Annoy index using 1 thread, search_k = 3000\n",
      "\n",
      "15:53:02 Annoy recall = 100%\n",
      "\n",
      "15:53:02 Commencing smooth kNN distance calibration using 1 thread\n",
      " with target n_neighbors = 30\n",
      "\n",
      "15:53:03 Initializing from normalized Laplacian + noise (using irlba)\n",
      "\n",
      "15:53:04 Commencing optimization for 200 epochs, with 422066 positive edges\n",
      "\n",
      "15:53:07 Optimization finished\n",
      "\n"
     ]
    },
    {
     "data": {
      "image/png": "[encoded data removed]",
      "text/plain": [
       "plot without title"
      ]
     },
     "metadata": {
      "image/png": {
       "height": 420,
       "width": 420
      }
     },
     "output_type": "display_data"
    }
   ],
   "source": [
    "# pre-process standard workflow\n",
    "pbmc.seurat.filtered <- NormalizeData(object = pbmc.seurat.filtered)\n",
    "pbmc.seurat.filtered <- FindVariableFeatures(object = pbmc.seurat.filtered)\n",
    "pbmc.seurat.filtered <- ScaleData(object = pbmc.seurat.filtered)\n",
    "pbmc.seurat.filtered <- RunPCA(object = pbmc.seurat.filtered)\n",
    "ElbowPlot(pbmc.seurat.filtered)\n",
    "pbmc.seurat.filtered <- FindNeighbors(object = pbmc.seurat.filtered, dims = 1:20)\n",
    "pbmc.seurat.filtered <- FindClusters(object = pbmc.seurat.filtered)\n",
    "pbmc.seurat.filtered <- RunUMAP(object = pbmc.seurat.filtered, dims = 1:20)"
   ]
  },
  {
   "cell_type": "code",
   "execution_count": 27,
   "id": "adf88722-2eed-486c-9835-0c214c36ee12",
   "metadata": {
    "tags": []
   },
   "outputs": [
    {
     "ename": "ERROR",
     "evalue": "Error in paramSweep_v3(pbmc.seurat.filtered, PCs = 1:20, sct = FALSE): could not find function \"paramSweep_v3\"\n",
     "output_type": "error",
     "traceback": [
      "Error in paramSweep_v3(pbmc.seurat.filtered, PCs = 1:20, sct = FALSE): could not find function \"paramSweep_v3\"\nTraceback:\n"
     ]
    }
   ],
   "source": [
    "## pK Identification (no ground-truth) ---------------------------------------------------------------------------------------\n",
    "sweep.res.list_pbmc <- paramSweep_v3(pbmc.seurat.filtered, PCs = 1:20, sct = FALSE)\n",
    "sweep.stats_pbmc <- summarizeSweep(sweep.res.list_pbmc, GT = FALSE)\n",
    "bcmvn_pbmc <- find.pK(sweep.stats_pbmc)\n",
    "\n",
    "ggplot(bcmvn_pbmc, aes(pK, BCmetric, group = 1)) +\n",
    "  geom_point() +\n",
    "  geom_line()"
   ]
  },
  {
   "cell_type": "code",
   "execution_count": null,
   "id": "78dce1f4-8ded-4d11-aa32-433a807800a3",
   "metadata": {},
   "outputs": [],
   "source": [
    "pK <- bcmvn_pbmc %>% # select the pK that corresponds to max bcmvn to optimize doublet detection\n",
    "  filter(BCmetric == max(BCmetric)) %>%\n",
    "  select(pK) \n",
    "pK <- as.numeric(as.character(pK[[1]])"
   ]
  },
  {
   "cell_type": "code",
   "execution_count": 23,
   "id": "482f3d39-b586-4bf6-b8af-41eed715bd37",
   "metadata": {
    "tags": []
   },
   "outputs": [
    {
     "ename": "ERROR",
     "evalue": "Error in modelHomotypic(annotations): could not find function \"modelHomotypic\"\n",
     "output_type": "error",
     "traceback": [
      "Error in modelHomotypic(annotations): could not find function \"modelHomotypic\"\nTraceback:\n"
     ]
    }
   ],
   "source": [
    "\n",
    "## Homotypic Doublet Proportion Estimate -------------------------------------------------------------------------------------\n",
    "annotations <- pbmc.seurat.filtered@meta.data$seurat_clusters\n",
    "homotypic.prop <- modelHomotypic(annotations)           ## ex: annotations <- seu_kidney@meta.data$ClusteringResults\n",
    "nExp_poi <- round(0.076*nrow(pbmc.seurat.filtered@meta.data))  ## Assuming 7.5% doublet formation rate - tailor for your dataset\n",
    "nExp_poi.adj <- round(nExp_poi*(1-homotypic.prop))"
   ]
  },
  {
   "cell_type": "code",
   "execution_count": null,
   "id": "6f74cf2c-7341-4131-ba02-689dd3becc4a",
   "metadata": {},
   "outputs": [],
   "source": [
    "# run doubletFinder \n",
    "pbmc.seurat.filtered <- doubletFinder_v3(pbmc.seurat.filtered, \n",
    "                                     PCs = 1:20, \n",
    "                                     pN = 0.25, \n",
    "                                     pK = pK, \n",
    "                                     nExp = nExp_poi.adj,\n",
    "                                     reuse.pANN = FALSE, sct = FALSE)"
   ]
  },
  {
   "cell_type": "code",
   "execution_count": null,
   "id": "617be2d1-97d6-415c-8477-c84c1574ecd1",
   "metadata": {},
   "outputs": [],
   "source": [
    "# visualize doublets\n",
    "DimPlot(pbmc.seurat.filtered, reduction = 'umap', group.by = \"DF.classifications_0.25_0.21_691\")"
   ]
  },
  {
   "cell_type": "code",
   "execution_count": null,
   "id": "84e89971-060c-4612-858f-26d815e32ab2",
   "metadata": {},
   "outputs": [],
   "source": [
    "# number of singlets and doublets\n",
    "table(pbmc.seurat.filtered@meta.data$DF.classifications_0.25_0.21_691)"
   ]
  }
 ],
 "metadata": {
  "kernelspec": {
   "display_name": "IR-4.3",
   "language": "R",
   "name": "ir-4.3"
  },
  "language_info": {
   "codemirror_mode": "r",
   "file_extension": ".r",
   "mimetype": "text/x-r-source",
   "name": "R",
   "pygments_lexer": "r",
   "version": "4.3.0"
  }
 },
 "nbformat": 4,
 "nbformat_minor": 5
}
