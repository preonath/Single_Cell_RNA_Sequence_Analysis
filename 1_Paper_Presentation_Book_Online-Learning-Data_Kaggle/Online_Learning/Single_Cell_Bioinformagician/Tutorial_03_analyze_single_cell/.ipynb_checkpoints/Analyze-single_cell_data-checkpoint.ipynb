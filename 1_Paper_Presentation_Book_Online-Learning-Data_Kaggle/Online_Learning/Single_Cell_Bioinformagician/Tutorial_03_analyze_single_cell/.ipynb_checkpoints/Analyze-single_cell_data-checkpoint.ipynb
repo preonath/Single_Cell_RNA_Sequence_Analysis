{
 "cells": [
  {
   "cell_type": "code",
   "execution_count": 1,
   "id": "24d47275-73d9-4fc8-a4de-fe1164d2d4e4",
   "metadata": {
    "tags": []
   },
   "outputs": [
    {
     "ename": "ERROR",
     "evalue": "Error in library(tidyverse): there is no package called ‘tidyverse’\n",
     "output_type": "error",
     "traceback": [
      "Error in library(tidyverse): there is no package called ‘tidyverse’\nTraceback:\n",
      "1. library(tidyverse)"
     ]
    }
   ],
   "source": [
    "# script to perform standard workflow steps to analyze single cell RNA-Seq data\n",
    "# data: 20k Mixture of NSCLC DTCs from 7 donors, 3' v3.1\n",
    "# data source: https://www.10xgenomics.com/resources/datasets/10-k-human-pbm-cs-multiome-v-1-0-chromium-controller-1-standard-2-0-0         \n",
    "\n",
    "# setwd(\"~/Desktop/demo/single_cell_RNASeq/scripts\")\n",
    "\n",
    "# load libraries\n",
    "library(Seurat)\n",
    "library(tidyverse)"
   ]
  },
  {
   "cell_type": "code",
   "execution_count": null,
   "id": "31dbec40-4c61-4b2b-bab7-3efba68fb56c",
   "metadata": {},
   "outputs": [],
   "source": [
    "\n",
    "\n",
    "# Load the NSCLC dataset\n",
    "nsclc.sparse.m <- Read10X_h5(filename = '../data/20k_NSCLC_DTC_3p_nextgem_Multiplex_count_raw_feature_bc_matrix.h5')\n",
    "str(nsclc.sparse.m)\n",
    "cts <-  nsclc.sparse.m$`Gene Expression`"
   ]
  },
  {
   "cell_type": "code",
   "execution_count": null,
   "id": "50e3762d-8de5-42b7-ba9a-6dc2a841b788",
   "metadata": {},
   "outputs": [],
   "source": [
    "\n",
    "\n",
    "# Initialize the Seurat object with the raw (non-normalized data).\n",
    "nsclc.seurat.obj <- CreateSeuratObject(counts = cts, project = \"NSCLC\", min.cells = 3, min.features = 200)\n",
    "str(nsclc.seurat.obj)\n",
    "nsclc.seurat.obj\n",
    "# 29552 features across 42081 samples"
   ]
  },
  {
   "cell_type": "code",
   "execution_count": null,
   "id": "979bc274-6cb2-4a1e-ab6c-d70fb9b6baa4",
   "metadata": {},
   "outputs": [],
   "source": [
    "# 1. QC -------\n",
    "View(nsclc.seurat.obj@meta.data)\n",
    "# % MT reads\n",
    "nsclc.seurat.obj[[\"percent.mt\"]] <- PercentageFeatureSet(nsclc.seurat.obj, pattern = \"^MT-\")\n",
    "View(nsclc.seurat.obj@meta.data)\n",
    "\n",
    "VlnPlot(nsclc.seurat.obj, features = c(\"nFeature_RNA\", \"nCount_RNA\", \"percent.mt\"), ncol = 3)\n",
    "FeatureScatter(nsclc.seurat.obj, feature1 = \"nCount_RNA\", feature2 = \"nFeature_RNA\") +\n",
    "  geom_smooth(method = 'lm')"
   ]
  },
  {
   "cell_type": "code",
   "execution_count": null,
   "id": "751918e5-ab80-41d7-b25c-56f765f628e8",
   "metadata": {},
   "outputs": [],
   "source": [
    "\n",
    "\n",
    "# 2. Filtering -----------------\n",
    "nsclc.seurat.obj <- subset(nsclc.seurat.obj, subset = nFeature_RNA > 200 & nFeature_RNA < 2500 & \n",
    "                          percent.mt < 5)"
   ]
  },
  {
   "cell_type": "code",
   "execution_count": null,
   "id": "badd7b11-e3ac-4680-ba12-12f422e8bd09",
   "metadata": {},
   "outputs": [],
   "source": [
    "\n",
    "# 3. Normalize data ----------\n",
    "#nsclc.seurat.obj <- NormalizeData(nsclc.seurat.obj, normalization.method = \"LogNormalize\", scale.factor = 10000)\n",
    "# OR\n",
    "nsclc.seurat.obj <- NormalizeData(nsclc.seurat.obj)\n",
    "str(nsclc.seurat.obj)"
   ]
  },
  {
   "cell_type": "code",
   "execution_count": null,
   "id": "4e45a4c9-946c-4ed9-8976-90ea16f608cf",
   "metadata": {},
   "outputs": [],
   "source": [
    "\n",
    "# 4. Identify highly variable features --------------\n",
    "nsclc.seurat.obj <- FindVariableFeatures(nsclc.seurat.obj, selection.method = \"vst\", nfeatures = 2000)\n",
    "\n",
    "# Identify the 10 most highly variable genes\n",
    "top10 <- head(VariableFeatures(nsclc.seurat.obj), 10)\n",
    "\n",
    "# plot variable features with and without labels\n",
    "plot1 <- VariableFeaturePlot(nsclc.seurat.obj)\n",
    "LabelPoints(plot = plot1, points = top10, repel = TRUE"
   ]
  },
  {
   "cell_type": "code",
   "execution_count": null,
   "id": "47bf65f1-801d-466a-8b1d-45d294ca24bc",
   "metadata": {},
   "outputs": [],
   "source": [
    "# 5. Scaling -------------\n",
    "all.genes <- rownames(nsclc.seurat.obj)\n",
    "nsclc.seurat.obj <- ScaleData(nsclc.seurat.obj, features = all.genes)\n",
    "\n",
    "str(nsclc.seurat.obj)"
   ]
  },
  {
   "cell_type": "code",
   "execution_count": null,
   "id": "15660da9-f8f7-40d6-ab1e-9634f38df262",
   "metadata": {},
   "outputs": [],
   "source": [
    "# 6. Perform Linear dimensionality reduction --------------\n",
    "nsclc.seurat.obj <- RunPCA(nsclc.seurat.obj, features = VariableFeatures(object = nsclc.seurat.obj))\n",
    "\n",
    "# visualize PCA results\n",
    "print(nsclc.seurat.obj[[\"pca\"]], dims = 1:5, nfeatures = 5)\n",
    "DimHeatmap(nsclc.seurat.obj, dims = 1, cells = 500, balanced = TRUE)\n",
    "\n",
    "\n",
    "# determine dimensionality of the data\n",
    "ElbowPlot(nsclc.seurat.obj)"
   ]
  },
  {
   "cell_type": "code",
   "execution_count": null,
   "id": "beaf97ac-41fd-4898-ac92-e08e3bac75cb",
   "metadata": {},
   "outputs": [],
   "source": [
    "\n",
    "\n",
    "\n",
    "\n",
    "\n",
    "\n",
    "\n",
    "\n",
    "\n",
    "\n",
    "\n",
    "\n",
    "\n",
    "\n",
    "\n",
    "\n",
    "\n",
    "# 7. Clustering ------------\n",
    "nsclc.seurat.obj <- FindNeighbors(nsclc.seurat.obj, dims = 1:15)\n",
    "\n",
    "# understanding resolution\n",
    "nsclc.seurat.obj <- FindClusters(nsclc.seurat.obj, resolution = c(0.1,0.3, 0.5, 0.7, 1))\n",
    "View(nsclc.seurat.obj@meta.data)\n",
    "\n",
    "DimPlot(nsclc.seurat.obj, group.by = \"RNA_snn_res.0.5\", label = TRUE)\n",
    "\n",
    "# setting identity of clusters\n",
    "Idents(nsclc.seurat.obj)\n",
    "Idents(nsclc.seurat.obj) <- \"RNA_snn_res.0.1\"\n",
    "Idents(nsclc.seurat.obj)\n",
    "\n",
    "# non-linear dimensionality reduction --------------\n",
    "# If you haven't installed UMAP, you can do so via reticulate::py_install(packages =\n",
    "# 'umap-learn')\n",
    "nsclc.seurat.obj <- RunUMAP(nsclc.seurat.obj, dims = 1:15)\n",
    "# note that you can set `label = TRUE` or use the LabelClusters function to help label\n",
    "# individual clusters\n",
    "DimPlot(nsclc.seurat.obj, reduction = \"umap\")"
   ]
  }
 ],
 "metadata": {
  "kernelspec": {
   "display_name": "IR-4.2",
   "language": "R",
   "name": "ir"
  },
  "language_info": {
   "codemirror_mode": "r",
   "file_extension": ".r",
   "mimetype": "text/x-r-source",
   "name": "R",
   "pygments_lexer": "r",
   "version": "4.0.5"
  }
 },
 "nbformat": 4,
 "nbformat_minor": 5
}
