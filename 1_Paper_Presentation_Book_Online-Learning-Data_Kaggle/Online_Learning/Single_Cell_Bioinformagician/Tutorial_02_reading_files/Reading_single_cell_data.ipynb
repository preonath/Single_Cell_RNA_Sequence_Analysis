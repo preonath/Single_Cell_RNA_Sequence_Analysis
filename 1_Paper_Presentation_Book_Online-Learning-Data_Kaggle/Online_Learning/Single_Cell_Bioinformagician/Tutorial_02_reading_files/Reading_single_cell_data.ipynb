{
 "cells": [
  {
   "cell_type": "markdown",
   "id": "5213322e-c3a3-4ff0-b50a-f8eafdc11741",
   "metadata": {
    "tags": []
   },
   "source": [
    "## **1. Reading single-cell data in R: H5AD, loom, MEX, AnnData formats** ##\n",
    "\n",
    "### **script to demonstrate** ###\n",
    "- **reading single cell matrices in various format** \n",
    "- **converting to seurat object** \n",
    "- **setwd(\"/Users/kr/Desktop/demo/InputFormat_singleCell\")**"
   ]
  },
  {
   "cell_type": "markdown",
   "id": "9db9bc79-1bef-49e6-ab01-85b4f66b189e",
   "metadata": {},
   "source": [
    "Links to datasets used: \n",
    "1. 20k_PBMC_3p_HT_nextgem_Chromium_X_filtered_feature_bc_matrix.h5: https://cf.10xgenomics.com/samples/ce...\n",
    "2. 20k_PBMC_3p_HT_nextgem_Chromium_X_raw_feature_bc_matrix.tar.gz: https://cf.10xgenomics.com/samples/ce...\n",
    "3. adult-hem-organs-10X-bone-marrow.loom: https://storage.googleapis.com/broad-...\n",
    "4. adata_SS2_for_download.h5ad: https://cellgeni.cog.sanger.ac.uk/cvi...\n",
    "5. ependymal_cells.rds: https://dataverse.harvard.edu/file.xh..."
   ]
  },
  {
   "cell_type": "code",
   "execution_count": null,
   "id": "0802c1b8-df64-4df6-982a-dd903abd900d",
   "metadata": {
    "tags": []
   },
   "outputs": [],
   "source": [
    "# load libraries\n",
    "library(Seurat)\n",
    "library(SeuratDisk)"
   ]
  },
  {
   "cell_type": "code",
   "execution_count": null,
   "id": "663e9cdc-3b18-46ef-9e70-4aaf06ee49d3",
   "metadata": {
    "tags": []
   },
   "outputs": [],
   "source": [
    "# .RDS format\n",
    "# rds_obj <- readRDS('ependymal_cells.rds')"
   ]
  },
  {
   "cell_type": "code",
   "execution_count": null,
   "id": "be79115f-9555-429a-8baa-c5f66c43b6d4",
   "metadata": {
    "tags": []
   },
   "outputs": [],
   "source": [
    "# 10X CellRanger .HDF5 format \n",
    "hdf5_obj <- Read10X_h5(filename = \"./Tutorial_02_reading_files/20k_PBMC_3p_HT_nextgem_Chromium_X_filtered_feature_bc_matrix.h5\",\n",
    "           use.names = TRUE,\n",
    "           unique.features = TRUE)\n",
    "seurat_hdf5 <- CreateSeuratObject(counts = hdf5_obj)"
   ]
  },
  {
   "cell_type": "code",
   "execution_count": null,
   "id": "75b04491-ea10-4d84-9a92-8474c6fbff5a",
   "metadata": {
    "tags": []
   },
   "outputs": [],
   "source": [
    "# .mtx file\n",
    "mtx_obj <- ReadMtx(mtx = \"./Tutorial_02_reading_files/raw_feature_bc_matrix/matrix.mtx.gz\",\n",
    "        features = \"./Tutorial_02_reading_files/raw_feature_bc_matrix/features.tsv.gz\",\n",
    "        cells = \"./Tutorial_02_reading_files/raw_feature_bc_matrix/barcodes.tsv.gz\")\n",
    "seurat_mtx <- CreateSeuratObject(counts = mtx_obj)"
   ]
  },
  {
   "cell_type": "code",
   "execution_count": null,
   "id": "f57c3463-488b-4860-935a-a5ab2b761570",
   "metadata": {},
   "outputs": [],
   "source": [
    "# .loom files\n",
    "# loom_oj <- Connect(filename = \"adult-hem-organs-10X-bone-marrow.loom\", mode = 'r')\n",
    "# seurat_loom <- as.Seurat(loom_oj)"
   ]
  },
  {
   "cell_type": "code",
   "execution_count": null,
   "id": "0ffaa842-8f99-450c-82a6-9eda220c00e1",
   "metadata": {
    "tags": []
   },
   "outputs": [],
   "source": [
    "# .h5ad format \n",
    "# step 1: convert AnnData object to an h5Seurat file\n",
    "Convert(\"./Tutorial_02_reading_files/adata_SS2_for_download.h5ad\", dest = \"h5seurat\", overwrite = TRUE)"
   ]
  },
  {
   "cell_type": "code",
   "execution_count": null,
   "id": "0fe37cfc-c145-4112-b095-e413ca88824e",
   "metadata": {
    "tags": []
   },
   "outputs": [],
   "source": [
    "# step 2: Load h5Seurat file into a Seurat object \n",
    "seurat_anndata <- LoadH5Seurat(\"./Tutorial_02_reading_files/adata_SS2_for_download.h5seurat\")"
   ]
  },
  {
   "cell_type": "code",
   "execution_count": null,
   "id": "860f9552-fb29-49f6-b6c1-83b66698cf63",
   "metadata": {},
   "outputs": [],
   "source": []
  }
 ],
 "metadata": {
  "kernelspec": {
   "display_name": "IR-4.2",
   "language": "R",
   "name": "ir"
  },
  "language_info": {
   "codemirror_mode": "r",
   "file_extension": ".r",
   "mimetype": "text/x-r-source",
   "name": "R",
   "pygments_lexer": "r",
   "version": "4.0.5"
  }
 },
 "nbformat": 4,
 "nbformat_minor": 5
}
