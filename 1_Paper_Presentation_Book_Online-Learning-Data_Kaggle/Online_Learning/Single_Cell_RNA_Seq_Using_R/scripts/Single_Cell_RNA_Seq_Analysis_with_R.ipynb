{
 "cells": [
  {
   "cell_type": "markdown",
   "id": "a0285e8c-08d4-4430-a91e-a606e48270af",
   "metadata": {},
   "source": [
    "## **R Objects and Classes** ##\n",
    "\n",
    "\n",
    "\n",
    "R is a functional language that uses concepts of objects and classes.\n",
    "\n",
    "An object is simply a collection of data (variables) and methods (functions). Similarly, a class is a blueprint for that object.\n",
    "\n",
    "Let's take a real life example,\n",
    "\n",
    "* We can think of the class as a sketch (prototype) of a house. It contains all the details about the floors, doors, windows, etc. Based on these descriptions we build the house. House is the object.\n",
    "\n",
    "\n",
    "\n",
    "\n",
    "\n",
    "#### **Class System in R** ####\n",
    "While most programming languages have a single class system.\n",
    "\n",
    "R has three class systems:\n",
    "\n",
    "* S3 Class\n",
    "* S4 Class\n",
    "* Reference Class\n",
    "\n",
    "First we create a list with various components then we create a class using the class() function. \n",
    "\n",
    "For example,"
   ]
  },
  {
   "cell_type": "markdown",
   "id": "a4c1e732-e74d-4c20-8d22-48f157e768ee",
   "metadata": {},
   "source": [
    "##### **S3 Class in R** #####"
   ]
  },
  {
   "cell_type": "code",
   "execution_count": 1,
   "id": "e9c53f83-ead1-401b-b56c-f6e69e7107bf",
   "metadata": {
    "tags": []
   },
   "outputs": [
    {
     "data": {
      "text/plain": [
       "$name\n",
       "[1] \"John\"\n",
       "\n",
       "$age\n",
       "[1] 21\n",
       "\n",
       "$GPA\n",
       "[1] 3.5\n",
       "\n",
       "attr(,\"class\")\n",
       "[1] \"Student_Info\""
      ]
     },
     "metadata": {},
     "output_type": "display_data"
    }
   ],
   "source": [
    "# create a list with required components\n",
    "student1 <- list(name = \"John\", age = 21, GPA = 3.5)\n",
    "\n",
    "# name the class appropriately\n",
    "class(student1) <- \"Student_Info\"\n",
    "\n",
    "# create and call an object\n",
    "student1"
   ]
  },
  {
   "cell_type": "markdown",
   "id": "36d3f5c3-0b28-4f8d-b105-43243e64b535",
   "metadata": {},
   "source": [
    "##### **S4 Class in R** #####\n",
    "\n",
    "\n",
    "In R, we use the setClass() function to define a class. For example,\n",
    "\n"
   ]
  },
  {
   "cell_type": "code",
   "execution_count": 2,
   "id": "3af690e9-946f-41a2-a8ae-2b02813ada0f",
   "metadata": {
    "tags": []
   },
   "outputs": [],
   "source": [
    "setClass(\"Student_Info\", slots=list(name=\"character\", age=\"numeric\", GPA=\"numeric\"))"
   ]
  },
  {
   "cell_type": "code",
   "execution_count": 3,
   "id": "284a562c-e21e-4fa6-8baf-376ecabd0383",
   "metadata": {
    "tags": []
   },
   "outputs": [
    {
     "data": {
      "text/plain": [
       "An object of class \"Student_Info\"\n",
       "Slot \"name\":\n",
       "[1] \"John\"\n",
       "\n",
       "Slot \"age\":\n",
       "[1] 21\n",
       "\n",
       "Slot \"GPA\":\n",
       "[1] 3.5\n"
      ]
     },
     "metadata": {},
     "output_type": "display_data"
    }
   ],
   "source": [
    "# Now to create an object, we use the new() function. For example,\n",
    "\n",
    "student1 <- new(\"Student_Info\", name = \"John\", age = 21, GPA = 3.5)\n",
    "student1"
   ]
  },
  {
   "cell_type": "markdown",
   "id": "23960659-12ad-4ccd-a3af-bf616e4a6ac6",
   "metadata": {},
   "source": [
    "Here, we have created an S4 class named Student_Info using the setClass() function and an object named student1 using the new() function."
   ]
  },
  {
   "cell_type": "markdown",
   "id": "aa6a58fb-5ea1-4a52-8a4f-559880e6318b",
   "metadata": {},
   "source": [
    "## **Tidy** ##"
   ]
  },
  {
   "cell_type": "markdown",
   "id": "2ba2126b-7c1f-40d6-b450-62813db68bb2",
   "metadata": {},
   "source": [
    "There are many ways in which we can organize data. Some of these ways can make for easy data analysis. \n",
    "\n",
    "In R, it is easiest to work with data that follow five basic rules:\n",
    "\n",
    "* Every variable is stored in its own column.\n",
    "* Every observation is stored in its own row—that is, every row corresponds to a single case.\n",
    "* Each value of a variable is stored in a cell of the table.\n",
    "* Values should not contain units. Rather, units should be specified in the supporting documentation for the data set, often called a codebook.\n",
    "* There should be no extraneous information (footnotes, table titles, etc.).\n",
    "\n",
    "\n",
    "\n",
    "\n",
    "For the tidyr package we will focus on the following 4 functions:\n",
    "\n",
    "* Gather\n",
    "* Spread\n",
    "* Separate\n",
    "* Unite"
   ]
  },
  {
   "cell_type": "markdown",
   "id": "d61c2fc9-215f-4cdf-b229-a63e66b3ab69",
   "metadata": {},
   "source": [
    "**--------------------------------------------------------------------------------------------------------------------------------------------------------------------------------------------------------------------------------------------------------------**\n",
    "\n",
    "## **Libarry Calling** ## \n",
    "\n",
    "**-----------------------------------------------------------------------------------------------------------------------------------------------------------------------------------------------------------------------------------------------------------------**"
   ]
  },
  {
   "cell_type": "code",
   "execution_count": 4,
   "id": "4a56bdd9-ac9e-49da-9195-0bfe8d35b8c3",
   "metadata": {
    "tags": []
   },
   "outputs": [],
   "source": [
    "# install.packages(\"tidyr\")\n",
    "# install.packages(\"ggplot2\")\n",
    "# install.packages(\"readr\")\n",
    "library(tidyr)     # contains tools to tidy data\n",
    "library(ggplot2) # for plotting\n",
    "library(readr)     # a package for parsing data\n",
    "library(SingleCellExperiment)"
   ]
  },
  {
   "cell_type": "markdown",
   "id": "2106587a-c0fe-4a85-9d08-56ef0d634dea",
   "metadata": {},
   "source": [
    "**--------------------------------------------------------------------------------------------------------------------------------------------------------------------------------------------------------------------------------------------------------------**\n",
    "\n",
    "## **Create Count matrix. Row=Gene & Column=Cell** ## \n",
    "\n",
    "**-----------------------------------------------------------------------------------------------------------------------------------------------------------------------------------------------------------------------------------------------------------------**"
   ]
  },
  {
   "cell_type": "markdown",
   "id": "7d99e8e0-fd8b-4566-b8b6-cb8a48895a6c",
   "metadata": {},
   "source": [
    "* **matrix(rpois())**\n",
    ">>* Generates a matrix called counts using the rpois() function\n",
    "\n",
    "* **counts <- matrix(rpois(100, lambda = 10), ncol=10, nrow=10)**\n",
    ">> rpois(100, lambda = 10) Generates 100 random numbers from a Poisson distribution with a mean of 10. \n",
    ">> The Poisson distribution is commonly used to model count data. \n",
    ">> The lambda parameter specifies the mean of the distribution.\n",
    "\n",
    "\n",
    "* rownames(counts) <- paste(\"gene\", 1:10, sep = \"\")\n",
    "\n",
    "\n",
    "* colnames(counts) <- paste(\"cell\", 1:10, sep = \"\")\n",
    "\n",
    "The code snippet you provided generates a matrix called counts using the rpois() function. Let's break it down step by step:\n",
    "\n",
    "rpois(100, lambda = 10) generates 100 random numbers from a Poisson distribution with a mean of 10. The Poisson distribution is commonly used to model count data. The lambda parameter specifies the mean of the distribution.\n",
    "\n",
    "matrix(rpois(100, lambda = 10), ncol=10, nrow=10) takes the 100 random numbers generated and organizes them into a matrix. The ncol argument specifies the number of columns in the matrix, and the nrow argument specifies the number of rows. In this case, it creates a 10x10 matrix.\n",
    "\n",
    "rownames(counts) <- paste(\"gene\", 1:10, sep = \"\") assigns row names to the counts matrix. The paste() function concatenates the string \"gene\" with the numbers 1 to 10, creating row names like \"gene1\", \"gene2\", and so on.\n",
    "\n",
    "colnames(counts) <- paste(\"cell\", 1:10, sep = \"\") assigns column names to the counts matrix. Similarly, it concatenates the string \"cell\" with the numbers 1 to 10 to create column names like \"cell1\", \"cell2\", and so on.\n",
    "\n",
    "In summary, the code generates a 10x10 matrix (counts) filled with random numbers drawn from a Poisson distribution with a mean of 10. It then assigns row names as \"gene1\", \"gene2\", and so on, and column names as \"cell1\", \"cell2\", and so on. This matrix can be used to store and analyze count data for genes and cells in a specific experiment or study."
   ]
  },
  {
   "cell_type": "code",
   "execution_count": 6,
   "id": "656ddd36-28a7-4612-8ddb-a1ae675d9afe",
   "metadata": {
    "tags": []
   },
   "outputs": [
    {
     "data": {
      "text/plain": [
       "class: SingleCellExperiment \n",
       "dim: 10 10 \n",
       "metadata(0):\n",
       "assays(1): counts\n",
       "rownames(10): gene1 gene2 ... gene9 gene10\n",
       "rowData names(1): gene_names\n",
       "colnames(10): cell1 cell2 ... cell9 cell10\n",
       "colData names(1): cell_names\n",
       "reducedDimNames(0):\n",
       "mainExpName: NULL\n",
       "altExpNames(0):"
      ]
     },
     "metadata": {},
     "output_type": "display_data"
    }
   ],
   "source": [
    "counts <- matrix(rpois(100, lambda = 10), ncol=10, nrow=10)\n",
    "rownames(counts) <- paste(\"gene\", 1:10, sep = \"\")\n",
    "colnames(counts) <- paste(\"cell\", 1:10, sep = \"\")"
   ]
  },
  {
   "cell_type": "markdown",
   "id": "4ae72df2-6931-4873-9ba9-4c3b640a0a13",
   "metadata": {},
   "source": [
    "The code snippet you provided generates a matrix called counts using the rpois() function. Let's break it down step by step:\n",
    "\n",
    "rpois(100, lambda = 10) generates 100 random numbers from a Poisson distribution with a mean of 10. The Poisson distribution is commonly used to model count data. The lambda parameter specifies the mean of the distribution.\n",
    "\n",
    "matrix(rpois(100, lambda = 10), ncol=10, nrow=10) takes the 100 random numbers generated and organizes them into a matrix. The ncol argument specifies the number of columns in the matrix, and the nrow argument specifies the number of rows. In this case, it creates a 10x10 matrix.\n",
    "\n",
    "rownames(counts) <- paste(\"gene\", 1:10, sep = \"\") assigns row names to the counts matrix. The paste() function concatenates the string \"gene\" with the numbers 1 to 10, creating row names like \"gene1\", \"gene2\", and so on.\n",
    "\n",
    "colnames(counts) <- paste(\"cell\", 1:10, sep = \"\") assigns column names to the counts matrix. Similarly, it concatenates the string \"cell\" with the numbers 1 to 10 to create column names like \"cell1\", \"cell2\", and so on.\n",
    "\n",
    "In summary, the code generates a 10x10 matrix (counts) filled with random numbers drawn from a Poisson distribution with a mean of 10. It then assigns row names as \"gene1\", \"gene2\", and so on, and column names as \"cell1\", \"cell2\", and so on. This matrix can be used to store and analyze count data for genes and cells in a specific experiment or study."
   ]
  },
  {
   "cell_type": "code",
   "execution_count": null,
   "id": "01d6d626-4893-435e-b571-721bbd17c55a",
   "metadata": {},
   "outputs": [],
   "source": [
    "sce <- SingleCellExperiment(\n",
    "    assays = list(counts = counts),\n",
    "    rowData = data.frame(gene_names = paste(\"gene_name\", 1:10, sep = \"\")),\n",
    "    colData = data.frame(cell_names = paste(\"cell_name\", 1:10, sep = \"\"))\n",
    ")\n",
    "sce"
   ]
  },
  {
   "cell_type": "code",
   "execution_count": 7,
   "id": "bfdc57ba-a9bd-4efe-b57e-bbbcd9a81443",
   "metadata": {
    "tags": []
   },
   "outputs": [
    {
     "data": {
      "text/plain": [
       "class: SingleCellExperiment \n",
       "dim: 10 10 \n",
       "metadata(0):\n",
       "assays(2): counts normcounts\n",
       "rownames(10): gene1 gene2 ... gene9 gene10\n",
       "rowData names(1): gene_names\n",
       "colnames(10): cell1 cell2 ... cell9 cell10\n",
       "colData names(1): cell_names\n",
       "reducedDimNames(0):\n",
       "mainExpName: NULL\n",
       "altExpNames(0):"
      ]
     },
     "metadata": {},
     "output_type": "display_data"
    }
   ],
   "source": [
    "normcounts(sce) <- log2(counts(sce) + 1)\n",
    "sce"
   ]
  },
  {
   "cell_type": "code",
   "execution_count": 8,
   "id": "7f5c847c-f15a-4ebe-8339-7e9071fea00f",
   "metadata": {
    "tags": []
   },
   "outputs": [
    {
     "data": {
      "text/html": [
       "<style>\n",
       ".list-inline {list-style: none; margin:0; padding: 0}\n",
       ".list-inline>li {display: inline-block}\n",
       ".list-inline>li:not(:last-child)::after {content: \"\\00b7\"; padding: 0 .5ex}\n",
       "</style>\n",
       "<ol class=list-inline><li>10</li><li>10</li></ol>\n"
      ],
      "text/latex": [
       "\\begin{enumerate*}\n",
       "\\item 10\n",
       "\\item 10\n",
       "\\end{enumerate*}\n"
      ],
      "text/markdown": [
       "1. 10\n",
       "2. 10\n",
       "\n",
       "\n"
      ],
      "text/plain": [
       "[1] 10 10"
      ]
     },
     "metadata": {},
     "output_type": "display_data"
    }
   ],
   "source": [
    "dim(normcounts(sce))"
   ]
  },
  {
   "cell_type": "code",
   "execution_count": 9,
   "id": "ce2d2215-d59e-4e52-91a6-0984c999f52b",
   "metadata": {
    "tags": []
   },
   "outputs": [
    {
     "data": {
      "text/html": [
       "<table class=\"dataframe\">\n",
       "<caption>A matrix: 6 × 10 of type dbl</caption>\n",
       "<thead>\n",
       "\t<tr><th></th><th scope=col>cell1</th><th scope=col>cell2</th><th scope=col>cell3</th><th scope=col>cell4</th><th scope=col>cell5</th><th scope=col>cell6</th><th scope=col>cell7</th><th scope=col>cell8</th><th scope=col>cell9</th><th scope=col>cell10</th></tr>\n",
       "</thead>\n",
       "<tbody>\n",
       "\t<tr><th scope=row>gene1</th><td>3.459432</td><td>3.807355</td><td>3.906891</td><td>4.000000</td><td>3.584963</td><td>3.321928</td><td>4.000000</td><td>4.000000</td><td>3.321928</td><td>3.169925</td></tr>\n",
       "\t<tr><th scope=row>gene2</th><td>3.459432</td><td>3.584963</td><td>3.807355</td><td>2.584963</td><td>3.459432</td><td>3.169925</td><td>2.807355</td><td>3.807355</td><td>4.087463</td><td>3.169925</td></tr>\n",
       "\t<tr><th scope=row>gene3</th><td>3.000000</td><td>3.584963</td><td>3.169925</td><td>4.087463</td><td>3.584963</td><td>2.807355</td><td>3.807355</td><td>3.584963</td><td>3.807355</td><td>3.459432</td></tr>\n",
       "\t<tr><th scope=row>gene4</th><td>3.700440</td><td>3.000000</td><td>3.700440</td><td>3.000000</td><td>3.459432</td><td>3.321928</td><td>3.459432</td><td>3.321928</td><td>3.459432</td><td>3.459432</td></tr>\n",
       "\t<tr><th scope=row>gene5</th><td>3.584963</td><td>3.584963</td><td>3.807355</td><td>3.700440</td><td>3.584963</td><td>3.000000</td><td>3.459432</td><td>3.459432</td><td>3.000000</td><td>3.321928</td></tr>\n",
       "\t<tr><th scope=row>gene6</th><td>3.807355</td><td>4.087463</td><td>2.000000</td><td>3.807355</td><td>3.700440</td><td>3.459432</td><td>3.321928</td><td>3.321928</td><td>3.459432</td><td>3.584963</td></tr>\n",
       "</tbody>\n",
       "</table>\n"
      ],
      "text/latex": [
       "A matrix: 6 × 10 of type dbl\n",
       "\\begin{tabular}{r|llllllllll}\n",
       "  & cell1 & cell2 & cell3 & cell4 & cell5 & cell6 & cell7 & cell8 & cell9 & cell10\\\\\n",
       "\\hline\n",
       "\tgene1 & 3.459432 & 3.807355 & 3.906891 & 4.000000 & 3.584963 & 3.321928 & 4.000000 & 4.000000 & 3.321928 & 3.169925\\\\\n",
       "\tgene2 & 3.459432 & 3.584963 & 3.807355 & 2.584963 & 3.459432 & 3.169925 & 2.807355 & 3.807355 & 4.087463 & 3.169925\\\\\n",
       "\tgene3 & 3.000000 & 3.584963 & 3.169925 & 4.087463 & 3.584963 & 2.807355 & 3.807355 & 3.584963 & 3.807355 & 3.459432\\\\\n",
       "\tgene4 & 3.700440 & 3.000000 & 3.700440 & 3.000000 & 3.459432 & 3.321928 & 3.459432 & 3.321928 & 3.459432 & 3.459432\\\\\n",
       "\tgene5 & 3.584963 & 3.584963 & 3.807355 & 3.700440 & 3.584963 & 3.000000 & 3.459432 & 3.459432 & 3.000000 & 3.321928\\\\\n",
       "\tgene6 & 3.807355 & 4.087463 & 2.000000 & 3.807355 & 3.700440 & 3.459432 & 3.321928 & 3.321928 & 3.459432 & 3.584963\\\\\n",
       "\\end{tabular}\n"
      ],
      "text/markdown": [
       "\n",
       "A matrix: 6 × 10 of type dbl\n",
       "\n",
       "| <!--/--> | cell1 | cell2 | cell3 | cell4 | cell5 | cell6 | cell7 | cell8 | cell9 | cell10 |\n",
       "|---|---|---|---|---|---|---|---|---|---|---|\n",
       "| gene1 | 3.459432 | 3.807355 | 3.906891 | 4.000000 | 3.584963 | 3.321928 | 4.000000 | 4.000000 | 3.321928 | 3.169925 |\n",
       "| gene2 | 3.459432 | 3.584963 | 3.807355 | 2.584963 | 3.459432 | 3.169925 | 2.807355 | 3.807355 | 4.087463 | 3.169925 |\n",
       "| gene3 | 3.000000 | 3.584963 | 3.169925 | 4.087463 | 3.584963 | 2.807355 | 3.807355 | 3.584963 | 3.807355 | 3.459432 |\n",
       "| gene4 | 3.700440 | 3.000000 | 3.700440 | 3.000000 | 3.459432 | 3.321928 | 3.459432 | 3.321928 | 3.459432 | 3.459432 |\n",
       "| gene5 | 3.584963 | 3.584963 | 3.807355 | 3.700440 | 3.584963 | 3.000000 | 3.459432 | 3.459432 | 3.000000 | 3.321928 |\n",
       "| gene6 | 3.807355 | 4.087463 | 2.000000 | 3.807355 | 3.700440 | 3.459432 | 3.321928 | 3.321928 | 3.459432 | 3.584963 |\n",
       "\n"
      ],
      "text/plain": [
       "      cell1    cell2    cell3    cell4    cell5    cell6    cell7    cell8   \n",
       "gene1 3.459432 3.807355 3.906891 4.000000 3.584963 3.321928 4.000000 4.000000\n",
       "gene2 3.459432 3.584963 3.807355 2.584963 3.459432 3.169925 2.807355 3.807355\n",
       "gene3 3.000000 3.584963 3.169925 4.087463 3.584963 2.807355 3.807355 3.584963\n",
       "gene4 3.700440 3.000000 3.700440 3.000000 3.459432 3.321928 3.459432 3.321928\n",
       "gene5 3.584963 3.584963 3.807355 3.700440 3.584963 3.000000 3.459432 3.459432\n",
       "gene6 3.807355 4.087463 2.000000 3.807355 3.700440 3.459432 3.321928 3.321928\n",
       "      cell9    cell10  \n",
       "gene1 3.321928 3.169925\n",
       "gene2 4.087463 3.169925\n",
       "gene3 3.807355 3.459432\n",
       "gene4 3.459432 3.459432\n",
       "gene5 3.000000 3.321928\n",
       "gene6 3.459432 3.584963"
      ]
     },
     "metadata": {},
     "output_type": "display_data"
    }
   ],
   "source": [
    "head(normcounts(sce))"
   ]
  },
  {
   "cell_type": "code",
   "execution_count": 10,
   "id": "b331dab1-9fb4-4312-a5a8-c53802adcb1c",
   "metadata": {
    "tags": []
   },
   "outputs": [],
   "source": [
    "library(ggplot2)\n",
    "# library(tidyverse)\n",
    "library(tidyr)"
   ]
  },
  {
   "cell_type": "code",
   "execution_count": 11,
   "id": "64cf7060-d1f3-467d-9ce4-2a1eb5cbe90f",
   "metadata": {
    "tags": []
   },
   "outputs": [
    {
     "data": {
      "text/html": [
       "<table class=\"dataframe\">\n",
       "<caption>A data.frame: 10 × 11</caption>\n",
       "<thead>\n",
       "\t<tr><th scope=col>Gene_ids</th><th scope=col>cell1</th><th scope=col>cell2</th><th scope=col>cell3</th><th scope=col>cell4</th><th scope=col>cell5</th><th scope=col>cell6</th><th scope=col>cell7</th><th scope=col>cell8</th><th scope=col>cell9</th><th scope=col>cell10</th></tr>\n",
       "\t<tr><th scope=col>&lt;chr&gt;</th><th scope=col>&lt;int&gt;</th><th scope=col>&lt;int&gt;</th><th scope=col>&lt;int&gt;</th><th scope=col>&lt;int&gt;</th><th scope=col>&lt;int&gt;</th><th scope=col>&lt;int&gt;</th><th scope=col>&lt;int&gt;</th><th scope=col>&lt;int&gt;</th><th scope=col>&lt;int&gt;</th><th scope=col>&lt;int&gt;</th></tr>\n",
       "</thead>\n",
       "<tbody>\n",
       "\t<tr><td>gene1 </td><td> 8</td><td> 8</td><td> 3</td><td> 5</td><td> 5</td><td> 9</td><td>11</td><td> 9</td><td>13</td><td> 6</td></tr>\n",
       "\t<tr><td>gene2 </td><td>10</td><td> 2</td><td>11</td><td>13</td><td>12</td><td>12</td><td> 7</td><td>13</td><td>12</td><td>15</td></tr>\n",
       "\t<tr><td>gene3 </td><td> 7</td><td> 8</td><td>13</td><td> 8</td><td> 9</td><td> 9</td><td> 9</td><td> 5</td><td>15</td><td>12</td></tr>\n",
       "\t<tr><td>gene4 </td><td>11</td><td>10</td><td> 7</td><td>13</td><td>12</td><td>12</td><td>12</td><td> 8</td><td>11</td><td>12</td></tr>\n",
       "\t<tr><td>gene5 </td><td>14</td><td> 7</td><td> 8</td><td> 9</td><td>11</td><td>10</td><td>13</td><td>13</td><td> 5</td><td>11</td></tr>\n",
       "\t<tr><td>gene6 </td><td>12</td><td>12</td><td>11</td><td>15</td><td> 8</td><td> 7</td><td>10</td><td> 9</td><td>10</td><td>15</td></tr>\n",
       "\t<tr><td>gene7 </td><td>11</td><td>11</td><td>14</td><td>11</td><td>11</td><td> 5</td><td> 9</td><td>13</td><td>13</td><td> 7</td></tr>\n",
       "\t<tr><td>gene8 </td><td> 9</td><td>12</td><td> 9</td><td> 8</td><td> 6</td><td>14</td><td> 7</td><td>12</td><td>12</td><td>10</td></tr>\n",
       "\t<tr><td>gene9 </td><td>14</td><td>12</td><td>11</td><td> 7</td><td>10</td><td>10</td><td> 8</td><td>14</td><td> 7</td><td>10</td></tr>\n",
       "\t<tr><td>gene10</td><td>11</td><td>10</td><td> 9</td><td> 7</td><td>11</td><td>16</td><td> 8</td><td> 7</td><td> 7</td><td> 4</td></tr>\n",
       "</tbody>\n",
       "</table>\n"
      ],
      "text/latex": [
       "A data.frame: 10 × 11\n",
       "\\begin{tabular}{lllllllllll}\n",
       " Gene\\_ids & cell1 & cell2 & cell3 & cell4 & cell5 & cell6 & cell7 & cell8 & cell9 & cell10\\\\\n",
       " <chr> & <int> & <int> & <int> & <int> & <int> & <int> & <int> & <int> & <int> & <int>\\\\\n",
       "\\hline\n",
       "\t gene1  &  8 &  8 &  3 &  5 &  5 &  9 & 11 &  9 & 13 &  6\\\\\n",
       "\t gene2  & 10 &  2 & 11 & 13 & 12 & 12 &  7 & 13 & 12 & 15\\\\\n",
       "\t gene3  &  7 &  8 & 13 &  8 &  9 &  9 &  9 &  5 & 15 & 12\\\\\n",
       "\t gene4  & 11 & 10 &  7 & 13 & 12 & 12 & 12 &  8 & 11 & 12\\\\\n",
       "\t gene5  & 14 &  7 &  8 &  9 & 11 & 10 & 13 & 13 &  5 & 11\\\\\n",
       "\t gene6  & 12 & 12 & 11 & 15 &  8 &  7 & 10 &  9 & 10 & 15\\\\\n",
       "\t gene7  & 11 & 11 & 14 & 11 & 11 &  5 &  9 & 13 & 13 &  7\\\\\n",
       "\t gene8  &  9 & 12 &  9 &  8 &  6 & 14 &  7 & 12 & 12 & 10\\\\\n",
       "\t gene9  & 14 & 12 & 11 &  7 & 10 & 10 &  8 & 14 &  7 & 10\\\\\n",
       "\t gene10 & 11 & 10 &  9 &  7 & 11 & 16 &  8 &  7 &  7 &  4\\\\\n",
       "\\end{tabular}\n"
      ],
      "text/markdown": [
       "\n",
       "A data.frame: 10 × 11\n",
       "\n",
       "| Gene_ids &lt;chr&gt; | cell1 &lt;int&gt; | cell2 &lt;int&gt; | cell3 &lt;int&gt; | cell4 &lt;int&gt; | cell5 &lt;int&gt; | cell6 &lt;int&gt; | cell7 &lt;int&gt; | cell8 &lt;int&gt; | cell9 &lt;int&gt; | cell10 &lt;int&gt; |\n",
       "|---|---|---|---|---|---|---|---|---|---|---|\n",
       "| gene1  |  8 |  8 |  3 |  5 |  5 |  9 | 11 |  9 | 13 |  6 |\n",
       "| gene2  | 10 |  2 | 11 | 13 | 12 | 12 |  7 | 13 | 12 | 15 |\n",
       "| gene3  |  7 |  8 | 13 |  8 |  9 |  9 |  9 |  5 | 15 | 12 |\n",
       "| gene4  | 11 | 10 |  7 | 13 | 12 | 12 | 12 |  8 | 11 | 12 |\n",
       "| gene5  | 14 |  7 |  8 |  9 | 11 | 10 | 13 | 13 |  5 | 11 |\n",
       "| gene6  | 12 | 12 | 11 | 15 |  8 |  7 | 10 |  9 | 10 | 15 |\n",
       "| gene7  | 11 | 11 | 14 | 11 | 11 |  5 |  9 | 13 | 13 |  7 |\n",
       "| gene8  |  9 | 12 |  9 |  8 |  6 | 14 |  7 | 12 | 12 | 10 |\n",
       "| gene9  | 14 | 12 | 11 |  7 | 10 | 10 |  8 | 14 |  7 | 10 |\n",
       "| gene10 | 11 | 10 |  9 |  7 | 11 | 16 |  8 |  7 |  7 |  4 |\n",
       "\n"
      ],
      "text/plain": [
       "   Gene_ids cell1 cell2 cell3 cell4 cell5 cell6 cell7 cell8 cell9 cell10\n",
       "1  gene1     8     8     3     5     5     9    11     9    13     6    \n",
       "2  gene2    10     2    11    13    12    12     7    13    12    15    \n",
       "3  gene3     7     8    13     8     9     9     9     5    15    12    \n",
       "4  gene4    11    10     7    13    12    12    12     8    11    12    \n",
       "5  gene5    14     7     8     9    11    10    13    13     5    11    \n",
       "6  gene6    12    12    11    15     8     7    10     9    10    15    \n",
       "7  gene7    11    11    14    11    11     5     9    13    13     7    \n",
       "8  gene8     9    12     9     8     6    14     7    12    12    10    \n",
       "9  gene9    14    12    11     7    10    10     8    14     7    10    \n",
       "10 gene10   11    10     9     7    11    16     8     7     7     4    "
      ]
     },
     "metadata": {},
     "output_type": "display_data"
    }
   ],
   "source": [
    "set.seed(1)\n",
    "counts <- as.data.frame(matrix(rpois(100, lambda = 10), ncol=10, nrow=10))\n",
    "Gene_ids <- paste(\"gene\", 1:10, sep = \"\")\n",
    "colnames(counts) <- paste(\"cell\", 1:10, sep = \"\")\n",
    "counts<-data.frame(Gene_ids, counts)\n",
    "counts"
   ]
  },
  {
   "cell_type": "code",
   "execution_count": 12,
   "id": "7890c295-8835-4707-aa8c-28db815ba14c",
   "metadata": {
    "tags": []
   },
   "outputs": [
    {
     "data": {
      "image/png": "[encoded data removed]",
      "text/plain": [
       "plot without title"
      ]
     },
     "metadata": {
      "image/png": {
       "height": 420,
       "width": 420
      }
     },
     "output_type": "display_data"
    }
   ],
   "source": [
    "ggplot(data = counts, mapping = aes(x = cell1, y = cell2))"
   ]
  },
  {
   "cell_type": "code",
   "execution_count": 13,
   "id": "a2e548f0-11cc-490b-bc37-b315f018b57f",
   "metadata": {
    "tags": []
   },
   "outputs": [
    {
     "data": {
      "image/png": "[encoded data removed]",
      "text/plain": [
       "plot without title"
      ]
     },
     "metadata": {
      "image/png": {
       "height": 420,
       "width": 420
      }
     },
     "output_type": "display_data"
    }
   ],
   "source": [
    "ggplot(data = counts, mapping = aes(x = cell1, y = cell2)) + geom_point()"
   ]
  },
  {
   "cell_type": "code",
   "execution_count": 14,
   "id": "d44d2767-07df-4b0c-b37f-f3b0847aed3f",
   "metadata": {
    "tags": []
   },
   "outputs": [
    {
     "data": {
      "text/html": [
       "<table class=\"dataframe\">\n",
       "<caption>A data.frame: 6 × 3</caption>\n",
       "<thead>\n",
       "\t<tr><th></th><th scope=col>Gene_ids</th><th scope=col>Cell_ID</th><th scope=col>Counts</th></tr>\n",
       "\t<tr><th></th><th scope=col>&lt;chr&gt;</th><th scope=col>&lt;chr&gt;</th><th scope=col>&lt;int&gt;</th></tr>\n",
       "</thead>\n",
       "<tbody>\n",
       "\t<tr><th scope=row>1</th><td>gene1</td><td>cell1</td><td> 8</td></tr>\n",
       "\t<tr><th scope=row>2</th><td>gene2</td><td>cell1</td><td>10</td></tr>\n",
       "\t<tr><th scope=row>3</th><td>gene3</td><td>cell1</td><td> 7</td></tr>\n",
       "\t<tr><th scope=row>4</th><td>gene4</td><td>cell1</td><td>11</td></tr>\n",
       "\t<tr><th scope=row>5</th><td>gene5</td><td>cell1</td><td>14</td></tr>\n",
       "\t<tr><th scope=row>6</th><td>gene6</td><td>cell1</td><td>12</td></tr>\n",
       "</tbody>\n",
       "</table>\n"
      ],
      "text/latex": [
       "A data.frame: 6 × 3\n",
       "\\begin{tabular}{r|lll}\n",
       "  & Gene\\_ids & Cell\\_ID & Counts\\\\\n",
       "  & <chr> & <chr> & <int>\\\\\n",
       "\\hline\n",
       "\t1 & gene1 & cell1 &  8\\\\\n",
       "\t2 & gene2 & cell1 & 10\\\\\n",
       "\t3 & gene3 & cell1 &  7\\\\\n",
       "\t4 & gene4 & cell1 & 11\\\\\n",
       "\t5 & gene5 & cell1 & 14\\\\\n",
       "\t6 & gene6 & cell1 & 12\\\\\n",
       "\\end{tabular}\n"
      ],
      "text/markdown": [
       "\n",
       "A data.frame: 6 × 3\n",
       "\n",
       "| <!--/--> | Gene_ids &lt;chr&gt; | Cell_ID &lt;chr&gt; | Counts &lt;int&gt; |\n",
       "|---|---|---|---|\n",
       "| 1 | gene1 | cell1 |  8 |\n",
       "| 2 | gene2 | cell1 | 10 |\n",
       "| 3 | gene3 | cell1 |  7 |\n",
       "| 4 | gene4 | cell1 | 11 |\n",
       "| 5 | gene5 | cell1 | 14 |\n",
       "| 6 | gene6 | cell1 | 12 |\n",
       "\n"
      ],
      "text/plain": [
       "  Gene_ids Cell_ID Counts\n",
       "1 gene1    cell1    8    \n",
       "2 gene2    cell1   10    \n",
       "3 gene3    cell1    7    \n",
       "4 gene4    cell1   11    \n",
       "5 gene5    cell1   14    \n",
       "6 gene6    cell1   12    "
      ]
     },
     "metadata": {},
     "output_type": "display_data"
    }
   ],
   "source": [
    "counts<-gather(counts, colnames(counts)[2:11], key = 'Cell_ID', value='Counts')\n",
    "head(counts)"
   ]
  },
  {
   "cell_type": "code",
   "execution_count": 15,
   "id": "44318457-a62e-4fb9-a741-e6517a98f91a",
   "metadata": {
    "tags": []
   },
   "outputs": [
    {
     "data": {
      "image/png": "[encoded data removed]",
      "text/plain": [
       "plot without title"
      ]
     },
     "metadata": {
      "image/png": {
       "height": 420,
       "width": 420
      }
     },
     "output_type": "display_data"
    }
   ],
   "source": [
    "ggplot(counts,aes(x=Cell_ID, y=Counts)) + geom_boxplot()"
   ]
  },
  {
   "cell_type": "code",
   "execution_count": 16,
   "id": "f17be7a1-2059-4e50-870d-6dea7f035703",
   "metadata": {
    "tags": []
   },
   "outputs": [
    {
     "data": {
      "image/png": "[encoded data removed]",
      "text/plain": [
       "plot without title"
      ]
     },
     "metadata": {
      "image/png": {
       "height": 420,
       "width": 420
      }
     },
     "output_type": "display_data"
    }
   ],
   "source": [
    "library(pheatmap)\n",
    "set.seed(2)\n",
    "test = matrix(rnorm(200), 20, 10)\n",
    "test[1:10, seq(1, 10, 2)] = test[1:10, seq(1, 10, 2)] + 3\n",
    "test[11:20, seq(2, 10, 2)] = test[11:20, seq(2, 10, 2)] + 2\n",
    "test[15:20, seq(2, 10, 2)] = test[15:20, seq(2, 10, 2)] + 4\n",
    "colnames(test) = paste(\"Cell\", 1:10, sep = \"\")\n",
    "rownames(test) = paste(\"Gene\", 1:20, sep = \"\")\n",
    "pheatmap(test)"
   ]
  },
  {
   "cell_type": "code",
   "execution_count": 1,
   "id": "38b80c84-84a2-42dd-8d86-d09b4877e96e",
   "metadata": {
    "tags": []
   },
   "outputs": [],
   "source": [
    "library(ggplot2)"
   ]
  },
  {
   "cell_type": "code",
   "execution_count": 3,
   "id": "9e5ef1a4-0156-497a-bfe5-440de3617e4c",
   "metadata": {
    "tags": []
   },
   "outputs": [
    {
     "name": "stderr",
     "output_type": "stream",
     "text": [
      "Loading required package: remotes\n",
      "\n",
      "Downloading GitHub repo sinhrks/ggfortify@HEAD\n",
      "\n"
     ]
    },
    {
     "name": "stdout",
     "output_type": "stream",
     "text": [
      "stringi     (NA    -> 1.7.12) [CRAN]\n",
      "viridisLite (0.4.1 -> 0.4.2 ) [CRAN]\n"
     ]
    },
    {
     "name": "stderr",
     "output_type": "stream",
     "text": [
      "Installing 2 packages: stringi, viridisLite\n",
      "\n",
      "Warning message in download.file(url, destfile, method, mode = \"wb\", ...):\n",
      "“downloaded length 2031616 != reported length 7602365”\n",
      "Warning message in download.file(url, destfile, method, mode = \"wb\", ...):\n",
      "“URL 'https://cran.r-project.org/src/contrib/stringi_1.7.12.tar.gz': Timeout of 60 seconds was reached”\n"
     ]
    },
    {
     "name": "stdout",
     "output_type": "stream",
     "text": [
      "Error in download.file(url, destfile, method, mode = \"wb\", ...) : \n",
      "  download from 'https://cran.r-project.org/src/contrib/stringi_1.7.12.tar.gz' failed\n"
     ]
    },
    {
     "name": "stderr",
     "output_type": "stream",
     "text": [
      "Warning message in download.packages(pkgs, destdir = tmpd, available = available, :\n",
      "“download of package ‘stringi’ failed”\n",
      "Updating HTML index of packages in '.Library'\n",
      "\n",
      "Making 'packages.html' ...\n",
      " done\n",
      "\n"
     ]
    },
    {
     "name": "stdout",
     "output_type": "stream",
     "text": [
      "\u001b[36m──\u001b[39m \u001b[36mR CMD build\u001b[39m \u001b[36m─────────────────────────────────────────────────────────────────\u001b[39m\n",
      "* checking for file ‘/tmp/Rtmpms61Cz/remotesf392132ccc2/sinhrks-ggfortify-ed61727/DESCRIPTION’ ... OK\n",
      "* preparing ‘ggfortify’:\n",
      "* checking DESCRIPTION meta-information ... OK\n",
      "* checking for LF line-endings in source and make files and shell scripts\n",
      "* checking for empty or unneeded directories\n",
      "Removed empty directory ‘ggfortify/.github’\n",
      "* building ‘ggfortify_0.4.16.tar.gz’\n",
      "\n"
     ]
    },
    {
     "name": "stderr",
     "output_type": "stream",
     "text": [
      "Warning message in i.p(...):\n",
      "“installation of package ‘/tmp/Rtmpms61Cz/filef3954737591/ggfortify_0.4.16.tar.gz’ had non-zero exit status”\n"
     ]
    }
   ],
   "source": [
    "if (!require(\"remotes\")) install.packages(\"remotes\")\n",
    "remotes::install_github('sinhrks/ggfortify')"
   ]
  },
  {
   "cell_type": "code",
   "execution_count": 4,
   "id": "88f34027-457f-4238-9db1-5c71a351eca4",
   "metadata": {
    "tags": []
   },
   "outputs": [
    {
     "ename": "ERROR",
     "evalue": "Error: package or namespace load failed for ‘ggfortify’ in loadNamespace(i, c(lib.loc, .libPaths()), versionCheck = vI[[i]]):\n there is no package called ‘stringi’\n",
     "output_type": "error",
     "traceback": [
      "Error: package or namespace load failed for ‘ggfortify’ in loadNamespace(i, c(lib.loc, .libPaths()), versionCheck = vI[[i]]):\n there is no package called ‘stringi’\nTraceback:\n",
      "1. library(ggfortify)",
      "2. tryCatch({\n .     attr(package, \"LibPath\") <- which.lib.loc\n .     ns <- loadNamespace(package, lib.loc)\n .     env <- attachNamespace(ns, pos = pos, deps, exclude, include.only)\n . }, error = function(e) {\n .     P <- if (!is.null(cc <- conditionCall(e))) \n .         paste(\" in\", deparse(cc)[1L])\n .     else \"\"\n .     msg <- gettextf(\"package or namespace load failed for %s%s:\\n %s\", \n .         sQuote(package), P, conditionMessage(e))\n .     if (logical.return && !quietly) \n .         message(paste(\"Error:\", msg), domain = NA)\n .     else stop(msg, call. = FALSE, domain = NA)\n . })",
      "3. tryCatchList(expr, classes, parentenv, handlers)",
      "4. tryCatchOne(expr, names, parentenv, handlers[[1L]])",
      "5. value[[3L]](cond)",
      "6. stop(msg, call. = FALSE, domain = NA)"
     ]
    }
   ],
   "source": [
    "library(ggfortify)"
   ]
  },
  {
   "cell_type": "code",
   "execution_count": null,
   "id": "d300d95e-93b5-41d1-b18c-d6f4485579de",
   "metadata": {
    "tags": []
   },
   "outputs": [],
   "source": [
    "\n",
    "Principal_Components<-prcomp(test)\n",
    "autoplot(Principal_Components, label=TRUE)"
   ]
  },
  {
   "cell_type": "code",
   "execution_count": 5,
   "id": "36bd3248-de00-4ca4-bb67-94e86436db78",
   "metadata": {},
   "outputs": [
    {
     "ename": "ERROR",
     "evalue": "Error in eval(expr, envir, enclos): object 'R' not found\n",
     "output_type": "error",
     "traceback": [
      "Error in eval(expr, envir, enclos): object 'R' not found\nTraceback:\n"
     ]
    }
   ],
   "source": [
    "R"
   ]
  },
  {
   "cell_type": "code",
   "execution_count": null,
   "id": "ccfa9cfd-32ad-43d6-8d1d-9a9050bf3dcd",
   "metadata": {
    "tags": []
   },
   "outputs": [],
   "source": [
    "tung_counts <- read.table(\"data/tung/molecules.txt\", sep = \"\\t\")\n",
    "tung_annotation <- read.table(\"data/tung/annotation.txt\", sep = \"\\t\", header = TRUE)"
   ]
  }
 ],
 "metadata": {
  "kernelspec": {
   "display_name": "IR-4.2",
   "language": "R",
   "name": "ir"
  },
  "language_info": {
   "codemirror_mode": "r",
   "file_extension": ".r",
   "mimetype": "text/x-r-source",
   "name": "R",
   "pygments_lexer": "r",
   "version": "4.2.3"
  }
 },
 "nbformat": 4,
 "nbformat_minor": 5
}
