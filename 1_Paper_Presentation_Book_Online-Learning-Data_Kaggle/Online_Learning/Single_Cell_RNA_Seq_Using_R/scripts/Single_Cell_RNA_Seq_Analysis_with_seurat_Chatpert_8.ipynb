{
 "cells": [
  {
   "cell_type": "markdown",
   "id": "75d9b89a-cb67-47f0-bbb7-453991fba19f",
   "metadata": {},
   "source": [
    "## **8 Single cell RNA-seq analysis using Seurat** ## \n",
    "\n",
    "- > This vignette should introduce you to some typical tasks, using Seurat (version 3) eco-system. \n",
    "- > Seurat vignettes are available here; however, they default to the current latest Seurat version (version 4). \n",
    "- > Previous vignettes are available from here.\n",
    "\n",
    "- > Let’s now load all the libraries that will be needed for the tutorial."
   ]
  },
  {
   "cell_type": "code",
   "execution_count": 2,
   "id": "78d82774-03d4-4a34-88a0-79b9e06e56af",
   "metadata": {
    "tags": []
   },
   "outputs": [],
   "source": [
    "library(Seurat)\n",
    "library(ggplot2)\n",
    "library(SingleR)\n",
    "library(dplyr)\n",
    "library(celldex)\n",
    "library(RColorBrewer)\n",
    "library(SingleCellExperiment)"
   ]
  },
  {
   "cell_type": "markdown",
   "id": "20ca6014-ed30-41aa-b530-0c24c5f94b53",
   "metadata": {},
   "source": [
    "### **8.1 Basic quality control and filtering** ###\n",
    "\n",
    "- > We start the analysis after two preliminary steps have been completed: \n",
    "    - > 1) ambient RNA correction using soupX; \n",
    "    - >2) doublet detection using scrublet. Both vignettes can be found in this repository.\n",
    "\n",
    "- > To start the analysis, let’s read in the SoupX-corrected matrices (see QC Chapter). \n",
    "- > SoupX output only has gene symbols available, so no additional options are needed. \n",
    "- > If starting from typical Cell Ranger output, it’s possible to choose if you want to use Ensemble ID or gene symbol for the count matrix. \n",
    "- > This is done using gene.column option; default is ‘2,’ which is gene symbol."
   ]
  },
  {
   "cell_type": "code",
   "execution_count": 5,
   "id": "d3a79563-2c2d-4b45-bfa9-73bb36b8b625",
   "metadata": {
    "tags": []
   },
   "outputs": [],
   "source": [
    "adj.matrix <- Read10X(\"/home/asus/Desktop/CHRF_Project/Single_cell/15.Single_Cell_RNA_Seq_Using_R/scRNA.seq.course/data/update/soupX_pbmc10k_filt\")"
   ]
  },
  {
   "cell_type": "markdown",
   "id": "bf0e8e8f-794d-4e6c-b35e-576709c660f2",
   "metadata": {},
   "source": [
    "- > After this, we will make a Seurat object. \n",
    "- > Seurat object summary shows us that 1) number of cells (“samples”) approximately matches the description of each dataset (10194); 2) there are 36601 genes (features) in the reference."
   ]
  },
  {
   "cell_type": "code",
   "execution_count": 6,
   "id": "f48edf85-24a3-4c4c-b22d-ff11c01b51b9",
   "metadata": {
    "tags": []
   },
   "outputs": [
    {
     "data": {
      "text/plain": [
       "An object of class Seurat \n",
       "36601 features across 10194 samples within 1 assay \n",
       "Active assay: RNA (36601 features, 0 variable features)"
      ]
     },
     "metadata": {},
     "output_type": "display_data"
    }
   ],
   "source": [
    "srat <- CreateSeuratObject(adj.matrix,project = \"pbmc10k\") \n",
    "srat"
   ]
  },
  {
   "cell_type": "markdown",
   "id": "a99a72ca-a7d3-42f0-ba00-ba4d0f3bef6a",
   "metadata": {
    "tags": []
   },
   "source": [
    "- > Let’s erase adj.matrix from memory to save RAM, and look at the Seurat object a bit closer. str commant allows us to see all fields of the class:"
   ]
  },
  {
   "cell_type": "code",
   "execution_count": 8,
   "id": "4d4285a5-14d6-4ce5-8dd3-3d43265e72ca",
   "metadata": {
    "tags": []
   },
   "outputs": [
    {
     "name": "stdout",
     "output_type": "stream",
     "text": [
      "Formal class 'Seurat' [package \"SeuratObject\"] with 13 slots\n",
      "  ..@ assays      :List of 1\n",
      "  .. ..$ RNA:Formal class 'Assay' [package \"SeuratObject\"] with 8 slots\n",
      "  .. .. .. ..@ counts       :Formal class 'dgCMatrix' [package \"Matrix\"] with 6 slots\n",
      "  .. .. .. .. .. ..@ i       : int [1:24330253] 25 30 32 42 43 44 51 59 60 62 ...\n",
      "  .. .. .. .. .. ..@ p       : int [1:10195] 0 4803 7036 11360 11703 15846 18178 20413 22584 27802 ...\n",
      "  .. .. .. .. .. ..@ Dim     : int [1:2] 36601 10194\n",
      "  .. .. .. .. .. ..@ Dimnames:List of 2\n",
      "  .. .. .. .. .. .. ..$ : chr [1:36601] \"MIR1302-2HG\" \"FAM138A\" \"OR4F5\" \"AL627309.1\" ...\n",
      "  .. .. .. .. .. .. ..$ : chr [1:10194] \"AAACCCACATAACTCG-1\" \"AAACCCACATGTAACC-1\" \"AAACCCAGTGAGTCAG-1\" \"AAACCCAGTGCTTATG-1\" ...\n",
      "  .. .. .. .. .. ..@ x       : num [1:24330253] 1 2 1 1 1 3 1 1 1 1 ...\n",
      "  .. .. .. .. .. ..@ factors : list()\n",
      "  .. .. .. ..@ data         :Formal class 'dgCMatrix' [package \"Matrix\"] with 6 slots\n",
      "  .. .. .. .. .. ..@ i       : int [1:24330253] 25 30 32 42 43 44 51 59 60 62 ...\n",
      "  .. .. .. .. .. ..@ p       : int [1:10195] 0 4803 7036 11360 11703 15846 18178 20413 22584 27802 ...\n",
      "  .. .. .. .. .. ..@ Dim     : int [1:2] 36601 10194\n",
      "  .. .. .. .. .. ..@ Dimnames:List of 2\n",
      "  .. .. .. .. .. .. ..$ : chr [1:36601] \"MIR1302-2HG\" \"FAM138A\" \"OR4F5\" \"AL627309.1\" ...\n",
      "  .. .. .. .. .. .. ..$ : chr [1:10194] \"AAACCCACATAACTCG-1\" \"AAACCCACATGTAACC-1\" \"AAACCCAGTGAGTCAG-1\" \"AAACCCAGTGCTTATG-1\" ...\n",
      "  .. .. .. .. .. ..@ x       : num [1:24330253] 1 2 1 1 1 3 1 1 1 1 ...\n",
      "  .. .. .. .. .. ..@ factors : list()\n",
      "  .. .. .. ..@ scale.data   : num[0 , 0 ] \n",
      "  .. .. .. ..@ key          : chr \"rna_\"\n",
      "  .. .. .. ..@ assay.orig   : NULL\n",
      "  .. .. .. ..@ var.features : logi(0) \n",
      "  .. .. .. ..@ meta.features:'data.frame':\t36601 obs. of  0 variables\n",
      "  .. .. .. ..@ misc         : list()\n",
      "  ..@ meta.data   :'data.frame':\t10194 obs. of  3 variables:\n",
      "  .. ..$ orig.ident  : Factor w/ 1 level \"pbmc10k\": 1 1 1 1 1 1 1 1 1 1 ...\n",
      "  .. ..$ nCount_RNA  : num [1:10194] 22196 7630 21358 857 15007 ...\n",
      "  .. ..$ nFeature_RNA: int [1:10194] 4734 2191 4246 342 4075 2285 2167 2151 5134 3037 ...\n",
      "  ..@ active.assay: chr \"RNA\"\n",
      "  ..@ active.ident: Factor w/ 1 level \"pbmc10k\": 1 1 1 1 1 1 1 1 1 1 ...\n",
      "  .. ..- attr(*, \"names\")= chr [1:10194] \"AAACCCACATAACTCG-1\" \"AAACCCACATGTAACC-1\" \"AAACCCAGTGAGTCAG-1\" \"AAACCCAGTGCTTATG-1\" ...\n",
      "  ..@ graphs      : list()\n",
      "  ..@ neighbors   : list()\n",
      "  ..@ reductions  : list()\n",
      "  ..@ images      : list()\n",
      "  ..@ project.name: chr \"pbmc10k\"\n",
      "  ..@ misc        : list()\n",
      "  ..@ version     :Classes 'package_version', 'numeric_version'  hidden list of 1\n",
      "  .. ..$ : int [1:3] 4 1 3\n",
      "  ..@ commands    : list()\n",
      "  ..@ tools       : list()\n"
     ]
    }
   ],
   "source": [
    "adj.matrix <- NULL\n",
    "str(srat)"
   ]
  },
  {
   "cell_type": "markdown",
   "id": "9a569da2-59d4-4e62-8dd6-ed7ec0909512",
   "metadata": {},
   "source": [
    "- > Meta.data is the most important field for next steps. \n",
    "- > It can be acessed using both @ and [[]] operators. \n",
    "- > Right now it has 3 fields per celL: dataset ID, number of UMI reads detected per cell (nCount_RNA), and the number of expressed (detected) genes per same cell (nFeature_RNA)."
   ]
  },
  {
   "cell_type": "code",
   "execution_count": 9,
   "id": "e62d06d1-fcb2-41c7-9d78-0066bd2c7176",
   "metadata": {
    "tags": []
   },
   "outputs": [
    {
     "data": {
      "text/html": [
       "<style>\n",
       ".list-inline {list-style: none; margin:0; padding: 0}\n",
       ".list-inline>li {display: inline-block}\n",
       ".list-inline>li:not(:last-child)::after {content: \"\\00b7\"; padding: 0 .5ex}\n",
       "</style>\n",
       "<ol class=list-inline><li>10194</li><li>3</li></ol>\n"
      ],
      "text/latex": [
       "\\begin{enumerate*}\n",
       "\\item 10194\n",
       "\\item 3\n",
       "\\end{enumerate*}\n"
      ],
      "text/markdown": [
       "1. 10194\n",
       "2. 3\n",
       "\n",
       "\n"
      ],
      "text/plain": [
       "[1] 10194     3"
      ]
     },
     "metadata": {},
     "output_type": "display_data"
    }
   ],
   "source": [
    "meta <- srat@meta.data\n",
    "dim(meta)"
   ]
  },
  {
   "cell_type": "code",
   "execution_count": 10,
   "id": "ec949cc3-dfe2-4635-9320-b21e874b8f74",
   "metadata": {
    "tags": []
   },
   "outputs": [
    {
     "data": {
      "text/html": [
       "<table class=\"dataframe\">\n",
       "<caption>A data.frame: 6 × 3</caption>\n",
       "<thead>\n",
       "\t<tr><th></th><th scope=col>orig.ident</th><th scope=col>nCount_RNA</th><th scope=col>nFeature_RNA</th></tr>\n",
       "\t<tr><th></th><th scope=col>&lt;fct&gt;</th><th scope=col>&lt;dbl&gt;</th><th scope=col>&lt;int&gt;</th></tr>\n",
       "</thead>\n",
       "<tbody>\n",
       "\t<tr><th scope=row>AAACCCACATAACTCG-1</th><td>pbmc10k</td><td>22196</td><td>4734</td></tr>\n",
       "\t<tr><th scope=row>AAACCCACATGTAACC-1</th><td>pbmc10k</td><td> 7630</td><td>2191</td></tr>\n",
       "\t<tr><th scope=row>AAACCCAGTGAGTCAG-1</th><td>pbmc10k</td><td>21358</td><td>4246</td></tr>\n",
       "\t<tr><th scope=row>AAACCCAGTGCTTATG-1</th><td>pbmc10k</td><td>  857</td><td> 342</td></tr>\n",
       "\t<tr><th scope=row>AAACGAACAGTCAGTT-1</th><td>pbmc10k</td><td>15007</td><td>4075</td></tr>\n",
       "\t<tr><th scope=row>AAACGAACATTCGGGC-1</th><td>pbmc10k</td><td> 9855</td><td>2285</td></tr>\n",
       "</tbody>\n",
       "</table>\n"
      ],
      "text/latex": [
       "A data.frame: 6 × 3\n",
       "\\begin{tabular}{r|lll}\n",
       "  & orig.ident & nCount\\_RNA & nFeature\\_RNA\\\\\n",
       "  & <fct> & <dbl> & <int>\\\\\n",
       "\\hline\n",
       "\tAAACCCACATAACTCG-1 & pbmc10k & 22196 & 4734\\\\\n",
       "\tAAACCCACATGTAACC-1 & pbmc10k &  7630 & 2191\\\\\n",
       "\tAAACCCAGTGAGTCAG-1 & pbmc10k & 21358 & 4246\\\\\n",
       "\tAAACCCAGTGCTTATG-1 & pbmc10k &   857 &  342\\\\\n",
       "\tAAACGAACAGTCAGTT-1 & pbmc10k & 15007 & 4075\\\\\n",
       "\tAAACGAACATTCGGGC-1 & pbmc10k &  9855 & 2285\\\\\n",
       "\\end{tabular}\n"
      ],
      "text/markdown": [
       "\n",
       "A data.frame: 6 × 3\n",
       "\n",
       "| <!--/--> | orig.ident &lt;fct&gt; | nCount_RNA &lt;dbl&gt; | nFeature_RNA &lt;int&gt; |\n",
       "|---|---|---|---|\n",
       "| AAACCCACATAACTCG-1 | pbmc10k | 22196 | 4734 |\n",
       "| AAACCCACATGTAACC-1 | pbmc10k |  7630 | 2191 |\n",
       "| AAACCCAGTGAGTCAG-1 | pbmc10k | 21358 | 4246 |\n",
       "| AAACCCAGTGCTTATG-1 | pbmc10k |   857 |  342 |\n",
       "| AAACGAACAGTCAGTT-1 | pbmc10k | 15007 | 4075 |\n",
       "| AAACGAACATTCGGGC-1 | pbmc10k |  9855 | 2285 |\n",
       "\n"
      ],
      "text/plain": [
       "                   orig.ident nCount_RNA nFeature_RNA\n",
       "AAACCCACATAACTCG-1 pbmc10k    22196      4734        \n",
       "AAACCCACATGTAACC-1 pbmc10k     7630      2191        \n",
       "AAACCCAGTGAGTCAG-1 pbmc10k    21358      4246        \n",
       "AAACCCAGTGCTTATG-1 pbmc10k      857       342        \n",
       "AAACGAACAGTCAGTT-1 pbmc10k    15007      4075        \n",
       "AAACGAACATTCGGGC-1 pbmc10k     9855      2285        "
      ]
     },
     "metadata": {},
     "output_type": "display_data"
    }
   ],
   "source": [
    "head(meta)"
   ]
  },
  {
   "cell_type": "code",
   "execution_count": 11,
   "id": "e5ce23bc-8f63-4d6a-9dc5-0af0bb2c7ed6",
   "metadata": {
    "tags": []
   },
   "outputs": [
    {
     "data": {
      "text/plain": [
       "   Min. 1st Qu.  Median    Mean 3rd Qu.    Max. \n",
       "    499    5549    7574    8902   10730   90732 "
      ]
     },
     "metadata": {},
     "output_type": "display_data"
    }
   ],
   "source": [
    "summary(meta$nCount_RNA)"
   ]
  },
  {
   "cell_type": "code",
   "execution_count": 12,
   "id": "ae443ba8-1d21-4fc1-b7ed-6935f5be4149",
   "metadata": {
    "tags": []
   },
   "outputs": [
    {
     "data": {
      "text/plain": [
       "   Min. 1st Qu.  Median    Mean 3rd Qu.    Max. \n",
       "     47    1725    2113    2348    2948    7265 "
      ]
     },
     "metadata": {},
     "output_type": "display_data"
    }
   ],
   "source": [
    "summary(meta$nFeature_RNA)"
   ]
  },
  {
   "cell_type": "markdown",
   "id": "4dda12cb-4a36-45a6-807a-01ce70893ea1",
   "metadata": {},
   "source": [
    "Let’s add several more values useful in diagnostics of cell quality. Michochondrial genes are useful indicators of cell state. For mouse datasets, change pattern to “Mt-,” or explicitly list gene IDs with the features = … option."
   ]
  },
  {
   "cell_type": "code",
   "execution_count": null,
   "id": "a1485e89-7e54-49dd-b15f-9d0e3afa849d",
   "metadata": {},
   "outputs": [],
   "source": []
  },
  {
   "cell_type": "code",
   "execution_count": null,
   "id": "b87624fd-d13f-4117-9ffc-801b7ccd7d83",
   "metadata": {},
   "outputs": [],
   "source": []
  },
  {
   "cell_type": "code",
   "execution_count": null,
   "id": "5a2afa61-30a9-4ff9-bb18-b146d6294b43",
   "metadata": {},
   "outputs": [],
   "source": []
  },
  {
   "cell_type": "code",
   "execution_count": null,
   "id": "681d8568-9bb0-41ac-9be8-5165c3e9bd68",
   "metadata": {},
   "outputs": [],
   "source": []
  },
  {
   "cell_type": "code",
   "execution_count": null,
   "id": "92550ccc-6bb4-48f7-89f9-f311a1530c02",
   "metadata": {},
   "outputs": [],
   "source": []
  },
  {
   "cell_type": "code",
   "execution_count": null,
   "id": "e94f72eb-6bd4-46b9-bd64-625cf933a0f8",
   "metadata": {},
   "outputs": [],
   "source": []
  },
  {
   "cell_type": "code",
   "execution_count": null,
   "id": "647d6761-433e-4d6a-8e75-ae618a4b5795",
   "metadata": {},
   "outputs": [],
   "source": []
  },
  {
   "cell_type": "code",
   "execution_count": null,
   "id": "74559ce3-53bb-4263-a587-59463cd75e56",
   "metadata": {},
   "outputs": [],
   "source": []
  },
  {
   "cell_type": "code",
   "execution_count": null,
   "id": "c082e0dc-653b-4a33-9fe3-60722ca9efea",
   "metadata": {},
   "outputs": [],
   "source": []
  },
  {
   "cell_type": "code",
   "execution_count": null,
   "id": "b79f4876-6b03-4f70-a464-f3755492e4b5",
   "metadata": {},
   "outputs": [],
   "source": []
  },
  {
   "cell_type": "code",
   "execution_count": null,
   "id": "d4942b06-1192-4764-bff3-317caf67ff27",
   "metadata": {},
   "outputs": [],
   "source": []
  },
  {
   "cell_type": "code",
   "execution_count": null,
   "id": "6954f5a4-babd-4a0e-a1d0-16d201fc1036",
   "metadata": {},
   "outputs": [],
   "source": []
  }
 ],
 "metadata": {
  "kernelspec": {
   "display_name": "IR-4.2",
   "language": "R",
   "name": "ir"
  },
  "language_info": {
   "codemirror_mode": "r",
   "file_extension": ".r",
   "mimetype": "text/x-r-source",
   "name": "R",
   "pygments_lexer": "r",
   "version": "4.2.3"
  }
 },
 "nbformat": 4,
 "nbformat_minor": 5
}
