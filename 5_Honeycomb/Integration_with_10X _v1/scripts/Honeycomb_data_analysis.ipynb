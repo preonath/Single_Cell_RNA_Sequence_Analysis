{
 "cells": [
  {
   "cell_type": "markdown",
   "id": "03ac954b-1c5e-456a-80bb-b0543d539d86",
   "metadata": {},
   "source": [
    "#### **Package installation and loading** ####\n",
    "The below packages need to be installed prior to running this vignette. Code for package installation is below. There may be additional dependencies required by these packages you may have to install depending on your R environment.\n",
    "\n",
    "If needed, install the packages using the code below"
   ]
  },
  {
   "cell_type": "code",
   "execution_count": 1,
   "id": "a73b68b4-49b3-43ae-abd7-db7f7c8d1dba",
   "metadata": {
    "tags": []
   },
   "outputs": [],
   "source": [
    "# install.packages(\"tidyverse\")\n",
    "# install.packages(\"Seurat\")\n",
    "# install.packages(\"HGNChelper\")\n",
    "# install.packages(\"openxlsx\")\n",
    "# install.packages(\"DT\")"
   ]
  },
  {
   "cell_type": "markdown",
   "id": "3d706ce9-afc3-478d-b780-f702163d7855",
   "metadata": {},
   "source": [
    "#### **Load the libraries with the code below.** ####"
   ]
  },
  {
   "cell_type": "code",
   "execution_count": 2,
   "id": "898592b2-55f4-4b4d-a255-38133a7a07a5",
   "metadata": {
    "tags": []
   },
   "outputs": [
    {
     "name": "stderr",
     "output_type": "stream",
     "text": [
      "Warning message:\n",
      "“package ‘purrr’ was built under R version 4.3.1”\n",
      "Warning message:\n",
      "“package ‘lubridate’ was built under R version 4.3.1”\n",
      "── \u001b[1mAttaching core tidyverse packages\u001b[22m ──────────────────────── tidyverse 2.0.0 ──\n",
      "\u001b[32m✔\u001b[39m \u001b[34mdplyr    \u001b[39m 1.1.2     \u001b[32m✔\u001b[39m \u001b[34mreadr    \u001b[39m 2.1.4\n",
      "\u001b[32m✔\u001b[39m \u001b[34mforcats  \u001b[39m 1.0.0     \u001b[32m✔\u001b[39m \u001b[34mstringr  \u001b[39m 1.5.0\n",
      "\u001b[32m✔\u001b[39m \u001b[34mggplot2  \u001b[39m 3.4.4     \u001b[32m✔\u001b[39m \u001b[34mtibble   \u001b[39m 3.2.1\n",
      "\u001b[32m✔\u001b[39m \u001b[34mlubridate\u001b[39m 1.9.3     \u001b[32m✔\u001b[39m \u001b[34mtidyr    \u001b[39m 1.3.0\n",
      "\u001b[32m✔\u001b[39m \u001b[34mpurrr    \u001b[39m 1.0.2     \n",
      "── \u001b[1mConflicts\u001b[22m ────────────────────────────────────────── tidyverse_conflicts() ──\n",
      "\u001b[31m✖\u001b[39m \u001b[34mdplyr\u001b[39m::\u001b[32mfilter()\u001b[39m masks \u001b[34mstats\u001b[39m::filter()\n",
      "\u001b[31m✖\u001b[39m \u001b[34mdplyr\u001b[39m::\u001b[32mlag()\u001b[39m    masks \u001b[34mstats\u001b[39m::lag()\n",
      "\u001b[36mℹ\u001b[39m Use the conflicted package (\u001b[3m\u001b[34m<http://conflicted.r-lib.org/>\u001b[39m\u001b[23m) to force all conflicts to become errors\n"
     ]
    },
    {
     "ename": "ERROR",
     "evalue": "Error in library(Seurat): there is no package called ‘Seurat’\n",
     "output_type": "error",
     "traceback": [
      "Error in library(Seurat): there is no package called ‘Seurat’\nTraceback:\n",
      "1. library(Seurat)"
     ]
    }
   ],
   "source": [
    "library(tidyverse)\n",
    "library(Seurat)\n",
    "library(HGNChelper)\n",
    "library(openxlsx)\n",
    "library(DT)"
   ]
  },
  {
   "cell_type": "markdown",
   "id": "adbcf19e-ccca-4a35-b180-60a5020d4250",
   "metadata": {},
   "source": [
    "#### **Copying BeeNet/BeeNetPLUS output files from Google Cloud** ####\n",
    "The code below loads your R object from the Google Cloud Platform Bucket. You will need to replace code where outlined below:m"
   ]
  },
  {
   "cell_type": "code",
   "execution_count": null,
   "id": "0e8cde0c-c7ec-4525-ad40-e8baee2b93bc",
   "metadata": {},
   "outputs": [],
   "source": [
    "system(\"mkdir -p data\")\n",
    "\n",
    "#Replace the URL with the link to the R object output by BeeNetPLUS or your own downstream R object. \n",
    "#Navigate to your Google Cloud output directory and locate the .tgz object or R object and copy the path into the code below:\n",
    "system(\"gsutil -m cp gs://path-to-data ./data\")\n",
    "\n",
    "#Unzip the file\n",
    "system(\"tar -zxf data/*tgz -C ./data\")"
   ]
  },
  {
   "cell_type": "markdown",
   "id": "55be8fe4-6ac7-4d82-990a-4f01952b4911",
   "metadata": {},
   "source": [
    "#### **Load data** ####\n",
    "##### **HIVE scRNAseq data** #####\n",
    "Load your R object into the environment. For BeeNetPLUSv1.0 users, change the name of the object using the code below.\n",
    "\n",
    "The R object below called umi_seurat contains data from HIVE scRNAseq data from blood."
   ]
  },
  {
   "cell_type": "code",
   "execution_count": null,
   "id": "813fa83d-d2b7-4848-8d00-bf85011c9d6a",
   "metadata": {},
   "outputs": [],
   "source": [
    "#Replace the file path for the R object and load in the R object\n",
    "load(\"./data/Name_of_File.Rdata\")"
   ]
  },
  {
   "cell_type": "code",
   "execution_count": null,
   "id": "1fa2368c-ac99-4a83-b682-26350793cc18",
   "metadata": {},
   "outputs": [],
   "source": [
    "# Add a platform metadata column\n",
    "umi_seurat$platform <- \"HIVE\"\n",
    "\n",
    "# Changing name of object\n",
    "HIVE <- umi_seurat\n",
    "remove(umi_seurat)"
   ]
  },
  {
   "cell_type": "markdown",
   "id": "2133beb2-8c82-4751-ab92-750b026766f5",
   "metadata": {},
   "source": [
    "To generate an R object from count matrices from BeeNet, see our Seurat Analysis Tutorial."
   ]
  },
  {
   "cell_type": "markdown",
   "id": "f89f80d1-e9d7-4523-8167-5242296d75ac",
   "metadata": {},
   "source": [
    "#### **10X data** ####\n",
    "Load matching 10X data and create an R object. The count matrix for 10x data is typically in a folder named filtered_featured_bc_matrix. This code below reads in the data and creates one Seurat object containing the 10x data.\n",
    "\n"
   ]
  },
  {
   "cell_type": "code",
   "execution_count": null,
   "id": "a5a16a27-3a90-4d09-9ba2-5cc93ae6e784",
   "metadata": {},
   "outputs": [],
   "source": [
    "# list the filtered_featured_bc_matrix folders for each sample\n",
    "count_folder_10x <- \"path_to_10x_featured_filtered_bc_matrix_folder/\""
   ]
  },
  {
   "cell_type": "code",
   "execution_count": null,
   "id": "f43574b1-6ae3-4edf-be3b-ca34e96c092d",
   "metadata": {},
   "outputs": [],
   "source": [
    "# Create Seurat objects for each sample\n",
    "seurat_10x <- CreateSeuratObject(counts = Read10X(count_folder_10x))\n",
    "\n",
    "# Add platform information\n",
    "seurat_10x$platform <- \"10x\""
   ]
  },
  {
   "cell_type": "markdown",
   "id": "14cd1809-308a-4dce-afa2-edd642faa774",
   "metadata": {},
   "source": [
    "#### **Merge data** ####\n",
    "Without any integration, you can merge the two Seurat objects to create one object. However, the differences in the two platforms platforms cause cells to cluster by platform instead of by cell type. Integration will allow you to analyze the data for biological, rather than technical, variation.\n",
    "\n"
   ]
  },
  {
   "cell_type": "code",
   "execution_count": null,
   "id": "c84ab3ae-de30-4e5d-b369-9f3df6383f65",
   "metadata": {},
   "outputs": [],
   "source": [
    "# merging 2 datasets without integration\n",
    "obj <- merge(HIVE, seurat_10x)\n",
    "\n",
    "# Cluster new object\n",
    "obj <- NormalizeData(obj)\n",
    "obj <- FindVariableFeatures(obj, selection.method = \"vst\", nfeatures = 2000)\n",
    "obj <- ScaleData(obj)\n",
    "obj <- RunPCA(obj, verbose = FALSE)\n",
    "obj <- RunUMAP(obj, dims=1:30,verbose = FALSE)\n",
    "obj <- FindNeighbors(obj,verbose = FALSE)\n",
    "obj <- FindClusters(obj, verbose = FALSE)\n",
    "obj <- BuildClusterTree(obj,reorder=TRUE,reorder.numeric=TRUE)\n",
    "obj$seurat_clusters <- obj$tree.ident\n",
    "\n",
    "# Plot results\n",
    "DimPlot(obj, group.by = \"platform\", cols = c(\"grey\", \"orange\"))"
   ]
  },
  {
   "cell_type": "markdown",
   "id": "52ccbbb4-ebbd-431c-ab66-7070d02aefeb",
   "metadata": {},
   "source": [
    "#### **Integrating data** ####\n",
    "The two data sets can be integrated using Seurat functions. First, identify features for integration using SelectIntegrationFeatures(). Next, find integration anchors using FindIntegrationAnchors(). Finally, integrate the data using IntegrateData(). Integration creates a new assay called “integrated”. This assay automatically becomes the default assay in the object and contains variable features that have been integrated. The full data sets for each sample remain in the object in the RNA assay.\n",
    "\n",
    "The resulting data shows that data from both platforms can integrate together and clustering occurs by cell type instead of platform."
   ]
  },
  {
   "cell_type": "code",
   "execution_count": null,
   "id": "b542240e-a5a0-450b-8433-420e685db012",
   "metadata": {},
   "outputs": [],
   "source": [
    "# remove old object \n",
    "remove(obj)\n",
    "\n",
    "# Normalize and identify variable features in each data set\n",
    "HIVE <- NormalizeData(HIVE)\n",
    "HIVE <- FindVariableFeatures(HIVE, selection.method = \"vst\", nfeatures = 2000)\n",
    "HIVE <- ScaleData(HIVE)\n",
    "\n",
    "seurat_10x <- NormalizeData(seurat_10x)\n",
    "seurat_10x <- FindVariableFeatures(seurat_10x, selection.method = \"vst\", nfeatures = 2000)\n",
    "seurat_10x <- ScaleData(seurat_10x)\n",
    "\n",
    "# Add percent.mito reads to 10x data - this metadata already exists in BeeNetPlus generated R objects\n",
    "seurat_10x[[\"percent.mito\"]] <- PercentageFeatureSet(seurat_10x, pattern = \"^MT-\") / 100\n",
    "\n",
    "# Find features for integration\n",
    "features <- SelectIntegrationFeatures(object.list = c(HIVE, seurat_10x))\n",
    "\n",
    "# Find anchors for integration using the RNA assay for each object\n",
    "anchors <- FindIntegrationAnchors(object.list = c(HIVE, seurat_10x), anchor.features = features, \n",
    "                                  assay = c(\"RNA\", \"RNA\"))\n",
    "\n",
    "# Integrate data\n",
    "obj <- IntegrateData(anchorset = anchors)"
   ]
  },
  {
   "cell_type": "markdown",
   "id": "f7c6630e-d074-4216-a0a5-7380724f24e4",
   "metadata": {},
   "source": [
    "You can easily change the default assay with the code below."
   ]
  },
  {
   "cell_type": "code",
   "execution_count": null,
   "id": "f3106171-b45b-43d0-b5dd-8b7609bc0052",
   "metadata": {},
   "outputs": [],
   "source": [
    "# Cluster new data\n",
    "DefaultAssay(obj) <- \"integrated\"\n",
    "\n",
    "obj"
   ]
  },
  {
   "cell_type": "code",
   "execution_count": null,
   "id": "55444383-e52f-4afe-a19d-e3ca2f54d9af",
   "metadata": {},
   "outputs": [],
   "source": [
    "## An object of class Seurat \n",
    "## 81807 features across 4361 samples within 3 assays \n",
    "## Active assay: integrated (2000 features, 2000 variable features)\n",
    "##  2 other assays present: RNA, SCT"
   ]
  },
  {
   "cell_type": "markdown",
   "id": "44073ec8-0da0-4803-af86-8424ccd05692",
   "metadata": {},
   "source": [
    "Following integration, the new assay “integration” needs to be reclustered."
   ]
  },
  {
   "cell_type": "code",
   "execution_count": null,
   "id": "7dda5e9f-da8b-4e93-a4fb-a4bb2dd4442a",
   "metadata": {},
   "outputs": [],
   "source": [
    "# Run the standard workflow for visualization and clustering\n",
    "obj <- ScaleData(obj, verbose = FALSE)\n",
    "obj <- RunPCA(obj, npcs = 30, verbose = FALSE)\n",
    "obj <- RunUMAP(obj, reduction = \"pca\", dims = 1:30)\n",
    "obj <- FindNeighbors(obj, reduction = \"pca\", dims = 1:30)\n",
    "obj <- FindClusters(obj, resolution = 0.3, verbose = F) \n",
    "obj <- BuildClusterTree(obj,reorder=TRUE,reorder.numeric=TRUE,\n",
    "                        verbose = F)\n",
    "obj$seurat_clusters <- obj$tree.ident\n",
    "\n",
    "# Visualize results\n",
    "DimPlot(obj, group.by = \"platform\", cols = c(\"grey\", \"orange\"))"
   ]
  },
  {
   "cell_type": "markdown",
   "id": "db41fe81-4a07-4971-91f7-89060fcceb87",
   "metadata": {},
   "source": [
    "#### **Annotating cell types** ####\n",
    "Below, we use scType to automatically annotate cell types by cluster.\n",
    "\n"
   ]
  },
  {
   "cell_type": "code",
   "execution_count": null,
   "id": "dc8b0f1a-c85a-412e-bf25-539e4b44bbb5",
   "metadata": {},
   "outputs": [],
   "source": [
    "# Using scType to annotate cell types\n",
    "\n",
    "## Download the reference scripts and mar\n",
    "source(\"https://raw.githubusercontent.com/IanevskiAleksandr/sc-type/master/R/gene_sets_prepare.R\")\n",
    "source(\"https://raw.githubusercontent.com/IanevskiAleksandr/sc-type/master/R/sctype_score_.R\")\n",
    "source(\"https://raw.githubusercontent.com/IanevskiAleksandr/sc-type/master/R/auto_detect_tissue_type.R\")\n",
    "\n",
    "# Download reference data for different tissue types\n",
    "db_ = \"https://raw.githubusercontent.com/IanevskiAleksandr/sc-type/master/ScTypeDB_full.xlsx\"\n",
    "\n",
    "# Define the tissue. These are blood samples so Immune system is the right choice\n",
    "tissue<- \"Immune system\"\n",
    "\n",
    "# prepare gene sets\n",
    "gs_list = gene_sets_prepare(db_, tissue)\n",
    "\n",
    "es.max = sctype_score(scRNAseqData = obj[[\"integrated\"]]@scale.data, \n",
    "                      scaled = TRUE, \n",
    "                      gs = gs_list$gs_positive, \n",
    "                      gs2 = gs_list$gs_negative) \n",
    "\n",
    "# merge by cluster\n",
    "cL_resutls = do.call(\"rbind\", lapply(unique(obj@meta.data$seurat_clusters), function(cl){\n",
    "    es.max.cl = sort(rowSums(es.max[ ,rownames(obj@meta.data[obj@meta.data$seurat_clusters==cl, ])]), decreasing = !0)\n",
    "    head(data.frame(cluster = cl, type = names(es.max.cl), scores = es.max.cl, ncells = sum(obj@meta.data$seurat_clusters==cl)), 10)\n",
    "}))\n",
    "sctype_scores = cL_resutls %>% group_by(cluster) %>% top_n(n = 1, wt = scores)  \n",
    "\n",
    "# set low-confident (low ScType score) clusters to \"unknown\"\n",
    "sctype_scores$type[as.numeric(as.character(sctype_scores$scores)) < sctype_scores$ncells/4] = \"Unknown\"\n",
    "#print(sctype_scores[,1:3])\n",
    "\n",
    "obj_cluster_id <- sctype_scores\n",
    "\n",
    "# save old idents for reference\n",
    "obj[[\"old.ident\"]] <- Idents(object = obj)\n",
    "\n",
    "\n",
    "obj@meta.data$customclassif = \"\"\n",
    "        for(j in unique(sctype_scores$cluster)){\n",
    "            cl_type = sctype_scores[sctype_scores$cluster==j,]; \n",
    "            obj@meta.data$customclassif[obj@meta.data$seurat_clusters == j] = as.character(cl_type$type[1])\n",
    "        }\n",
    "        \n",
    "obj[[\"cell_type\"]]<- obj$customclassif\n",
    "\n",
    "# Visualize cell types\n",
    "DimPlot(obj, group.by = \"cell_type\") \n"
   ]
  },
  {
   "cell_type": "markdown",
   "id": "5abccf12-c5c4-4857-9c82-d7620da72f9f",
   "metadata": {},
   "source": [
    "#### **Feature Plots** ####\n",
    "Use the code below to look at feature plots. You can plot QC metrics from the metadata or marker genes of interest. BeeNetPLUSv1.0 users will have QC meta data in their Seurat objects. Some of this metadata is not present in the 10X count matrices. These variables will only plot in HIVE data.\n",
    "\n"
   ]
  },
  {
   "cell_type": "code",
   "execution_count": null,
   "id": "83f14478-d870-4509-a726-4628b9454731",
   "metadata": {},
   "outputs": [],
   "source": [
    "# Look at marker genes and QC metrics\n",
    "FeaturePlot(obj, c(\"IL7R\", \"nCount_RNA\", \"nFeature_RNA\", \"percent.mito\"))"
   ]
  },
  {
   "cell_type": "markdown",
   "id": "66fa846d-4408-44ed-ae1b-f2216669ff67",
   "metadata": {},
   "source": [
    "Find marker genes\n",
    "You can find marker genes between clusters or cell types using the integrated data."
   ]
  },
  {
   "cell_type": "code",
   "execution_count": null,
   "id": "53f29d50-8365-4962-ae9a-ce71a4c147bd",
   "metadata": {},
   "outputs": [],
   "source": [
    "# Set cell idents to clusters\n",
    "Idents(obj) <- obj$seurat_clusters\n",
    "\n",
    "# Find marker genes between clusters 1 and 2\n",
    "markers_clust <- FindMarkers(obj, ident.1 = 1, ident.2 = 2, min.pct = 0.25)\n",
    "\n",
    "# Display top marker genes\n",
    "datatable(markers_clust[1:5,])"
   ]
  },
  {
   "cell_type": "code",
   "execution_count": null,
   "id": "68079014-bb35-45da-8dcb-e19996bdf3d2",
   "metadata": {},
   "outputs": [],
   "source": [
    "# Set cell idents to cell type\n",
    "Idents(obj) <- obj$cell_type\n",
    "\n",
    "# Find marker genes\n",
    "markers_ct <- FindAllMarkers(obj, min.pct = 0.25)\n",
    "\n",
    "# Display top marker gene for each cell type\n",
    "markers_ct %>% group_by(cluster) %>%\n",
    "        slice(1) %>% datatable()"
   ]
  },
  {
   "cell_type": "code",
   "execution_count": null,
   "id": "7645a998-1cb3-4aee-a8cd-605c2e16b9d2",
   "metadata": {},
   "outputs": [],
   "source": [
    "# Find marker genes using the data in the RNA assay\n",
    "RNA_markers <- FindAllMarkers(obj, assay = \"RNA\", min.pct = 0.25)\n",
    "\n",
    "# Display top marker\n",
    "RNA_markers %>% group_by(cluster) %>%\n",
    "        slice(1) %>% datatable()"
   ]
  },
  {
   "cell_type": "markdown",
   "id": "286e36f1-d894-4054-991c-f79e048affee",
   "metadata": {},
   "source": [
    "Visualize marker genes by platform"
   ]
  },
  {
   "cell_type": "code",
   "execution_count": null,
   "id": "f6a166a9-010b-4eeb-9dab-ed8e8f8b43c3",
   "metadata": {},
   "outputs": [],
   "source": [
    "plot_marks <- markers_ct %>% \n",
    "        group_by(cluster) %>%\n",
    "        slice(1)\n",
    "\n",
    "DotPlot(obj, plot_marks$gene, assay = \"integrated\", split.by = \"platform\", \n",
    "        cols = c(\"orange\", \"blue\"), dot.scale = 8) + \n",
    "        RotatedAxis() + \n",
    "        theme(text = element_text(size = 8),\n",
    "              axis.text.y = element_text(size= 8))\n"
   ]
  },
  {
   "cell_type": "markdown",
   "id": "672eb94a-49e4-413b-864a-50b5d58e9d71",
   "metadata": {},
   "source": [
    " Integration with SCTransform\n",
    "You can also integrate using SCTransform to regress out variables like percent mitochondrial reads."
   ]
  },
  {
   "cell_type": "code",
   "execution_count": null,
   "id": "941da08a-6dd3-4f31-87ef-66f835fa1fa7",
   "metadata": {},
   "outputs": [],
   "source": [
    "# Use SCTransform to regress out variation in percent.mito and normalize data\n",
    "HIVE <- SCTransform(HIVE, vars.to.regress = \"percent.mito\", verbose = FALSE)\n",
    "seurat_10x <- SCTransform(seurat_10x, vars.to.regress = \"percent.mito\", verbose = FALSE)\n",
    "\n",
    "# Find markers for integration \n",
    "features <- SelectIntegrationFeatures(object.list = c(HIVE, seurat_10x), nfeatures = 3000)\n",
    "obj_list <- PrepSCTIntegration(object.list = c(HIVE, seurat_10x), anchor.features = features)\n",
    "\n",
    "# Find anchors and integrate data using SCT normalization method\n",
    "SCTanchors <- FindIntegrationAnchors(object.list = obj_list, normalization.method = \"SCT\",\n",
    "                                         anchor.features = features)\n",
    "obj_SCT <- IntegrateData(anchorset = SCTanchors, normalization.method = \"SCT\")\n",
    "\n",
    "# Cluster and visualize\n",
    "obj_SCT <- ScaleData(obj_SCT, verbose = FALSE)\n",
    "obj_SCT <- RunPCA(obj_SCT, npcs = 30, verbose = FALSE)\n",
    "obj_SCT <- RunUMAP(obj_SCT, reduction = \"pca\", dims = 1:30)\n",
    "obj_SCT <- FindNeighbors(obj_SCT, reduction = \"pca\", dims = 1:30)\n",
    "obj_SCT <- FindClusters(obj_SCT, resolution = 0.5, verbose = F)\n",
    "obj_SCT <- BuildClusterTree(obj_SCT,reorder=TRUE,reorder.numeric=TRUE,\n",
    "                        verbose = F)\n",
    "obj_SCT$seurat_clusters <- obj_SCT$tree.ident\n",
    "\n",
    "# Visualize results\n",
    "DimPlot(obj_SCT, group.by = \"platform\", cols = c(\"grey\", \"orange\"))"
   ]
  },
  {
   "cell_type": "code",
   "execution_count": null,
   "id": "bbeb1653-9ccd-45ca-a905-8c5c8fabf381",
   "metadata": {},
   "outputs": [],
   "source": []
  },
  {
   "cell_type": "code",
   "execution_count": null,
   "id": "7e42e657-9bac-4324-9355-18a4fd5876f9",
   "metadata": {},
   "outputs": [],
   "source": []
  },
  {
   "cell_type": "code",
   "execution_count": null,
   "id": "3a320a62-3336-47ef-a879-2f59a6a93e23",
   "metadata": {},
   "outputs": [],
   "source": []
  },
  {
   "cell_type": "code",
   "execution_count": null,
   "id": "1ace2777-1478-4eb3-86c0-78b53c271aae",
   "metadata": {},
   "outputs": [],
   "source": []
  }
 ],
 "metadata": {
  "kernelspec": {
   "display_name": "IR-4.3",
   "language": "R",
   "name": "ir-4.3"
  },
  "language_info": {
   "codemirror_mode": "r",
   "file_extension": ".r",
   "mimetype": "text/x-r-source",
   "name": "R",
   "pygments_lexer": "r",
   "version": "4.3.0"
  }
 },
 "nbformat": 4,
 "nbformat_minor": 5
}
