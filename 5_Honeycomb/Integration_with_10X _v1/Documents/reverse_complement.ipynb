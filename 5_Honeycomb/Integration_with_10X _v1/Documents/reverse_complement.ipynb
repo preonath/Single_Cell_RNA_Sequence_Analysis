{
 "cells": [
  {
   "cell_type": "code",
   "execution_count": 4,
   "id": "20dab72a-10f8-4cf5-a634-b90afb9d49cf",
   "metadata": {
    "tags": []
   },
   "outputs": [
    {
     "name": "stdout",
     "output_type": "stream",
     "text": [
      "AATAACGT\n",
      "AATATTGA\n"
     ]
    }
   ],
   "source": [
    "def reverse_complement(dna):\n",
    "    complement = {'A': 'T', 'T': 'A', 'C': 'G', 'G': 'C'}\n",
    "    return ''.join(complement[base] for base in reversed(dna))\n",
    "\n",
    "def process_file(file_path):\n",
    "    with open(file_path, 'r') as file:\n",
    "        return [reverse_complement(line.strip()) for line in file]\n",
    "\n",
    "# Replace 'file.txt' with your actual file path\n",
    "file_path = 'R_Nor.txt'\n",
    "reverse_complements = process_file(file_path)\n",
    "\n",
    "for rc in reverse_complements:\n",
    "    print(rc)\n"
   ]
  }
 ],
 "metadata": {
  "kernelspec": {
   "display_name": "Python 3 (ipykernel)",
   "language": "python",
   "name": "python3"
  },
  "language_info": {
   "codemirror_mode": {
    "name": "ipython",
    "version": 3
   },
   "file_extension": ".py",
   "mimetype": "text/x-python",
   "name": "python",
   "nbconvert_exporter": "python",
   "pygments_lexer": "ipython3",
   "version": "3.8.16"
  }
 },
 "nbformat": 4,
 "nbformat_minor": 5
}
