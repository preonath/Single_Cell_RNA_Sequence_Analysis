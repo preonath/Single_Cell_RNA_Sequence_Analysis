{
 "cells": [
  {
   "cell_type": "markdown",
   "id": "1af56edf-3fc2-4e00-a943-8528a75692f5",
   "metadata": {},
   "source": [
    "### **ReadsQC_250_length.tsv** ###"
   ]
  },
  {
   "cell_type": "code",
   "execution_count": 1,
   "id": "ae8133d5-3784-4bff-907a-8ea3d2b00b2d",
   "metadata": {
    "tags": []
   },
   "outputs": [
    {
     "name": "stdout",
     "output_type": "stream",
     "text": [
      "Merged DataFrame saved as 'merged_SC_NP_H_7063_20240125114410_ReadsQC_250_length.csv'.\n"
     ]
    }
   ],
   "source": [
    "import pandas as pd\n",
    "\n",
    "def hamming_distance(s1, s2):\n",
    "    \"\"\"Calculate the Hamming distance between two strings.\"\"\"\n",
    "    return sum(el1 != el2 for el1, el2 in zip(s1, s2))\n",
    "\n",
    "def merge_rows_based_on_hamming_distance(file_path):\n",
    "    # Read the TSV file\n",
    "    df = pd.read_csv(file_path, sep='\\t')\n",
    "\n",
    "    # Copy the DataFrame to keep track of merged rows\n",
    "    merged_df = df.copy()\n",
    "\n",
    "    # Create a list to keep track of indexes that have been merged\n",
    "    merged_indexes = []\n",
    "\n",
    "    for i, row_i in df.iterrows():\n",
    "        for j, row_j in df.iterrows():\n",
    "            if i != j and i not in merged_indexes and j not in merged_indexes:\n",
    "                # Calculate the Hamming distance between barcodes\n",
    "                if hamming_distance(row_i['Barcode'], row_j['Barcode']) < 3:\n",
    "                    # Merge the rows by summing their numeric values\n",
    "                    merged_row = row_i.copy()\n",
    "                    for col in df.columns[1:]:\n",
    "                        merged_row[col] = row_i[col] + row_j[col]\n",
    "                    # Update the merged DataFrame\n",
    "                    merged_df.loc[i] = merged_row\n",
    "                    # Mark the rows as merged\n",
    "                    merged_indexes.append(j)\n",
    "\n",
    "    # Remove the rows that were merged into another row\n",
    "    merged_df.drop(index=merged_indexes, inplace=True)\n",
    "\n",
    "    # Reset the index of the merged DataFrame\n",
    "    merged_df.reset_index(drop=True, inplace=True)\n",
    "\n",
    "    # Save the merged DataFrame to a new CSV file\n",
    "    output_file = 'merged_' + file_path.split('/')[-1].replace('.tsv', '.csv')\n",
    "    merged_df.to_csv(output_file, index=False)\n",
    "\n",
    "    print(f\"Merged DataFrame saved as '{output_file}'.\")\n",
    "\n",
    "if __name__ == '__main__':\n",
    "    file_path = '/media/asus/275dd380-2319-4638-bcdd-5f65b2b1d4b5/CHRF_Project_Data/Single_Cell/Analysis_Ouput_from_Beenet_of_Single_Cell_CHRF/Beenet_SC_NP_H_250/Beenet_SC_NP_H_7063/SC_NP_H_7063_20240125114410_ReadsQC_250_length.tsv'\n",
    "    merge_rows_based_on_hamming_distance(file_path)\n"
   ]
  },
  {
   "cell_type": "markdown",
   "id": "4a6b111c-0ec2-4332-9007-ab0ff411abe7",
   "metadata": {},
   "source": [
    "### **RCM_edit.tsv**"
   ]
  },
  {
   "cell_type": "code",
   "execution_count": 3,
   "id": "e1362ce8-1faa-4879-835e-57b81d00b658",
   "metadata": {
    "tags": []
   },
   "outputs": [
    {
     "data": {
      "text/html": [
       "<div>\n",
       "<style scoped>\n",
       "    .dataframe tbody tr th:only-of-type {\n",
       "        vertical-align: middle;\n",
       "    }\n",
       "\n",
       "    .dataframe tbody tr th {\n",
       "        vertical-align: top;\n",
       "    }\n",
       "\n",
       "    .dataframe thead th {\n",
       "        text-align: right;\n",
       "    }\n",
       "</style>\n",
       "<table border=\"1\" class=\"dataframe\">\n",
       "  <thead>\n",
       "    <tr style=\"text-align: right;\">\n",
       "      <th></th>\n",
       "      <th>_</th>\n",
       "      <th>AAAAAACCCTGG</th>\n",
       "      <th>AAAAAATATGAC</th>\n",
       "      <th>AAAAAGCTGGCT</th>\n",
       "      <th>AAAACCTGCGGG</th>\n",
       "      <th>AAAACGTGCGAT</th>\n",
       "      <th>AAAAGCCCACTT</th>\n",
       "      <th>AAAAGCCGTATG</th>\n",
       "      <th>AAAAGGGGCGGA</th>\n",
       "      <th>AAAAGGTAGACG</th>\n",
       "      <th>...</th>\n",
       "      <th>ATAGGGAGCCAA</th>\n",
       "      <th>ATAGGGTAATTT</th>\n",
       "      <th>ATAGTCAGTTAT</th>\n",
       "      <th>ATAGTGAAAAAC</th>\n",
       "      <th>ATAGTGCGCTAG</th>\n",
       "      <th>ATAGTTAAAGGA</th>\n",
       "      <th>ATATACACGGCC</th>\n",
       "      <th>ATATACCGTTTC</th>\n",
       "      <th>ATATAGAAATGC</th>\n",
       "      <th>ATATATCCAATC</th>\n",
       "    </tr>\n",
       "  </thead>\n",
       "  <tbody>\n",
       "    <tr>\n",
       "      <th>0</th>\n",
       "      <td>5S_rRNA</td>\n",
       "      <td>0</td>\n",
       "      <td>0</td>\n",
       "      <td>0</td>\n",
       "      <td>0</td>\n",
       "      <td>0</td>\n",
       "      <td>0</td>\n",
       "      <td>0</td>\n",
       "      <td>0</td>\n",
       "      <td>0</td>\n",
       "      <td>...</td>\n",
       "      <td>0</td>\n",
       "      <td>0</td>\n",
       "      <td>0</td>\n",
       "      <td>0</td>\n",
       "      <td>0</td>\n",
       "      <td>0</td>\n",
       "      <td>0</td>\n",
       "      <td>0</td>\n",
       "      <td>0</td>\n",
       "      <td>0</td>\n",
       "    </tr>\n",
       "  </tbody>\n",
       "</table>\n",
       "<p>1 rows × 1024 columns</p>\n",
       "</div>"
      ],
      "text/plain": [
       "         _  AAAAAACCCTGG  AAAAAATATGAC  AAAAAGCTGGCT  AAAACCTGCGGG  \\\n",
       "0  5S_rRNA             0             0             0             0   \n",
       "\n",
       "   AAAACGTGCGAT  AAAAGCCCACTT  AAAAGCCGTATG  AAAAGGGGCGGA  AAAAGGTAGACG  ...  \\\n",
       "0             0             0             0             0             0  ...   \n",
       "\n",
       "   ATAGGGAGCCAA  ATAGGGTAATTT  ATAGTCAGTTAT  ATAGTGAAAAAC  ATAGTGCGCTAG  \\\n",
       "0             0             0             0             0             0   \n",
       "\n",
       "   ATAGTTAAAGGA  ATATACACGGCC  ATATACCGTTTC  ATATAGAAATGC  ATATATCCAATC  \n",
       "0             0             0             0             0             0  \n",
       "\n",
       "[1 rows x 1024 columns]"
      ]
     },
     "execution_count": 3,
     "metadata": {},
     "output_type": "execute_result"
    }
   ],
   "source": [
    "import pandas as pd\n",
    "\n",
    "# Define the file path\n",
    "file_path = '/home/asus/Desktop/Dummy_folder_for_h5ad/SC_NP_H_7061_20240125112551_RCM_edit.tsv'\n",
    "\n",
    "# Read the TSV file\n",
    "df = pd.read_csv(file_path, sep='\\t')\n",
    "\n",
    "# Display the first few rows of the dataframe\n",
    "df.head()\n"
   ]
  },
  {
   "cell_type": "code",
   "execution_count": 4,
   "id": "ed4c8be9-1f99-4028-ba77-9e81a1c7af10",
   "metadata": {
    "tags": []
   },
   "outputs": [
    {
     "data": {
      "text/plain": [
       "{}"
      ]
     },
     "execution_count": 4,
     "metadata": {},
     "output_type": "execute_result"
    }
   ],
   "source": [
    "from itertools import combinations\n",
    "import numpy as np\n",
    "\n",
    "# Define a function to calculate Hamming distance between two sequences\n",
    "def hamming_distance(seq1, seq2):\n",
    "    return sum(c1 != c2 for c1, c2 in zip(seq1, seq2))\n",
    "\n",
    "# Select a small subset of columns to demonstrate (for performance reasons)\n",
    "sample_columns = df.columns[1:11]  # Adjust based on actual data needs\n",
    "\n",
    "# Calculate Hamming distances between all pairs of the selected column names\n",
    "distances = {}\n",
    "for col1, col2 in combinations(sample_columns, 2):\n",
    "    distance = hamming_distance(col1, col2)\n",
    "    if distance < 3:\n",
    "        # Store the pairs and their distance if the distance is less than 3\n",
    "        distances[(col1, col2)] = distance\n",
    "\n",
    "# Print the pairs with Hamming distance less than 3 to review\n",
    "distances\n"
   ]
  }
 ],
 "metadata": {
  "kernelspec": {
   "display_name": "IPy-3.11",
   "language": "python",
   "name": "ipy"
  },
  "language_info": {
   "codemirror_mode": {
    "name": "ipython",
    "version": 3
   },
   "file_extension": ".py",
   "mimetype": "text/x-python",
   "name": "python",
   "nbconvert_exporter": "python",
   "pygments_lexer": "ipython3",
   "version": "3.11.3"
  }
 },
 "nbformat": 4,
 "nbformat_minor": 5
}
