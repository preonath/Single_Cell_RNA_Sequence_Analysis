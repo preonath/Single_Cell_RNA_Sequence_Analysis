{
 "cells": [
  {
   "cell_type": "markdown",
   "id": "b322cc24-5ba9-43cb-a5ca-4aba7cb6a360",
   "metadata": {},
   "source": [
    "##### **Honeycomb Tips and Tricks for scRNA-seq Downstream Analysis v1.0** #####\n",
    "###### **Honeycomb Bioinformatics Team** ######\n",
    "**2024-01-24**"
   ]
  },
  {
   "cell_type": "markdown",
   "id": "35ed222c-7217-4e04-aa39-db8acf137ecb",
   "metadata": {},
   "source": [
    "#### **1. Introduction** ####\n",
    "\n",
    "The below code document are tips and tricks for common downstream\n",
    "analysis next steps. Each section contains information on how to perform\n",
    "scRNA-seq analysis, including identification of low quality cells,\n",
    "merging and removal of clusters/cells, reclustering, changing cell type\n",
    "annotations and identities, etc.\n",
    "\n",
    "Please contact support@honeycomb.bio for all questions."
   ]
  },
  {
   "cell_type": "markdown",
   "id": "6d110977-6c15-4cf1-8460-662afc375ef2",
   "metadata": {},
   "source": [
    "#### **2. Package Installation and library loading** ####\n",
    "\n",
    "The below packages needs to be installed prior to running this vignette.\n",
    "Code for package installation is below. There may be additional\n",
    "dependencies required by these packages you may have to install\n",
    "depending on your R environment."
   ]
  },
  {
   "cell_type": "code",
   "execution_count": 3,
   "id": "b46672bc-0f2c-4e69-8e58-6f546129210d",
   "metadata": {
    "tags": []
   },
   "outputs": [],
   "source": [
    "# install.packages(\"/home/asus/Desktop/CHRF_Project/Single_Cell_RNA_Sequence_Analysis/3_Honeycomb/Analysis_at_Terra/Bucket_Jaclen/notebooks/UCell_2.7.3.tar.gz\", repos = NULL, type = \"source\")\n"
   ]
  },
  {
   "cell_type": "code",
   "execution_count": 4,
   "id": "5130b52b-3584-4032-b742-aec8b57493ef",
   "metadata": {
    "tags": []
   },
   "outputs": [],
   "source": [
    "# if (!requireNamespace(\"BiocManager\", quietly = TRUE))\n",
    "#   install.packages(\"BiocManager\")\n",
    "# BiocManager::install(\"UCell\")"
   ]
  },
  {
   "cell_type": "code",
   "execution_count": 5,
   "id": "e7ea26ef-2ef2-4375-9212-12fccef2c28b",
   "metadata": {
    "tags": []
   },
   "outputs": [],
   "source": [
    "# install.packages(\"htmltools\")\n",
    "# install.packages(\"tidyverse\")\n",
    "# install.packages(\"patchwork\")\n",
    "# install.packages(\"plyr\")\n",
    "# # install.packages('Seurat')\n",
    "# if (!require(\"BiocManager\", quietly = TRUE)){\n",
    "#   install.packages(\"BiocManager\")\n",
    "# }\n",
    "# BiocManager::install(\"UCell\")\n",
    "# install.packages(\"ggpubr\")\n",
    "# BiocManager::install(\"SingleCellExperiment\")\n",
    "# BiocManager::install(\"scuttle\")\n",
    "# BiocManager::install(\"celldex\")\n",
    "# install.packages(\"DT\")\n",
    "# if (!requireNamespace(\"remotes\", quietly = TRUE)) {\n",
    "#   install.packages(\"remotes\")\n",
    "# }\n",
    "# install.packages(\"HGNChelper\")"
   ]
  },
  {
   "cell_type": "markdown",
   "id": "ecccf2d6-efe9-41fc-9cc3-ab3c73174c29",
   "metadata": {},
   "source": [
    "Load libraries using the code below:"
   ]
  },
  {
   "cell_type": "code",
   "execution_count": 2,
   "id": "bf7a9ed6-0219-446d-b8d7-02f21016ccef",
   "metadata": {
    "tags": []
   },
   "outputs": [
    {
     "name": "stderr",
     "output_type": "stream",
     "text": [
      "Warning message:\n",
      "“package ‘purrr’ was built under R version 4.3.1”\n",
      "Warning message:\n",
      "“package ‘lubridate’ was built under R version 4.3.1”\n",
      "Warning message:\n",
      "“package ‘plyr’ was built under R version 4.3.1”\n",
      "Warning message:\n",
      "“package ‘Seurat’ was built under R version 4.3.2”\n",
      "Warning message:\n",
      "“package ‘SeuratObject’ was built under R version 4.3.2”\n",
      "Warning message:\n",
      "“package ‘SingleCellExperiment’ was built under R version 4.3.2”\n",
      "Warning message:\n",
      "“package ‘SummarizedExperiment’ was built under R version 4.3.2”\n",
      "Warning message:\n",
      "“package ‘MatrixGenerics’ was built under R version 4.3.2”\n",
      "Warning message:\n",
      "“package ‘GenomicRanges’ was built under R version 4.3.2”\n",
      "Warning message:\n",
      "“package ‘BiocGenerics’ was built under R version 4.3.2”\n",
      "Warning message:\n",
      "“package ‘S4Vectors’ was built under R version 4.3.2”\n",
      "Warning message:\n",
      "“package ‘IRanges’ was built under R version 4.3.2”\n",
      "Warning message:\n",
      "“package ‘GenomeInfoDb’ was built under R version 4.3.2”\n",
      "Warning message:\n",
      "“package ‘Biobase’ was built under R version 4.3.2”\n",
      "Warning message:\n",
      "“package ‘scuttle’ was built under R version 4.3.2”\n",
      "Warning message:\n",
      "“package ‘scales’ was built under R version 4.3.2”\n"
     ]
    }
   ],
   "source": [
    "suppressPackageStartupMessages({\n",
    "  library(tidyverse)\n",
    "  library(patchwork)\n",
    "  library(plyr)\n",
    "  library(Seurat)\n",
    "  library(UCell)\n",
    "  library(ggpubr)\n",
    "  library(SingleCellExperiment)\n",
    "  library('scuttle')\n",
    "  library(celldex)\n",
    "  library(DT)\n",
    "  library(scales)\n",
    "  library(HGNChelper)\n",
    "})"
   ]
  },
  {
   "cell_type": "markdown",
   "id": "79df3453-32fc-46d3-8e0b-2fb1575c903f",
   "metadata": {},
   "source": [
    "#### **3. Copying BeeNet/BeeNetPLUS output files from Google Cloud** ####\n",
    "The code below loads your R object from the Google Cloud Platform Bucket. You will need to replace code where outlined below:"
   ]
  },
  {
   "cell_type": "code",
   "execution_count": null,
   "id": "7dff96a3-8686-4d21-b366-7d56c0db1c79",
   "metadata": {},
   "outputs": [],
   "source": [
    "system(\"gsutil -m cp -r gs://resources.honeycomb.bio/honeycomb-public-scripts/HC-logo.png . \")\n",
    "system(\"mkdir -p data\")\n",
    "\n",
    "#Replace the URL with the link to the R object output by BeeNetPLUS or your own downstream R object. Navigate to your Google Cloud output directory and locate the .tgz object or R object and copy the path into the code below:\n",
    "\n",
    "system(\"gsutil -m cp gs://hcb-external-pipeline-testing/20230426-TestData/Analysis-20230426-300-600/Analysis-20230426-300-600.tgz ./data\")\n",
    "\n",
    "#Unzip the file if it is a .tgz file\n",
    "system(\"tar -zxf data/*tgz -C ./data\")"
   ]
  },
  {
   "cell_type": "markdown",
   "id": "d3d7a54a-e5ea-4415-abc9-5473e226d3a0",
   "metadata": {},
   "source": [
    "Next, load your R object into the environment. This tutorial is based on an R object named “obj”. For BeeNetPLUSv1.0 users, change the name of the object using the code below."
   ]
  },
  {
   "cell_type": "code",
   "execution_count": 6,
   "id": "637f9f56-8e18-4775-a48c-1bc87f218a75",
   "metadata": {
    "tags": []
   },
   "outputs": [
    {
     "ename": "ERROR",
     "evalue": "Error in eval(expr, envir, enclos): object 'umi_seurat' not found\n",
     "output_type": "error",
     "traceback": [
      "Error in eval(expr, envir, enclos): object 'umi_seurat' not found\nTraceback:\n"
     ]
    }
   ],
   "source": [
    "#Replace the file path for the R object and load in the R object\n",
    "# load(\"./data/Analysis-20230426-300-600/FullDataset-20230426-TestData.Rdata\")\n",
    "\n",
    "#This should load a Seurat object called umi_seurat and several other data frames and variables that contain pipeline parameters and other quality control metrics. \n",
    "\n",
    "# Rename the umi_seurat object obj for this analysis \n",
    "obj<- umi_seurat\n",
    "rm(umi_seurat)"
   ]
  },
  {
   "cell_type": "code",
   "execution_count": null,
   "id": "e00635df-4491-42bb-a0bf-448a2511ea16",
   "metadata": {},
   "outputs": [],
   "source": [
    "knitr::opts_chunk$set(echo = TRUE)\n",
    "knitr::opts_chunk$set(root.dir = \"./data\")"
   ]
  },
  {
   "cell_type": "markdown",
   "id": "c7120ae2-d7a1-4817-9c8d-336187e5ce74",
   "metadata": {},
   "source": [
    "#### **4. Metadata Tips and Tricks** ####\n",
    "##### **4.1 Collecting metadata from your Seurat Object** #####"
   ]
  },
  {
   "cell_type": "code",
   "execution_count": null,
   "id": "c60f21a2-fa2e-4a65-911d-574240d9911b",
   "metadata": {},
   "outputs": [],
   "source": [
    "# The code below creates a data frame of metadata included in the Seurat object\n",
    "metadata <- rownames_to_column(obj@meta.data, \"cellids\")\n",
    "\n",
    "datatable(metadata)"
   ]
  },
  {
   "cell_type": "markdown",
   "id": "615a7570-9a93-4d4d-ba5b-19025afe0645",
   "metadata": {},
   "source": [
    "##### **4.2 Setting the Ident of Cells** #####\n",
    "You can set the Cell Identity to any column in the object metadata. After clustering, the Ident is automatically the cluster number, but this can be changed to cell type, sample name, or group depending on the downstream analysis to be performed."
   ]
  },
  {
   "cell_type": "code",
   "execution_count": null,
   "id": "7ccf493a-c772-496e-ae58-81a4140b0d6e",
   "metadata": {},
   "outputs": [],
   "source": [
    "##Set the Identity of the cells to the seurat cluster\n",
    "Idents(obj)<- obj$seurat_clusters\n",
    "DimPlot(obj, reduction=\"umap\")"
   ]
  },
  {
   "cell_type": "markdown",
   "id": "ddf3930c-f0d8-4a8b-8cb7-c44f2a5a40f6",
   "metadata": {},
   "source": [
    "##### **4.3 Changing the Order of Idents** #####\n",
    "Change the “level” of the metadata parameter “seurat_clusters” so that the numbers are in order. Releveling can be performed for any metadata and changed at any time."
   ]
  },
  {
   "cell_type": "code",
   "execution_count": null,
   "id": "d5a52b9e-babd-4cf8-b6da-a6f4dabb04a4",
   "metadata": {},
   "outputs": [],
   "source": [
    "obj$seurat_clusters<- factor(obj$seurat_clusters, levels = c(\"1\", \"2\", \"3\", \"4\", \"5\", \"6\", \"7\", \"8\", \"9\", \"10\", \"11\", \"12\", \"13\", \"14\", \"15\", \"16\", \"17\", \"18\"))\n",
    "Idents(obj)<- obj$seurat_clusters\n",
    "\n",
    "DimPlot(obj, reduction=\"umap\")"
   ]
  },
  {
   "cell_type": "markdown",
   "id": "b33374ab-4e6c-42e7-9d22-1f70ac502f87",
   "metadata": {},
   "source": [
    "#### **5 Clustering Tips and Tricks** ####\n",
    "##### **5.1 Identifying and Removing Low Quality Clusters** #####\n",
    "A high quality UMAP contains:\n",
    "\n",
    ">- Clusters that are distinct from one another.\n",
    ">- Clusters that are not sample specific (unless biologically relevant)."
   ]
  },
  {
   "cell_type": "code",
   "execution_count": null,
   "id": "1e413ee3-5fbb-46da-b523-0743c50ee28f",
   "metadata": {},
   "outputs": [],
   "source": [
    "DimPlot(obj,pt.size = 0.2, cells.highlight=WhichCells(obj, idents = 4), cols.highlight = \"orange\", cols= \"grey\")"
   ]
  },
  {
   "cell_type": "markdown",
   "id": "5d380463-3d12-4e16-a8c9-f86cebda526d",
   "metadata": {},
   "source": [
    "A low quality cluster on a UMAP may:\n",
    "\n",
    "Be diffuse around the UMAP. These clusters may be defined by RBC contamination, high mitochondrial gene expression, or abnormally low genes/transcripts.\n",
    "Be in the middle of or bridge two larger, unrelated clusters. This could be indicative of multiplets."
   ]
  },
  {
   "cell_type": "code",
   "execution_count": null,
   "id": "818897be-c07f-4d2b-8385-c0428f76d657",
   "metadata": {},
   "outputs": [],
   "source": [
    "DimPlot(obj,pt.size = 0.2, cells.highlight=WhichCells(obj, idents = 12), cols.highlight = \"orange\", cols= \"grey\")"
   ]
  },
  {
   "cell_type": "markdown",
   "id": "6959091c-1d96-4f3a-8b38-a1d9341e0036",
   "metadata": {},
   "source": [
    "In this example, we think Cluster 12 might be low quality due to its positioning on the UMAP. We also want to check to see if there are distinct marker genes that define cluster 12, as well as the overall numbers of genes, transcripts, and mitochondrial reads"
   ]
  },
  {
   "cell_type": "code",
   "execution_count": null,
   "id": "270f25e6-d2a6-418e-a1a5-5c2426dab5f9",
   "metadata": {},
   "outputs": [],
   "source": [
    "#Get the median QC parameters for the whole object\n",
    "median(obj$nCount_RNA)\n",
    "median(obj$nFeature_RNA)\n",
    "median(obj$percent.mito)\n",
    "\n",
    "#Isolate c12 and get the QC parameters\n",
    "c12<- subset(obj, subset = seurat_clusters==\"12\")\n",
    "median(c12$nCount_RNA)\n",
    "median(c12$nFeature_RNA)\n",
    "median(c12$percent.mito)\n",
    "\n",
    "#Find Markers for just c12\n",
    "markers12 <- FindMarkers(object = obj, ident.1 = 12)\n",
    "datatable(markers12[1:5,])"
   ]
  },
  {
   "cell_type": "markdown",
   "id": "90692598-afa1-4ce6-8b5b-40660b1ceb0a",
   "metadata": {},
   "source": [
    "As cluster 12 does not isolate on its own, has no biologically significant marker genes (log2fc <-0.58 or >0.58) and has significantly lower genes and transcripts per cell than the rest of the object, this cluster is a good candidate for removal. Please note that certain cell types (e.g. granulocytes) have lower numbers of genes and transcripts than others, and therefore looking at marker genes and UMAP positioning is necessary to help determine whether a cluster should be removed."
   ]
  },
  {
   "cell_type": "code",
   "execution_count": null,
   "id": "196f0985-bfdf-48ff-a962-7fa70087a784",
   "metadata": {},
   "outputs": [],
   "source": [
    "#Remove Cluster 12\n",
    "obj<- subset(obj, subset = seurat_clusters !=\"12\")\n",
    "\n",
    "#Recluster\n",
    "obj <- NormalizeData(obj)\n",
    "obj <- ScaleData(obj)\n",
    "obj <- FindVariableFeatures(obj, selection.method = \"vst\", nfeatures = 2000)\n",
    "obj<-RunPCA(obj, verbose = FALSE)\n",
    "obj<-RunUMAP(obj, dims=1:30,verbose = FALSE)\n",
    "obj<- FindNeighbors(obj,verbose = FALSE)\n",
    "obj<- FindClusters(obj, verbose = FALSE)\n",
    "obj=BuildClusterTree(obj,reorder=TRUE,reorder.numeric=TRUE)\n",
    "\n",
    "#Add scTransform as another option\n",
    "obj <- SCTransform(obj, vars.to.regress = \"percent.mito\", verbose = FALSE)\n",
    "obj<-RunPCA(obj, verbose = FALSE)\n",
    "obj<-RunUMAP(obj, dims=1:18,verbose = FALSE)\n",
    "obj<- FindNeighbors(obj,verbose = FALSE)\n",
    "obj<- FindClusters(obj, verbose = FALSE)\n",
    "obj=BuildClusterTree(obj,reorder=TRUE,reorder.numeric=TRUE)\n",
    "obj$seurat_clusters<- obj$tree.ident\n",
    "\n",
    "DimPlot(obj, reduction=\"umap\")"
   ]
  },
  {
   "cell_type": "markdown",
   "id": "b85a0160-200f-4284-969c-af9d1d08ff19",
   "metadata": {},
   "source": [
    "Iterate through removing low quality clusters one at a time until high quality cells remain. Be sure to re-do any Violin Plots, QC plots/tables, and UMAPs with the updated Seurat object."
   ]
  },
  {
   "cell_type": "code",
   "execution_count": null,
   "id": "1abb0042-fcbc-4285-87d5-c1d9253cb308",
   "metadata": {},
   "outputs": [],
   "source": [
    "#Redo the QC \n",
    "qc_metrics_sample<- function(obj){\n",
    "  I=obj@meta.data$orig.ident\n",
    "  Reads=obj@meta.data$ExonReads\n",
    "  ReadsM=obj@meta.data$reads.mapped\n",
    "  ReadsT=obj@meta.data$reads.Total\n",
    "  trans=obj@meta.data$nCount_RNA\n",
    "  Genes=obj@meta.data$nFeature_RNA\n",
    "  Mito=obj@meta.data$percent.mito\n",
    "  Complexity=obj@meta.data$Complexity\n",
    "  nSamples=length(unique(obj$groupSamp))\n",
    "  readEC=vector(mode=\"double\",length=nSamples)\n",
    "  readsTot=totReads.df\n",
    "  readsTotalSamples=colnames(readsTot)\n",
    "  names(readEC)=sort(unique(obj$groupSamp))\n",
    "  readTC=readEC\n",
    "  readMC=readEC\n",
    "  transC=readEC\n",
    "  geneC=readEC\n",
    "  mitoC=readEC\n",
    "  nCells=readEC\n",
    "  compl=readEC\n",
    "  readsCellTotal=readEC\n",
    "  readsSampleTotal=readEC\n",
    "  FracCellReads=readEC\n",
    "  readsSampleMapped=readEC\n",
    "  readsSampleFiltered=readEC\n",
    "  readsSampleExon=readEC\n",
    "  percExon=readEC\n",
    "  percFilt=readEC\n",
    "  nF=readEC\n",
    "  r=readEC\n",
    "  v1=readEC\n",
    "  v2=readEC\n",
    "  v3=readEC\n",
    "  date=readEC\n",
    "  sT=readEC\n",
    "  DS=readEC\n",
    "  G=readEC\n",
    "  T=readEC\n",
    "  BC=readEC\n",
    "  seqsat=readEC\n",
    "  sampleName=readEC\n",
    "  sampleGroup=readEC\n",
    "  sampleslist<-sort(unique(obj$orig.ident))\n",
    "\n",
    "  for (x in 1:nSamples) {\n",
    "      readTC[x]=median(ReadsT[is.na(match(I,sampleslist[x]))==0])\n",
    "      readEC[x]=median(Reads[is.na(match(I,sampleslist[x]))==0])\n",
    "      readMC[x]=median(ReadsM[is.na(match(I,sampleslist[x]))==0])\n",
    "      transC[x]=median(trans[is.na(match(I,sampleslist[x]))==0])\n",
    "      geneC[x]=median(Genes[is.na(match(I,sampleslist[x]))==0])\n",
    "      mitoC[x]=median(Mito[is.na(match(I,sampleslist[x]))==0])\n",
    "      compl[x]=median(Complexity[is.na(match(I,sampleslist[x]))==0])\n",
    "      nCells[x]=sum(is.na(match(I,sampleslist[x]))==0)\n",
    "      readsCellTotal[x]=sum(ReadsT[is.na(match(I,sampleslist[x]))==0])\n",
    "      sampleName[x]=sampleslist[x]\n",
    "      readsSampleTotal[x]=readsTot[1,is.na(match(readsTotalSamples,sampleslist[x]))==0]\n",
    "      FracCellReads[x]=readsCellTotal[x]/readsSampleTotal[x]\n",
    "      readsSampleMapped[x]=readsTot[3,is.na(match(readsTotalSamples,sampleslist[x]))==0]\n",
    "      readsSampleFiltered[x]=readsTot[2,is.na(match(readsTotalSamples,sampleslist[x]))==0]\n",
    "      readsSampleExon[x]=readsTot[4,is.na(match(readsTotalSamples,sampleslist[x]))==0]\n",
    "      percExon[x]=readEC[x]/readTC[x]*100\n",
    "      percFilt[x]=readsSampleFiltered[x]/readsSampleTotal[x]\n",
    "      date[x]=gsub(\"-\",\"\",Sys.Date())\n",
    "      G[x]=nGeneI\n",
    "      T[x]=nTranI\n",
    "      seqsat[x]=1-(sum(trans[is.na(match(I,sampleslist[x]))==0] / sum(ReadsM[is.na(match(I,sampleslist[x]))==0])))\n",
    "  }\n",
    "\n",
    "  clustInfo=data.frame(date,sampleName,G, T, readTC,\n",
    "                       readMC,readEC,transC,geneC,mitoC,nCells,\n",
    "                       compl,readsSampleTotal,readsSampleFiltered,\n",
    "                       readsSampleMapped,readsSampleExon,readsCellTotal,\n",
    "                       FracCellReads,percExon,percFilt, seqsat)\n",
    "  \n",
    "  colnames(clustInfo)=c(\"AnalysisDate\", \"SampleID\", \"GeneThreshold\",\n",
    "                        \"TranscriptThreshold\", \"TotalReads\", \"MappedReads\",\n",
    "                        \"ExonReads\", \"nTrans\", \"nGenes\", \"percMito\" ,\"nCells\",\n",
    "                        \"Complexity\",  \"SampleTotalReads\", \"SampleFilteredReads\",\n",
    "                        \"SampleMappedReads\", \"SampleExonReads\", \"HQCellsTotalReads\",\n",
    "                        \"FracReadsHQCells\", \"PctExon\", \"FracPassFilter\", \"SeqSat\")\n",
    "  \n",
    "  write.table(clustInfo,\"SamplesMetrics.txt\",sep=\"\\t\",col.names=NA)\n",
    "  \n",
    "  return(clustInfo)\n",
    "}\n",
    "\n",
    "sample_metrics<- qc_metrics_sample(obj)\n",
    "\n",
    "datatable(sample_metrics)"
   ]
  },
  {
   "cell_type": "markdown",
   "id": "a8273a68-57c1-4c45-a14c-3acdcfad13cf",
   "metadata": {},
   "source": [
    "##### **5.2 Merging Clusters** #####\n",
    "If two or more clusters have the same marker genes that define them, with no distinct marker genes distinguishing between either of the two clusters (see below section for details on how to compare two clusters), these clusters can be merged to form one cluster. We do not recommend overwriting the original clustering; rather, we suggest making a new column in the metadata and reassigning clusters there."
   ]
  },
  {
   "cell_type": "code",
   "execution_count": null,
   "id": "5df3cc58-23e6-44eb-b849-e07e94c9e803",
   "metadata": {},
   "outputs": [],
   "source": [
    "#Copy the original clusters to a new column called new.cluster.ids, releveling to make sure they are in the correct order\n",
    "obj$new.cluster.ids<- factor(obj$seurat_clusters, levels = c(\"1\", \"2\", \"3\", \"4\", \"5\", \"6\", \"7\", \"8\", \"9\", \"10\", \"11\", \"12\", \"13\", \"14\", \"15\", \"16\", \"17\", \"18\"))\n",
    "\n",
    "#Set the cell identities to the new cell clusters \n",
    "Idents(obj)<- obj$new.cluster.ids\n",
    "\n",
    "#Set new Idents to combine original clusters 6 and 7 into one cluster (6), and then renumbering the rest so that they go in order\n",
    "new.cluster.ids<- c(\"1\", \"2\", \"3\", \"4\", \"5\", \"6\", \"6\", \"7\", \"8\", \"9\", \"10\", \"11\", \"12\", \"13\", \"14\", \"15\", \"16\", \"17\")\n",
    "names(new.cluster.ids) <- levels(obj)\n",
    "\n",
    "obj <- RenameIdents(obj, new.cluster.ids)\n",
    "DimPlot(obj)"
   ]
  },
  {
   "cell_type": "markdown",
   "id": "dd51c01f-66f3-44ed-bee0-3adfe608d3e0",
   "metadata": {},
   "source": [
    "Note that when you rename, merge, or remove clusters, subsequent analyses will need to be repeated. Rerun plot and figure generation, marker gene analysis and cluster QC parameters with the new cluster numbers for consistency in your data!"
   ]
  },
  {
   "cell_type": "markdown",
   "id": "35c651cf-9a5f-4f8c-bb52-8966b9da1fb3",
   "metadata": {},
   "source": [
    "#### **6 Marker Analysis Tips and Tricks** ####\n",
    "We recommend using a min.pct of 0.25 to find marker genes. This ensures that markers are frequently expressed in at least one group.\n",
    "\n",
    "##### **6.1 Find markers for just one cluster** #####"
   ]
  },
  {
   "cell_type": "code",
   "execution_count": null,
   "id": "99d28cb8-1a4c-4b8e-99d9-0af7254e7c3c",
   "metadata": {},
   "outputs": [],
   "source": [
    "#Find markers for cluster 1 (ident.1)\n",
    "Idents(obj)<- obj$seurat_clusters\n",
    "cluster1.markers <- FindMarkers(object = obj, ident.1 = 1, min.pct = 0.25)\n",
    "datatable(cluster1.markers)"
   ]
  },
  {
   "cell_type": "markdown",
   "id": "53ea0d12-f1f3-4420-ac05-25c852471802",
   "metadata": {},
   "source": [
    "##### **6.2 Directly compare two clusters** #####"
   ]
  },
  {
   "cell_type": "code",
   "execution_count": null,
   "id": "5217a1cd-82aa-4c3c-bbf1-7705d56c4ff3",
   "metadata": {},
   "outputs": [],
   "source": [
    "#Compare clusters 1 and 2 directly\n",
    "Idents(obj)<- obj$seurat_clusters\n",
    "cluster1v2.markers <- FindMarkers(object = obj, ident.1 = 1, ident.2 = 2, min.pct = 0.25)\n",
    "datatable(cluster1v2.markers)"
   ]
  },
  {
   "cell_type": "markdown",
   "id": "c6273aaf-47ed-4540-8fd5-327ab19e70c0",
   "metadata": {},
   "source": [
    "##### **6.3 Compare cell types** #####"
   ]
  },
  {
   "cell_type": "code",
   "execution_count": null,
   "id": "c9db7184-5ecd-4fee-bbb3-248e77fba906",
   "metadata": {},
   "outputs": [],
   "source": [
    "#Compare markers in B cells versus Monocytes\n",
    "Idents(obj)<- obj$cell_type\n",
    "clusterbvm.markers <- FindMarkers(object = obj, ident.1 = \"Naive B cells\", ident.2 = \"Monocyte\", min.pct = 0.25)\n",
    "datatable(clusterbvm.markers)"
   ]
  },
  {
   "cell_type": "markdown",
   "id": "a8f19546-80fa-4bda-88fa-464a9e336fee",
   "metadata": {},
   "source": [
    "##### **6.4 Compare cell types by group** #####"
   ]
  },
  {
   "cell_type": "code",
   "execution_count": null,
   "id": "c047046f-c105-4c6f-98a8-63a31c6e24a1",
   "metadata": {},
   "outputs": [],
   "source": [
    "#Compare markers in B cells in 7.5k group versus the 30k group\n",
    "Idents(obj)<- obj$cell_type\n",
    "group.markers <- FindMarkers(object = obj, ident.1 = \"7.5k\", ident.2 = \"30k\", group.by = \"group\", subset.ident = \"Naive B cells\", min.pct = 0.25)\n",
    "datatable(group.markers)"
   ]
  },
  {
   "cell_type": "markdown",
   "id": "287b43b9-3026-431c-b0d5-3d05034c10d0",
   "metadata": {},
   "source": [
    "#### **7 Cell Type Annotation Tips and Tricks** ####\n",
    "##### **7.1 Reassigning Cell Types** #####\n",
    "We do not recommend overwriting the original cell type annotation; rather, we suggest making a new column in the metadata and reassigning cell types there. In this object, cells that were annotated as “Neutrophil-2” and “Neutrophil-3” are actually monocytes, based on their positioning on the UMAP and marker gene expression. Here we will clean up the data and reassign these cells. Be sure to re-perform all downstream analyses pertaining to cell types after reassignment!"
   ]
  },
  {
   "cell_type": "code",
   "execution_count": null,
   "id": "8a23f548-40b3-47f3-a068-bfcd5d496627",
   "metadata": {},
   "outputs": [],
   "source": [
    "obj$cell_type_new<- obj$cell_type\n",
    "obj$cell_type_new[obj$cell_type == \"Neutrophil-2\"]<- \"Monocyte\"\n",
    "obj$cell_type_new[obj$cell_type == \"Neutrophil-3\"]<- \"Monocyte\"\n",
    "DimPlot(obj, group.by = \"cell_type_new\")"
   ]
  },
  {
   "cell_type": "markdown",
   "id": "97d4b622-9289-4d19-bdb2-eaedf32ef487",
   "metadata": {},
   "source": [
    "#### **8 Saving your final R object** ####\n",
    "Be sure to save your final object! Include all metadata tables and environment variables that you want to include in your final saved R object Here we saved our object and metadata as a new file called FilteredDataset-.Rdata.\n",
    "\n"
   ]
  },
  {
   "cell_type": "code",
   "execution_count": null,
   "id": "07ce03db-ce9a-48e8-9d02-61fd203ea571",
   "metadata": {},
   "outputs": [],
   "source": [
    "# The code below preserves environment variables for BeeNetPLUSv1.0. \n",
    "\n",
    "save(obj, totReads.df, dataNames, input, sampletype, known_markers,nFastq, len, refs, beeV, wdlV, dataset, nGeneI, nTranI, clustGroupCountsN, clustCountsN2, clustCountsN3, clustGroupCountsN2, file=paste0(\"FilteredDataset-\", dataset, \".Rdata\"))"
   ]
  },
  {
   "cell_type": "markdown",
   "id": "c8230814-5c85-450c-9a3a-64145f5ea115",
   "metadata": {},
   "source": [
    "Not all the variables above are present for BeeNet users, but consider at least saving the final Seurat object, for downstream use. The following code saves only the Seurat object. Any other variables, functions, or data frames made in this tutorial will have to be regenerated in future analysis if not saved.\n",
    "\n"
   ]
  },
  {
   "cell_type": "code",
   "execution_count": null,
   "id": "43fe69cb-ca94-47a1-9278-5b57899daaa2",
   "metadata": {},
   "outputs": [],
   "source": [
    "save(obj, \"FilteredDataset-NAMEofDATASET-SeuratObjectOnly.Rdata)\n"
   ]
  },
  {
   "cell_type": "markdown",
   "id": "cc77f906-63d5-46d7-8173-49b30746ee39",
   "metadata": {},
   "source": [
    "#### **9 R Session** ####"
   ]
  },
  {
   "cell_type": "code",
   "execution_count": null,
   "id": "ffab03bd-3dc3-421e-814b-686d60edd298",
   "metadata": {},
   "outputs": [],
   "source": [
    "\n",
    "df_session_platform <- devtools::session_info()$platform %>% \n",
    "  unlist(.) %>% \n",
    "  as.data.frame(.) %>% \n",
    "  rownames_to_column(.)\n",
    "\n",
    "colnames(df_session_platform) <- c(\"Setting\", \"Value\")\n",
    "\n",
    "knitr::kable(\n",
    "  df_session_platform, \n",
    "  booktabs = T, \n",
    "  align = \"l\",\n",
    "  caption = \"R Session Info\", # complete caption for main document\n",
    ") \n",
    " "
   ]
  },
  {
   "cell_type": "markdown",
   "id": "a1c7fdad-9dfd-42b3-baed-f1c49666c620",
   "metadata": {},
   "source": [
    "10 Package Info\n",
    "``` df_session_packages <- devtools::session_info()$packages %>% as.data.frame(.) %>% filter(attached == TRUE) %>% dplyr::select(loadedversion, date) %>% rownames_to_column\n",
    "\n",
    "colnames(df_session_packages) <- c(“Package”, “Loaded version”, “Date”)\n",
    "\n",
    "knitr::kable( df_session_packages, booktabs = T, align = “l”, caption = “R Package Info”, # complete caption for main document )"
   ]
  }
 ],
 "metadata": {
  "kernelspec": {
   "display_name": "IR-4.3",
   "language": "R",
   "name": "ir-4.3"
  },
  "language_info": {
   "codemirror_mode": "r",
   "file_extension": ".r",
   "mimetype": "text/x-r-source",
   "name": "R",
   "pygments_lexer": "r",
   "version": "4.3.0"
  }
 },
 "nbformat": 4,
 "nbformat_minor": 5
}
