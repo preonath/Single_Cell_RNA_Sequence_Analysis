{
 "cells": [
  {
   "cell_type": "code",
   "execution_count": 2,
   "id": "e86ef20f-a1d1-490a-8c5c-650a2cbe50a1",
   "metadata": {
    "tags": []
   },
   "outputs": [
    {
     "name": "stderr",
     "output_type": "stream",
     "text": [
      "also installing the dependencies ‘dotCall64’, ‘Matrix’, ‘spam’, ‘SeuratObject’, ‘RcppHNSW’, ‘sctransform’\n",
      "\n",
      "\n",
      "Warning message in download.file(url, destfile, method, mode = \"wb\", ...):\n",
      "“downloaded length 0 != reported length 0”\n",
      "Warning message in download.file(url, destfile, method, mode = \"wb\", ...):\n",
      "“URL 'https://cran.r-project.org/src/contrib/spam_2.10-0.tar.gz': Timeout of 60 seconds was reached”\n"
     ]
    },
    {
     "name": "stdout",
     "output_type": "stream",
     "text": [
      "Error in download.file(url, destfile, method, mode = \"wb\", ...) : \n",
      "  download from 'https://cran.r-project.org/src/contrib/spam_2.10-0.tar.gz' failed\n"
     ]
    },
    {
     "name": "stderr",
     "output_type": "stream",
     "text": [
      "Warning message in download.packages(pkgs, destdir = tmpd, available = available, :\n",
      "“download of package ‘spam’ failed”\n",
      "Warning message in download.file(url, destfile, method, mode = \"wb\", ...):\n",
      "“downloaded length 0 != reported length 0”\n",
      "Warning message in download.file(url, destfile, method, mode = \"wb\", ...):\n",
      "“URL 'https://cran.r-project.org/src/contrib/Seurat_5.0.1.tar.gz': Timeout of 60 seconds was reached”\n"
     ]
    },
    {
     "name": "stdout",
     "output_type": "stream",
     "text": [
      "Error in download.file(url, destfile, method, mode = \"wb\", ...) : \n",
      "  download from 'https://cran.r-project.org/src/contrib/Seurat_5.0.1.tar.gz' failed\n"
     ]
    },
    {
     "name": "stderr",
     "output_type": "stream",
     "text": [
      "Warning message in download.packages(pkgs, destdir = tmpd, available = available, :\n",
      "“download of package ‘Seurat’ failed”\n",
      "Warning message in install.packages(\"Seurat\"):\n",
      "“installation of package ‘dotCall64’ had non-zero exit status”\n",
      "Warning message in install.packages(\"Seurat\"):\n",
      "“installation of package ‘Matrix’ had non-zero exit status”\n",
      "Warning message in install.packages(\"Seurat\"):\n",
      "“installation of package ‘RcppHNSW’ had non-zero exit status”\n",
      "Warning message in install.packages(\"Seurat\"):\n",
      "“installation of package ‘SeuratObject’ had non-zero exit status”\n",
      "Warning message in install.packages(\"Seurat\"):\n",
      "“installation of package ‘sctransform’ had non-zero exit status”\n",
      "Updating HTML index of packages in '.Library'\n",
      "\n",
      "Making 'packages.html' ...\n",
      " done\n",
      "\n"
     ]
    }
   ],
   "source": [
    "install.packages(\"Seurat\")\n"
   ]
  },
  {
   "cell_type": "code",
   "execution_count": 1,
   "id": "79c7e8eb-1047-4677-8213-0a813ba1d823",
   "metadata": {
    "tags": []
   },
   "outputs": [
    {
     "ename": "ERROR",
     "evalue": "Error in library(Seurat): there is no package called ‘Seurat’\n",
     "output_type": "error",
     "traceback": [
      "Error in library(Seurat): there is no package called ‘Seurat’\nTraceback:\n",
      "1. library(Seurat)"
     ]
    }
   ],
   "source": [
    "library(Seurat)\n",
    "counts <- read.table(\"/media/asus/275dd380-2319-4638-bcdd-5f65b2b1d4b5/CHRF_Project_Data/Single_Cell/Single_Cell_NP_NextSeq_Batch_24_R/SC_NP_H_7061/4_Quant/SC_NP_H_7061_featurecounts.txt\", header = TRUE, row.names = 1)"
   ]
  }
 ],
 "metadata": {
  "kernelspec": {
   "display_name": "IR-4.3",
   "language": "R",
   "name": "ir-4.3"
  },
  "language_info": {
   "codemirror_mode": "r",
   "file_extension": ".r",
   "mimetype": "text/x-r-source",
   "name": "R",
   "pygments_lexer": "r",
   "version": "4.3.0"
  }
 },
 "nbformat": 4,
 "nbformat_minor": 5
}
