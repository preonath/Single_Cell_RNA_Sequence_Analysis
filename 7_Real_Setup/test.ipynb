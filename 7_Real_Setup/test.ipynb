{
 "cells": [
  {
   "cell_type": "code",
   "execution_count": 1,
   "id": "58bdf7c0-6eb1-452b-8f0b-c9b666bad7ce",
   "metadata": {},
   "outputs": [
    {
     "ename": "ERROR",
     "evalue": "Error in library(\"anndata\"): there is no package called ‘anndata’\n",
     "output_type": "error",
     "traceback": [
      "Error in library(\"anndata\"): there is no package called ‘anndata’\nTraceback:\n",
      "1. library(\"anndata\")"
     ]
    }
   ],
   "source": [
    "library('anndata')\n",
    "ad <- read_h5ad(\"/home/chrf/Desktop/Data/Single_Cell/Paper_Data/local.h5ad\")\n",
    "ad"
   ]
  }
 ],
 "metadata": {
  "kernelspec": {
   "display_name": "R 4.2",
   "language": "R",
   "name": "ir-env"
  },
  "language_info": {
   "codemirror_mode": "r",
   "file_extension": ".r",
   "mimetype": "text/x-r-source",
   "name": "R",
   "pygments_lexer": "r",
   "version": "4.2.3"
  }
 },
 "nbformat": 4,
 "nbformat_minor": 5
}
