import scanpy as sc
import harmonypy as hm
import matplotlib.pyplot as plt

# Ensure the datasets are already filtered for the specific tissue types
# saliva_adata1, adata2, and nasal_cavity_adata3

# Step 1: Add batch column
saliva_adata1.obs['batch'] = 'Renet al.'
adata2.obs['batch'] = 'nasopharynx'
nasal_cavity_adata3.obs['batch'] = 'nasal_cavity'

# Step 2: Concatenate the datasets using the updated method
combined_adata = sc.concat([saliva_adata1, adata2, nasal_cavity_adata3], label='batch', keys=['saliva', 'nasopharynx', 'nasal_cavity'])

# Step 3: Convert the sparse matrix to a dense matrix
data_mat = combined_adata.X.toarray()

# Run Harmony
meta_data = combined_adata.obs
harmony_output = hm.run_harmony(data_mat, meta_data, 'batch')

# Get the adjusted embeddings
harmony_embeddings = harmony_output.Z_corr.T

# Add the Harmony embeddings back to the AnnData object
combined_adata.obsm['X_harmony'] = harmony_embeddings

# Visualize the result to ensure the integration worked well
sc.pp.neighbors(combined_adata, use_rep='X_harmony')
sc.tl.umap(combined_adata)
sc.pl.umap(combined_adata, color=['batch', 'cell_type'])  # Adjust 'cell_type' to the appropriate column

# Save the UMAP plot as an image
sc.pl.umap(combined_adata, color=['batch', 'cell_type'], save='umap_plot.png')  # This saves the plot as 'umap_plot.png' in the current working directory

# Alternatively, use matplotlib to save the plot with more customization
sc.pl.umap(combined_adata, color=['batch', 'cell_type'], show=False)
plt.savefig('umap_plot.png', dpi=300)  # Save the plot with a resolution of 300 dpi

