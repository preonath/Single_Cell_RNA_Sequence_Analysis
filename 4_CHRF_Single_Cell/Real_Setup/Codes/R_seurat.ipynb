{
 "cells": [
  {
   "cell_type": "code",
   "execution_count": 1,
   "id": "49d9350c-46c4-4fe6-a359-224d8cd8ff97",
   "metadata": {
    "tags": []
   },
   "outputs": [],
   "source": [
    "# install.packages(\"BiocManager\")\n",
    "# BiocManager::install(\"SingleR\", version = \"devel\")"
   ]
  },
  {
   "cell_type": "code",
   "execution_count": 1,
   "id": "42accd11-5a42-4290-a8ff-00731ecd24c1",
   "metadata": {
    "tags": []
   },
   "outputs": [],
   "source": [
    "library(Seurat)\n",
    "library(ggplot2)\n",
    "# library(SingleR)\n",
    "# library(dplyr)\n",
    "# library(celldex)\n",
    "# library(RColorBrewer)\n",
    "# library(SingleCellExperiment)\n"
   ]
  },
  {
   "cell_type": "code",
   "execution_count": 3,
   "id": "0b63c38b-9746-4a31-87cd-fa26ef53f110",
   "metadata": {
    "tags": []
   },
   "outputs": [
    {
     "data": {
      "text/plain": [
       "AnnData object with n_obs × n_vars = 32588 × 32561\n",
       "    obs: 'donor_id', 'Peak_Respiratory_Support_WHO_Score', 'Bloody_Swab', 'Percent_Mitochondrial', 'SARSCoV2_PCR_Status', 'SARSCoV2_PCR_Status_and_WHO_Score', 'Cohort_Disease_WHO_Score', 'biosample_id', 'SingleCell_SARSCoV2_RNA_Status', 'SARSCoV2_Unspliced_TRS_Total_Corrected', 'SARSCoV2_Spliced_TRS_Total_Corrected', 'SARSCoV2_NegativeStrand_Total_Corrected', 'SARSCoV2_PositiveStrand_Total_Corrected', 'SARSCoV2_Total_Corrected', 'Coarse_Cell_Annotations', 'Detailed_Cell_Annotations', 'Annotation', 'assay_ontology_term_id', 'cell_type_ontology_term_id', 'development_stage_ontology_term_id', 'disease_ontology_term_id', 'self_reported_ethnicity_ontology_term_id', 'is_primary_data', 'organism_ontology_term_id', 'sex_ontology_term_id', 'tissue_ontology_term_id', 'suspension_type', 'cell_type', 'assay', 'disease', 'organism', 'sex', 'tissue', 'self_reported_ethnicity', 'development_stage'\n",
       "    var: 'mvp.mean', 'mvp.dispersion', 'mvp.dispersion.scaled', 'mvp.variable', 'gene_symbols', 'feature_is_filtered', 'feature_name', 'feature_reference', 'feature_biotype'\n",
       "    uns: 'default_embedding', 'schema_version', 'title'\n",
       "    obsm: 'X_pca', 'X_umap'"
      ]
     },
     "metadata": {},
     "output_type": "display_data"
    }
   ],
   "source": [
    "# Load your data\n",
    "adata <- read_h5ad(file = \"./Impaired_local_intrinsic_immunity_to_SARS_CoV_2_infection_in_severe_COVID_19.h5ad\")\n",
    "adata"
   ]
  },
  {
   "cell_type": "code",
   "execution_count": 2,
   "id": "29318a68-0dad-4697-a39a-06f8dc2cc67a",
   "metadata": {
    "tags": []
   },
   "outputs": [
    {
     "name": "stderr",
     "output_type": "stream",
     "text": [
      "Warning message:\n",
      "“package ‘anndata’ was built under R version 4.2.3”\n"
     ]
    }
   ],
   "source": [
    "# install.packages(\"anndata\")\n",
    "library(anndata)\n",
    "library(Seurat)\n",
    "# library(SingleCellExperiment)\n",
    "# library(DESeq2)"
   ]
  },
  {
   "cell_type": "code",
   "execution_count": 4,
   "id": "2f6a3099-1223-4aff-95ce-2688c8789110",
   "metadata": {
    "tags": []
   },
   "outputs": [],
   "source": [
    "# Extract gene expression matrix using as.matrix()\n",
    "# gene_expression <- as.matrix(adata$X)"
   ]
  },
  {
   "cell_type": "code",
   "execution_count": 5,
   "id": "2c495b12-79fb-41d8-bf72-c6c735e2e9a1",
   "metadata": {
    "tags": []
   },
   "outputs": [
    {
     "data": {
      "text/html": [
       "<table class=\"dataframe\">\n",
       "<caption>A data.frame: 5 × 35</caption>\n",
       "<thead>\n",
       "\t<tr><th></th><th scope=col>donor_id</th><th scope=col>Peak_Respiratory_Support_WHO_Score</th><th scope=col>Bloody_Swab</th><th scope=col>Percent_Mitochondrial</th><th scope=col>SARSCoV2_PCR_Status</th><th scope=col>SARSCoV2_PCR_Status_and_WHO_Score</th><th scope=col>Cohort_Disease_WHO_Score</th><th scope=col>biosample_id</th><th scope=col>SingleCell_SARSCoV2_RNA_Status</th><th scope=col>SARSCoV2_Unspliced_TRS_Total_Corrected</th><th scope=col>⋯</th><th scope=col>tissue_ontology_term_id</th><th scope=col>suspension_type</th><th scope=col>cell_type</th><th scope=col>assay</th><th scope=col>disease</th><th scope=col>organism</th><th scope=col>sex</th><th scope=col>tissue</th><th scope=col>self_reported_ethnicity</th><th scope=col>development_stage</th></tr>\n",
       "\t<tr><th></th><th scope=col>&lt;fct&gt;</th><th scope=col>&lt;fct&gt;</th><th scope=col>&lt;fct&gt;</th><th scope=col>&lt;dbl&gt;</th><th scope=col>&lt;fct&gt;</th><th scope=col>&lt;fct&gt;</th><th scope=col>&lt;fct&gt;</th><th scope=col>&lt;fct&gt;</th><th scope=col>&lt;fct&gt;</th><th scope=col>&lt;dbl&gt;</th><th scope=col>⋯</th><th scope=col>&lt;fct&gt;</th><th scope=col>&lt;fct&gt;</th><th scope=col>&lt;fct&gt;</th><th scope=col>&lt;fct&gt;</th><th scope=col>&lt;fct&gt;</th><th scope=col>&lt;fct&gt;</th><th scope=col>&lt;fct&gt;</th><th scope=col>&lt;fct&gt;</th><th scope=col>&lt;fct&gt;</th><th scope=col>&lt;fct&gt;</th></tr>\n",
       "</thead>\n",
       "<tbody>\n",
       "\t<tr><th scope=row>GTCGGGGGGTGG_000_neg_array1</th><td>Control_Participant7</td><td>0</td><td>No</td><td>11.004785</td><td>neg</td><td>neg_0</td><td>Control_WHO_0</td><td>WHO_0_Control_Participant7</td><td>neg</td><td>0</td><td>⋯</td><td>UBERON:0001728</td><td>cell</td><td>ciliated cell</td><td>Seq-Well S3</td><td>normal</td><td>Homo sapiens</td><td>male</td><td>nasopharynx</td><td>unknown</td><td>sixth decade human stage</td></tr>\n",
       "\t<tr><th scope=row>CAAATCAATTAT_000_neg_array1</th><td>Control_Participant7</td><td>0</td><td>No</td><td>34.210526</td><td>neg</td><td>neg_0</td><td>Control_WHO_0</td><td>WHO_0_Control_Participant7</td><td>neg</td><td>0</td><td>⋯</td><td>UBERON:0001728</td><td>cell</td><td>ciliated cell</td><td>Seq-Well S3</td><td>normal</td><td>Homo sapiens</td><td>male</td><td>nasopharynx</td><td>unknown</td><td>sixth decade human stage</td></tr>\n",
       "\t<tr><th scope=row>ATACAATTGACA_000_neg_array1</th><td>Control_Participant7</td><td>0</td><td>No</td><td> 7.068224</td><td>neg</td><td>neg_0</td><td>Control_WHO_0</td><td>WHO_0_Control_Participant7</td><td>neg</td><td>0</td><td>⋯</td><td>UBERON:0001728</td><td>cell</td><td>ciliated cell</td><td>Seq-Well S3</td><td>normal</td><td>Homo sapiens</td><td>male</td><td>nasopharynx</td><td>unknown</td><td>sixth decade human stage</td></tr>\n",
       "\t<tr><th scope=row>CTGTTAATGAGA_000_neg_array1</th><td>Control_Participant7</td><td>0</td><td>No</td><td> 3.179056</td><td>neg</td><td>neg_0</td><td>Control_WHO_0</td><td>WHO_0_Control_Participant7</td><td>neg</td><td>0</td><td>⋯</td><td>UBERON:0001728</td><td>cell</td><td>ciliated cell</td><td>Seq-Well S3</td><td>normal</td><td>Homo sapiens</td><td>male</td><td>nasopharynx</td><td>unknown</td><td>sixth decade human stage</td></tr>\n",
       "\t<tr><th scope=row>CTTCACATTATT_000_neg_array1</th><td>Control_Participant7</td><td>0</td><td>No</td><td> 2.391569</td><td>neg</td><td>neg_0</td><td>Control_WHO_0</td><td>WHO_0_Control_Participant7</td><td>neg</td><td>0</td><td>⋯</td><td>UBERON:0001728</td><td>cell</td><td>ciliated cell</td><td>Seq-Well S3</td><td>normal</td><td>Homo sapiens</td><td>male</td><td>nasopharynx</td><td>unknown</td><td>sixth decade human stage</td></tr>\n",
       "</tbody>\n",
       "</table>\n"
      ],
      "text/latex": [
       "A data.frame: 5 × 35\n",
       "\\begin{tabular}{r|lllllllllllllllllllll}\n",
       "  & donor\\_id & Peak\\_Respiratory\\_Support\\_WHO\\_Score & Bloody\\_Swab & Percent\\_Mitochondrial & SARSCoV2\\_PCR\\_Status & SARSCoV2\\_PCR\\_Status\\_and\\_WHO\\_Score & Cohort\\_Disease\\_WHO\\_Score & biosample\\_id & SingleCell\\_SARSCoV2\\_RNA\\_Status & SARSCoV2\\_Unspliced\\_TRS\\_Total\\_Corrected & ⋯ & tissue\\_ontology\\_term\\_id & suspension\\_type & cell\\_type & assay & disease & organism & sex & tissue & self\\_reported\\_ethnicity & development\\_stage\\\\\n",
       "  & <fct> & <fct> & <fct> & <dbl> & <fct> & <fct> & <fct> & <fct> & <fct> & <dbl> & ⋯ & <fct> & <fct> & <fct> & <fct> & <fct> & <fct> & <fct> & <fct> & <fct> & <fct>\\\\\n",
       "\\hline\n",
       "\tGTCGGGGGGTGG\\_000\\_neg\\_array1 & Control\\_Participant7 & 0 & No & 11.004785 & neg & neg\\_0 & Control\\_WHO\\_0 & WHO\\_0\\_Control\\_Participant7 & neg & 0 & ⋯ & UBERON:0001728 & cell & ciliated cell & Seq-Well S3 & normal & Homo sapiens & male & nasopharynx & unknown & sixth decade human stage\\\\\n",
       "\tCAAATCAATTAT\\_000\\_neg\\_array1 & Control\\_Participant7 & 0 & No & 34.210526 & neg & neg\\_0 & Control\\_WHO\\_0 & WHO\\_0\\_Control\\_Participant7 & neg & 0 & ⋯ & UBERON:0001728 & cell & ciliated cell & Seq-Well S3 & normal & Homo sapiens & male & nasopharynx & unknown & sixth decade human stage\\\\\n",
       "\tATACAATTGACA\\_000\\_neg\\_array1 & Control\\_Participant7 & 0 & No &  7.068224 & neg & neg\\_0 & Control\\_WHO\\_0 & WHO\\_0\\_Control\\_Participant7 & neg & 0 & ⋯ & UBERON:0001728 & cell & ciliated cell & Seq-Well S3 & normal & Homo sapiens & male & nasopharynx & unknown & sixth decade human stage\\\\\n",
       "\tCTGTTAATGAGA\\_000\\_neg\\_array1 & Control\\_Participant7 & 0 & No &  3.179056 & neg & neg\\_0 & Control\\_WHO\\_0 & WHO\\_0\\_Control\\_Participant7 & neg & 0 & ⋯ & UBERON:0001728 & cell & ciliated cell & Seq-Well S3 & normal & Homo sapiens & male & nasopharynx & unknown & sixth decade human stage\\\\\n",
       "\tCTTCACATTATT\\_000\\_neg\\_array1 & Control\\_Participant7 & 0 & No &  2.391569 & neg & neg\\_0 & Control\\_WHO\\_0 & WHO\\_0\\_Control\\_Participant7 & neg & 0 & ⋯ & UBERON:0001728 & cell & ciliated cell & Seq-Well S3 & normal & Homo sapiens & male & nasopharynx & unknown & sixth decade human stage\\\\\n",
       "\\end{tabular}\n"
      ],
      "text/markdown": [
       "\n",
       "A data.frame: 5 × 35\n",
       "\n",
       "| <!--/--> | donor_id &lt;fct&gt; | Peak_Respiratory_Support_WHO_Score &lt;fct&gt; | Bloody_Swab &lt;fct&gt; | Percent_Mitochondrial &lt;dbl&gt; | SARSCoV2_PCR_Status &lt;fct&gt; | SARSCoV2_PCR_Status_and_WHO_Score &lt;fct&gt; | Cohort_Disease_WHO_Score &lt;fct&gt; | biosample_id &lt;fct&gt; | SingleCell_SARSCoV2_RNA_Status &lt;fct&gt; | SARSCoV2_Unspliced_TRS_Total_Corrected &lt;dbl&gt; | ⋯ ⋯ | tissue_ontology_term_id &lt;fct&gt; | suspension_type &lt;fct&gt; | cell_type &lt;fct&gt; | assay &lt;fct&gt; | disease &lt;fct&gt; | organism &lt;fct&gt; | sex &lt;fct&gt; | tissue &lt;fct&gt; | self_reported_ethnicity &lt;fct&gt; | development_stage &lt;fct&gt; |\n",
       "|---|---|---|---|---|---|---|---|---|---|---|---|---|---|---|---|---|---|---|---|---|---|\n",
       "| GTCGGGGGGTGG_000_neg_array1 | Control_Participant7 | 0 | No | 11.004785 | neg | neg_0 | Control_WHO_0 | WHO_0_Control_Participant7 | neg | 0 | ⋯ | UBERON:0001728 | cell | ciliated cell | Seq-Well S3 | normal | Homo sapiens | male | nasopharynx | unknown | sixth decade human stage |\n",
       "| CAAATCAATTAT_000_neg_array1 | Control_Participant7 | 0 | No | 34.210526 | neg | neg_0 | Control_WHO_0 | WHO_0_Control_Participant7 | neg | 0 | ⋯ | UBERON:0001728 | cell | ciliated cell | Seq-Well S3 | normal | Homo sapiens | male | nasopharynx | unknown | sixth decade human stage |\n",
       "| ATACAATTGACA_000_neg_array1 | Control_Participant7 | 0 | No |  7.068224 | neg | neg_0 | Control_WHO_0 | WHO_0_Control_Participant7 | neg | 0 | ⋯ | UBERON:0001728 | cell | ciliated cell | Seq-Well S3 | normal | Homo sapiens | male | nasopharynx | unknown | sixth decade human stage |\n",
       "| CTGTTAATGAGA_000_neg_array1 | Control_Participant7 | 0 | No |  3.179056 | neg | neg_0 | Control_WHO_0 | WHO_0_Control_Participant7 | neg | 0 | ⋯ | UBERON:0001728 | cell | ciliated cell | Seq-Well S3 | normal | Homo sapiens | male | nasopharynx | unknown | sixth decade human stage |\n",
       "| CTTCACATTATT_000_neg_array1 | Control_Participant7 | 0 | No |  2.391569 | neg | neg_0 | Control_WHO_0 | WHO_0_Control_Participant7 | neg | 0 | ⋯ | UBERON:0001728 | cell | ciliated cell | Seq-Well S3 | normal | Homo sapiens | male | nasopharynx | unknown | sixth decade human stage |\n",
       "\n"
      ],
      "text/plain": [
       "                            donor_id            \n",
       "GTCGGGGGGTGG_000_neg_array1 Control_Participant7\n",
       "CAAATCAATTAT_000_neg_array1 Control_Participant7\n",
       "ATACAATTGACA_000_neg_array1 Control_Participant7\n",
       "CTGTTAATGAGA_000_neg_array1 Control_Participant7\n",
       "CTTCACATTATT_000_neg_array1 Control_Participant7\n",
       "                            Peak_Respiratory_Support_WHO_Score Bloody_Swab\n",
       "GTCGGGGGGTGG_000_neg_array1 0                                  No         \n",
       "CAAATCAATTAT_000_neg_array1 0                                  No         \n",
       "ATACAATTGACA_000_neg_array1 0                                  No         \n",
       "CTGTTAATGAGA_000_neg_array1 0                                  No         \n",
       "CTTCACATTATT_000_neg_array1 0                                  No         \n",
       "                            Percent_Mitochondrial SARSCoV2_PCR_Status\n",
       "GTCGGGGGGTGG_000_neg_array1 11.004785             neg                \n",
       "CAAATCAATTAT_000_neg_array1 34.210526             neg                \n",
       "ATACAATTGACA_000_neg_array1  7.068224             neg                \n",
       "CTGTTAATGAGA_000_neg_array1  3.179056             neg                \n",
       "CTTCACATTATT_000_neg_array1  2.391569             neg                \n",
       "                            SARSCoV2_PCR_Status_and_WHO_Score\n",
       "GTCGGGGGGTGG_000_neg_array1 neg_0                            \n",
       "CAAATCAATTAT_000_neg_array1 neg_0                            \n",
       "ATACAATTGACA_000_neg_array1 neg_0                            \n",
       "CTGTTAATGAGA_000_neg_array1 neg_0                            \n",
       "CTTCACATTATT_000_neg_array1 neg_0                            \n",
       "                            Cohort_Disease_WHO_Score biosample_id              \n",
       "GTCGGGGGGTGG_000_neg_array1 Control_WHO_0            WHO_0_Control_Participant7\n",
       "CAAATCAATTAT_000_neg_array1 Control_WHO_0            WHO_0_Control_Participant7\n",
       "ATACAATTGACA_000_neg_array1 Control_WHO_0            WHO_0_Control_Participant7\n",
       "CTGTTAATGAGA_000_neg_array1 Control_WHO_0            WHO_0_Control_Participant7\n",
       "CTTCACATTATT_000_neg_array1 Control_WHO_0            WHO_0_Control_Participant7\n",
       "                            SingleCell_SARSCoV2_RNA_Status\n",
       "GTCGGGGGGTGG_000_neg_array1 neg                           \n",
       "CAAATCAATTAT_000_neg_array1 neg                           \n",
       "ATACAATTGACA_000_neg_array1 neg                           \n",
       "CTGTTAATGAGA_000_neg_array1 neg                           \n",
       "CTTCACATTATT_000_neg_array1 neg                           \n",
       "                            SARSCoV2_Unspliced_TRS_Total_Corrected ⋯\n",
       "GTCGGGGGGTGG_000_neg_array1 0                                      ⋯\n",
       "CAAATCAATTAT_000_neg_array1 0                                      ⋯\n",
       "ATACAATTGACA_000_neg_array1 0                                      ⋯\n",
       "CTGTTAATGAGA_000_neg_array1 0                                      ⋯\n",
       "CTTCACATTATT_000_neg_array1 0                                      ⋯\n",
       "                            tissue_ontology_term_id suspension_type\n",
       "GTCGGGGGGTGG_000_neg_array1 UBERON:0001728          cell           \n",
       "CAAATCAATTAT_000_neg_array1 UBERON:0001728          cell           \n",
       "ATACAATTGACA_000_neg_array1 UBERON:0001728          cell           \n",
       "CTGTTAATGAGA_000_neg_array1 UBERON:0001728          cell           \n",
       "CTTCACATTATT_000_neg_array1 UBERON:0001728          cell           \n",
       "                            cell_type     assay       disease organism     sex \n",
       "GTCGGGGGGTGG_000_neg_array1 ciliated cell Seq-Well S3 normal  Homo sapiens male\n",
       "CAAATCAATTAT_000_neg_array1 ciliated cell Seq-Well S3 normal  Homo sapiens male\n",
       "ATACAATTGACA_000_neg_array1 ciliated cell Seq-Well S3 normal  Homo sapiens male\n",
       "CTGTTAATGAGA_000_neg_array1 ciliated cell Seq-Well S3 normal  Homo sapiens male\n",
       "CTTCACATTATT_000_neg_array1 ciliated cell Seq-Well S3 normal  Homo sapiens male\n",
       "                            tissue      self_reported_ethnicity\n",
       "GTCGGGGGGTGG_000_neg_array1 nasopharynx unknown                \n",
       "CAAATCAATTAT_000_neg_array1 nasopharynx unknown                \n",
       "ATACAATTGACA_000_neg_array1 nasopharynx unknown                \n",
       "CTGTTAATGAGA_000_neg_array1 nasopharynx unknown                \n",
       "CTTCACATTATT_000_neg_array1 nasopharynx unknown                \n",
       "                            development_stage       \n",
       "GTCGGGGGGTGG_000_neg_array1 sixth decade human stage\n",
       "CAAATCAATTAT_000_neg_array1 sixth decade human stage\n",
       "ATACAATTGACA_000_neg_array1 sixth decade human stage\n",
       "CTGTTAATGAGA_000_neg_array1 sixth decade human stage\n",
       "CTTCACATTATT_000_neg_array1 sixth decade human stage"
      ]
     },
     "metadata": {},
     "output_type": "display_data"
    }
   ],
   "source": [
    "head(adata$obs, n = 5)"
   ]
  },
  {
   "cell_type": "code",
   "execution_count": 6,
   "id": "aad2e95d-76b5-43aa-ac01-df99aec6031d",
   "metadata": {
    "tags": []
   },
   "outputs": [
    {
     "data": {
      "text/html": [
       "<table class=\"dataframe\">\n",
       "<caption>A data.frame: 5 × 9</caption>\n",
       "<thead>\n",
       "\t<tr><th></th><th scope=col>mvp.mean</th><th scope=col>mvp.dispersion</th><th scope=col>mvp.dispersion.scaled</th><th scope=col>mvp.variable</th><th scope=col>gene_symbols</th><th scope=col>feature_is_filtered</th><th scope=col>feature_name</th><th scope=col>feature_reference</th><th scope=col>feature_biotype</th></tr>\n",
       "\t<tr><th></th><th scope=col>&lt;dbl&gt;</th><th scope=col>&lt;dbl&gt;</th><th scope=col>&lt;dbl&gt;</th><th scope=col>&lt;lgl&gt;</th><th scope=col>&lt;fct&gt;</th><th scope=col>&lt;lgl&gt;</th><th scope=col>&lt;fct&gt;</th><th scope=col>&lt;fct&gt;</th><th scope=col>&lt;fct&gt;</th></tr>\n",
       "</thead>\n",
       "<tbody>\n",
       "\t<tr><th scope=row>ENSG00000121410</th><td>0.14992383</td><td>3.431544</td><td>0.6259525</td><td>FALSE</td><td>A1BG    </td><td>FALSE</td><td>A1BG    </td><td>NCBITaxon:9606</td><td>gene</td></tr>\n",
       "\t<tr><th scope=row>ENSG00000268895</th><td>0.04339643</td><td>3.255592</td><td>0.2545109</td><td>FALSE</td><td>A1BG-AS1</td><td>FALSE</td><td>A1BG-AS1</td><td>NCBITaxon:9606</td><td>gene</td></tr>\n",
       "\t<tr><th scope=row>ENSG00000148584</th><td>0.04139799</td><td>3.348713</td><td>0.4510936</td><td>FALSE</td><td>A1CF    </td><td>FALSE</td><td>A1CF    </td><td>NCBITaxon:9606</td><td>gene</td></tr>\n",
       "\t<tr><th scope=row>ENSG00000175899</th><td>0.09053621</td><td>3.264671</td><td>0.2736779</td><td>FALSE</td><td>A2M     </td><td>FALSE</td><td>A2M     </td><td>NCBITaxon:9606</td><td>gene</td></tr>\n",
       "\t<tr><th scope=row>ENSG00000245105</th><td>0.03087865</td><td>3.221115</td><td>0.1817282</td><td>FALSE</td><td>A2M-AS1 </td><td>FALSE</td><td>A2M-AS1 </td><td>NCBITaxon:9606</td><td>gene</td></tr>\n",
       "</tbody>\n",
       "</table>\n"
      ],
      "text/latex": [
       "A data.frame: 5 × 9\n",
       "\\begin{tabular}{r|lllllllll}\n",
       "  & mvp.mean & mvp.dispersion & mvp.dispersion.scaled & mvp.variable & gene\\_symbols & feature\\_is\\_filtered & feature\\_name & feature\\_reference & feature\\_biotype\\\\\n",
       "  & <dbl> & <dbl> & <dbl> & <lgl> & <fct> & <lgl> & <fct> & <fct> & <fct>\\\\\n",
       "\\hline\n",
       "\tENSG00000121410 & 0.14992383 & 3.431544 & 0.6259525 & FALSE & A1BG     & FALSE & A1BG     & NCBITaxon:9606 & gene\\\\\n",
       "\tENSG00000268895 & 0.04339643 & 3.255592 & 0.2545109 & FALSE & A1BG-AS1 & FALSE & A1BG-AS1 & NCBITaxon:9606 & gene\\\\\n",
       "\tENSG00000148584 & 0.04139799 & 3.348713 & 0.4510936 & FALSE & A1CF     & FALSE & A1CF     & NCBITaxon:9606 & gene\\\\\n",
       "\tENSG00000175899 & 0.09053621 & 3.264671 & 0.2736779 & FALSE & A2M      & FALSE & A2M      & NCBITaxon:9606 & gene\\\\\n",
       "\tENSG00000245105 & 0.03087865 & 3.221115 & 0.1817282 & FALSE & A2M-AS1  & FALSE & A2M-AS1  & NCBITaxon:9606 & gene\\\\\n",
       "\\end{tabular}\n"
      ],
      "text/markdown": [
       "\n",
       "A data.frame: 5 × 9\n",
       "\n",
       "| <!--/--> | mvp.mean &lt;dbl&gt; | mvp.dispersion &lt;dbl&gt; | mvp.dispersion.scaled &lt;dbl&gt; | mvp.variable &lt;lgl&gt; | gene_symbols &lt;fct&gt; | feature_is_filtered &lt;lgl&gt; | feature_name &lt;fct&gt; | feature_reference &lt;fct&gt; | feature_biotype &lt;fct&gt; |\n",
       "|---|---|---|---|---|---|---|---|---|---|\n",
       "| ENSG00000121410 | 0.14992383 | 3.431544 | 0.6259525 | FALSE | A1BG     | FALSE | A1BG     | NCBITaxon:9606 | gene |\n",
       "| ENSG00000268895 | 0.04339643 | 3.255592 | 0.2545109 | FALSE | A1BG-AS1 | FALSE | A1BG-AS1 | NCBITaxon:9606 | gene |\n",
       "| ENSG00000148584 | 0.04139799 | 3.348713 | 0.4510936 | FALSE | A1CF     | FALSE | A1CF     | NCBITaxon:9606 | gene |\n",
       "| ENSG00000175899 | 0.09053621 | 3.264671 | 0.2736779 | FALSE | A2M      | FALSE | A2M      | NCBITaxon:9606 | gene |\n",
       "| ENSG00000245105 | 0.03087865 | 3.221115 | 0.1817282 | FALSE | A2M-AS1  | FALSE | A2M-AS1  | NCBITaxon:9606 | gene |\n",
       "\n"
      ],
      "text/plain": [
       "                mvp.mean   mvp.dispersion mvp.dispersion.scaled mvp.variable\n",
       "ENSG00000121410 0.14992383 3.431544       0.6259525             FALSE       \n",
       "ENSG00000268895 0.04339643 3.255592       0.2545109             FALSE       \n",
       "ENSG00000148584 0.04139799 3.348713       0.4510936             FALSE       \n",
       "ENSG00000175899 0.09053621 3.264671       0.2736779             FALSE       \n",
       "ENSG00000245105 0.03087865 3.221115       0.1817282             FALSE       \n",
       "                gene_symbols feature_is_filtered feature_name feature_reference\n",
       "ENSG00000121410 A1BG         FALSE               A1BG         NCBITaxon:9606   \n",
       "ENSG00000268895 A1BG-AS1     FALSE               A1BG-AS1     NCBITaxon:9606   \n",
       "ENSG00000148584 A1CF         FALSE               A1CF         NCBITaxon:9606   \n",
       "ENSG00000175899 A2M          FALSE               A2M          NCBITaxon:9606   \n",
       "ENSG00000245105 A2M-AS1      FALSE               A2M-AS1      NCBITaxon:9606   \n",
       "                feature_biotype\n",
       "ENSG00000121410 gene           \n",
       "ENSG00000268895 gene           \n",
       "ENSG00000148584 gene           \n",
       "ENSG00000175899 gene           \n",
       "ENSG00000245105 gene           "
      ]
     },
     "metadata": {},
     "output_type": "display_data"
    }
   ],
   "source": [
    "head(adata$var, n = 5)"
   ]
  },
  {
   "cell_type": "code",
   "execution_count": 7,
   "id": "1f77b3c8-4827-467f-9265-5bceabef3c12",
   "metadata": {
    "tags": []
   },
   "outputs": [
    {
     "data": {
      "text/plain": [
       "                  donor_id     Peak_Respiratory_Support_WHO_Score Bloody_Swab\n",
       " COVID19_Participant34: 2140   8      :11981                      No :27882  \n",
       " COVID19_Participant20: 2033   0      :11180                      Yes: 4706  \n",
       " COVID19_Participant4 : 1680   7      : 3853                                 \n",
       " COVID19_Participant32: 1665   4      : 1531                                 \n",
       " Control_Participant10: 1645   5      : 1438                                 \n",
       " Control_Participant3 : 1620   1      : 1405                                 \n",
       " (Other)              :21805   (Other): 1200                                 \n",
       " Percent_Mitochondrial SARSCoV2_PCR_Status SARSCoV2_PCR_Status_and_WHO_Score\n",
       " Min.   : 0.000        neg:14515           neg_0  :11180                    \n",
       " 1st Qu.: 2.786        pos:18073           pos_8  : 8646                    \n",
       " Median : 7.425                            pos_7  : 3853                    \n",
       " Mean   :12.006                            neg_8  : 3335                    \n",
       " 3rd Qu.:18.266                            pos_4  : 1531                    \n",
       " Max.   :49.917                            pos_5  : 1438                    \n",
       "                                           (Other): 2605                    \n",
       "              Cohort_Disease_WHO_Score                      biosample_id  \n",
       " COVID19_WHO_1-5          : 5164       WHO_0_COVID19_Participant34: 2140  \n",
       " COVID19_WHO_6-8          :12909       WHO_7_COVID19_Participant20: 2033  \n",
       " Control_WHO_0            : 8874       WHO_8_COVID19_Participant4 : 1680  \n",
       " Control_WHO_8            : 3335       WHO_7_COVID19_Participant32: 1665  \n",
       " ConvalescentCOVID19_WHO_0: 2306       WHO_0_Control_Participant10: 1645  \n",
       "                                       WHO_0_Control_Participant3 : 1620  \n",
       "                                       (Other)                    :21805  \n",
       " SingleCell_SARSCoV2_RNA_Status SARSCoV2_Unspliced_TRS_Total_Corrected\n",
       " amb: 2489                      Min.   :  0.00000                     \n",
       " neg:29684                      1st Qu.:  0.00000                     \n",
       " pos:  415                      Median :  0.00000                     \n",
       "                                Mean   :  0.03406                     \n",
       "                                3rd Qu.:  0.00000                     \n",
       "                                Max.   :119.00000                     \n",
       "                                                                      \n",
       " SARSCoV2_Spliced_TRS_Total_Corrected SARSCoV2_NegativeStrand_Total_Corrected\n",
       " Min.   :0.000000                     Min.   :  0.0000                       \n",
       " 1st Qu.:0.000000                     1st Qu.:  0.0000                       \n",
       " Median :0.000000                     Median :  0.0000                       \n",
       " Mean   :0.001135                     Mean   :  0.2022                       \n",
       " 3rd Qu.:0.000000                     3rd Qu.:  0.0000                       \n",
       " Max.   :6.000000                     Max.   :636.0000                       \n",
       "                                                                             \n",
       " SARSCoV2_PositiveStrand_Total_Corrected SARSCoV2_Total_Corrected\n",
       " Min.   :    0.0                         Min.   :    0.000       \n",
       " 1st Qu.:    0.0                         1st Qu.:    0.000       \n",
       " Median :    0.0                         Median :    0.000       \n",
       " Mean   :    5.2                         Mean   :    5.437       \n",
       " 3rd Qu.:    0.0                         3rd Qu.:    0.000       \n",
       " Max.   :11856.0                         Max.   :12612.000       \n",
       "                                                                 \n",
       "              Coarse_Cell_Annotations\n",
       " Ciliated Cells           :10059     \n",
       " Squamous Cells           : 5250     \n",
       " Developing Ciliated Cells: 3854     \n",
       " Secretory Cells          : 3633     \n",
       " Goblet Cells             : 2807     \n",
       " Basal Cells              : 1691     \n",
       " (Other)                  : 5294     \n",
       "                            Detailed_Cell_Annotations\n",
       " Developing Ciliated Cells               : 3854      \n",
       " FOXJ1 high Ciliated Cells               : 3529      \n",
       " CCL5 high Squamous Cells                : 3452      \n",
       " Early Response FOXJ1 high Ciliated Cells: 1848      \n",
       " Cilia high Ciliated Cells               : 1740      \n",
       " Basal Cells                             : 1691      \n",
       " (Other)                                 :16474      \n",
       "                     Annotation    assay_ontology_term_id\n",
       " Ciliated Cells           :10059   EFO:0030019:32588     \n",
       " Squamous Cells           : 5250                         \n",
       " Developing Ciliated Cells: 3854                         \n",
       " Secretory Cells          : 3633                         \n",
       " Goblet Cells             : 2807                         \n",
       " Basal Cells              : 1691                         \n",
       " (Other)                  : 5294                         \n",
       " cell_type_ontology_term_id development_stage_ontology_term_id\n",
       " CL:0000064:13913           HsapDv:0000237: 1501              \n",
       " CL:0000076: 5250           HsapDv:0000238: 3721              \n",
       " CL:0000151: 4039           HsapDv:0000239: 3138              \n",
       " CL:0002480: 2807           HsapDv:0000240: 9295              \n",
       " CL:0000646: 1957           HsapDv:0000241:11200              \n",
       " CL:0000625: 1003           HsapDv:0000242: 3351              \n",
       " (Other)   : 3619           HsapDv:0000243:  382              \n",
       "  disease_ontology_term_id self_reported_ethnicity_ontology_term_id\n",
       " MONDO:0021113: 3335       unknown:32588                           \n",
       " MONDO:0100096:18073                                               \n",
       " MONDO:0100233: 2306                                               \n",
       " PATO:0000461 : 8874                                               \n",
       "                                                                   \n",
       "                                                                   \n",
       "                                                                   \n",
       " is_primary_data  organism_ontology_term_id   sex_ontology_term_id\n",
       " Mode:logical    NCBITaxon:9606:32588       PATO:0000383:16067    \n",
       " TRUE:32588                                 PATO:0000384:16521    \n",
       "                                                                  \n",
       "                                                                  \n",
       "                                                                  \n",
       "                                                                  \n",
       "                                                                  \n",
       "   tissue_ontology_term_id suspension_type\n",
       " UBERON:0001728:32588      cell:32588     \n",
       "                                          \n",
       "                                          \n",
       "                                          \n",
       "                                          \n",
       "                                          \n",
       "                                          \n",
       "                           cell_type             assay      \n",
       " ciliated cell                  :13913   Seq-Well S3:32588  \n",
       " squamous epithelial cell       : 5250                      \n",
       " secretory cell                 : 4039                      \n",
       " nasal mucosa goblet cell       : 2807                      \n",
       " basal cell                     : 1957                      \n",
       " CD8-positive, alpha-beta T cell: 1003                      \n",
       " (Other)                        : 3619                      \n",
       "                disease              organism         sex       \n",
       " respiratory failure: 3335   Homo sapiens:32588   female:16067  \n",
       " COVID-19           :18073                        male  :16521  \n",
       " long COVID-19      : 2306                                      \n",
       " normal             : 8874                                      \n",
       "                                                                \n",
       "                                                                \n",
       "                                                                \n",
       "         tissue      self_reported_ethnicity                  development_stage\n",
       " nasopharynx:32588   unknown:32588           third decade human stage  : 1501  \n",
       "                                             fourth decade human stage : 3721  \n",
       "                                             fifth decade human stage  : 3138  \n",
       "                                             sixth decade human stage  : 9295  \n",
       "                                             seventh decade human stage:11200  \n",
       "                                             eighth decade human stage : 3351  \n",
       "                                             ninth decade human stage  :  382  "
      ]
     },
     "metadata": {},
     "output_type": "display_data"
    }
   ],
   "source": [
    "# Summary of adata$obs\n",
    "summary(adata$obs)"
   ]
  },
  {
   "cell_type": "code",
   "execution_count": 8,
   "id": "d734e38c-22e7-4774-8cbe-636285e0d759",
   "metadata": {
    "tags": []
   },
   "outputs": [
    {
     "data": {
      "text/plain": [
       "    mvp.mean        mvp.dispersion   mvp.dispersion.scaled mvp.variable   \n",
       " Min.   :0.000000   Min.   :-1.345   Min.   :-9.456781     Mode :logical  \n",
       " 1st Qu.:0.009284   1st Qu.: 2.746   1st Qu.:-0.498151     FALSE:29088    \n",
       " Median :0.045667   Median : 3.164   Median : 0.197235     TRUE :3473     \n",
       " Mean   :0.168574   Mean   : 3.055   Mean   :-0.000871                    \n",
       " 3rd Qu.:0.217585   3rd Qu.: 3.390   3rd Qu.: 0.585533                    \n",
       " Max.   :5.569947   Max.   : 7.466   Max.   : 9.912967                    \n",
       "                                     NA's   :1                            \n",
       "      gene_symbols   feature_is_filtered   feature_name  \n",
       " CLCA4-AS1  :    2   Mode :logical       A1BG    :    1  \n",
       " DNAJC9-AS1 :    2   FALSE:32561         A1BG-AS1:    1  \n",
       " GOLGA8M    :    2                       A1CF    :    1  \n",
       " KBTBD11-OT1:    2                       A2M     :    1  \n",
       " LINC00484  :    2                       A2M-AS1 :    1  \n",
       " LINC00486  :    2                       A2ML1   :    1  \n",
       " (Other)    :32549                       (Other) :32555  \n",
       "         feature_reference feature_biotype\n",
       " NCBITaxon:2697049:   10   gene:32561     \n",
       " NCBITaxon:9606   :32551                  \n",
       "                                          \n",
       "                                          \n",
       "                                          \n",
       "                                          \n",
       "                                          "
      ]
     },
     "metadata": {},
     "output_type": "display_data"
    }
   ],
   "source": [
    "# Summary of adata$var\n",
    "summary(adata$var)"
   ]
  },
  {
   "cell_type": "code",
   "execution_count": 10,
   "id": "b14d9239-3506-4665-8332-557fde7209c2",
   "metadata": {
    "tags": []
   },
   "outputs": [
    {
     "data": {
      "image/png": "[encoded data removed]",
      "text/plain": [
       "plot without title"
      ]
     },
     "metadata": {
      "image/png": {
       "height": 420,
       "width": 420
      }
     },
     "output_type": "display_data"
    },
    {
     "data": {
      "image/png": "[encoded data removed]",
      "text/plain": [
       "Plot with title “Histogram of adata$var$mvp.mean”"
      ]
     },
     "metadata": {
      "image/png": {
       "height": 420,
       "width": 420
      }
     },
     "output_type": "display_data"
    },
    {
     "data": {
      "image/png": "[encoded data removed]",
      "text/plain": [
       "plot without title"
      ]
     },
     "metadata": {
      "image/png": {
       "height": 420,
       "width": 420
      }
     },
     "output_type": "display_data"
    },
    {
     "data": {
      "image/png": "[encoded data removed]",
      "text/plain": [
       "plot without title"
      ]
     },
     "metadata": {
      "image/png": {
       "height": 420,
       "width": 420
      }
     },
     "output_type": "display_data"
    }
   ],
   "source": [
    "# Scatter plot: mvp.mean vs. mvp.dispersion\n",
    "plot(adata$var$mvp.mean, adata$var$mvp.dispersion)\n",
    "\n",
    "# Histogram of mvp.mean\n",
    "hist(adata$var$mvp.mean)\n",
    "\n",
    "# Box plot of mvp.variable vs. mvp.mean\n",
    "boxplot(adata$var$mvp.mean ~ adata$var$mvp.variable)\n",
    "\n",
    "# Bar plot of feature_biotype\n",
    "barplot(table(adata$var$feature_biotype))\n",
    "\n"
   ]
  },
  {
   "cell_type": "code",
   "execution_count": 11,
   "id": "8cd1727f-c8a7-419f-a719-dbeb95fb7534",
   "metadata": {
    "tags": []
   },
   "outputs": [
    {
     "data": {
      "text/html": [
       "<table class=\"dataframe\">\n",
       "<caption>A data.frame: 5 × 1</caption>\n",
       "<thead>\n",
       "\t<tr><th></th><th scope=col>Percent_Mitochondrial</th></tr>\n",
       "\t<tr><th></th><th scope=col>&lt;dbl&gt;</th></tr>\n",
       "</thead>\n",
       "<tbody>\n",
       "\t<tr><th scope=row>GTCGGGGGGTGG_000_neg_array1</th><td>11.004785</td></tr>\n",
       "\t<tr><th scope=row>CAAATCAATTAT_000_neg_array1</th><td>34.210526</td></tr>\n",
       "\t<tr><th scope=row>ATACAATTGACA_000_neg_array1</th><td> 7.068224</td></tr>\n",
       "\t<tr><th scope=row>CTGTTAATGAGA_000_neg_array1</th><td> 3.179056</td></tr>\n",
       "\t<tr><th scope=row>CTTCACATTATT_000_neg_array1</th><td> 2.391569</td></tr>\n",
       "</tbody>\n",
       "</table>\n"
      ],
      "text/latex": [
       "A data.frame: 5 × 1\n",
       "\\begin{tabular}{r|l}\n",
       "  & Percent\\_Mitochondrial\\\\\n",
       "  & <dbl>\\\\\n",
       "\\hline\n",
       "\tGTCGGGGGGTGG\\_000\\_neg\\_array1 & 11.004785\\\\\n",
       "\tCAAATCAATTAT\\_000\\_neg\\_array1 & 34.210526\\\\\n",
       "\tATACAATTGACA\\_000\\_neg\\_array1 &  7.068224\\\\\n",
       "\tCTGTTAATGAGA\\_000\\_neg\\_array1 &  3.179056\\\\\n",
       "\tCTTCACATTATT\\_000\\_neg\\_array1 &  2.391569\\\\\n",
       "\\end{tabular}\n"
      ],
      "text/markdown": [
       "\n",
       "A data.frame: 5 × 1\n",
       "\n",
       "| <!--/--> | Percent_Mitochondrial &lt;dbl&gt; |\n",
       "|---|---|\n",
       "| GTCGGGGGGTGG_000_neg_array1 | 11.004785 |\n",
       "| CAAATCAATTAT_000_neg_array1 | 34.210526 |\n",
       "| ATACAATTGACA_000_neg_array1 |  7.068224 |\n",
       "| CTGTTAATGAGA_000_neg_array1 |  3.179056 |\n",
       "| CTTCACATTATT_000_neg_array1 |  2.391569 |\n",
       "\n"
      ],
      "text/plain": [
       "                            Percent_Mitochondrial\n",
       "GTCGGGGGGTGG_000_neg_array1 11.004785            \n",
       "CAAATCAATTAT_000_neg_array1 34.210526            \n",
       "ATACAATTGACA_000_neg_array1  7.068224            \n",
       "CTGTTAATGAGA_000_neg_array1  3.179056            \n",
       "CTTCACATTATT_000_neg_array1  2.391569            "
      ]
     },
     "metadata": {},
     "output_type": "display_data"
    }
   ],
   "source": [
    "head(adata$obs['Percent_Mitochondrial'], n = 5)"
   ]
  },
  {
   "cell_type": "code",
   "execution_count": 12,
   "id": "cf351caf-3f2a-485d-bbfc-c53b5a6463e2",
   "metadata": {
    "tags": []
   },
   "outputs": [
    {
     "ename": "ERROR",
     "evalue": "Error in eval(expr, envir, enclos): object 'mito_genes' not found\n",
     "output_type": "error",
     "traceback": [
      "Error in eval(expr, envir, enclos): object 'mito_genes' not found\nTraceback:\n"
     ]
    }
   ],
   "source": [
    "mito_genes"
   ]
  },
  {
   "cell_type": "code",
   "execution_count": null,
   "id": "3b4f6ca6-2b1c-4db5-841c-6b094262ff26",
   "metadata": {},
   "outputs": [],
   "source": []
  },
  {
   "cell_type": "code",
   "execution_count": 18,
   "id": "7b31363a-5725-46a1-89a4-467b801bd8d5",
   "metadata": {
    "tags": []
   },
   "outputs": [
    {
     "name": "stderr",
     "output_type": "stream",
     "text": [
      "Warning message:\n",
      "“The following arguments are not used: dispersion.min, dispersion.max”\n"
     ]
    },
    {
     "ename": "ERROR",
     "evalue": "Error in dimnames(out) <- dimnames(self): 'dimnames' applied to non-array\n",
     "output_type": "error",
     "traceback": [
      "Error in dimnames(out) <- dimnames(self): 'dimnames' applied to non-array\nTraceback:\n",
      "1. FindVariableFeatures(adata, selection.method = \"dispersion\", \n .     dispersion.min = 0.7, dispersion.max = 1.2)",
      "2. FindVariableFeatures.default(adata, selection.method = \"dispersion\", \n .     dispersion.min = 0.7, dispersion.max = 1.2)",
      "3. as(object = as.matrix(x = object), Class = \"Matrix\")",
      "4. .class1(object)",
      "5. as.matrix(x = object)",
      "6. as.matrix(x = object)",
      "7. as.matrix.AnnDataR6(x = object)",
      "8. (function (value) \n . {\n .     if (missing(value)) {\n .         out <- py_to_r_ifneedbe(private$.anndata$X)\n .         if (!is.null(out)) {\n .             dimnames(out) <- dimnames(self)\n .         }\n .         out\n .     }\n .     else {\n .         value <- .check_matrix(value)\n .         private$.anndata$X <- value\n .         self\n .     }\n . })()"
     ]
    }
   ],
   "source": [
    "# Filter genes based on dispersion\n",
    "adata <- FindVariableFeatures(adata, selection.method = \"dispersion\", dispersion.min = 0.7, dispersion.max = 1.2)\n"
   ]
  },
  {
   "cell_type": "code",
   "execution_count": null,
   "id": "93c18087-6f58-4af3-abd6-5049420b5e0a",
   "metadata": {},
   "outputs": [],
   "source": []
  },
  {
   "cell_type": "code",
   "execution_count": null,
   "id": "c415f40b-9e7d-458f-bf4c-a4ac2c5f2f3d",
   "metadata": {},
   "outputs": [],
   "source": []
  },
  {
   "cell_type": "code",
   "execution_count": null,
   "id": "016312f9-cd80-4c82-8fd1-eea5b343e3a6",
   "metadata": {},
   "outputs": [],
   "source": []
  },
  {
   "cell_type": "code",
   "execution_count": null,
   "id": "dda19236-5964-4c94-ad72-34fe9be3e648",
   "metadata": {},
   "outputs": [],
   "source": [
    "\n",
    "\n",
    "# Quality control and preprocessing\n",
    "adata <- subset(adata, features = n_counts > 1)\n",
    "adata <- subset(adata, cells = n_counts > 1)\n",
    "\n",
    "# Normalization and scaling\n",
    "adata <- NormalizeData(adata)\n",
    "adata <- ScaleData(adata)\n",
    "\n",
    "# Dimensionality reduction (PCA)\n",
    "adata <- RunPCA(adata, features = VariableFeatures(object = adata))\n",
    "\n",
    "# Select top principal components\n",
    "top_pcs <- 1:36  # Select the first 36 principal components\n",
    "adata <- SetAllIdent(adata, value = \"merged_cluster\")  # Initialize with a dummy cluster label\n",
    "adata <- RunUMAP(adata, dims = top_pcs)\n",
    "\n",
    "# Clustering using Louvain\n",
    "resolution <- 1.0  # You can adjust the resolution parameter\n",
    "adata <- FindNeighbors(adata, dims = top_pcs)\n",
    "adata <- FindClusters(adata, resolution = resolution)\n",
    "\n",
    "# Differential gene expression\n",
    "de.markers <- FindAllMarkers(adata, test.use = \"bimod\")\n",
    "\n",
    "# Merge clusters with fewer than 25 significantly DE genes\n",
    "# Pseudocode:\n",
    "for (cluster in unique(adata$seurat_clusters)) {\n",
    "  de_genes_count <- sum(de.markers$p_val_adj[de.markers$cluster == cluster] < 0.001)\n",
    "  if (de_genes_count < 25) {\n",
    "    adata$seurat_clusters[adata$seurat_clusters == cluster] <- \"merged_cluster\"\n",
    "  }\n",
    "}\n",
    "\n",
    "# Visualization\n",
    "# UMAP plot colored by clusters\n",
    "DimPlot(adata, group.by = \"seurat_clusters\")\n",
    "\n",
    "# Volcano plot for differentially expressed genes\n",
    "VlnPlot(adata, features = rownames(de.markers), group.by = \"seurat_clusters\")\n"
   ]
  }
 ],
 "metadata": {
  "kernelspec": {
   "display_name": "IR-4.2",
   "language": "R",
   "name": "ir"
  },
  "language_info": {
   "codemirror_mode": "r",
   "file_extension": ".r",
   "mimetype": "text/x-r-source",
   "name": "R",
   "pygments_lexer": "r",
   "version": "4.0.5"
  }
 },
 "nbformat": 4,
 "nbformat_minor": 5
}
