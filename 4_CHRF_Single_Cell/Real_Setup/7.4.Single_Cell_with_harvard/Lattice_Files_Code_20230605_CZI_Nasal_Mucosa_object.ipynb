{
 "cells": [
  {
   "cell_type": "code",
   "execution_count": 4,
   "id": "dfa3d2fc-e747-45ae-8cd5-51dc87a55151",
   "metadata": {
    "tags": []
   },
   "outputs": [],
   "source": [
    "#Essential\n",
    "library(hdf5r) #Read h5 files \n",
    "# library(Seurat) #Essential for single cell analysis\n",
    " \n",
    "#Working with dataframes \n",
    "library(readr)\n",
    "library(dplyr)\n",
    "library(tibble)\n",
    "\n",
    "# #Plotting \n",
    "library(ggplot2)\n",
    "library(cowplot)\n",
    "library(anndata)"
   ]
  },
  {
   "cell_type": "code",
   "execution_count": 26,
   "id": "1011785a-bea1-4e17-988d-325a97af3cec",
   "metadata": {},
   "outputs": [],
   "source": [
    "# #Define list of pools\n",
    "# pools <- c(\"20221021_BCH_B003_P002\", \n",
    "#            \"20221130_BCH_B005_P002\",\n",
    "#            \"20221213_BCH_B007_P001\",\n",
    "#            \"20230222_BCH_B012_P003\")"
   ]
  },
  {
   "cell_type": "code",
   "execution_count": 6,
   "id": "152650e0-9d0e-45df-937c-00a40d5501bd",
   "metadata": {
    "tags": []
   },
   "outputs": [],
   "source": [
    "# Load your data\n",
    "# adata <- read_h5ad(file = \"./Lattice_Files_Code_20230605_CZI_Nasal_Mucosa_object.h5ad\")\n",
    "# adata"
   ]
  },
  {
   "cell_type": "code",
   "execution_count": 7,
   "id": "e25a0a8e-275b-4fbe-ae78-7d7796f06ae3",
   "metadata": {
    "tags": []
   },
   "outputs": [],
   "source": [
    "#Load participant metadata table \n",
    "# metadata <- read.csv(file = \"./20230605_lattice_submission_files/20230606_Participant_Metadata_for_scRNAseq_Controls.csv\", row.names = \"Pool_Fmux_ID\")\n"
   ]
  },
  {
   "cell_type": "code",
   "execution_count": 8,
   "id": "bbb01bc5-f3ca-432b-9b09-b9ba57565c11",
   "metadata": {
    "tags": []
   },
   "outputs": [],
   "source": [
    "\n",
    "# #create empty list\n",
    "# obj.list <- list()\n",
    "\n",
    "# for(pool in pools){\n",
    "#   print(pool)\n",
    "#   #read h5 file \n",
    "#   h5.path <- paste(\"./Alignment_h5_files/\", pool, \"/filtered_feature_bc_matrix.h5\", sep = \"\")\n",
    "#   obj.pool <- Read10X_h5(h5.path)\n",
    "  \n",
    "#   #create seurat object \n",
    "#   obj.pool <- CreateSeuratObject(obj.pool)\n",
    "  \n",
    "#   obj.pool$Pool <- pool\n",
    "  \n",
    "#   #print seurat object info \n",
    "#   print(obj.pool)\n",
    "  \n",
    "#   #load freemuxlet results \n",
    "#   fmux.path <- paste(\"./Freemuxlet/\", pool, \"/\", pool, \".clust1.samples.gz\", sep = \"\")\n",
    "#   fmux <- as.data.frame(read.table(gzfile(fmux.path), header = TRUE))\n",
    "  \n",
    "#   #format table, subset to only cells in the seurat object and sort by cell barcode \n",
    "#   rownames(fmux) <- fmux$BARCODE\n",
    "#   fmux <- subset(fmux, subset = fmux$BARCODE %in% colnames(obj.pool))\n",
    "#   fmux <- fmux[order(fmux$BARCODE),]\n",
    "  \n",
    "#   #add freemuxlet results to seurat object as metadata \n",
    "#   obj.pool <- subset(obj.pool, cells = rownames(fmux))\n",
    "#   obj.pool <- AddMetaData(obj.pool, metadata = fmux$DROPLET.TYPE, col.name = \"Fmux_Droplet_Type\")\n",
    "#   obj.pool <- AddMetaData(obj.pool, metadata = fmux$SNG.BEST.GUESS, col.name = \"Fmux_Cluster_ID\")\n",
    "  \n",
    "#   #add metadata column with site, batch, pool, and freemuxlet ID \n",
    "#   obj.pool <- AddMetaData(obj.pool, paste(obj.pool$Pool, obj.pool$Fmux_Cluster_ID, sep = \"_\"), \"Pool_FmuxID\") \n",
    "  \n",
    "#   #Filter to droplets defined as singlets by Freemuxlet \n",
    "#   obj.pool <- subset(obj.pool, Fmux_Droplet_Type == \"SNG\")\n",
    "  \n",
    "#   #split object by fmux ID\n",
    "#   obj.pool.list <- SplitObject(obj.pool, split.by = \"Pool_FmuxID\")\n",
    "\n",
    "#   #Add metatadata from participant table\n",
    "#   for (obj.pt in obj.pool.list){\n",
    "#     pt <- unique(obj.pt$Pool_FmuxID)\n",
    "#     for (var in colnames(metadata)){\n",
    "#       obj.pt <- AddMetaData(obj.pt, metadata[pt, var], col.name = var)\n",
    "#     }\n",
    "\n",
    "#     obj.pool.list[[pt]] <- obj.pt\n",
    "#   }\n",
    "  \n",
    "#   #merge split objects back into one object for the pool \n",
    "#   obj.pool <- merge(x = obj.pool.list[[1]], y = obj.pool.list[2:length(obj.pool.list)], add.cell.ids = names(obj.pool.list))\n",
    "  \n",
    "#   #print number of cells from each participant \n",
    "#   print(table(obj.pool$Participant_ID))\n",
    "  \n",
    "#   #remove unnecessary metadata\n",
    "#   obj.pool$Pool <- NULL\n",
    "#   obj.pool$Pool_FmuxID <- NULL \n",
    "#   obj.pool$Pool_Participant_ID <- NULL \n",
    "  \n",
    "#   #add seurat object to list \n",
    "#   obj.list[[pool]] <- obj.pool\n",
    "  \n",
    "# }"
   ]
  },
  {
   "cell_type": "code",
   "execution_count": 9,
   "id": "481aa2f7-0b7e-4a16-8e22-820730293eb8",
   "metadata": {
    "tags": []
   },
   "outputs": [],
   "source": [
    "#Merge list into one seurat object\n",
    "# obj <- merge(x = obj.list[[1]], y = obj.list[2:length(obj.list)], add.cell.ids = pools)\n",
    "# obj"
   ]
  },
  {
   "cell_type": "code",
   "execution_count": 10,
   "id": "d3976477-679f-42c6-9655-4b4c528fe921",
   "metadata": {
    "tags": []
   },
   "outputs": [],
   "source": [
    "# #add percent mitochondrial\n",
    "# obj[[\"percent.mt\"]] <- PercentageFeatureSet(obj, pattern = \"^MT-\")\n",
    "\n",
    "# #plot by pool\n",
    "# ggplot(as.data.frame(table(obj$Pool_ID)) %>% rename(Pool_ID = Var1, Number_Cells = Freq), \n",
    "#        aes(x = Pool_ID, y = Number_Cells, fill = Pool_ID)) +\n",
    "#   geom_bar(stat = \"identity\", width = .6, color = \"black\") + \n",
    "#   scale_y_continuous(expand = c(0,0), limits = c(0,20000)) + \n",
    "#   ylab(\"# of Cells\") +\n",
    "#   theme_classic() + \n",
    "#   theme(axis.text.x = element_text(size = 8, color = \"black\", angle = 90, vjust = .9), \n",
    "#         legend.position = \"none\", \n",
    "#         axis.title.x = element_blank(), \n",
    "#         axis.title.y = element_text(size = 14), \n",
    "#         plot.margin = unit(c(.5,.5,.5,.5), \"cm\")) +\n",
    "#   geom_text(aes(label = Number_Cells), vjust = -0.2, size = 3)\n",
    "\n",
    "# VlnPlot(obj, features = \"nFeature_RNA\", log = TRUE, group.by = \"Pool_ID\") * \n",
    "#   theme(axis.title.x = element_blank(), legend.position = \"none\") + \n",
    "#   geom_hline(yintercept = 300, color = \"red\") \n",
    "\n",
    "# VlnPlot(obj, features = \"nCount_RNA\", log = TRUE, group.by = \"Pool_ID\") * \n",
    "#   theme(axis.title.x = element_blank(), legend.position = \"none\") + \n",
    "#   geom_hline(yintercept = 500, color = \"red\")\n",
    "\n",
    "# VlnPlot(obj, features = \"percent.mt\",  group.by = \"Pool_ID\") * \n",
    "#   theme(axis.title.x = element_blank(), legend.position = \"none\") + \n",
    "#   geom_hline(yintercept = 35, color = \"red\")"
   ]
  },
  {
   "cell_type": "code",
   "execution_count": 11,
   "id": "86ece454-5bab-4977-8be4-f9a856815ceb",
   "metadata": {
    "tags": []
   },
   "outputs": [],
   "source": [
    "# #plot by participant\n",
    "\n",
    "# ggplot(as.data.frame(table(obj$Sample_ID)) %>% rename(Sample_ID = Var1, Number_Cells = Freq), \n",
    "#        aes(x = Sample_ID, y = Number_Cells, fill = Sample_ID)) +\n",
    "#   geom_bar(stat = \"identity\", width = .6, color = \"black\") + \n",
    "#   scale_y_continuous(expand = c(0,0), limits = c(0,8500)) + \n",
    "#   ylab(\"# of Cells\") +\n",
    "#   theme_classic() + \n",
    "#   theme(axis.text.x = element_text(size = 8, color = \"black\", angle = 90, vjust = .9), \n",
    "#         legend.position = \"none\", \n",
    "#         axis.title.x = element_blank(), \n",
    "#         axis.title.y = element_text(size = 14), \n",
    "#         plot.margin = unit(c(.5,.5,.5,.5), \"cm\")) +\n",
    "#   geom_text(aes(label = Number_Cells), vjust = -0.2, size = 3)"
   ]
  },
  {
   "cell_type": "code",
   "execution_count": 12,
   "id": "2a933984-7b28-4da0-bbf0-343ecf0fc54f",
   "metadata": {
    "tags": []
   },
   "outputs": [],
   "source": [
    "# VlnPlot(obj, features = \"nFeature_RNA\", log = TRUE, group.by = \"Sample_ID\") + \n",
    "#   theme(axis.title.x = element_blank(), legend.position = \"none\") + \n",
    "#   geom_hline(yintercept = 300, color = \"red\") "
   ]
  },
  {
   "cell_type": "code",
   "execution_count": 13,
   "id": "4df2aa49-e499-490e-9391-ae03aae86c22",
   "metadata": {
    "tags": []
   },
   "outputs": [],
   "source": [
    "# VlnPlot(obj, features = \"nCount_RNA\", log = TRUE, group.by = \"Sample_ID\") +\n",
    "#   theme(axis.title.x = element_blank(), legend.position = \"none\") + \n",
    "#   geom_hline(yintercept = 500, color = \"red\")"
   ]
  },
  {
   "cell_type": "code",
   "execution_count": 14,
   "id": "347bf820-3aee-412a-bcd5-db3228d69492",
   "metadata": {
    "tags": []
   },
   "outputs": [],
   "source": [
    "# VlnPlot(obj, features = \"percent.mt\",  group.by = \"Sample_ID\") + \n",
    "#   theme(axis.title.x = element_blank(), legend.position = \"none\") + \n",
    "#   geom_hline(yintercept = 35, color = \"red\")"
   ]
  },
  {
   "cell_type": "code",
   "execution_count": 15,
   "id": "f0c0ecf8-1ac1-4c95-9a89-cf74b29fc039",
   "metadata": {
    "tags": []
   },
   "outputs": [],
   "source": [
    "# #Filter based on QC metrics \n",
    "# obj <- subset(obj, subset = nFeature_RNA > 300 & nCount_RNA > 500 & percent.mt < 35)\n",
    "# table(obj$Sample_ID)"
   ]
  },
  {
   "cell_type": "code",
   "execution_count": 16,
   "id": "74a3ea95-5612-46b0-8384-4789dcb1f110",
   "metadata": {
    "tags": []
   },
   "outputs": [],
   "source": [
    "# #Run SCTransform normalization\n",
    "# obj <- SCTransform(obj, vars.to.regress = \"percent.mt\")"
   ]
  },
  {
   "cell_type": "code",
   "execution_count": 17,
   "id": "df131385-d880-4899-b467-0133c056cce6",
   "metadata": {
    "tags": []
   },
   "outputs": [],
   "source": [
    "# #PCA \n",
    "# obj <- RunPCA(obj, features = VariableFeatures(object = obj))\n",
    "# ElbowPlot(obj, ndims = 40)"
   ]
  },
  {
   "cell_type": "code",
   "execution_count": 18,
   "id": "c00fe740-adba-4541-aa5f-489f6de574d5",
   "metadata": {
    "tags": []
   },
   "outputs": [],
   "source": [
    "# #clustering \n",
    "# obj <- FindNeighbors(obj, dims = 1:26) \n",
    "# obj <- FindClusters(obj, resolution = 0.4) \n",
    "# obj <- RunUMAP(obj, dims = 1:26)\n",
    "# DimPlot(obj, label = TRUE)\n",
    "# DimPlot(obj, group.by = \"Pool_ID\", shuffle = TRUE)\n",
    "# DimPlot(obj, group.by = \"Sample_ID\", shuffle = TRUE)"
   ]
  },
  {
   "cell_type": "code",
   "execution_count": 19,
   "id": "ccd7ee63-d429-499c-9c33-e8846221b024",
   "metadata": {
    "tags": []
   },
   "outputs": [],
   "source": [
    "# obj <- AddMetaData(obj, NA, col.name = \"Coarse_Cell_Type\")\n",
    "\n",
    "# obj@meta.data$Coarse_Cell_Type[obj@meta.data$seurat_clusters == 0 ] <- \"Secretory/Goblet\" \n",
    "# obj@meta.data$Coarse_Cell_Type[obj@meta.data$seurat_clusters == 1 ] <- \"Ciliated\" \n",
    "# obj@meta.data$Coarse_Cell_Type[obj@meta.data$seurat_clusters == 2 ] <- \"Ciliated\"  \n",
    "# obj@meta.data$Coarse_Cell_Type[obj@meta.data$seurat_clusters == 3 ] <- \"Basal/Club\" \n",
    "# obj@meta.data$Coarse_Cell_Type[obj@meta.data$seurat_clusters == 4 ] <- \"T/NK\" \n",
    "# obj@meta.data$Coarse_Cell_Type[obj@meta.data$seurat_clusters == 5 ] <- \"Secretory/Goblet\"\n",
    "# obj@meta.data$Coarse_Cell_Type[obj@meta.data$seurat_clusters == 6 ] <- \"Ciliated\" \n",
    "# obj@meta.data$Coarse_Cell_Type[obj@meta.data$seurat_clusters == 7 ] <- \"Ciliated\"  \n",
    "# obj@meta.data$Coarse_Cell_Type[obj@meta.data$seurat_clusters == 8 ] <- \"Myeloid/APC\"  \n",
    "# obj@meta.data$Coarse_Cell_Type[obj@meta.data$seurat_clusters == 9 ] <- \"Myeloid/APC\"  \n",
    "# obj@meta.data$Coarse_Cell_Type[obj@meta.data$seurat_clusters == 10 ] <- \"Secretory/Goblet\"\n",
    "# obj@meta.data$Coarse_Cell_Type[obj@meta.data$seurat_clusters == 11 ] <- \"Ionocytes\" \n",
    "# obj@meta.data$Coarse_Cell_Type[obj@meta.data$seurat_clusters == 12 ] <- \"T/NK\"\n",
    "# obj@meta.data$Coarse_Cell_Type[obj@meta.data$seurat_clusters == 13 ] <- \"Squamous\" "
   ]
  },
  {
   "cell_type": "code",
   "execution_count": 20,
   "id": "c462a196-d44e-4165-88fa-0f477f78d1f0",
   "metadata": {
    "tags": []
   },
   "outputs": [],
   "source": [
    "# cluster.order <- c(\n",
    "#   \"Basal/Club\",\n",
    "#   \"Secretory/Goblet\",\n",
    "#   \"Squamous\",\n",
    "#   \"Ionocytes\",\n",
    "#   \"Ciliated\",\n",
    "#   \"T/NK\",\n",
    "#   \"Myeloid/APC\" \n",
    "# )"
   ]
  },
  {
   "cell_type": "code",
   "execution_count": 21,
   "id": "dea08d2d-42c2-4059-b941-77ace049571c",
   "metadata": {
    "tags": []
   },
   "outputs": [],
   "source": [
    "# obj@meta.data$Coarse_Cell_Type<- factor(obj@meta.data$Coarse_Cell_Type, levels = cluster.order)\n",
    "\n",
    "\n",
    "\n",
    "# DimPlot(obj, group.by = \"Coarse_Cell_Type\", shuffle = TRUE) + \n",
    "#   labs(title = \"Cell Types\") + \n",
    "#   theme(axis.text = element_blank(), axis.ticks= element_blank())"
   ]
  },
  {
   "cell_type": "code",
   "execution_count": 23,
   "id": "3835f941-eec8-484a-b1eb-4f49dadef80c",
   "metadata": {
    "tags": []
   },
   "outputs": [],
   "source": [
    "# marker.genes <- c(\n",
    "#  #basal\n",
    "# \"KRT5\",\n",
    "# \"KRT15\", \n",
    "\n",
    "# #club \n",
    "# \"SCGB1A1\",\n",
    "# \"BPIFA1\",\n",
    "\n",
    "# #goblet \n",
    "# \"MUC5AC\",\n",
    "# \"MUC2\", \n",
    "# \"AQP5\",\n",
    "\n",
    "# #squamous\n",
    "# \"SPRR1B\",\n",
    "# \"SPRR2A\",\n",
    "# \"KRT17\", \n",
    "# \"KRT23\", \n",
    "\n",
    "# #ionocytes\n",
    "# \"RARRES2\",\n",
    "# \"SCNN1B\",\n",
    "# \"CFTR\",\n",
    "\n",
    "# #ciliated \n",
    "# \"CAPS\",\n",
    "# \"DNAAF1\",\n",
    "# \"DNAH12\", \n",
    "# \"TPPP3\",\n",
    "\n",
    "# #T\n",
    "# \"CD3D\",\n",
    "# \"TRAC\", \n",
    "# \"IFNG\",\n",
    "# \"NKG7\", \n",
    "\n",
    "# #myeloid \n",
    "# \"TYROBP\",\n",
    "# \"LYZ\",\n",
    "\n",
    "# #HLA\n",
    "# \"HLA-DPA1\",\n",
    "# \"HLA-DPB1\",\n",
    "# \"HLA-DQA1\"\n",
    "\n",
    "# )\n"
   ]
  },
  {
   "cell_type": "code",
   "execution_count": 24,
   "id": "bdf5cdb8-2e6d-4c59-ab37-723935490984",
   "metadata": {
    "tags": []
   },
   "outputs": [],
   "source": [
    "\n",
    "# VlnPlot(obj, features = marker.genes, group.by = \"Coarse_Cell_Type\", fill.by = \"ident\",  stack = TRUE, pt.size = 0) + \n",
    "#   theme(legend.position = \"none\", axis.title.y = element_blank()) + \n",
    "#   labs(title = \"Cell Type Marker Genes\")"
   ]
  },
  {
   "cell_type": "code",
   "execution_count": 25,
   "id": "93804fbd-7a60-4b24-81af-6c4062c6d102",
   "metadata": {
    "tags": []
   },
   "outputs": [],
   "source": [
    "# saveRDS(obj, file = \"./20230605_lattice_submission_files/20230606_CZI_Nasal_Mucosa.rds\")"
   ]
  }
 ],
 "metadata": {
  "kernelspec": {
   "display_name": "IR-4.2",
   "language": "R",
   "name": "ir"
  },
  "language_info": {
   "codemirror_mode": "r",
   "file_extension": ".r",
   "mimetype": "text/x-r-source",
   "name": "R",
   "pygments_lexer": "r",
   "version": "4.0.5"
  }
 },
 "nbformat": 4,
 "nbformat_minor": 5
}
