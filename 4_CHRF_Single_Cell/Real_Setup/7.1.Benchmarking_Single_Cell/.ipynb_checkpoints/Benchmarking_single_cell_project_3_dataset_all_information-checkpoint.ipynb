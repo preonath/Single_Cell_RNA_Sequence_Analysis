{
 "cells": [
  {
   "cell_type": "code",
   "execution_count": 2,
   "id": "1e1677ea-d098-4983-a469-61165fdf3212",
   "metadata": {
    "tags": []
   },
   "outputs": [],
   "source": [
    "import scanpy as sc\n",
    "import anndata as ad"
   ]
  },
  {
   "cell_type": "code",
   "execution_count": 3,
   "id": "81ae1ffd-7962-4c2b-be43-80a995d09d02",
   "metadata": {
    "tags": []
   },
   "outputs": [],
   "source": [
    "# Load individual H5AD files\n",
    "adata1 = sc.read_h5ad('./data/merged_3_dataset/Impaired_local_intrinsic_immunity_to_SARS_CoV_2_infection_in_severe_COVID_19.h5ad')\n",
    "adata3 = sc.read_h5ad('./data/merged_3_dataset/Longitudinal_profiling_of_respiratory_and_systemic_immune_responses_reveals_myeloid_cell_driven_lung_inflammation_in_severe_COVID_19.h5ad')\n",
    "adata4 = sc.read_h5ad('./data/merged_3_dataset/SARS_CoV_2_receptor_ACE2_and_TMPRSS2_are_primarily_expressed_in_bronchial_transient_secretory_cells.h5ad')"
   ]
  },
  {
   "cell_type": "code",
   "execution_count": 7,
   "id": "d2f1c326-7537-489a-adb9-7b672f1dc011",
   "metadata": {
    "tags": []
   },
   "outputs": [
    {
     "data": {
      "text/plain": [
       "AnnData object with n_obs × n_vars = 32588 × 32561\n",
       "    obs: 'donor_id', 'Peak_Respiratory_Support_WHO_Score', 'Bloody_Swab', 'Percent_Mitochondrial', 'SARSCoV2_PCR_Status', 'SARSCoV2_PCR_Status_and_WHO_Score', 'Cohort_Disease_WHO_Score', 'biosample_id', 'SingleCell_SARSCoV2_RNA_Status', 'SARSCoV2_Unspliced_TRS_Total_Corrected', 'SARSCoV2_Spliced_TRS_Total_Corrected', 'SARSCoV2_NegativeStrand_Total_Corrected', 'SARSCoV2_PositiveStrand_Total_Corrected', 'SARSCoV2_Total_Corrected', 'Coarse_Cell_Annotations', 'Detailed_Cell_Annotations', 'Annotation', 'assay_ontology_term_id', 'cell_type_ontology_term_id', 'development_stage_ontology_term_id', 'disease_ontology_term_id', 'self_reported_ethnicity_ontology_term_id', 'is_primary_data', 'organism_ontology_term_id', 'sex_ontology_term_id', 'tissue_ontology_term_id', 'suspension_type', 'cell_type', 'assay', 'disease', 'organism', 'sex', 'tissue', 'self_reported_ethnicity', 'development_stage'\n",
       "    var: 'mvp.mean', 'mvp.dispersion', 'mvp.dispersion.scaled', 'mvp.variable', 'gene_symbols', 'feature_is_filtered', 'feature_name', 'feature_reference', 'feature_biotype'\n",
       "    uns: 'default_embedding', 'schema_version', 'title'\n",
       "    obsm: 'X_pca', 'X_umap'"
      ]
     },
     "metadata": {},
     "output_type": "display_data"
    },
    {
     "data": {
      "text/plain": [
       "AnnData object with n_obs × n_vars = 3434 × 33244\n",
       "    obs: 'donor_id', 'author_cell_type', 'days_post_intubation', 'assay_ontology_term_id', 'cell_type_ontology_term_id', 'development_stage_ontology_term_id', 'disease_ontology_term_id', 'self_reported_ethnicity_ontology_term_id', 'is_primary_data', 'organism_ontology_term_id', 'sex_ontology_term_id', 'tissue_ontology_term_id', 'suspension_type', 'cell_type', 'assay', 'disease', 'organism', 'sex', 'tissue', 'self_reported_ethnicity', 'development_stage'\n",
       "    var: 'gene_symbols', 'feature_is_filtered', 'feature_name', 'feature_reference', 'feature_biotype'\n",
       "    uns: 'default_embedding', 'schema_version', 'title'\n",
       "    obsm: 'X_umap'"
      ]
     },
     "metadata": {},
     "output_type": "display_data"
    },
    {
     "data": {
      "text/plain": [
       "AnnData object with n_obs × n_vars = 17451 × 21216\n",
       "    obs: 'nCount_RNA', 'nFeature_RNA', 'percent.mt', 'CellType', 'smoking', 'assay_ontology_term_id', 'cell_type_ontology_term_id', 'development_stage_ontology_term_id', 'disease_ontology_term_id', 'self_reported_ethnicity_ontology_term_id', 'is_primary_data', 'organism_ontology_term_id', 'sex_ontology_term_id', 'tissue_ontology_term_id', 'donor_id', 'suspension_type', 'cell_type', 'assay', 'disease', 'organism', 'sex', 'tissue', 'self_reported_ethnicity', 'development_stage'\n",
       "    var: 'gene_symbols', 'feature_is_filtered', 'feature_name', 'feature_reference', 'feature_biotype'\n",
       "    uns: 'default_embedding', 'schema_version', 'title'\n",
       "    obsm: 'X_umap'"
      ]
     },
     "metadata": {},
     "output_type": "display_data"
    }
   ],
   "source": [
    "display(adata1)\n",
    "display(adata3)\n",
    "display(adata4)"
   ]
  },
  {
   "cell_type": "code",
   "execution_count": 8,
   "id": "5cb2ede7-75b9-439e-be1c-6508c25bea86",
   "metadata": {
    "tags": []
   },
   "outputs": [],
   "source": [
    "# Merge AnnData objects\n",
    "# merged_adata_3 = ad.concat([adata1, adata3, adata4],label=\"sample\")"
   ]
  },
  {
   "cell_type": "code",
   "execution_count": 10,
   "id": "5ed8ddcf-2584-4170-8f87-a6f701ebbc18",
   "metadata": {
    "tags": []
   },
   "outputs": [],
   "source": [
    "# Save the merged dataset\n",
    "# merged_adata_3.write_h5ad('./data/merged_3_dataset/merged_3_data.h5ad')"
   ]
  },
  {
   "cell_type": "code",
   "execution_count": 13,
   "id": "98e68015-d597-45a0-acfb-0719836c449d",
   "metadata": {
    "tags": []
   },
   "outputs": [],
   "source": [
    "# Load the merged dataset\n",
    "adata = sc.read_h5ad('./data/merged_3_dataset/merged_3_data.h5ad')"
   ]
  },
  {
   "cell_type": "code",
   "execution_count": 12,
   "id": "13450135-1368-4acd-9ac9-c479b7be1386",
   "metadata": {
    "tags": []
   },
   "outputs": [],
   "source": [
    "# Create a copy of the adata object\n",
    "# adata_copy = adata.copy()"
   ]
  },
  {
   "cell_type": "code",
   "execution_count": 13,
   "id": "acfee82e-261d-4cfe-b609-e576aea48257",
   "metadata": {
    "tags": []
   },
   "outputs": [],
   "source": [
    "# adata_copy"
   ]
  },
  {
   "cell_type": "code",
   "execution_count": 15,
   "id": "d2ae2ee8-a60c-4944-813b-70c976360990",
   "metadata": {
    "tags": []
   },
   "outputs": [],
   "source": [
    "# display(adata_copy.obs.shape)\n",
    "# display(adata_copy.var.shape)"
   ]
  },
  {
   "cell_type": "code",
   "execution_count": 16,
   "id": "fa7c78a5-41f4-46ee-b92b-4287b736d46b",
   "metadata": {
    "tags": []
   },
   "outputs": [
    {
     "data": {
      "text/html": [
       "<div>\n",
       "<style scoped>\n",
       "    .dataframe tbody tr th:only-of-type {\n",
       "        vertical-align: middle;\n",
       "    }\n",
       "\n",
       "    .dataframe tbody tr th {\n",
       "        vertical-align: top;\n",
       "    }\n",
       "\n",
       "    .dataframe thead th {\n",
       "        text-align: right;\n",
       "    }\n",
       "</style>\n",
       "<table border=\"1\" class=\"dataframe\">\n",
       "  <thead>\n",
       "    <tr style=\"text-align: right;\">\n",
       "      <th></th>\n",
       "      <th>donor_id</th>\n",
       "      <th>assay_ontology_term_id</th>\n",
       "      <th>cell_type_ontology_term_id</th>\n",
       "      <th>development_stage_ontology_term_id</th>\n",
       "      <th>disease_ontology_term_id</th>\n",
       "      <th>self_reported_ethnicity_ontology_term_id</th>\n",
       "      <th>is_primary_data</th>\n",
       "      <th>organism_ontology_term_id</th>\n",
       "      <th>sex_ontology_term_id</th>\n",
       "      <th>tissue_ontology_term_id</th>\n",
       "      <th>suspension_type</th>\n",
       "      <th>cell_type</th>\n",
       "      <th>assay</th>\n",
       "      <th>disease</th>\n",
       "      <th>organism</th>\n",
       "      <th>sex</th>\n",
       "      <th>tissue</th>\n",
       "      <th>self_reported_ethnicity</th>\n",
       "      <th>development_stage</th>\n",
       "      <th>sample</th>\n",
       "    </tr>\n",
       "  </thead>\n",
       "  <tbody>\n",
       "    <tr>\n",
       "      <th>GTCGGGGGGTGG_000_neg_array1</th>\n",
       "      <td>Control_Participant7</td>\n",
       "      <td>EFO:0030019</td>\n",
       "      <td>CL:0000064</td>\n",
       "      <td>HsapDv:0000240</td>\n",
       "      <td>PATO:0000461</td>\n",
       "      <td>unknown</td>\n",
       "      <td>True</td>\n",
       "      <td>NCBITaxon:9606</td>\n",
       "      <td>PATO:0000384</td>\n",
       "      <td>UBERON:0001728</td>\n",
       "      <td>cell</td>\n",
       "      <td>ciliated cell</td>\n",
       "      <td>Seq-Well S3</td>\n",
       "      <td>normal</td>\n",
       "      <td>Homo sapiens</td>\n",
       "      <td>male</td>\n",
       "      <td>nasopharynx</td>\n",
       "      <td>unknown</td>\n",
       "      <td>sixth decade human stage</td>\n",
       "      <td>0</td>\n",
       "    </tr>\n",
       "    <tr>\n",
       "      <th>CAAATCAATTAT_000_neg_array1</th>\n",
       "      <td>Control_Participant7</td>\n",
       "      <td>EFO:0030019</td>\n",
       "      <td>CL:0000064</td>\n",
       "      <td>HsapDv:0000240</td>\n",
       "      <td>PATO:0000461</td>\n",
       "      <td>unknown</td>\n",
       "      <td>True</td>\n",
       "      <td>NCBITaxon:9606</td>\n",
       "      <td>PATO:0000384</td>\n",
       "      <td>UBERON:0001728</td>\n",
       "      <td>cell</td>\n",
       "      <td>ciliated cell</td>\n",
       "      <td>Seq-Well S3</td>\n",
       "      <td>normal</td>\n",
       "      <td>Homo sapiens</td>\n",
       "      <td>male</td>\n",
       "      <td>nasopharynx</td>\n",
       "      <td>unknown</td>\n",
       "      <td>sixth decade human stage</td>\n",
       "      <td>0</td>\n",
       "    </tr>\n",
       "    <tr>\n",
       "      <th>ATACAATTGACA_000_neg_array1</th>\n",
       "      <td>Control_Participant7</td>\n",
       "      <td>EFO:0030019</td>\n",
       "      <td>CL:0000064</td>\n",
       "      <td>HsapDv:0000240</td>\n",
       "      <td>PATO:0000461</td>\n",
       "      <td>unknown</td>\n",
       "      <td>True</td>\n",
       "      <td>NCBITaxon:9606</td>\n",
       "      <td>PATO:0000384</td>\n",
       "      <td>UBERON:0001728</td>\n",
       "      <td>cell</td>\n",
       "      <td>ciliated cell</td>\n",
       "      <td>Seq-Well S3</td>\n",
       "      <td>normal</td>\n",
       "      <td>Homo sapiens</td>\n",
       "      <td>male</td>\n",
       "      <td>nasopharynx</td>\n",
       "      <td>unknown</td>\n",
       "      <td>sixth decade human stage</td>\n",
       "      <td>0</td>\n",
       "    </tr>\n",
       "    <tr>\n",
       "      <th>CTGTTAATGAGA_000_neg_array1</th>\n",
       "      <td>Control_Participant7</td>\n",
       "      <td>EFO:0030019</td>\n",
       "      <td>CL:0000064</td>\n",
       "      <td>HsapDv:0000240</td>\n",
       "      <td>PATO:0000461</td>\n",
       "      <td>unknown</td>\n",
       "      <td>True</td>\n",
       "      <td>NCBITaxon:9606</td>\n",
       "      <td>PATO:0000384</td>\n",
       "      <td>UBERON:0001728</td>\n",
       "      <td>cell</td>\n",
       "      <td>ciliated cell</td>\n",
       "      <td>Seq-Well S3</td>\n",
       "      <td>normal</td>\n",
       "      <td>Homo sapiens</td>\n",
       "      <td>male</td>\n",
       "      <td>nasopharynx</td>\n",
       "      <td>unknown</td>\n",
       "      <td>sixth decade human stage</td>\n",
       "      <td>0</td>\n",
       "    </tr>\n",
       "    <tr>\n",
       "      <th>CTTCACATTATT_000_neg_array1</th>\n",
       "      <td>Control_Participant7</td>\n",
       "      <td>EFO:0030019</td>\n",
       "      <td>CL:0000064</td>\n",
       "      <td>HsapDv:0000240</td>\n",
       "      <td>PATO:0000461</td>\n",
       "      <td>unknown</td>\n",
       "      <td>True</td>\n",
       "      <td>NCBITaxon:9606</td>\n",
       "      <td>PATO:0000384</td>\n",
       "      <td>UBERON:0001728</td>\n",
       "      <td>cell</td>\n",
       "      <td>ciliated cell</td>\n",
       "      <td>Seq-Well S3</td>\n",
       "      <td>normal</td>\n",
       "      <td>Homo sapiens</td>\n",
       "      <td>male</td>\n",
       "      <td>nasopharynx</td>\n",
       "      <td>unknown</td>\n",
       "      <td>sixth decade human stage</td>\n",
       "      <td>0</td>\n",
       "    </tr>\n",
       "  </tbody>\n",
       "</table>\n",
       "</div>"
      ],
      "text/plain": [
       "                                         donor_id assay_ontology_term_id   \n",
       "GTCGGGGGGTGG_000_neg_array1  Control_Participant7            EFO:0030019  \\\n",
       "CAAATCAATTAT_000_neg_array1  Control_Participant7            EFO:0030019   \n",
       "ATACAATTGACA_000_neg_array1  Control_Participant7            EFO:0030019   \n",
       "CTGTTAATGAGA_000_neg_array1  Control_Participant7            EFO:0030019   \n",
       "CTTCACATTATT_000_neg_array1  Control_Participant7            EFO:0030019   \n",
       "\n",
       "                            cell_type_ontology_term_id   \n",
       "GTCGGGGGGTGG_000_neg_array1                 CL:0000064  \\\n",
       "CAAATCAATTAT_000_neg_array1                 CL:0000064   \n",
       "ATACAATTGACA_000_neg_array1                 CL:0000064   \n",
       "CTGTTAATGAGA_000_neg_array1                 CL:0000064   \n",
       "CTTCACATTATT_000_neg_array1                 CL:0000064   \n",
       "\n",
       "                            development_stage_ontology_term_id   \n",
       "GTCGGGGGGTGG_000_neg_array1                     HsapDv:0000240  \\\n",
       "CAAATCAATTAT_000_neg_array1                     HsapDv:0000240   \n",
       "ATACAATTGACA_000_neg_array1                     HsapDv:0000240   \n",
       "CTGTTAATGAGA_000_neg_array1                     HsapDv:0000240   \n",
       "CTTCACATTATT_000_neg_array1                     HsapDv:0000240   \n",
       "\n",
       "                            disease_ontology_term_id   \n",
       "GTCGGGGGGTGG_000_neg_array1             PATO:0000461  \\\n",
       "CAAATCAATTAT_000_neg_array1             PATO:0000461   \n",
       "ATACAATTGACA_000_neg_array1             PATO:0000461   \n",
       "CTGTTAATGAGA_000_neg_array1             PATO:0000461   \n",
       "CTTCACATTATT_000_neg_array1             PATO:0000461   \n",
       "\n",
       "                            self_reported_ethnicity_ontology_term_id   \n",
       "GTCGGGGGGTGG_000_neg_array1                                  unknown  \\\n",
       "CAAATCAATTAT_000_neg_array1                                  unknown   \n",
       "ATACAATTGACA_000_neg_array1                                  unknown   \n",
       "CTGTTAATGAGA_000_neg_array1                                  unknown   \n",
       "CTTCACATTATT_000_neg_array1                                  unknown   \n",
       "\n",
       "                             is_primary_data organism_ontology_term_id   \n",
       "GTCGGGGGGTGG_000_neg_array1             True            NCBITaxon:9606  \\\n",
       "CAAATCAATTAT_000_neg_array1             True            NCBITaxon:9606   \n",
       "ATACAATTGACA_000_neg_array1             True            NCBITaxon:9606   \n",
       "CTGTTAATGAGA_000_neg_array1             True            NCBITaxon:9606   \n",
       "CTTCACATTATT_000_neg_array1             True            NCBITaxon:9606   \n",
       "\n",
       "                            sex_ontology_term_id tissue_ontology_term_id   \n",
       "GTCGGGGGGTGG_000_neg_array1         PATO:0000384          UBERON:0001728  \\\n",
       "CAAATCAATTAT_000_neg_array1         PATO:0000384          UBERON:0001728   \n",
       "ATACAATTGACA_000_neg_array1         PATO:0000384          UBERON:0001728   \n",
       "CTGTTAATGAGA_000_neg_array1         PATO:0000384          UBERON:0001728   \n",
       "CTTCACATTATT_000_neg_array1         PATO:0000384          UBERON:0001728   \n",
       "\n",
       "                            suspension_type      cell_type        assay   \n",
       "GTCGGGGGGTGG_000_neg_array1            cell  ciliated cell  Seq-Well S3  \\\n",
       "CAAATCAATTAT_000_neg_array1            cell  ciliated cell  Seq-Well S3   \n",
       "ATACAATTGACA_000_neg_array1            cell  ciliated cell  Seq-Well S3   \n",
       "CTGTTAATGAGA_000_neg_array1            cell  ciliated cell  Seq-Well S3   \n",
       "CTTCACATTATT_000_neg_array1            cell  ciliated cell  Seq-Well S3   \n",
       "\n",
       "                            disease      organism   sex       tissue   \n",
       "GTCGGGGGGTGG_000_neg_array1  normal  Homo sapiens  male  nasopharynx  \\\n",
       "CAAATCAATTAT_000_neg_array1  normal  Homo sapiens  male  nasopharynx   \n",
       "ATACAATTGACA_000_neg_array1  normal  Homo sapiens  male  nasopharynx   \n",
       "CTGTTAATGAGA_000_neg_array1  normal  Homo sapiens  male  nasopharynx   \n",
       "CTTCACATTATT_000_neg_array1  normal  Homo sapiens  male  nasopharynx   \n",
       "\n",
       "                            self_reported_ethnicity         development_stage   \n",
       "GTCGGGGGGTGG_000_neg_array1                 unknown  sixth decade human stage  \\\n",
       "CAAATCAATTAT_000_neg_array1                 unknown  sixth decade human stage   \n",
       "ATACAATTGACA_000_neg_array1                 unknown  sixth decade human stage   \n",
       "CTGTTAATGAGA_000_neg_array1                 unknown  sixth decade human stage   \n",
       "CTTCACATTATT_000_neg_array1                 unknown  sixth decade human stage   \n",
       "\n",
       "                            sample  \n",
       "GTCGGGGGGTGG_000_neg_array1      0  \n",
       "CAAATCAATTAT_000_neg_array1      0  \n",
       "ATACAATTGACA_000_neg_array1      0  \n",
       "CTGTTAATGAGA_000_neg_array1      0  \n",
       "CTTCACATTATT_000_neg_array1      0  "
      ]
     },
     "metadata": {},
     "output_type": "display_data"
    },
    {
     "data": {
      "text/html": [
       "<div>\n",
       "<style scoped>\n",
       "    .dataframe tbody tr th:only-of-type {\n",
       "        vertical-align: middle;\n",
       "    }\n",
       "\n",
       "    .dataframe tbody tr th {\n",
       "        vertical-align: top;\n",
       "    }\n",
       "\n",
       "    .dataframe thead th {\n",
       "        text-align: right;\n",
       "    }\n",
       "</style>\n",
       "<table border=\"1\" class=\"dataframe\">\n",
       "  <thead>\n",
       "    <tr style=\"text-align: right;\">\n",
       "      <th></th>\n",
       "    </tr>\n",
       "  </thead>\n",
       "  <tbody>\n",
       "    <tr>\n",
       "      <th>ENSG00000121410</th>\n",
       "    </tr>\n",
       "    <tr>\n",
       "      <th>ENSG00000268895</th>\n",
       "    </tr>\n",
       "    <tr>\n",
       "      <th>ENSG00000148584</th>\n",
       "    </tr>\n",
       "    <tr>\n",
       "      <th>ENSG00000175899</th>\n",
       "    </tr>\n",
       "    <tr>\n",
       "      <th>ENSG00000245105</th>\n",
       "    </tr>\n",
       "  </tbody>\n",
       "</table>\n",
       "</div>"
      ],
      "text/plain": [
       "Empty DataFrame\n",
       "Columns: []\n",
       "Index: [ENSG00000121410, ENSG00000268895, ENSG00000148584, ENSG00000175899, ENSG00000245105]"
      ]
     },
     "metadata": {},
     "output_type": "display_data"
    }
   ],
   "source": [
    "display(adata.obs.head(5))\n",
    "display(adata.var.head(5))"
   ]
  },
  {
   "cell_type": "code",
   "execution_count": 17,
   "id": "0b07365c-2874-4336-a06a-432d78efbd95",
   "metadata": {
    "tags": []
   },
   "outputs": [
    {
     "data": {
      "image/png": "[encoded data removed]",
      "text/plain": [
       "<Figure size 500x550 with 1 Axes>"
      ]
     },
     "metadata": {},
     "output_type": "display_data"
    }
   ],
   "source": [
    "sc.pl.highest_expr_genes(adata, n_top=20)"
   ]
  },
  {
   "cell_type": "code",
   "execution_count": 9,
   "id": "69701336-4e6a-431c-aff8-71f7f587df0e",
   "metadata": {
    "tags": []
   },
   "outputs": [],
   "source": [
    "adata_csv = sc.read_h5ad('./data/merged_3_dataset/merged_3_data.h5ad')\n"
   ]
  },
  {
   "cell_type": "code",
   "execution_count": 16,
   "id": "f9316e85-fd36-4ecb-84a0-ffdad0f16bbc",
   "metadata": {
    "tags": []
   },
   "outputs": [],
   "source": [
    "import pandas as pd\n",
    "\n",
    "# Calculate mean expression\n",
    "mean_expression = pd.DataFrame(adata_csv.X.mean(axis=0).T, index=adata_csv.var.index, columns=['mean_expr'])\n",
    "\n",
    "# Sort and save\n",
    "mean_expression_sorted = mean_expression.sort_values(by='mean_expr', ascending=False)\n",
    "mean_expression_sorted.head(20).to_csv('./result_files_and_image/top_20_genes.csv')\n",
    "\n",
    "\n",
    "\n",
    "import pandas as pd\n",
    "import scanpy as sc\n",
    "\n",
    "# Assuming adata_csv is your original object\n",
    "# Save n_genes per cell before filtering\n",
    "adata_csv.obs['n_genes'] = (adata_csv.X > 0).sum(1)  # Ensure 'n_genes' is calculated\n",
    "n_genes_before = pd.DataFrame(adata_csv.obs['n_genes'])\n",
    "\n",
    "# Filter cells\n",
    "sc.pp.filter_cells(adata_csv, min_genes=200)\n",
    "\n",
    "# Save n_genes per cell after filtering\n",
    "n_genes_after = pd.DataFrame(adata_csv.obs['n_genes'])\n",
    "\n",
    "# Save to CSV files\n",
    "n_genes_before.to_csv('./result_files_and_image/n_genes_before_filtering.csv')\n",
    "n_genes_after.to_csv('./result_files_and_image/n_genes_after_filtering.csv')\n"
   ]
  },
  {
   "cell_type": "code",
   "execution_count": 17,
   "id": "ad377405-56d1-4d7e-a0af-6e16838f0416",
   "metadata": {
    "tags": []
   },
   "outputs": [],
   "source": [
    "sc.pp.filter_cells(adata, min_genes=200)"
   ]
  },
  {
   "cell_type": "code",
   "execution_count": 18,
   "id": "116b3aa3-ed80-4040-b293-188b6d1ee2cd",
   "metadata": {
    "tags": []
   },
   "outputs": [
    {
     "data": {
      "text/plain": [
       "(52040, 21)"
      ]
     },
     "metadata": {},
     "output_type": "display_data"
    },
    {
     "data": {
      "text/plain": [
       "(20867, 1)"
      ]
     },
     "metadata": {},
     "output_type": "display_data"
    }
   ],
   "source": [
    "display(adata.obs.shape)\n",
    "display(adata.var.shape)"
   ]
  },
  {
   "cell_type": "code",
   "execution_count": 14,
   "id": "8e327caf-57c5-40b6-81cd-7d7ac2906b17",
   "metadata": {
    "tags": []
   },
   "outputs": [],
   "source": [
    "sc.pp.filter_genes(adata, min_cells=3)"
   ]
  },
  {
   "cell_type": "code",
   "execution_count": 22,
   "id": "907b1781-15df-44b1-9dd5-d0bcb119b5b3",
   "metadata": {
    "tags": []
   },
   "outputs": [
    {
     "data": {
      "text/plain": [
       "AnnData object with n_obs × n_vars = 52040 × 20863\n",
       "    obs: 'donor_id', 'assay_ontology_term_id', 'cell_type_ontology_term_id', 'development_stage_ontology_term_id', 'disease_ontology_term_id', 'self_reported_ethnicity_ontology_term_id', 'is_primary_data', 'organism_ontology_term_id', 'sex_ontology_term_id', 'tissue_ontology_term_id', 'suspension_type', 'cell_type', 'assay', 'disease', 'organism', 'sex', 'tissue', 'self_reported_ethnicity', 'development_stage', 'sample', 'n_genes'\n",
       "    var: 'n_cells'\n",
       "    obsm: 'X_umap'"
      ]
     },
     "execution_count": 22,
     "metadata": {},
     "output_type": "execute_result"
    }
   ],
   "source": [
    "adata"
   ]
  },
  {
   "cell_type": "code",
   "execution_count": 36,
   "id": "36a3e12b-93bd-4a37-a9c2-4480246d3461",
   "metadata": {
    "tags": []
   },
   "outputs": [
    {
     "name": "stdout",
     "output_type": "stream",
     "text": [
      "Index(['ENSG00000121410', 'ENSG00000268895', 'ENSG00000148584',\n",
      "       'ENSG00000175899', 'ENSG00000245105', 'ENSG00000166535',\n",
      "       'ENSG00000128274', 'ENSG00000094914', 'ENSG00000081760',\n",
      "       'ENSG00000114771'],\n",
      "      dtype='object')\n"
     ]
    }
   ],
   "source": [
    "# Assuming 'adata' is your AnnData object\n",
    "gene_id = adata.var_names\n",
    "\n",
    "# Print the first 10 gene names as an example\n",
    "print(gene_id[:10])"
   ]
  },
  {
   "cell_type": "code",
   "execution_count": 37,
   "id": "e262d454-680f-4b68-af5c-0f64340e7157",
   "metadata": {
    "tags": []
   },
   "outputs": [],
   "source": [
    "# genes_starting_with_mt_or_MT  = [True if gene.startswith('MT-') else False for gene in gene_names]\n",
    "# print([True for gene in genes_starting_with_mt_or_MT if gene is True])\n",
    "# genes_starting_with_mt_or_MT = adata.var_names.str.startswith('MT-')\n",
    "\n",
    "# adata.var['mt'] = genes_starting_with_mt_or_MT\n",
    "# adata.var['mt']"
   ]
  },
  {
   "cell_type": "code",
   "execution_count": 19,
   "id": "e32c3538-3545-41d6-bf0a-3e47b20f7c8c",
   "metadata": {
    "tags": []
   },
   "outputs": [
    {
     "ename": "ModuleNotFoundError",
     "evalue": "No module named 'mygene'",
     "output_type": "error",
     "traceback": [
      "\u001b[0;31m---------------------------------------------------------------------------\u001b[0m",
      "\u001b[0;31mModuleNotFoundError\u001b[0m                       Traceback (most recent call last)",
      "Cell \u001b[0;32mIn[19], line 1\u001b[0m\n\u001b[0;32m----> 1\u001b[0m \u001b[38;5;28;01mimport\u001b[39;00m \u001b[38;5;21;01mmygene\u001b[39;00m\n\u001b[1;32m      2\u001b[0m \u001b[38;5;28;01mimport\u001b[39;00m \u001b[38;5;21;01mscanpy\u001b[39;00m \u001b[38;5;28;01mas\u001b[39;00m \u001b[38;5;21;01msc\u001b[39;00m\n\u001b[1;32m      4\u001b[0m \u001b[38;5;66;03m# Load your data\u001b[39;00m\n",
      "\u001b[0;31mModuleNotFoundError\u001b[0m: No module named 'mygene'"
     ]
    }
   ],
   "source": [
    "import mygene\n",
    "import scanpy as sc\n",
    "\n",
    "# Load your data\n",
    "adata = sc.read_h5ad('./data/merged_3_dataset/merged_3_data.h5ad')\n",
    "\n",
    "def get_gene_symbols(ensembl_ids):\n",
    "    mg = mygene.MyGeneInfo()\n",
    "    gene_info = mg.querymany(ensembl_ids, scopes='ensembl.gene', fields='symbol', species='human')\n",
    "    symbols = [entry.get('symbol', None) for entry in gene_info]\n",
    "    return symbols\n",
    "\n",
    "# Get gene symbols\n",
    "ensembl_ids = adata.var_names.tolist()  # Assuming Ensembl IDs are in var_names\n",
    "gene_symbols = get_gene_symbols(ensembl_ids)\n",
    "\n",
    "# Add gene symbols to variable annotations\n",
    "adata.var['gene_symbol'] = gene_symbols\n"
   ]
  },
  {
   "cell_type": "code",
   "execution_count": 39,
   "id": "09b0fa14-8df5-49ff-a211-75bfab33df34",
   "metadata": {
    "tags": []
   },
   "outputs": [],
   "source": [
    "from Bio import Entrez\n",
    "Entrez.email = \"your_email@example.com\""
   ]
  },
  {
   "cell_type": "code",
   "execution_count": 40,
   "id": "f9f8c485-f432-47d7-a0ce-e06b99f23ada",
   "metadata": {
    "tags": []
   },
   "outputs": [
    {
     "name": "stdout",
     "output_type": "stream",
     "text": [
      "Error fetching gene name for ENSG00000273138: HTTP Error 400: Bad Request\n",
      "Error fetching gene name for ENSG00000272735: HTTP Error 400: Bad Request\n"
     ]
    },
    {
     "ename": "KeyboardInterrupt",
     "evalue": "",
     "output_type": "error",
     "traceback": [
      "\u001b[0;31m---------------------------------------------------------------------------\u001b[0m",
      "\u001b[0;31mKeyboardInterrupt\u001b[0m                         Traceback (most recent call last)",
      "Cell \u001b[0;32mIn[40], line 20\u001b[0m\n\u001b[1;32m     18\u001b[0m     \u001b[38;5;28;01mreturn\u001b[39;00m gene_names\n\u001b[1;32m     19\u001b[0m \u001b[38;5;66;03m# Assuming 'gene_id' is a list of gene IDs\u001b[39;00m\n\u001b[0;32m---> 20\u001b[0m gene_names \u001b[38;5;241m=\u001b[39m \u001b[43mget_gene_names\u001b[49m\u001b[43m(\u001b[49m\u001b[43mgene_id\u001b[49m\u001b[43m)\u001b[49m\n\u001b[1;32m     22\u001b[0m \u001b[38;5;66;03m# Print the first 10 gene names as an example\u001b[39;00m\n\u001b[1;32m     23\u001b[0m \u001b[38;5;28;01mfor\u001b[39;00m gene_id, gene_name \u001b[38;5;129;01min\u001b[39;00m \u001b[38;5;28mlist\u001b[39m(gene_names\u001b[38;5;241m.\u001b[39mitems())[:\u001b[38;5;241m10\u001b[39m]:\n",
      "Cell \u001b[0;32mIn[40], line 5\u001b[0m, in \u001b[0;36mget_gene_names\u001b[0;34m(gene_ids)\u001b[0m\n\u001b[1;32m      3\u001b[0m \u001b[38;5;28;01mfor\u001b[39;00m gene_id \u001b[38;5;129;01min\u001b[39;00m gene_ids:\n\u001b[1;32m      4\u001b[0m     \u001b[38;5;28;01mtry\u001b[39;00m:\n\u001b[0;32m----> 5\u001b[0m         handle \u001b[38;5;241m=\u001b[39m \u001b[43mEntrez\u001b[49m\u001b[38;5;241;43m.\u001b[39;49m\u001b[43mefetch\u001b[49m\u001b[43m(\u001b[49m\u001b[43mdb\u001b[49m\u001b[38;5;241;43m=\u001b[39;49m\u001b[38;5;124;43m\"\u001b[39;49m\u001b[38;5;124;43mgene\u001b[39;49m\u001b[38;5;124;43m\"\u001b[39;49m\u001b[43m,\u001b[49m\u001b[43m \u001b[49m\u001b[38;5;28;43mid\u001b[39;49m\u001b[38;5;241;43m=\u001b[39;49m\u001b[43mgene_id\u001b[49m\u001b[43m,\u001b[49m\u001b[43m \u001b[49m\u001b[43mrettype\u001b[49m\u001b[38;5;241;43m=\u001b[39;49m\u001b[38;5;124;43m\"\u001b[39;49m\u001b[38;5;124;43mgene_table\u001b[39;49m\u001b[38;5;124;43m\"\u001b[39;49m\u001b[43m,\u001b[49m\u001b[43m \u001b[49m\u001b[43mretmode\u001b[49m\u001b[38;5;241;43m=\u001b[39;49m\u001b[38;5;124;43m\"\u001b[39;49m\u001b[38;5;124;43mtext\u001b[39;49m\u001b[38;5;124;43m\"\u001b[39;49m\u001b[43m)\u001b[49m\n\u001b[1;32m      6\u001b[0m         record \u001b[38;5;241m=\u001b[39m handle\u001b[38;5;241m.\u001b[39mread()\n\u001b[1;32m      7\u001b[0m         handle\u001b[38;5;241m.\u001b[39mclose()\n",
      "File \u001b[0;32m~/miniconda3/envs/ipy/lib/python3.11/site-packages/Bio/Entrez/__init__.py:196\u001b[0m, in \u001b[0;36mefetch\u001b[0;34m(db, **keywords)\u001b[0m\n\u001b[1;32m    194\u001b[0m variables\u001b[38;5;241m.\u001b[39mupdate(keywords)\n\u001b[1;32m    195\u001b[0m request \u001b[38;5;241m=\u001b[39m _build_request(cgi, variables)\n\u001b[0;32m--> 196\u001b[0m \u001b[38;5;28;01mreturn\u001b[39;00m \u001b[43m_open\u001b[49m\u001b[43m(\u001b[49m\u001b[43mrequest\u001b[49m\u001b[43m)\u001b[49m\n",
      "File \u001b[0;32m~/miniconda3/envs/ipy/lib/python3.11/site-packages/Bio/Entrez/__init__.py:594\u001b[0m, in \u001b[0;36m_open\u001b[0;34m(request)\u001b[0m\n\u001b[1;32m    592\u001b[0m \u001b[38;5;28;01mfor\u001b[39;00m i \u001b[38;5;129;01min\u001b[39;00m \u001b[38;5;28mrange\u001b[39m(max_tries):\n\u001b[1;32m    593\u001b[0m     \u001b[38;5;28;01mtry\u001b[39;00m:\n\u001b[0;32m--> 594\u001b[0m         handle \u001b[38;5;241m=\u001b[39m \u001b[43murlopen\u001b[49m\u001b[43m(\u001b[49m\u001b[43mrequest\u001b[49m\u001b[43m)\u001b[49m\n\u001b[1;32m    595\u001b[0m     \u001b[38;5;28;01mexcept\u001b[39;00m HTTPError \u001b[38;5;28;01mas\u001b[39;00m exception:\n\u001b[1;32m    596\u001b[0m         \u001b[38;5;66;03m# Reraise if the final try fails\u001b[39;00m\n\u001b[1;32m    597\u001b[0m         \u001b[38;5;28;01mif\u001b[39;00m i \u001b[38;5;241m>\u001b[39m\u001b[38;5;241m=\u001b[39m max_tries \u001b[38;5;241m-\u001b[39m \u001b[38;5;241m1\u001b[39m:\n",
      "File \u001b[0;32m~/miniconda3/envs/ipy/lib/python3.11/urllib/request.py:216\u001b[0m, in \u001b[0;36murlopen\u001b[0;34m(url, data, timeout, cafile, capath, cadefault, context)\u001b[0m\n\u001b[1;32m    214\u001b[0m \u001b[38;5;28;01melse\u001b[39;00m:\n\u001b[1;32m    215\u001b[0m     opener \u001b[38;5;241m=\u001b[39m _opener\n\u001b[0;32m--> 216\u001b[0m \u001b[38;5;28;01mreturn\u001b[39;00m \u001b[43mopener\u001b[49m\u001b[38;5;241;43m.\u001b[39;49m\u001b[43mopen\u001b[49m\u001b[43m(\u001b[49m\u001b[43murl\u001b[49m\u001b[43m,\u001b[49m\u001b[43m \u001b[49m\u001b[43mdata\u001b[49m\u001b[43m,\u001b[49m\u001b[43m \u001b[49m\u001b[43mtimeout\u001b[49m\u001b[43m)\u001b[49m\n",
      "File \u001b[0;32m~/miniconda3/envs/ipy/lib/python3.11/urllib/request.py:519\u001b[0m, in \u001b[0;36mOpenerDirector.open\u001b[0;34m(self, fullurl, data, timeout)\u001b[0m\n\u001b[1;32m    516\u001b[0m     req \u001b[38;5;241m=\u001b[39m meth(req)\n\u001b[1;32m    518\u001b[0m sys\u001b[38;5;241m.\u001b[39maudit(\u001b[38;5;124m'\u001b[39m\u001b[38;5;124murllib.Request\u001b[39m\u001b[38;5;124m'\u001b[39m, req\u001b[38;5;241m.\u001b[39mfull_url, req\u001b[38;5;241m.\u001b[39mdata, req\u001b[38;5;241m.\u001b[39mheaders, req\u001b[38;5;241m.\u001b[39mget_method())\n\u001b[0;32m--> 519\u001b[0m response \u001b[38;5;241m=\u001b[39m \u001b[38;5;28;43mself\u001b[39;49m\u001b[38;5;241;43m.\u001b[39;49m\u001b[43m_open\u001b[49m\u001b[43m(\u001b[49m\u001b[43mreq\u001b[49m\u001b[43m,\u001b[49m\u001b[43m \u001b[49m\u001b[43mdata\u001b[49m\u001b[43m)\u001b[49m\n\u001b[1;32m    521\u001b[0m \u001b[38;5;66;03m# post-process response\u001b[39;00m\n\u001b[1;32m    522\u001b[0m meth_name \u001b[38;5;241m=\u001b[39m protocol\u001b[38;5;241m+\u001b[39m\u001b[38;5;124m\"\u001b[39m\u001b[38;5;124m_response\u001b[39m\u001b[38;5;124m\"\u001b[39m\n",
      "File \u001b[0;32m~/miniconda3/envs/ipy/lib/python3.11/urllib/request.py:536\u001b[0m, in \u001b[0;36mOpenerDirector._open\u001b[0;34m(self, req, data)\u001b[0m\n\u001b[1;32m    533\u001b[0m     \u001b[38;5;28;01mreturn\u001b[39;00m result\n\u001b[1;32m    535\u001b[0m protocol \u001b[38;5;241m=\u001b[39m req\u001b[38;5;241m.\u001b[39mtype\n\u001b[0;32m--> 536\u001b[0m result \u001b[38;5;241m=\u001b[39m \u001b[38;5;28;43mself\u001b[39;49m\u001b[38;5;241;43m.\u001b[39;49m\u001b[43m_call_chain\u001b[49m\u001b[43m(\u001b[49m\u001b[38;5;28;43mself\u001b[39;49m\u001b[38;5;241;43m.\u001b[39;49m\u001b[43mhandle_open\u001b[49m\u001b[43m,\u001b[49m\u001b[43m \u001b[49m\u001b[43mprotocol\u001b[49m\u001b[43m,\u001b[49m\u001b[43m \u001b[49m\u001b[43mprotocol\u001b[49m\u001b[43m \u001b[49m\u001b[38;5;241;43m+\u001b[39;49m\n\u001b[1;32m    537\u001b[0m \u001b[43m                          \u001b[49m\u001b[38;5;124;43m'\u001b[39;49m\u001b[38;5;124;43m_open\u001b[39;49m\u001b[38;5;124;43m'\u001b[39;49m\u001b[43m,\u001b[49m\u001b[43m \u001b[49m\u001b[43mreq\u001b[49m\u001b[43m)\u001b[49m\n\u001b[1;32m    538\u001b[0m \u001b[38;5;28;01mif\u001b[39;00m result:\n\u001b[1;32m    539\u001b[0m     \u001b[38;5;28;01mreturn\u001b[39;00m result\n",
      "File \u001b[0;32m~/miniconda3/envs/ipy/lib/python3.11/urllib/request.py:496\u001b[0m, in \u001b[0;36mOpenerDirector._call_chain\u001b[0;34m(self, chain, kind, meth_name, *args)\u001b[0m\n\u001b[1;32m    494\u001b[0m \u001b[38;5;28;01mfor\u001b[39;00m handler \u001b[38;5;129;01min\u001b[39;00m handlers:\n\u001b[1;32m    495\u001b[0m     func \u001b[38;5;241m=\u001b[39m \u001b[38;5;28mgetattr\u001b[39m(handler, meth_name)\n\u001b[0;32m--> 496\u001b[0m     result \u001b[38;5;241m=\u001b[39m \u001b[43mfunc\u001b[49m\u001b[43m(\u001b[49m\u001b[38;5;241;43m*\u001b[39;49m\u001b[43margs\u001b[49m\u001b[43m)\u001b[49m\n\u001b[1;32m    497\u001b[0m     \u001b[38;5;28;01mif\u001b[39;00m result \u001b[38;5;129;01mis\u001b[39;00m \u001b[38;5;129;01mnot\u001b[39;00m \u001b[38;5;28;01mNone\u001b[39;00m:\n\u001b[1;32m    498\u001b[0m         \u001b[38;5;28;01mreturn\u001b[39;00m result\n",
      "File \u001b[0;32m~/miniconda3/envs/ipy/lib/python3.11/urllib/request.py:1391\u001b[0m, in \u001b[0;36mHTTPSHandler.https_open\u001b[0;34m(self, req)\u001b[0m\n\u001b[1;32m   1390\u001b[0m \u001b[38;5;28;01mdef\u001b[39;00m \u001b[38;5;21mhttps_open\u001b[39m(\u001b[38;5;28mself\u001b[39m, req):\n\u001b[0;32m-> 1391\u001b[0m     \u001b[38;5;28;01mreturn\u001b[39;00m \u001b[38;5;28;43mself\u001b[39;49m\u001b[38;5;241;43m.\u001b[39;49m\u001b[43mdo_open\u001b[49m\u001b[43m(\u001b[49m\u001b[43mhttp\u001b[49m\u001b[38;5;241;43m.\u001b[39;49m\u001b[43mclient\u001b[49m\u001b[38;5;241;43m.\u001b[39;49m\u001b[43mHTTPSConnection\u001b[49m\u001b[43m,\u001b[49m\u001b[43m \u001b[49m\u001b[43mreq\u001b[49m\u001b[43m,\u001b[49m\n\u001b[1;32m   1392\u001b[0m \u001b[43m        \u001b[49m\u001b[43mcontext\u001b[49m\u001b[38;5;241;43m=\u001b[39;49m\u001b[38;5;28;43mself\u001b[39;49m\u001b[38;5;241;43m.\u001b[39;49m\u001b[43m_context\u001b[49m\u001b[43m,\u001b[49m\u001b[43m \u001b[49m\u001b[43mcheck_hostname\u001b[49m\u001b[38;5;241;43m=\u001b[39;49m\u001b[38;5;28;43mself\u001b[39;49m\u001b[38;5;241;43m.\u001b[39;49m\u001b[43m_check_hostname\u001b[49m\u001b[43m)\u001b[49m\n",
      "File \u001b[0;32m~/miniconda3/envs/ipy/lib/python3.11/urllib/request.py:1348\u001b[0m, in \u001b[0;36mAbstractHTTPHandler.do_open\u001b[0;34m(self, http_class, req, **http_conn_args)\u001b[0m\n\u001b[1;32m   1346\u001b[0m \u001b[38;5;28;01mtry\u001b[39;00m:\n\u001b[1;32m   1347\u001b[0m     \u001b[38;5;28;01mtry\u001b[39;00m:\n\u001b[0;32m-> 1348\u001b[0m         \u001b[43mh\u001b[49m\u001b[38;5;241;43m.\u001b[39;49m\u001b[43mrequest\u001b[49m\u001b[43m(\u001b[49m\u001b[43mreq\u001b[49m\u001b[38;5;241;43m.\u001b[39;49m\u001b[43mget_method\u001b[49m\u001b[43m(\u001b[49m\u001b[43m)\u001b[49m\u001b[43m,\u001b[49m\u001b[43m \u001b[49m\u001b[43mreq\u001b[49m\u001b[38;5;241;43m.\u001b[39;49m\u001b[43mselector\u001b[49m\u001b[43m,\u001b[49m\u001b[43m \u001b[49m\u001b[43mreq\u001b[49m\u001b[38;5;241;43m.\u001b[39;49m\u001b[43mdata\u001b[49m\u001b[43m,\u001b[49m\u001b[43m \u001b[49m\u001b[43mheaders\u001b[49m\u001b[43m,\u001b[49m\n\u001b[1;32m   1349\u001b[0m \u001b[43m                  \u001b[49m\u001b[43mencode_chunked\u001b[49m\u001b[38;5;241;43m=\u001b[39;49m\u001b[43mreq\u001b[49m\u001b[38;5;241;43m.\u001b[39;49m\u001b[43mhas_header\u001b[49m\u001b[43m(\u001b[49m\u001b[38;5;124;43m'\u001b[39;49m\u001b[38;5;124;43mTransfer-encoding\u001b[39;49m\u001b[38;5;124;43m'\u001b[39;49m\u001b[43m)\u001b[49m\u001b[43m)\u001b[49m\n\u001b[1;32m   1350\u001b[0m     \u001b[38;5;28;01mexcept\u001b[39;00m \u001b[38;5;167;01mOSError\u001b[39;00m \u001b[38;5;28;01mas\u001b[39;00m err: \u001b[38;5;66;03m# timeout error\u001b[39;00m\n\u001b[1;32m   1351\u001b[0m         \u001b[38;5;28;01mraise\u001b[39;00m URLError(err)\n",
      "File \u001b[0;32m~/miniconda3/envs/ipy/lib/python3.11/http/client.py:1283\u001b[0m, in \u001b[0;36mHTTPConnection.request\u001b[0;34m(self, method, url, body, headers, encode_chunked)\u001b[0m\n\u001b[1;32m   1280\u001b[0m \u001b[38;5;28;01mdef\u001b[39;00m \u001b[38;5;21mrequest\u001b[39m(\u001b[38;5;28mself\u001b[39m, method, url, body\u001b[38;5;241m=\u001b[39m\u001b[38;5;28;01mNone\u001b[39;00m, headers\u001b[38;5;241m=\u001b[39m{}, \u001b[38;5;241m*\u001b[39m,\n\u001b[1;32m   1281\u001b[0m             encode_chunked\u001b[38;5;241m=\u001b[39m\u001b[38;5;28;01mFalse\u001b[39;00m):\n\u001b[1;32m   1282\u001b[0m \u001b[38;5;250m    \u001b[39m\u001b[38;5;124;03m\"\"\"Send a complete request to the server.\"\"\"\u001b[39;00m\n\u001b[0;32m-> 1283\u001b[0m     \u001b[38;5;28;43mself\u001b[39;49m\u001b[38;5;241;43m.\u001b[39;49m\u001b[43m_send_request\u001b[49m\u001b[43m(\u001b[49m\u001b[43mmethod\u001b[49m\u001b[43m,\u001b[49m\u001b[43m \u001b[49m\u001b[43murl\u001b[49m\u001b[43m,\u001b[49m\u001b[43m \u001b[49m\u001b[43mbody\u001b[49m\u001b[43m,\u001b[49m\u001b[43m \u001b[49m\u001b[43mheaders\u001b[49m\u001b[43m,\u001b[49m\u001b[43m \u001b[49m\u001b[43mencode_chunked\u001b[49m\u001b[43m)\u001b[49m\n",
      "File \u001b[0;32m~/miniconda3/envs/ipy/lib/python3.11/http/client.py:1329\u001b[0m, in \u001b[0;36mHTTPConnection._send_request\u001b[0;34m(self, method, url, body, headers, encode_chunked)\u001b[0m\n\u001b[1;32m   1325\u001b[0m \u001b[38;5;28;01mif\u001b[39;00m \u001b[38;5;28misinstance\u001b[39m(body, \u001b[38;5;28mstr\u001b[39m):\n\u001b[1;32m   1326\u001b[0m     \u001b[38;5;66;03m# RFC 2616 Section 3.7.1 says that text default has a\u001b[39;00m\n\u001b[1;32m   1327\u001b[0m     \u001b[38;5;66;03m# default charset of iso-8859-1.\u001b[39;00m\n\u001b[1;32m   1328\u001b[0m     body \u001b[38;5;241m=\u001b[39m _encode(body, \u001b[38;5;124m'\u001b[39m\u001b[38;5;124mbody\u001b[39m\u001b[38;5;124m'\u001b[39m)\n\u001b[0;32m-> 1329\u001b[0m \u001b[38;5;28;43mself\u001b[39;49m\u001b[38;5;241;43m.\u001b[39;49m\u001b[43mendheaders\u001b[49m\u001b[43m(\u001b[49m\u001b[43mbody\u001b[49m\u001b[43m,\u001b[49m\u001b[43m \u001b[49m\u001b[43mencode_chunked\u001b[49m\u001b[38;5;241;43m=\u001b[39;49m\u001b[43mencode_chunked\u001b[49m\u001b[43m)\u001b[49m\n",
      "File \u001b[0;32m~/miniconda3/envs/ipy/lib/python3.11/http/client.py:1278\u001b[0m, in \u001b[0;36mHTTPConnection.endheaders\u001b[0;34m(self, message_body, encode_chunked)\u001b[0m\n\u001b[1;32m   1276\u001b[0m \u001b[38;5;28;01melse\u001b[39;00m:\n\u001b[1;32m   1277\u001b[0m     \u001b[38;5;28;01mraise\u001b[39;00m CannotSendHeader()\n\u001b[0;32m-> 1278\u001b[0m \u001b[38;5;28;43mself\u001b[39;49m\u001b[38;5;241;43m.\u001b[39;49m\u001b[43m_send_output\u001b[49m\u001b[43m(\u001b[49m\u001b[43mmessage_body\u001b[49m\u001b[43m,\u001b[49m\u001b[43m \u001b[49m\u001b[43mencode_chunked\u001b[49m\u001b[38;5;241;43m=\u001b[39;49m\u001b[43mencode_chunked\u001b[49m\u001b[43m)\u001b[49m\n",
      "File \u001b[0;32m~/miniconda3/envs/ipy/lib/python3.11/http/client.py:1038\u001b[0m, in \u001b[0;36mHTTPConnection._send_output\u001b[0;34m(self, message_body, encode_chunked)\u001b[0m\n\u001b[1;32m   1036\u001b[0m msg \u001b[38;5;241m=\u001b[39m \u001b[38;5;124mb\u001b[39m\u001b[38;5;124m\"\u001b[39m\u001b[38;5;130;01m\\r\u001b[39;00m\u001b[38;5;130;01m\\n\u001b[39;00m\u001b[38;5;124m\"\u001b[39m\u001b[38;5;241m.\u001b[39mjoin(\u001b[38;5;28mself\u001b[39m\u001b[38;5;241m.\u001b[39m_buffer)\n\u001b[1;32m   1037\u001b[0m \u001b[38;5;28;01mdel\u001b[39;00m \u001b[38;5;28mself\u001b[39m\u001b[38;5;241m.\u001b[39m_buffer[:]\n\u001b[0;32m-> 1038\u001b[0m \u001b[38;5;28;43mself\u001b[39;49m\u001b[38;5;241;43m.\u001b[39;49m\u001b[43msend\u001b[49m\u001b[43m(\u001b[49m\u001b[43mmsg\u001b[49m\u001b[43m)\u001b[49m\n\u001b[1;32m   1040\u001b[0m \u001b[38;5;28;01mif\u001b[39;00m message_body \u001b[38;5;129;01mis\u001b[39;00m \u001b[38;5;129;01mnot\u001b[39;00m \u001b[38;5;28;01mNone\u001b[39;00m:\n\u001b[1;32m   1041\u001b[0m \n\u001b[1;32m   1042\u001b[0m     \u001b[38;5;66;03m# create a consistent interface to message_body\u001b[39;00m\n\u001b[1;32m   1043\u001b[0m     \u001b[38;5;28;01mif\u001b[39;00m \u001b[38;5;28mhasattr\u001b[39m(message_body, \u001b[38;5;124m'\u001b[39m\u001b[38;5;124mread\u001b[39m\u001b[38;5;124m'\u001b[39m):\n\u001b[1;32m   1044\u001b[0m         \u001b[38;5;66;03m# Let file-like take precedence over byte-like.  This\u001b[39;00m\n\u001b[1;32m   1045\u001b[0m         \u001b[38;5;66;03m# is needed to allow the current position of mmap'ed\u001b[39;00m\n\u001b[1;32m   1046\u001b[0m         \u001b[38;5;66;03m# files to be taken into account.\u001b[39;00m\n",
      "File \u001b[0;32m~/miniconda3/envs/ipy/lib/python3.11/http/client.py:976\u001b[0m, in \u001b[0;36mHTTPConnection.send\u001b[0;34m(self, data)\u001b[0m\n\u001b[1;32m    974\u001b[0m \u001b[38;5;28;01mif\u001b[39;00m \u001b[38;5;28mself\u001b[39m\u001b[38;5;241m.\u001b[39msock \u001b[38;5;129;01mis\u001b[39;00m \u001b[38;5;28;01mNone\u001b[39;00m:\n\u001b[1;32m    975\u001b[0m     \u001b[38;5;28;01mif\u001b[39;00m \u001b[38;5;28mself\u001b[39m\u001b[38;5;241m.\u001b[39mauto_open:\n\u001b[0;32m--> 976\u001b[0m         \u001b[38;5;28;43mself\u001b[39;49m\u001b[38;5;241;43m.\u001b[39;49m\u001b[43mconnect\u001b[49m\u001b[43m(\u001b[49m\u001b[43m)\u001b[49m\n\u001b[1;32m    977\u001b[0m     \u001b[38;5;28;01melse\u001b[39;00m:\n\u001b[1;32m    978\u001b[0m         \u001b[38;5;28;01mraise\u001b[39;00m NotConnected()\n",
      "File \u001b[0;32m~/miniconda3/envs/ipy/lib/python3.11/http/client.py:1455\u001b[0m, in \u001b[0;36mHTTPSConnection.connect\u001b[0;34m(self)\u001b[0m\n\u001b[1;32m   1452\u001b[0m \u001b[38;5;28;01melse\u001b[39;00m:\n\u001b[1;32m   1453\u001b[0m     server_hostname \u001b[38;5;241m=\u001b[39m \u001b[38;5;28mself\u001b[39m\u001b[38;5;241m.\u001b[39mhost\n\u001b[0;32m-> 1455\u001b[0m \u001b[38;5;28mself\u001b[39m\u001b[38;5;241m.\u001b[39msock \u001b[38;5;241m=\u001b[39m \u001b[38;5;28;43mself\u001b[39;49m\u001b[38;5;241;43m.\u001b[39;49m\u001b[43m_context\u001b[49m\u001b[38;5;241;43m.\u001b[39;49m\u001b[43mwrap_socket\u001b[49m\u001b[43m(\u001b[49m\u001b[38;5;28;43mself\u001b[39;49m\u001b[38;5;241;43m.\u001b[39;49m\u001b[43msock\u001b[49m\u001b[43m,\u001b[49m\n\u001b[1;32m   1456\u001b[0m \u001b[43m                                      \u001b[49m\u001b[43mserver_hostname\u001b[49m\u001b[38;5;241;43m=\u001b[39;49m\u001b[43mserver_hostname\u001b[49m\u001b[43m)\u001b[49m\n",
      "File \u001b[0;32m~/miniconda3/envs/ipy/lib/python3.11/ssl.py:517\u001b[0m, in \u001b[0;36mSSLContext.wrap_socket\u001b[0;34m(self, sock, server_side, do_handshake_on_connect, suppress_ragged_eofs, server_hostname, session)\u001b[0m\n\u001b[1;32m    511\u001b[0m \u001b[38;5;28;01mdef\u001b[39;00m \u001b[38;5;21mwrap_socket\u001b[39m(\u001b[38;5;28mself\u001b[39m, sock, server_side\u001b[38;5;241m=\u001b[39m\u001b[38;5;28;01mFalse\u001b[39;00m,\n\u001b[1;32m    512\u001b[0m                 do_handshake_on_connect\u001b[38;5;241m=\u001b[39m\u001b[38;5;28;01mTrue\u001b[39;00m,\n\u001b[1;32m    513\u001b[0m                 suppress_ragged_eofs\u001b[38;5;241m=\u001b[39m\u001b[38;5;28;01mTrue\u001b[39;00m,\n\u001b[1;32m    514\u001b[0m                 server_hostname\u001b[38;5;241m=\u001b[39m\u001b[38;5;28;01mNone\u001b[39;00m, session\u001b[38;5;241m=\u001b[39m\u001b[38;5;28;01mNone\u001b[39;00m):\n\u001b[1;32m    515\u001b[0m     \u001b[38;5;66;03m# SSLSocket class handles server_hostname encoding before it calls\u001b[39;00m\n\u001b[1;32m    516\u001b[0m     \u001b[38;5;66;03m# ctx._wrap_socket()\u001b[39;00m\n\u001b[0;32m--> 517\u001b[0m     \u001b[38;5;28;01mreturn\u001b[39;00m \u001b[38;5;28;43mself\u001b[39;49m\u001b[38;5;241;43m.\u001b[39;49m\u001b[43msslsocket_class\u001b[49m\u001b[38;5;241;43m.\u001b[39;49m\u001b[43m_create\u001b[49m\u001b[43m(\u001b[49m\n\u001b[1;32m    518\u001b[0m \u001b[43m        \u001b[49m\u001b[43msock\u001b[49m\u001b[38;5;241;43m=\u001b[39;49m\u001b[43msock\u001b[49m\u001b[43m,\u001b[49m\n\u001b[1;32m    519\u001b[0m \u001b[43m        \u001b[49m\u001b[43mserver_side\u001b[49m\u001b[38;5;241;43m=\u001b[39;49m\u001b[43mserver_side\u001b[49m\u001b[43m,\u001b[49m\n\u001b[1;32m    520\u001b[0m \u001b[43m        \u001b[49m\u001b[43mdo_handshake_on_connect\u001b[49m\u001b[38;5;241;43m=\u001b[39;49m\u001b[43mdo_handshake_on_connect\u001b[49m\u001b[43m,\u001b[49m\n\u001b[1;32m    521\u001b[0m \u001b[43m        \u001b[49m\u001b[43msuppress_ragged_eofs\u001b[49m\u001b[38;5;241;43m=\u001b[39;49m\u001b[43msuppress_ragged_eofs\u001b[49m\u001b[43m,\u001b[49m\n\u001b[1;32m    522\u001b[0m \u001b[43m        \u001b[49m\u001b[43mserver_hostname\u001b[49m\u001b[38;5;241;43m=\u001b[39;49m\u001b[43mserver_hostname\u001b[49m\u001b[43m,\u001b[49m\n\u001b[1;32m    523\u001b[0m \u001b[43m        \u001b[49m\u001b[43mcontext\u001b[49m\u001b[38;5;241;43m=\u001b[39;49m\u001b[38;5;28;43mself\u001b[39;49m\u001b[43m,\u001b[49m\n\u001b[1;32m    524\u001b[0m \u001b[43m        \u001b[49m\u001b[43msession\u001b[49m\u001b[38;5;241;43m=\u001b[39;49m\u001b[43msession\u001b[49m\n\u001b[1;32m    525\u001b[0m \u001b[43m    \u001b[49m\u001b[43m)\u001b[49m\n",
      "File \u001b[0;32m~/miniconda3/envs/ipy/lib/python3.11/ssl.py:1075\u001b[0m, in \u001b[0;36mSSLSocket._create\u001b[0;34m(cls, sock, server_side, do_handshake_on_connect, suppress_ragged_eofs, server_hostname, context, session)\u001b[0m\n\u001b[1;32m   1072\u001b[0m         \u001b[38;5;28;01mif\u001b[39;00m timeout \u001b[38;5;241m==\u001b[39m \u001b[38;5;241m0.0\u001b[39m:\n\u001b[1;32m   1073\u001b[0m             \u001b[38;5;66;03m# non-blocking\u001b[39;00m\n\u001b[1;32m   1074\u001b[0m             \u001b[38;5;28;01mraise\u001b[39;00m \u001b[38;5;167;01mValueError\u001b[39;00m(\u001b[38;5;124m\"\u001b[39m\u001b[38;5;124mdo_handshake_on_connect should not be specified for non-blocking sockets\u001b[39m\u001b[38;5;124m\"\u001b[39m)\n\u001b[0;32m-> 1075\u001b[0m         \u001b[38;5;28;43mself\u001b[39;49m\u001b[38;5;241;43m.\u001b[39;49m\u001b[43mdo_handshake\u001b[49m\u001b[43m(\u001b[49m\u001b[43m)\u001b[49m\n\u001b[1;32m   1076\u001b[0m \u001b[38;5;28;01mexcept\u001b[39;00m (\u001b[38;5;167;01mOSError\u001b[39;00m, \u001b[38;5;167;01mValueError\u001b[39;00m):\n\u001b[1;32m   1077\u001b[0m     \u001b[38;5;28mself\u001b[39m\u001b[38;5;241m.\u001b[39mclose()\n",
      "File \u001b[0;32m~/miniconda3/envs/ipy/lib/python3.11/ssl.py:1346\u001b[0m, in \u001b[0;36mSSLSocket.do_handshake\u001b[0;34m(self, block)\u001b[0m\n\u001b[1;32m   1344\u001b[0m     \u001b[38;5;28;01mif\u001b[39;00m timeout \u001b[38;5;241m==\u001b[39m \u001b[38;5;241m0.0\u001b[39m \u001b[38;5;129;01mand\u001b[39;00m block:\n\u001b[1;32m   1345\u001b[0m         \u001b[38;5;28mself\u001b[39m\u001b[38;5;241m.\u001b[39msettimeout(\u001b[38;5;28;01mNone\u001b[39;00m)\n\u001b[0;32m-> 1346\u001b[0m     \u001b[38;5;28mself\u001b[39m\u001b[38;5;241m.\u001b[39m_sslobj\u001b[38;5;241m.\u001b[39mdo_handshake()\n\u001b[1;32m   1347\u001b[0m \u001b[38;5;28;01mfinally\u001b[39;00m:\n\u001b[1;32m   1348\u001b[0m     \u001b[38;5;28mself\u001b[39m\u001b[38;5;241m.\u001b[39msettimeout(timeout)\n",
      "\u001b[0;31mKeyboardInterrupt\u001b[0m: "
     ]
    }
   ],
   "source": [
    "def get_gene_names(gene_ids):\n",
    "    gene_names = {}\n",
    "    for gene_id in gene_ids:\n",
    "        try:\n",
    "            handle = Entrez.efetch(db=\"gene\", id=gene_id, rettype=\"gene_table\", retmode=\"text\")\n",
    "            record = handle.read()\n",
    "            handle.close()\n",
    "            # Parse the gene table record to extract the gene name\n",
    "            lines = record.split('\\n')\n",
    "            for line in lines:\n",
    "                if line.startswith(\"Official Symbol:\"):\n",
    "                    parts = line.split(\":\")\n",
    "                    gene_name = parts[1].strip()\n",
    "                    gene_names[gene_id] = gene_name\n",
    "                    break\n",
    "        except Exception as e:\n",
    "            print(f\"Error fetching gene name for {gene_id}: {str(e)}\")\n",
    "    return gene_names\n",
    "# Assuming 'gene_id' is a list of gene IDs\n",
    "gene_names = get_gene_names(gene_id)\n",
    "\n",
    "# Print the first 10 gene names as an example\n",
    "for gene_id, gene_name in list(gene_names.items())[:10]:\n",
    "    print(f'{gene_id}: {gene_name}')\n"
   ]
  },
  {
   "cell_type": "code",
   "execution_count": null,
   "id": "9cbea88a-4143-4ef2-807c-20d77068e1f7",
   "metadata": {},
   "outputs": [],
   "source": []
  }
 ],
 "metadata": {
  "kernelspec": {
   "display_name": "IPy-3.11",
   "language": "python",
   "name": "ipy"
  },
  "language_info": {
   "codemirror_mode": {
    "name": "ipython",
    "version": 3
   },
   "file_extension": ".py",
   "mimetype": "text/x-python",
   "name": "python",
   "nbconvert_exporter": "python",
   "pygments_lexer": "ipython3",
   "version": "3.11.3"
  }
 },
 "nbformat": 4,
 "nbformat_minor": 5
}
