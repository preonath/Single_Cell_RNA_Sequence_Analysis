{
 "cells": [
  {
   "cell_type": "code",
   "execution_count": 8,
   "id": "e98414d8-203b-4133-ad23-9f1efd60ff3c",
   "metadata": {},
   "outputs": [
    {
     "name": "stdout",
     "output_type": "stream",
     "text": [
      "               p_val  avg_logFC  pct.1  pct.2      p_val_adj  cluster  \\\n",
      "0      1.930000e-159   3.360347  0.944  0.004  6.350000e-155  B Cells   \n",
      "1       1.060000e-59   2.433134  0.423  0.002   3.500000e-55  B Cells   \n",
      "2       7.770000e-60   2.389000  0.676  0.029   2.550000e-55  B Cells   \n",
      "3       2.610000e-74   2.337180  0.901  0.231   8.580000e-70  B Cells   \n",
      "4       1.550000e-63   2.306111  0.746  0.064   5.080000e-59  B Cells   \n",
      "...              ...        ...    ...    ...            ...      ...   \n",
      "26196   1.210000e-16   0.101684  0.178  0.199   3.960000e-12  T Cells   \n",
      "26197   1.010000e-11   0.101395  0.094  0.112   3.320000e-07  T Cells   \n",
      "26198   5.480000e-17   0.100844  0.111  0.125   1.800000e-12  T Cells   \n",
      "26199   8.180000e-14   0.100745  0.094  0.102   2.690000e-09  T Cells   \n",
      "26200   1.510000e-58   0.100592  0.144  0.054   4.970000e-54  T Cells   \n",
      "\n",
      "           gene  \n",
      "0         MS4A1  \n",
      "1          IGHM  \n",
      "2          CD83  \n",
      "3       HLA-DRA  \n",
      "4      HLA-DPB1  \n",
      "...         ...  \n",
      "26196   FAM214A  \n",
      "26197     ERCC3  \n",
      "26198     IGBP1  \n",
      "26199     LRCH4  \n",
      "26200      HOPX  \n",
      "\n",
      "[26201 rows x 7 columns]\n"
     ]
    }
   ],
   "source": [
    "import pandas as pd\n",
    "\n",
    "# Load your data file with tab as the delimiter\n",
    "data = pd.read_csv('coarse.csv', sep='\\t')\n",
    "print(data)\n"
   ]
  },
  {
   "cell_type": "code",
   "execution_count": 9,
   "id": "052ea4fb-901a-4b26-99c9-9a3bbb820322",
   "metadata": {},
   "outputs": [
    {
     "name": "stdout",
     "output_type": "stream",
     "text": [
      "Top 10 genes per cluster have been saved to 'top_10_genes_per_cluster.csv'.\n"
     ]
    }
   ],
   "source": [
    "# Sort the data by cluster and adjusted p-value\n",
    "sorted_data = data.sort_values(by=['cluster', 'p_val_adj'])\n",
    "\n",
    "# Get the top 10 genes for each cluster\n",
    "top_genes_per_cluster = sorted_data.groupby('cluster').head(10)\n",
    "\n",
    "# Save the results to a new CSV file\n",
    "top_genes_per_cluster.to_csv('top_10_genes_per_cluster.csv', index=False)\n",
    "\n",
    "print(\"Top 10 genes per cluster have been saved to 'top_10_genes_per_cluster.csv'.\")"
   ]
  }
 ],
 "metadata": {
  "kernelspec": {
   "display_name": "IPyDeep",
   "language": "python",
   "name": "ipydeep"
  },
  "language_info": {
   "codemirror_mode": {
    "name": "ipython",
    "version": 3
   },
   "file_extension": ".py",
   "mimetype": "text/x-python",
   "name": "python",
   "nbconvert_exporter": "python",
   "pygments_lexer": "ipython3",
   "version": "3.11.5"
  }
 },
 "nbformat": 4,
 "nbformat_minor": 5
}
