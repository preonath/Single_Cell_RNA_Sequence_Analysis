{
 "cells": [
  {
   "cell_type": "code",
   "execution_count": null,
   "id": "c97bd866-47fa-4d41-b840-213bc94597c5",
   "metadata": {},
   "outputs": [
    {
     "name": "stderr",
     "output_type": "stream",
     "text": [
      "Downloading GitHub repo mojaveazure/seurat-disk@HEAD\n",
      "\n"
     ]
    },
    {
     "name": "stdout",
     "output_type": "stream",
     "text": [
      "Rcpp         (1.0.7      -> 1.0.9     ) [CRAN]\n",
      "sitmo        (NA         -> 2.0.2     ) [CRAN]\n",
      "BH           (1.75.0-0   -> 1.78.0-0  ) [CRAN]\n",
      "dqrng        (NA         -> 0.3.0     ) [CRAN]\n",
      "irlba        (2.3.5      -> 2.3.5.1   ) [CRAN]\n",
      "RcppAnnoy    (NA         -> 0.0.20    ) [CRAN]\n",
      "FNN          (NA         -> 1.1.3.1   ) [CRAN]\n",
      "glue         (1.4.2      -> 1.6.2     ) [CRAN]\n",
      "cli          (3.0.1      -> 3.4.1     ) [CRAN]\n",
      "vctrs        (0.3.8      -> 0.5.1     ) [CRAN]\n",
      "rlang        (0.4.11     -> 1.0.6     ) [CRAN]\n",
      "pillar       (1.6.3      -> 1.8.1     ) [CRAN]\n",
      "magrittr     (2.0.1      -> 2.0.3     ) [CRAN]\n",
      "lifecycle    (1.0.1      -> 1.0.3     ) [CRAN]\n",
      "fansi        (0.4.2      -> 1.0.3     ) [CRAN]\n",
      "polyclip     (1.10-0     -> 1.10-4    ) [CRAN]\n",
      "deldir       (0.2-10     -> 1.0-6     ) [CRAN]\n",
      "spatstat.... (NA         -> 3.0-1     ) [CRAN]\n",
      "spatstat.... (NA         -> 3.0-0     ) [CRAN]\n",
      "tensor       (NA         -> 1.5       ) [CRAN]\n",
      "goftest      (NA         -> 1.2-3     ) [CRAN]\n",
      "spatstat.... (NA         -> 3.0-0     ) [CRAN]\n",
      "spatstat.... (NA         -> 3.0-1     ) [CRAN]\n",
      "spatstat.... (NA         -> 3.0-3     ) [CRAN]\n",
      "fs           (1.5.0      -> 1.5.2     ) [CRAN]\n",
      "digest       (0.6.28     -> 0.6.31    ) [CRAN]\n",
      "sass         (0.4.0      -> 0.4.4     ) [CRAN]\n",
      "bslib        (0.4.0      -> 0.4.2     ) [CRAN]\n",
      "commonmark   (1.7        -> 1.8.1     ) [CRAN]\n",
      "crayon       (1.4.1      -> 1.5.2     ) [CRAN]\n",
      "later        (1.2.0      -> 1.3.0     ) [CRAN]\n",
      "htmltools    (0.5.2      -> 0.5.4     ) [CRAN]\n",
      "fontawesome  (NA         -> 0.4.0     ) [CRAN]\n",
      "jsonlite     (1.7.2      -> 1.8.4     ) [CRAN]\n",
      "mime         (0.11       -> 0.12      ) [CRAN]\n",
      "httpuv       (1.6.3      -> 1.6.7     ) [CRAN]\n",
      "parallelly   (1.28.1     -> 1.33.0    ) [CRAN]\n",
      "listenv      (0.8.0      -> 0.9.0     ) [CRAN]\n",
      "globals      (0.14.0     -> 0.16.2    ) [CRAN]\n",
      "RcppEigen    (0.3.3.9.2  -> 0.3.3.9.3 ) [CRAN]\n",
      "progressr    (0.9.0      -> 0.12.0    ) [CRAN]\n",
      "future.apply (1.8.1      -> 1.10.0    ) [CRAN]\n",
      "future       (1.22.1     -> 1.30.0    ) [CRAN]\n",
      "sp           (1.4-5      -> 1.5-1     ) [CRAN]\n",
      "colorspace   (2.0-2      -> 2.0-3     ) [CRAN]\n",
      "stringi      (1.7.4      -> 1.7.8     ) [CRAN]\n",
      "viridisLite  (0.4.0      -> 0.4.1     ) [CRAN]\n",
      "RColorBrewer (1.1-2      -> 1.1-3     ) [CRAN]\n",
      "farver       (2.1.0      -> 2.1.1     ) [CRAN]\n",
      "stringr      (1.4.0      -> 1.5.0     ) [CRAN]\n",
      "plyr         (1.8.6      -> 1.8.8     ) [CRAN]\n",
      "scales       (1.1.1      -> 1.2.1     ) [CRAN]\n",
      "isoband      (0.2.5      -> 0.2.6     ) [CRAN]\n",
      "gtable       (0.3.0      -> 0.3.1     ) [CRAN]\n",
      "tidyselect   (1.1.1      -> 1.2.0     ) [CRAN]\n",
      "tibble       (3.1.4      -> 3.1.8     ) [CRAN]\n",
      "generics     (0.1.0      -> 0.1.3     ) [CRAN]\n",
      "RcppArmad... (0.10.7.0.0 -> 0.11.4.2.1) [CRAN]\n",
      "matrixStats  (0.61.0     -> 0.63.0    ) [CRAN]\n",
      "ggplot2      (3.3.6      -> 3.4.0     ) [CRAN]\n",
      "dplyr        (1.0.7      -> 1.0.10    ) [CRAN]\n",
      "gtools       (3.9.2      -> 3.9.4     ) [CRAN]\n",
      "rprojroot    (2.0.2      -> 2.0.3     ) [CRAN]\n",
      "png          (0.1-7      -> 0.1-8     ) [CRAN]\n",
      "here         (NA         -> 1.0.1     ) [CRAN]\n",
      "RcppTOML     (NA         -> 0.1.7     ) [CRAN]\n",
      "sys          (3.4        -> 3.4.1     ) [CRAN]\n",
      "tinytex      (0.33       -> 0.43      ) [CRAN]\n",
      "xfun         (0.25       -> 0.35      ) [CRAN]\n",
      "evaluate     (0.14       -> 0.19      ) [CRAN]\n",
      "cpp11        (0.4.0      -> 0.4.3     ) [CRAN]\n",
      "openssl      (1.4.5      -> 2.0.5     ) [CRAN]\n",
      "curl         (4.3.2      -> 4.3.3     ) [CRAN]\n",
      "rmarkdown    (2.11       -> 2.19      ) [CRAN]\n",
      "knitr        (1.34       -> 1.41      ) [CRAN]\n",
      "yaml         (2.2.1      -> 2.3.6     ) [CRAN]\n",
      "data.table   (1.14.0     -> 1.14.6    ) [CRAN]\n",
      "purrr        (0.3.4      -> 0.3.5     ) [CRAN]\n",
      "crosstalk    (1.1.1      -> 1.2.0     ) [CRAN]\n",
      "tidyr        (1.1.3      -> 1.2.1     ) [CRAN]\n",
      "htmlwidgets  (1.5.4      -> 1.6.0     ) [CRAN]\n",
      "httr         (1.4.2      -> 1.4.4     ) [CRAN]\n",
      "shiny        (1.6.0      -> 1.7.4     ) [CRAN]\n",
      "zoo          (1.8-9      -> 1.8-11    ) [CRAN]\n",
      "igraph       (1.2.6      -> 1.3.5     ) [CRAN]\n",
      "reticulate   (NA         -> 1.26      ) [CRAN]\n",
      "bit          (4.0.4      -> 4.0.5     ) [CRAN]\n",
      "uwot         (NA         -> 0.1.14    ) [CRAN]\n",
      "spatstat.... (NA         -> 3.0-5     ) [CRAN]\n",
      "SeuratObject (NA         -> 4.1.3     ) [CRAN]\n",
      "sctransform  (NA         -> 0.3.5     ) [CRAN]\n",
      "scattermore  (NA         -> 0.8       ) [CRAN]\n",
      "ROCR         (NA         -> 1.0-11    ) [CRAN]\n",
      "RANN         (NA         -> 2.6.1     ) [CRAN]\n",
      "plotly       (4.10.0     -> 4.10.1    ) [CRAN]\n",
      "pbapply      (NA         -> 1.6-0     ) [CRAN]\n",
      "patchwork    (1.1.1      -> 1.1.2     ) [CRAN]\n",
      "lmtest       (NA         -> 0.9-40    ) [CRAN]\n",
      "leiden       (NA         -> 0.4.3     ) [CRAN]\n",
      "ica          (NA         -> 1.0-3     ) [CRAN]\n",
      "ggridges     (0.5.3      -> 0.5.4     ) [CRAN]\n",
      "ggrepel      (0.9.1      -> 0.9.2     ) [CRAN]\n",
      "fitdistrplus (NA         -> 1.1-8     ) [CRAN]\n",
      "Seurat       (NA         -> 4.3.0     ) [CRAN]\n",
      "hdf5r        (NA         -> 1.3.7     ) [CRAN]\n"
     ]
    },
    {
     "name": "stderr",
     "output_type": "stream",
     "text": [
      "Installing 105 packages: Rcpp, sitmo, BH, dqrng, irlba, RcppAnnoy, FNN, glue, cli, vctrs, rlang, pillar, magrittr, lifecycle, fansi, polyclip, deldir, spatstat.utils, spatstat.data, tensor, goftest, spatstat.sparse, spatstat.random, spatstat.geom, fs, digest, sass, bslib, commonmark, crayon, later, htmltools, fontawesome, jsonlite, mime, httpuv, parallelly, listenv, globals, RcppEigen, progressr, future.apply, future, sp, colorspace, stringi, viridisLite, RColorBrewer, farver, stringr, plyr, scales, isoband, gtable, tidyselect, tibble, generics, RcppArmadillo, matrixStats, ggplot2, dplyr, gtools, rprojroot, png, here, RcppTOML, sys, tinytex, xfun, evaluate, cpp11, openssl, curl, rmarkdown, knitr, yaml, data.table, purrr, crosstalk, tidyr, htmlwidgets, httr, shiny, zoo, igraph, reticulate, bit, uwot, spatstat.explore, SeuratObject, sctransform, scattermore, ROCR, RANN, plotly, pbapply, patchwork, lmtest, leiden, ica, ggridges, ggrepel, fitdistrplus, Seurat, hdf5r\n",
      "\n",
      "also installing the dependency ‘Matrix’\n",
      "\n",
      "\n",
      "Warning message in download.file(url, destfile, method, mode = \"wb\", ...):\n",
      "“downloaded length 8716288 != reported length 13269768”\n",
      "Warning message in download.file(url, destfile, method, mode = \"wb\", ...):\n",
      "“URL 'https://cran.r-project.org/src/contrib/BH_1.78.0-0.tar.gz': Timeout of 60 seconds was reached”\n"
     ]
    },
    {
     "name": "stdout",
     "output_type": "stream",
     "text": [
      "Error in download.file(url, destfile, method, mode = \"wb\", ...) : \n",
      "  download from 'https://cran.r-project.org/src/contrib/BH_1.78.0-0.tar.gz' failed\n"
     ]
    },
    {
     "name": "stderr",
     "output_type": "stream",
     "text": [
      "Warning message in download.packages(pkgs, destdir = tmpd, available = available, :\n",
      "“download of package ‘BH’ failed”\n"
     ]
    }
   ],
   "source": [
    "if (!requireNamespace(\"remotes\", quietly = TRUE)) {\n",
    "  install.packages(\"remotes\")\n",
    "}\n",
    "remotes::install_github(\"mojaveazure/seurat-disk\")"
   ]
  }
 ],
 "metadata": {
  "kernelspec": {
   "display_name": "R-4",
   "language": "R",
   "name": "ir-4"
  },
  "language_info": {
   "codemirror_mode": "r",
   "file_extension": ".r",
   "mimetype": "text/x-r-source",
   "name": "R",
   "pygments_lexer": "r",
   "version": "4.1.0"
  }
 },
 "nbformat": 4,
 "nbformat_minor": 5
}
