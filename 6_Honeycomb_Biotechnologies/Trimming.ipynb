{
 "cells": [
  {
   "cell_type": "markdown",
   "id": "0a3824bb-0a8b-42e2-a1d3-0dfb549dbf8a",
   "metadata": {},
   "source": [
    "##### **Raw_Read_3'**"
   ]
  },
  {
   "cell_type": "code",
   "execution_count": 1,
   "id": "e61be945-27eb-4c38-9b3e-cc144540c693",
   "metadata": {
    "tags": []
   },
   "outputs": [
    {
     "data": {
      "text/plain": [
       "301"
      ]
     },
     "execution_count": 1,
     "metadata": {},
     "output_type": "execute_result"
    }
   ],
   "source": [
    "len(\"ACGNGGCGGCTTCGCCGGCACCCACCGTTTTGTGGTTGTTTTGTTTGGTGGTTTTTTTGTTTTTTTTTTTAATTATATTTGTTTTGTATTTTTTGGGCTCGATAAGCTGTTTTTTCCTACTCTAAAACCACCATTTTTTTTTGTGTATAAAATTAAAAAAAACAACCCCATATACTTGGGTGTTTGGGGAAATTTAAACAATCAAAAAAAAAATAATTTTGAACAAAACAAATCACACACAGGGGGGGGTTGAGAACACACACAAATCGTTTTTACCTAATCAATAAACGCTGTATCGGTG\")"
   ]
  },
  {
   "cell_type": "markdown",
   "id": "86ab045a-74e9-488b-a7a9-49a6b3fa9d3f",
   "metadata": {},
   "source": [
    "##### **Raw_Read_5'**"
   ]
  },
  {
   "cell_type": "code",
   "execution_count": 2,
   "id": "81557a01-2ca5-4856-a788-82d949b02521",
   "metadata": {
    "tags": []
   },
   "outputs": [
    {
     "data": {
      "text/plain": [
       "301"
      ]
     },
     "execution_count": 2,
     "metadata": {},
     "output_type": "execute_result"
    }
   ],
   "source": [
    "len(\"CTGGTCTAGCTGGTTGTCCAAGATAGAATCTTAGTTCAACTTTAAATTTGCCCACAGAACCCTCTAAATCCCCTTGGAAATGTAACTGGTCGTCCCAAGAGGAACAGCTCTTTGGACACTAGGACAAAACCTGGTCGAGAGAGTAAAAAATTTAACACCCATAGTAGGCCTAAAAGCAGCCACCAAAAAAAAAAAAAAAAAAAAAAAAAAAATGTGGGGGCCTTTTATGGAAACCTTTTTTCTCGCCGGTGATTCCCCGTGGGTGGGGGCCCGGGCGGCTGTGTTTGGTTTGTTTGGGGGG\")"
   ]
  },
  {
   "cell_type": "markdown",
   "id": "47efffdf-bebd-4cb1-b4d8-68e49b9bb0fe",
   "metadata": {},
   "source": [
    "##### **1_Trimmed_3'_250bp**"
   ]
  },
  {
   "cell_type": "code",
   "execution_count": 3,
   "id": "89c7ba03-df7a-40c1-9038-bef7e876e64f",
   "metadata": {
    "tags": []
   },
   "outputs": [
    {
     "data": {
      "text/plain": [
       "250"
      ]
     },
     "execution_count": 3,
     "metadata": {},
     "output_type": "execute_result"
    }
   ],
   "source": [
    "len(\"ACGNGGCGGCTTCGCCGGCACCCACCGTTTTGTGGTTGTTTTGTTTGGTGGTTTTTTTGTTTTTTTTTTTAATTATATTTGTTTTGTATTTTTTGGGCTCGATAAGCTGTTTTTTCCTACTCTAAAACCACCATTTTTTTTTGTGTATAAAATTAAAAAAAACAACCCCATATACTTGGGTGTTTGGGGAAATTTAAACAATCAAAAAAAAAATAATTTTGAACAAAACAAATCACACACAGGGGGGGGT\")"
   ]
  },
  {
   "cell_type": "markdown",
   "id": "a3f0e931-2803-47e3-ada8-6293f106e9a6",
   "metadata": {},
   "source": [
    "##### **1_Trimmed_5'_250bp**"
   ]
  },
  {
   "cell_type": "code",
   "execution_count": 4,
   "id": "47391fa4-e7ac-437b-86f7-cd9073ea9515",
   "metadata": {
    "tags": []
   },
   "outputs": [
    {
     "data": {
      "text/plain": [
       "250"
      ]
     },
     "execution_count": 4,
     "metadata": {},
     "output_type": "execute_result"
    }
   ],
   "source": [
    "len(\"CTGGTCTAGCTGGTTGTCCAAGATAGAATCTTAGTTCAACTTTAAATTTGCCCACAGAACCCTCTAAATCCCCTTGGAAATGTAACTGGTCGTCCCAAGAGGAACAGCTCTTTGGACACTAGGACAAAACCTGGTCGAGAGAGTAAAAAATTTAACACCCATAGTAGGCCTAAAAGCAGCCACCAAAAAAAAAAAAAAAAAAAAAAAAAAAATGTGGGGGCCTTTTATGGAAACCTTTTTTCTCGCCGGT\")"
   ]
  },
  {
   "cell_type": "markdown",
   "id": "c131d4fc-1db8-4ca4-a0f8-97c8245b21de",
   "metadata": {},
   "source": [
    "##### **2_Trimmed_3'_100bp**"
   ]
  },
  {
   "cell_type": "code",
   "execution_count": 5,
   "id": "28310da0-3bec-4e99-b532-88becb061068",
   "metadata": {
    "tags": []
   },
   "outputs": [
    {
     "data": {
      "text/plain": [
       "100"
      ]
     },
     "execution_count": 5,
     "metadata": {},
     "output_type": "execute_result"
    }
   ],
   "source": [
    "len(\"ACGNGGCGGCTTCGCCGGCACCCACCGTTTTGTGGTTGTTTTGTTTGGTGGTTTTTTTGTTTTTTTTTTTAATTATATTTGTTTTGTATTTTTTGGGCTC\")"
   ]
  },
  {
   "cell_type": "markdown",
   "id": "2dbf9203-b11a-48f9-b002-c878787a58e6",
   "metadata": {},
   "source": [
    "##### **2_Trimmed_5'_100bp**"
   ]
  },
  {
   "cell_type": "code",
   "execution_count": null,
   "id": "adf6f2f7-10b1-4e88-9924-aff879831f6e",
   "metadata": {},
   "outputs": [],
   "source": []
  }
 ],
 "metadata": {
  "kernelspec": {
   "display_name": "Python 3 (ipykernel)",
   "language": "python",
   "name": "python3"
  },
  "language_info": {
   "codemirror_mode": {
    "name": "ipython",
    "version": 3
   },
   "file_extension": ".py",
   "mimetype": "text/x-python",
   "name": "python",
   "nbconvert_exporter": "python",
   "pygments_lexer": "ipython3",
   "version": "3.8.16"
  }
 },
 "nbformat": 4,
 "nbformat_minor": 5
}
